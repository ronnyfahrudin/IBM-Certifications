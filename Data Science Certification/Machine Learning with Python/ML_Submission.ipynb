{
  "nbformat": 4,
  "nbformat_minor": 0,
  "metadata": {
    "kernelspec": {
      "display_name": "Python 3",
      "language": "python",
      "name": "python3"
    },
    "language_info": {
      "codemirror_mode": {
        "name": "ipython",
        "version": 3
      },
      "file_extension": ".py",
      "mimetype": "text/x-python",
      "name": "python",
      "nbconvert_exporter": "python",
      "pygments_lexer": "ipython3",
      "version": "3.7.7"
    },
    "colab": {
      "name": "ML Submission.ipynb",
      "provenance": []
    }
  },
  "cells": [
    {
      "cell_type": "markdown",
      "metadata": {
        "id": "casAIsKfS0fR"
      },
      "source": [
        "<a href=\"https://www.bigdatauniversity.com\"><img src=\"https://ibm.box.com/shared/static/cw2c7r3o20w9zn8gkecaeyjhgw3xdgbj.png\" width=\"400\" align=\"center\"></a>\n",
        "\n",
        "<h1 align=\"center\"><font size=\"5\">Classification with Python</font></h1>"
      ]
    },
    {
      "cell_type": "markdown",
      "metadata": {
        "id": "-EbPlIgyS0fb"
      },
      "source": [
        "In this notebook we try to practice all the classification algorithms that we learned in this course.\n",
        "\n",
        "We load a dataset using Pandas library, and apply the following algorithms, and find the best one for this specific dataset by accuracy evaluation methods.\n",
        "\n",
        "Lets first load required libraries:"
      ]
    },
    {
      "cell_type": "code",
      "metadata": {
        "id": "95jd9cuIS0fc"
      },
      "source": [
        "import itertools\n",
        "import numpy as np\n",
        "import matplotlib.pyplot as plt\n",
        "from matplotlib.ticker import NullFormatter\n",
        "import pandas as pd\n",
        "import numpy as np\n",
        "import matplotlib.ticker as ticker\n",
        "from sklearn import preprocessing\n",
        "%matplotlib inline\n",
        "import os\n",
        "# os.chdir('D:/Karir/IBM/Data Science Certification/Course 8/Submission')"
      ],
      "execution_count": 1,
      "outputs": []
    },
    {
      "cell_type": "markdown",
      "metadata": {
        "id": "wBjQsWoZS0fd"
      },
      "source": [
        "### About dataset"
      ]
    },
    {
      "cell_type": "markdown",
      "metadata": {
        "id": "weCw0VafS0fe"
      },
      "source": [
        "This dataset is about past loans. The __Loan_train.csv__ data set includes details of 346 customers whose loan are already paid off or defaulted. It includes following fields:\n",
        "\n",
        "| Field          | Description                                                                           |\n",
        "|----------------|---------------------------------------------------------------------------------------|\n",
        "| Loan_status    | Whether a loan is paid off on in collection                                           |\n",
        "| Principal      | Basic principal loan amount at the                                                    |\n",
        "| Terms          | Origination terms which can be weekly (7 days), biweekly, and monthly payoff schedule |\n",
        "| Effective_date | When the loan got originated and took effects                                         |\n",
        "| Due_date       | Since it’s one-time payoff schedule, each loan has one single due date                |\n",
        "| Age            | Age of applicant                                                                      |\n",
        "| Education      | Education of applicant                                                                |\n",
        "| Gender         | The gender of applicant                                                               |"
      ]
    },
    {
      "cell_type": "markdown",
      "metadata": {
        "id": "UjmYZbgsS0ff"
      },
      "source": [
        "Lets download the dataset"
      ]
    },
    {
      "cell_type": "code",
      "metadata": {
        "colab": {
          "base_uri": "https://localhost:8080/"
        },
        "id": "r_N1dhMzS0ff",
        "outputId": "b338115a-fa30-4315-ce21-6a20f328c9c7"
      },
      "source": [
        "!wget -O loan_train.csv https://s3-api.us-geo.objectstorage.softlayer.net/cf-courses-data/CognitiveClass/ML0101ENv3/labs/loan_train.csv"
      ],
      "execution_count": 2,
      "outputs": [
        {
          "output_type": "stream",
          "text": [
            "--2020-12-27 06:02:51--  https://s3-api.us-geo.objectstorage.softlayer.net/cf-courses-data/CognitiveClass/ML0101ENv3/labs/loan_train.csv\n",
            "Resolving s3-api.us-geo.objectstorage.softlayer.net (s3-api.us-geo.objectstorage.softlayer.net)... 67.228.254.196\n",
            "Connecting to s3-api.us-geo.objectstorage.softlayer.net (s3-api.us-geo.objectstorage.softlayer.net)|67.228.254.196|:443... connected.\n",
            "HTTP request sent, awaiting response... 200 OK\n",
            "Length: 23101 (23K) [text/csv]\n",
            "Saving to: ‘loan_train.csv’\n",
            "\n",
            "\rloan_train.csv        0%[                    ]       0  --.-KB/s               \rloan_train.csv      100%[===================>]  22.56K  --.-KB/s    in 0.02s   \n",
            "\n",
            "2020-12-27 06:02:52 (1.03 MB/s) - ‘loan_train.csv’ saved [23101/23101]\n",
            "\n"
          ],
          "name": "stdout"
        }
      ]
    },
    {
      "cell_type": "code",
      "metadata": {
        "colab": {
          "base_uri": "https://localhost:8080/",
          "height": 195
        },
        "id": "Dh1rkRxcS0fg",
        "outputId": "c359158f-eaa0-4544-af1d-17fa3b609dbf"
      },
      "source": [
        "df = pd.read_csv('loan_train.csv')\n",
        "df.head()"
      ],
      "execution_count": 39,
      "outputs": [
        {
          "output_type": "execute_result",
          "data": {
            "text/html": [
              "<div>\n",
              "<style scoped>\n",
              "    .dataframe tbody tr th:only-of-type {\n",
              "        vertical-align: middle;\n",
              "    }\n",
              "\n",
              "    .dataframe tbody tr th {\n",
              "        vertical-align: top;\n",
              "    }\n",
              "\n",
              "    .dataframe thead th {\n",
              "        text-align: right;\n",
              "    }\n",
              "</style>\n",
              "<table border=\"1\" class=\"dataframe\">\n",
              "  <thead>\n",
              "    <tr style=\"text-align: right;\">\n",
              "      <th></th>\n",
              "      <th>Unnamed: 0</th>\n",
              "      <th>Unnamed: 0.1</th>\n",
              "      <th>loan_status</th>\n",
              "      <th>Principal</th>\n",
              "      <th>terms</th>\n",
              "      <th>effective_date</th>\n",
              "      <th>due_date</th>\n",
              "      <th>age</th>\n",
              "      <th>education</th>\n",
              "      <th>Gender</th>\n",
              "    </tr>\n",
              "  </thead>\n",
              "  <tbody>\n",
              "    <tr>\n",
              "      <th>0</th>\n",
              "      <td>0</td>\n",
              "      <td>0</td>\n",
              "      <td>PAIDOFF</td>\n",
              "      <td>1000</td>\n",
              "      <td>30</td>\n",
              "      <td>9/8/2016</td>\n",
              "      <td>10/7/2016</td>\n",
              "      <td>45</td>\n",
              "      <td>High School or Below</td>\n",
              "      <td>male</td>\n",
              "    </tr>\n",
              "    <tr>\n",
              "      <th>1</th>\n",
              "      <td>2</td>\n",
              "      <td>2</td>\n",
              "      <td>PAIDOFF</td>\n",
              "      <td>1000</td>\n",
              "      <td>30</td>\n",
              "      <td>9/8/2016</td>\n",
              "      <td>10/7/2016</td>\n",
              "      <td>33</td>\n",
              "      <td>Bechalor</td>\n",
              "      <td>female</td>\n",
              "    </tr>\n",
              "    <tr>\n",
              "      <th>2</th>\n",
              "      <td>3</td>\n",
              "      <td>3</td>\n",
              "      <td>PAIDOFF</td>\n",
              "      <td>1000</td>\n",
              "      <td>15</td>\n",
              "      <td>9/8/2016</td>\n",
              "      <td>9/22/2016</td>\n",
              "      <td>27</td>\n",
              "      <td>college</td>\n",
              "      <td>male</td>\n",
              "    </tr>\n",
              "    <tr>\n",
              "      <th>3</th>\n",
              "      <td>4</td>\n",
              "      <td>4</td>\n",
              "      <td>PAIDOFF</td>\n",
              "      <td>1000</td>\n",
              "      <td>30</td>\n",
              "      <td>9/9/2016</td>\n",
              "      <td>10/8/2016</td>\n",
              "      <td>28</td>\n",
              "      <td>college</td>\n",
              "      <td>female</td>\n",
              "    </tr>\n",
              "    <tr>\n",
              "      <th>4</th>\n",
              "      <td>6</td>\n",
              "      <td>6</td>\n",
              "      <td>PAIDOFF</td>\n",
              "      <td>1000</td>\n",
              "      <td>30</td>\n",
              "      <td>9/9/2016</td>\n",
              "      <td>10/8/2016</td>\n",
              "      <td>29</td>\n",
              "      <td>college</td>\n",
              "      <td>male</td>\n",
              "    </tr>\n",
              "  </tbody>\n",
              "</table>\n",
              "</div>"
            ],
            "text/plain": [
              "   Unnamed: 0  Unnamed: 0.1 loan_status  ...  age             education  Gender\n",
              "0           0             0     PAIDOFF  ...   45  High School or Below    male\n",
              "1           2             2     PAIDOFF  ...   33              Bechalor  female\n",
              "2           3             3     PAIDOFF  ...   27               college    male\n",
              "3           4             4     PAIDOFF  ...   28               college  female\n",
              "4           6             6     PAIDOFF  ...   29               college    male\n",
              "\n",
              "[5 rows x 10 columns]"
            ]
          },
          "metadata": {
            "tags": []
          },
          "execution_count": 39
        }
      ]
    },
    {
      "cell_type": "code",
      "metadata": {
        "colab": {
          "base_uri": "https://localhost:8080/"
        },
        "id": "WgnaC3-WS0fh",
        "outputId": "c0707ae0-e4da-464f-d1a6-1841dafd862b"
      },
      "source": [
        "df.shape"
      ],
      "execution_count": 40,
      "outputs": [
        {
          "output_type": "execute_result",
          "data": {
            "text/plain": [
              "(346, 10)"
            ]
          },
          "metadata": {
            "tags": []
          },
          "execution_count": 40
        }
      ]
    },
    {
      "cell_type": "code",
      "metadata": {
        "colab": {
          "base_uri": "https://localhost:8080/",
          "height": 195
        },
        "id": "OTvJjjmQS0fi",
        "outputId": "070d5dce-a979-42ea-e3e7-72c0b3d9fc2c"
      },
      "source": [
        "df['due_date'] = pd.to_datetime(df['due_date'])\n",
        "df['effective_date'] = pd.to_datetime(df['effective_date'])\n",
        "df.head()"
      ],
      "execution_count": 41,
      "outputs": [
        {
          "output_type": "execute_result",
          "data": {
            "text/html": [
              "<div>\n",
              "<style scoped>\n",
              "    .dataframe tbody tr th:only-of-type {\n",
              "        vertical-align: middle;\n",
              "    }\n",
              "\n",
              "    .dataframe tbody tr th {\n",
              "        vertical-align: top;\n",
              "    }\n",
              "\n",
              "    .dataframe thead th {\n",
              "        text-align: right;\n",
              "    }\n",
              "</style>\n",
              "<table border=\"1\" class=\"dataframe\">\n",
              "  <thead>\n",
              "    <tr style=\"text-align: right;\">\n",
              "      <th></th>\n",
              "      <th>Unnamed: 0</th>\n",
              "      <th>Unnamed: 0.1</th>\n",
              "      <th>loan_status</th>\n",
              "      <th>Principal</th>\n",
              "      <th>terms</th>\n",
              "      <th>effective_date</th>\n",
              "      <th>due_date</th>\n",
              "      <th>age</th>\n",
              "      <th>education</th>\n",
              "      <th>Gender</th>\n",
              "    </tr>\n",
              "  </thead>\n",
              "  <tbody>\n",
              "    <tr>\n",
              "      <th>0</th>\n",
              "      <td>0</td>\n",
              "      <td>0</td>\n",
              "      <td>PAIDOFF</td>\n",
              "      <td>1000</td>\n",
              "      <td>30</td>\n",
              "      <td>2016-09-08</td>\n",
              "      <td>2016-10-07</td>\n",
              "      <td>45</td>\n",
              "      <td>High School or Below</td>\n",
              "      <td>male</td>\n",
              "    </tr>\n",
              "    <tr>\n",
              "      <th>1</th>\n",
              "      <td>2</td>\n",
              "      <td>2</td>\n",
              "      <td>PAIDOFF</td>\n",
              "      <td>1000</td>\n",
              "      <td>30</td>\n",
              "      <td>2016-09-08</td>\n",
              "      <td>2016-10-07</td>\n",
              "      <td>33</td>\n",
              "      <td>Bechalor</td>\n",
              "      <td>female</td>\n",
              "    </tr>\n",
              "    <tr>\n",
              "      <th>2</th>\n",
              "      <td>3</td>\n",
              "      <td>3</td>\n",
              "      <td>PAIDOFF</td>\n",
              "      <td>1000</td>\n",
              "      <td>15</td>\n",
              "      <td>2016-09-08</td>\n",
              "      <td>2016-09-22</td>\n",
              "      <td>27</td>\n",
              "      <td>college</td>\n",
              "      <td>male</td>\n",
              "    </tr>\n",
              "    <tr>\n",
              "      <th>3</th>\n",
              "      <td>4</td>\n",
              "      <td>4</td>\n",
              "      <td>PAIDOFF</td>\n",
              "      <td>1000</td>\n",
              "      <td>30</td>\n",
              "      <td>2016-09-09</td>\n",
              "      <td>2016-10-08</td>\n",
              "      <td>28</td>\n",
              "      <td>college</td>\n",
              "      <td>female</td>\n",
              "    </tr>\n",
              "    <tr>\n",
              "      <th>4</th>\n",
              "      <td>6</td>\n",
              "      <td>6</td>\n",
              "      <td>PAIDOFF</td>\n",
              "      <td>1000</td>\n",
              "      <td>30</td>\n",
              "      <td>2016-09-09</td>\n",
              "      <td>2016-10-08</td>\n",
              "      <td>29</td>\n",
              "      <td>college</td>\n",
              "      <td>male</td>\n",
              "    </tr>\n",
              "  </tbody>\n",
              "</table>\n",
              "</div>"
            ],
            "text/plain": [
              "   Unnamed: 0  Unnamed: 0.1 loan_status  ...  age             education  Gender\n",
              "0           0             0     PAIDOFF  ...   45  High School or Below    male\n",
              "1           2             2     PAIDOFF  ...   33              Bechalor  female\n",
              "2           3             3     PAIDOFF  ...   27               college    male\n",
              "3           4             4     PAIDOFF  ...   28               college  female\n",
              "4           6             6     PAIDOFF  ...   29               college    male\n",
              "\n",
              "[5 rows x 10 columns]"
            ]
          },
          "metadata": {
            "tags": []
          },
          "execution_count": 41
        }
      ]
    },
    {
      "cell_type": "code",
      "metadata": {
        "colab": {
          "base_uri": "https://localhost:8080/"
        },
        "id": "OFYjLxteS0fj",
        "outputId": "a360ffa4-3ef2-414f-8015-84a7b34453bc"
      },
      "source": [
        "df['loan_status'].value_counts()"
      ],
      "execution_count": 42,
      "outputs": [
        {
          "output_type": "execute_result",
          "data": {
            "text/plain": [
              "PAIDOFF       260\n",
              "COLLECTION     86\n",
              "Name: loan_status, dtype: int64"
            ]
          },
          "metadata": {
            "tags": []
          },
          "execution_count": 42
        }
      ]
    },
    {
      "cell_type": "code",
      "metadata": {
        "colab": {
          "base_uri": "https://localhost:8080/",
          "height": 225
        },
        "id": "o7utUvNOS0fj",
        "outputId": "b300ab04-0f84-41c5-fb71-b71fd580afef"
      },
      "source": [
        "import seaborn as sns\n",
        "\n",
        "bins = np.linspace(df.Principal.min(), df.Principal.max(), 10)\n",
        "g = sns.FacetGrid(df, col=\"Gender\", hue=\"loan_status\", palette=\"Set1\", col_wrap=2)\n",
        "g.map(plt.hist, 'Principal', bins=bins, ec=\"k\")\n",
        "\n",
        "g.axes[-1].legend()\n",
        "plt.show()"
      ],
      "execution_count": 43,
      "outputs": [
        {
          "output_type": "display_data",
          "data": {
            "image/png": "[encoded data removed]",
            "text/plain": [
              "<Figure size 432x216 with 2 Axes>"
            ]
          },
          "metadata": {
            "tags": [],
            "needs_background": "light"
          }
        }
      ]
    },
    {
      "cell_type": "code",
      "metadata": {
        "colab": {
          "base_uri": "https://localhost:8080/",
          "height": 225
        },
        "id": "_ASa35JFS0fk",
        "outputId": "7c317ed6-98d8-4cff-f3f1-e0a3ba05a354"
      },
      "source": [
        "bins = np.linspace(df.age.min(), df.age.max(), 10)\n",
        "g = sns.FacetGrid(df, col=\"Gender\", hue=\"loan_status\", palette=\"Set1\", col_wrap=2)\n",
        "g.map(plt.hist, 'age', bins=bins, ec=\"k\")\n",
        "\n",
        "g.axes[-1].legend()\n",
        "plt.show()"
      ],
      "execution_count": 44,
      "outputs": [
        {
          "output_type": "display_data",
          "data": {
            "image/png": "[encoded data removed]",
            "text/plain": [
              "<Figure size 432x216 with 2 Axes>"
            ]
          },
          "metadata": {
            "tags": [],
            "needs_background": "light"
          }
        }
      ]
    },
    {
      "cell_type": "markdown",
      "metadata": {
        "id": "4FujDAGQS0fk"
      },
      "source": [
        "# Pre-processing:  Feature selection/extraction"
      ]
    },
    {
      "cell_type": "code",
      "metadata": {
        "colab": {
          "base_uri": "https://localhost:8080/",
          "height": 225
        },
        "id": "fEjl8nYoS0fk",
        "outputId": "f5d83d24-8e05-461c-ca45-c388545fdeaa"
      },
      "source": [
        "df['dayofweek'] = df['effective_date'].dt.dayofweek\n",
        "bins = np.linspace(df.dayofweek.min(), df.dayofweek.max(), 10)\n",
        "g = sns.FacetGrid(df, col=\"Gender\", hue=\"loan_status\", palette=\"Set1\", col_wrap=2)\n",
        "g.map(plt.hist, 'dayofweek', bins=bins, ec=\"k\")\n",
        "g.axes[-1].legend()\n",
        "plt.show()\n"
      ],
      "execution_count": 45,
      "outputs": [
        {
          "output_type": "display_data",
          "data": {
            "image/png": "[encoded data removed]",
            "text/plain": [
              "<Figure size 432x216 with 2 Axes>"
            ]
          },
          "metadata": {
            "tags": [],
            "needs_background": "light"
          }
        }
      ]
    },
    {
      "cell_type": "code",
      "metadata": {
        "colab": {
          "base_uri": "https://localhost:8080/",
          "height": 195
        },
        "id": "NjFRtJBBS0fl",
        "outputId": "b0ee7a23-512b-4bc2-f5d8-50d87b0d234c"
      },
      "source": [
        "df['weekend'] = df['dayofweek'].apply(lambda x: 1 if (x>3)  else 0)\n",
        "df.head()"
      ],
      "execution_count": 46,
      "outputs": [
        {
          "output_type": "execute_result",
          "data": {
            "text/html": [
              "<div>\n",
              "<style scoped>\n",
              "    .dataframe tbody tr th:only-of-type {\n",
              "        vertical-align: middle;\n",
              "    }\n",
              "\n",
              "    .dataframe tbody tr th {\n",
              "        vertical-align: top;\n",
              "    }\n",
              "\n",
              "    .dataframe thead th {\n",
              "        text-align: right;\n",
              "    }\n",
              "</style>\n",
              "<table border=\"1\" class=\"dataframe\">\n",
              "  <thead>\n",
              "    <tr style=\"text-align: right;\">\n",
              "      <th></th>\n",
              "      <th>Unnamed: 0</th>\n",
              "      <th>Unnamed: 0.1</th>\n",
              "      <th>loan_status</th>\n",
              "      <th>Principal</th>\n",
              "      <th>terms</th>\n",
              "      <th>effective_date</th>\n",
              "      <th>due_date</th>\n",
              "      <th>age</th>\n",
              "      <th>education</th>\n",
              "      <th>Gender</th>\n",
              "      <th>dayofweek</th>\n",
              "      <th>weekend</th>\n",
              "    </tr>\n",
              "  </thead>\n",
              "  <tbody>\n",
              "    <tr>\n",
              "      <th>0</th>\n",
              "      <td>0</td>\n",
              "      <td>0</td>\n",
              "      <td>PAIDOFF</td>\n",
              "      <td>1000</td>\n",
              "      <td>30</td>\n",
              "      <td>2016-09-08</td>\n",
              "      <td>2016-10-07</td>\n",
              "      <td>45</td>\n",
              "      <td>High School or Below</td>\n",
              "      <td>male</td>\n",
              "      <td>3</td>\n",
              "      <td>0</td>\n",
              "    </tr>\n",
              "    <tr>\n",
              "      <th>1</th>\n",
              "      <td>2</td>\n",
              "      <td>2</td>\n",
              "      <td>PAIDOFF</td>\n",
              "      <td>1000</td>\n",
              "      <td>30</td>\n",
              "      <td>2016-09-08</td>\n",
              "      <td>2016-10-07</td>\n",
              "      <td>33</td>\n",
              "      <td>Bechalor</td>\n",
              "      <td>female</td>\n",
              "      <td>3</td>\n",
              "      <td>0</td>\n",
              "    </tr>\n",
              "    <tr>\n",
              "      <th>2</th>\n",
              "      <td>3</td>\n",
              "      <td>3</td>\n",
              "      <td>PAIDOFF</td>\n",
              "      <td>1000</td>\n",
              "      <td>15</td>\n",
              "      <td>2016-09-08</td>\n",
              "      <td>2016-09-22</td>\n",
              "      <td>27</td>\n",
              "      <td>college</td>\n",
              "      <td>male</td>\n",
              "      <td>3</td>\n",
              "      <td>0</td>\n",
              "    </tr>\n",
              "    <tr>\n",
              "      <th>3</th>\n",
              "      <td>4</td>\n",
              "      <td>4</td>\n",
              "      <td>PAIDOFF</td>\n",
              "      <td>1000</td>\n",
              "      <td>30</td>\n",
              "      <td>2016-09-09</td>\n",
              "      <td>2016-10-08</td>\n",
              "      <td>28</td>\n",
              "      <td>college</td>\n",
              "      <td>female</td>\n",
              "      <td>4</td>\n",
              "      <td>1</td>\n",
              "    </tr>\n",
              "    <tr>\n",
              "      <th>4</th>\n",
              "      <td>6</td>\n",
              "      <td>6</td>\n",
              "      <td>PAIDOFF</td>\n",
              "      <td>1000</td>\n",
              "      <td>30</td>\n",
              "      <td>2016-09-09</td>\n",
              "      <td>2016-10-08</td>\n",
              "      <td>29</td>\n",
              "      <td>college</td>\n",
              "      <td>male</td>\n",
              "      <td>4</td>\n",
              "      <td>1</td>\n",
              "    </tr>\n",
              "  </tbody>\n",
              "</table>\n",
              "</div>"
            ],
            "text/plain": [
              "   Unnamed: 0  Unnamed: 0.1 loan_status  ...  Gender  dayofweek weekend\n",
              "0           0             0     PAIDOFF  ...    male          3       0\n",
              "1           2             2     PAIDOFF  ...  female          3       0\n",
              "2           3             3     PAIDOFF  ...    male          3       0\n",
              "3           4             4     PAIDOFF  ...  female          4       1\n",
              "4           6             6     PAIDOFF  ...    male          4       1\n",
              "\n",
              "[5 rows x 12 columns]"
            ]
          },
          "metadata": {
            "tags": []
          },
          "execution_count": 46
        }
      ]
    },
    {
      "cell_type": "code",
      "metadata": {
        "colab": {
          "base_uri": "https://localhost:8080/"
        },
        "id": "1IyjbT0tS0fl",
        "outputId": "129b8f46-5a7c-4548-9bc5-d7a473767abc"
      },
      "source": [
        "df.groupby(['Gender'])['loan_status'].value_counts(normalize=True)"
      ],
      "execution_count": 47,
      "outputs": [
        {
          "output_type": "execute_result",
          "data": {
            "text/plain": [
              "Gender  loan_status\n",
              "female  PAIDOFF        0.865385\n",
              "        COLLECTION     0.134615\n",
              "male    PAIDOFF        0.731293\n",
              "        COLLECTION     0.268707\n",
              "Name: loan_status, dtype: float64"
            ]
          },
          "metadata": {
            "tags": []
          },
          "execution_count": 47
        }
      ]
    },
    {
      "cell_type": "code",
      "metadata": {
        "colab": {
          "base_uri": "https://localhost:8080/",
          "height": 195
        },
        "id": "0bnIWCoQS0fm",
        "outputId": "f424b43c-dbec-44b6-b528-270927bf6d41"
      },
      "source": [
        "df['Gender'].replace(to_replace=['male','female'], value=[0,1],inplace=True)\n",
        "df.head()"
      ],
      "execution_count": 48,
      "outputs": [
        {
          "output_type": "execute_result",
          "data": {
            "text/html": [
              "<div>\n",
              "<style scoped>\n",
              "    .dataframe tbody tr th:only-of-type {\n",
              "        vertical-align: middle;\n",
              "    }\n",
              "\n",
              "    .dataframe tbody tr th {\n",
              "        vertical-align: top;\n",
              "    }\n",
              "\n",
              "    .dataframe thead th {\n",
              "        text-align: right;\n",
              "    }\n",
              "</style>\n",
              "<table border=\"1\" class=\"dataframe\">\n",
              "  <thead>\n",
              "    <tr style=\"text-align: right;\">\n",
              "      <th></th>\n",
              "      <th>Unnamed: 0</th>\n",
              "      <th>Unnamed: 0.1</th>\n",
              "      <th>loan_status</th>\n",
              "      <th>Principal</th>\n",
              "      <th>terms</th>\n",
              "      <th>effective_date</th>\n",
              "      <th>due_date</th>\n",
              "      <th>age</th>\n",
              "      <th>education</th>\n",
              "      <th>Gender</th>\n",
              "      <th>dayofweek</th>\n",
              "      <th>weekend</th>\n",
              "    </tr>\n",
              "  </thead>\n",
              "  <tbody>\n",
              "    <tr>\n",
              "      <th>0</th>\n",
              "      <td>0</td>\n",
              "      <td>0</td>\n",
              "      <td>PAIDOFF</td>\n",
              "      <td>1000</td>\n",
              "      <td>30</td>\n",
              "      <td>2016-09-08</td>\n",
              "      <td>2016-10-07</td>\n",
              "      <td>45</td>\n",
              "      <td>High School or Below</td>\n",
              "      <td>0</td>\n",
              "      <td>3</td>\n",
              "      <td>0</td>\n",
              "    </tr>\n",
              "    <tr>\n",
              "      <th>1</th>\n",
              "      <td>2</td>\n",
              "      <td>2</td>\n",
              "      <td>PAIDOFF</td>\n",
              "      <td>1000</td>\n",
              "      <td>30</td>\n",
              "      <td>2016-09-08</td>\n",
              "      <td>2016-10-07</td>\n",
              "      <td>33</td>\n",
              "      <td>Bechalor</td>\n",
              "      <td>1</td>\n",
              "      <td>3</td>\n",
              "      <td>0</td>\n",
              "    </tr>\n",
              "    <tr>\n",
              "      <th>2</th>\n",
              "      <td>3</td>\n",
              "      <td>3</td>\n",
              "      <td>PAIDOFF</td>\n",
              "      <td>1000</td>\n",
              "      <td>15</td>\n",
              "      <td>2016-09-08</td>\n",
              "      <td>2016-09-22</td>\n",
              "      <td>27</td>\n",
              "      <td>college</td>\n",
              "      <td>0</td>\n",
              "      <td>3</td>\n",
              "      <td>0</td>\n",
              "    </tr>\n",
              "    <tr>\n",
              "      <th>3</th>\n",
              "      <td>4</td>\n",
              "      <td>4</td>\n",
              "      <td>PAIDOFF</td>\n",
              "      <td>1000</td>\n",
              "      <td>30</td>\n",
              "      <td>2016-09-09</td>\n",
              "      <td>2016-10-08</td>\n",
              "      <td>28</td>\n",
              "      <td>college</td>\n",
              "      <td>1</td>\n",
              "      <td>4</td>\n",
              "      <td>1</td>\n",
              "    </tr>\n",
              "    <tr>\n",
              "      <th>4</th>\n",
              "      <td>6</td>\n",
              "      <td>6</td>\n",
              "      <td>PAIDOFF</td>\n",
              "      <td>1000</td>\n",
              "      <td>30</td>\n",
              "      <td>2016-09-09</td>\n",
              "      <td>2016-10-08</td>\n",
              "      <td>29</td>\n",
              "      <td>college</td>\n",
              "      <td>0</td>\n",
              "      <td>4</td>\n",
              "      <td>1</td>\n",
              "    </tr>\n",
              "  </tbody>\n",
              "</table>\n",
              "</div>"
            ],
            "text/plain": [
              "   Unnamed: 0  Unnamed: 0.1 loan_status  ...  Gender  dayofweek weekend\n",
              "0           0             0     PAIDOFF  ...       0          3       0\n",
              "1           2             2     PAIDOFF  ...       1          3       0\n",
              "2           3             3     PAIDOFF  ...       0          3       0\n",
              "3           4             4     PAIDOFF  ...       1          4       1\n",
              "4           6             6     PAIDOFF  ...       0          4       1\n",
              "\n",
              "[5 rows x 12 columns]"
            ]
          },
          "metadata": {
            "tags": []
          },
          "execution_count": 48
        }
      ]
    },
    {
      "cell_type": "code",
      "metadata": {
        "colab": {
          "base_uri": "https://localhost:8080/"
        },
        "id": "R5ZD_NyTS0fm",
        "outputId": "404ae7f4-8c9e-4ff5-b08d-8734c122f0c9"
      },
      "source": [
        "df.groupby(['education'])['loan_status'].value_counts(normalize=True)"
      ],
      "execution_count": 49,
      "outputs": [
        {
          "output_type": "execute_result",
          "data": {
            "text/plain": [
              "education             loan_status\n",
              "Bechalor              PAIDOFF        0.750000\n",
              "                      COLLECTION     0.250000\n",
              "High School or Below  PAIDOFF        0.741722\n",
              "                      COLLECTION     0.258278\n",
              "Master or Above       COLLECTION     0.500000\n",
              "                      PAIDOFF        0.500000\n",
              "college               PAIDOFF        0.765101\n",
              "                      COLLECTION     0.234899\n",
              "Name: loan_status, dtype: float64"
            ]
          },
          "metadata": {
            "tags": []
          },
          "execution_count": 49
        }
      ]
    },
    {
      "cell_type": "code",
      "metadata": {
        "colab": {
          "base_uri": "https://localhost:8080/",
          "height": 195
        },
        "id": "9lFiTuNcS0fn",
        "outputId": "02d7a40e-9d9b-4de4-b6da-e3e68e15f923"
      },
      "source": [
        "df[['Principal','terms','age','Gender','education']].head()"
      ],
      "execution_count": 50,
      "outputs": [
        {
          "output_type": "execute_result",
          "data": {
            "text/html": [
              "<div>\n",
              "<style scoped>\n",
              "    .dataframe tbody tr th:only-of-type {\n",
              "        vertical-align: middle;\n",
              "    }\n",
              "\n",
              "    .dataframe tbody tr th {\n",
              "        vertical-align: top;\n",
              "    }\n",
              "\n",
              "    .dataframe thead th {\n",
              "        text-align: right;\n",
              "    }\n",
              "</style>\n",
              "<table border=\"1\" class=\"dataframe\">\n",
              "  <thead>\n",
              "    <tr style=\"text-align: right;\">\n",
              "      <th></th>\n",
              "      <th>Principal</th>\n",
              "      <th>terms</th>\n",
              "      <th>age</th>\n",
              "      <th>Gender</th>\n",
              "      <th>education</th>\n",
              "    </tr>\n",
              "  </thead>\n",
              "  <tbody>\n",
              "    <tr>\n",
              "      <th>0</th>\n",
              "      <td>1000</td>\n",
              "      <td>30</td>\n",
              "      <td>45</td>\n",
              "      <td>0</td>\n",
              "      <td>High School or Below</td>\n",
              "    </tr>\n",
              "    <tr>\n",
              "      <th>1</th>\n",
              "      <td>1000</td>\n",
              "      <td>30</td>\n",
              "      <td>33</td>\n",
              "      <td>1</td>\n",
              "      <td>Bechalor</td>\n",
              "    </tr>\n",
              "    <tr>\n",
              "      <th>2</th>\n",
              "      <td>1000</td>\n",
              "      <td>15</td>\n",
              "      <td>27</td>\n",
              "      <td>0</td>\n",
              "      <td>college</td>\n",
              "    </tr>\n",
              "    <tr>\n",
              "      <th>3</th>\n",
              "      <td>1000</td>\n",
              "      <td>30</td>\n",
              "      <td>28</td>\n",
              "      <td>1</td>\n",
              "      <td>college</td>\n",
              "    </tr>\n",
              "    <tr>\n",
              "      <th>4</th>\n",
              "      <td>1000</td>\n",
              "      <td>30</td>\n",
              "      <td>29</td>\n",
              "      <td>0</td>\n",
              "      <td>college</td>\n",
              "    </tr>\n",
              "  </tbody>\n",
              "</table>\n",
              "</div>"
            ],
            "text/plain": [
              "   Principal  terms  age  Gender             education\n",
              "0       1000     30   45       0  High School or Below\n",
              "1       1000     30   33       1              Bechalor\n",
              "2       1000     15   27       0               college\n",
              "3       1000     30   28       1               college\n",
              "4       1000     30   29       0               college"
            ]
          },
          "metadata": {
            "tags": []
          },
          "execution_count": 50
        }
      ]
    },
    {
      "cell_type": "code",
      "metadata": {
        "colab": {
          "base_uri": "https://localhost:8080/",
          "height": 195
        },
        "id": "nCXIZEp6S0fo",
        "outputId": "28d29f0c-1183-480b-e770-d04fe28de3fb"
      },
      "source": [
        "Feature = df[['Principal','terms','age','Gender','weekend']]\n",
        "Feature = pd.concat([Feature,pd.get_dummies(df['education'])], axis=1)\n",
        "Feature.drop(['Master or Above'], axis = 1,inplace=True)\n",
        "Feature.head()\n"
      ],
      "execution_count": 51,
      "outputs": [
        {
          "output_type": "execute_result",
          "data": {
            "text/html": [
              "<div>\n",
              "<style scoped>\n",
              "    .dataframe tbody tr th:only-of-type {\n",
              "        vertical-align: middle;\n",
              "    }\n",
              "\n",
              "    .dataframe tbody tr th {\n",
              "        vertical-align: top;\n",
              "    }\n",
              "\n",
              "    .dataframe thead th {\n",
              "        text-align: right;\n",
              "    }\n",
              "</style>\n",
              "<table border=\"1\" class=\"dataframe\">\n",
              "  <thead>\n",
              "    <tr style=\"text-align: right;\">\n",
              "      <th></th>\n",
              "      <th>Principal</th>\n",
              "      <th>terms</th>\n",
              "      <th>age</th>\n",
              "      <th>Gender</th>\n",
              "      <th>weekend</th>\n",
              "      <th>Bechalor</th>\n",
              "      <th>High School or Below</th>\n",
              "      <th>college</th>\n",
              "    </tr>\n",
              "  </thead>\n",
              "  <tbody>\n",
              "    <tr>\n",
              "      <th>0</th>\n",
              "      <td>1000</td>\n",
              "      <td>30</td>\n",
              "      <td>45</td>\n",
              "      <td>0</td>\n",
              "      <td>0</td>\n",
              "      <td>0</td>\n",
              "      <td>1</td>\n",
              "      <td>0</td>\n",
              "    </tr>\n",
              "    <tr>\n",
              "      <th>1</th>\n",
              "      <td>1000</td>\n",
              "      <td>30</td>\n",
              "      <td>33</td>\n",
              "      <td>1</td>\n",
              "      <td>0</td>\n",
              "      <td>1</td>\n",
              "      <td>0</td>\n",
              "      <td>0</td>\n",
              "    </tr>\n",
              "    <tr>\n",
              "      <th>2</th>\n",
              "      <td>1000</td>\n",
              "      <td>15</td>\n",
              "      <td>27</td>\n",
              "      <td>0</td>\n",
              "      <td>0</td>\n",
              "      <td>0</td>\n",
              "      <td>0</td>\n",
              "      <td>1</td>\n",
              "    </tr>\n",
              "    <tr>\n",
              "      <th>3</th>\n",
              "      <td>1000</td>\n",
              "      <td>30</td>\n",
              "      <td>28</td>\n",
              "      <td>1</td>\n",
              "      <td>1</td>\n",
              "      <td>0</td>\n",
              "      <td>0</td>\n",
              "      <td>1</td>\n",
              "    </tr>\n",
              "    <tr>\n",
              "      <th>4</th>\n",
              "      <td>1000</td>\n",
              "      <td>30</td>\n",
              "      <td>29</td>\n",
              "      <td>0</td>\n",
              "      <td>1</td>\n",
              "      <td>0</td>\n",
              "      <td>0</td>\n",
              "      <td>1</td>\n",
              "    </tr>\n",
              "  </tbody>\n",
              "</table>\n",
              "</div>"
            ],
            "text/plain": [
              "   Principal  terms  age  ...  Bechalor  High School or Below  college\n",
              "0       1000     30   45  ...         0                     1        0\n",
              "1       1000     30   33  ...         1                     0        0\n",
              "2       1000     15   27  ...         0                     0        1\n",
              "3       1000     30   28  ...         0                     0        1\n",
              "4       1000     30   29  ...         0                     0        1\n",
              "\n",
              "[5 rows x 8 columns]"
            ]
          },
          "metadata": {
            "tags": []
          },
          "execution_count": 51
        }
      ]
    },
    {
      "cell_type": "code",
      "metadata": {
        "id": "0oQUT9DTRRVk"
      },
      "source": [
        ""
      ],
      "execution_count": 51,
      "outputs": []
    },
    {
      "cell_type": "code",
      "metadata": {
        "colab": {
          "base_uri": "https://localhost:8080/",
          "height": 195
        },
        "id": "aIHEE019S0fo",
        "outputId": "2fee4fc3-753a-403e-80b7-0073a401dad0"
      },
      "source": [
        "X = Feature\n",
        "X[0:5]"
      ],
      "execution_count": 52,
      "outputs": [
        {
          "output_type": "execute_result",
          "data": {
            "text/html": [
              "<div>\n",
              "<style scoped>\n",
              "    .dataframe tbody tr th:only-of-type {\n",
              "        vertical-align: middle;\n",
              "    }\n",
              "\n",
              "    .dataframe tbody tr th {\n",
              "        vertical-align: top;\n",
              "    }\n",
              "\n",
              "    .dataframe thead th {\n",
              "        text-align: right;\n",
              "    }\n",
              "</style>\n",
              "<table border=\"1\" class=\"dataframe\">\n",
              "  <thead>\n",
              "    <tr style=\"text-align: right;\">\n",
              "      <th></th>\n",
              "      <th>Principal</th>\n",
              "      <th>terms</th>\n",
              "      <th>age</th>\n",
              "      <th>Gender</th>\n",
              "      <th>weekend</th>\n",
              "      <th>Bechalor</th>\n",
              "      <th>High School or Below</th>\n",
              "      <th>college</th>\n",
              "    </tr>\n",
              "  </thead>\n",
              "  <tbody>\n",
              "    <tr>\n",
              "      <th>0</th>\n",
              "      <td>1000</td>\n",
              "      <td>30</td>\n",
              "      <td>45</td>\n",
              "      <td>0</td>\n",
              "      <td>0</td>\n",
              "      <td>0</td>\n",
              "      <td>1</td>\n",
              "      <td>0</td>\n",
              "    </tr>\n",
              "    <tr>\n",
              "      <th>1</th>\n",
              "      <td>1000</td>\n",
              "      <td>30</td>\n",
              "      <td>33</td>\n",
              "      <td>1</td>\n",
              "      <td>0</td>\n",
              "      <td>1</td>\n",
              "      <td>0</td>\n",
              "      <td>0</td>\n",
              "    </tr>\n",
              "    <tr>\n",
              "      <th>2</th>\n",
              "      <td>1000</td>\n",
              "      <td>15</td>\n",
              "      <td>27</td>\n",
              "      <td>0</td>\n",
              "      <td>0</td>\n",
              "      <td>0</td>\n",
              "      <td>0</td>\n",
              "      <td>1</td>\n",
              "    </tr>\n",
              "    <tr>\n",
              "      <th>3</th>\n",
              "      <td>1000</td>\n",
              "      <td>30</td>\n",
              "      <td>28</td>\n",
              "      <td>1</td>\n",
              "      <td>1</td>\n",
              "      <td>0</td>\n",
              "      <td>0</td>\n",
              "      <td>1</td>\n",
              "    </tr>\n",
              "    <tr>\n",
              "      <th>4</th>\n",
              "      <td>1000</td>\n",
              "      <td>30</td>\n",
              "      <td>29</td>\n",
              "      <td>0</td>\n",
              "      <td>1</td>\n",
              "      <td>0</td>\n",
              "      <td>0</td>\n",
              "      <td>1</td>\n",
              "    </tr>\n",
              "  </tbody>\n",
              "</table>\n",
              "</div>"
            ],
            "text/plain": [
              "   Principal  terms  age  ...  Bechalor  High School or Below  college\n",
              "0       1000     30   45  ...         0                     1        0\n",
              "1       1000     30   33  ...         1                     0        0\n",
              "2       1000     15   27  ...         0                     0        1\n",
              "3       1000     30   28  ...         0                     0        1\n",
              "4       1000     30   29  ...         0                     0        1\n",
              "\n",
              "[5 rows x 8 columns]"
            ]
          },
          "metadata": {
            "tags": []
          },
          "execution_count": 52
        }
      ]
    },
    {
      "cell_type": "code",
      "metadata": {
        "colab": {
          "base_uri": "https://localhost:8080/"
        },
        "id": "BffwESZdS0fo",
        "outputId": "1c3b9094-77f4-46da-e537-91df88408780"
      },
      "source": [
        "y = df['loan_status'].replace(to_replace=['PAIDOFF','COLLECTION'], value=[0,1]).values\n",
        "y"
      ],
      "execution_count": 57,
      "outputs": [
        {
          "output_type": "execute_result",
          "data": {
            "text/plain": [
              "array([0, 0, 0, 0, 0, 0, 0, 0, 0, 0, 0, 0, 0, 0, 0, 0, 0, 0, 0, 0, 0, 0,\n",
              "       0, 0, 0, 0, 0, 0, 0, 0, 0, 0, 0, 0, 0, 0, 0, 0, 0, 0, 0, 0, 0, 0,\n",
              "       0, 0, 0, 0, 0, 0, 0, 0, 0, 0, 0, 0, 0, 0, 0, 0, 0, 0, 0, 0, 0, 0,\n",
              "       0, 0, 0, 0, 0, 0, 0, 0, 0, 0, 0, 0, 0, 0, 0, 0, 0, 0, 0, 0, 0, 0,\n",
              "       0, 0, 0, 0, 0, 0, 0, 0, 0, 0, 0, 0, 0, 0, 0, 0, 0, 0, 0, 0, 0, 0,\n",
              "       0, 0, 0, 0, 0, 0, 0, 0, 0, 0, 0, 0, 0, 0, 0, 0, 0, 0, 0, 0, 0, 0,\n",
              "       0, 0, 0, 0, 0, 0, 0, 0, 0, 0, 0, 0, 0, 0, 0, 0, 0, 0, 0, 0, 0, 0,\n",
              "       0, 0, 0, 0, 0, 0, 0, 0, 0, 0, 0, 0, 0, 0, 0, 0, 0, 0, 0, 0, 0, 0,\n",
              "       0, 0, 0, 0, 0, 0, 0, 0, 0, 0, 0, 0, 0, 0, 0, 0, 0, 0, 0, 0, 0, 0,\n",
              "       0, 0, 0, 0, 0, 0, 0, 0, 0, 0, 0, 0, 0, 0, 0, 0, 0, 0, 0, 0, 0, 0,\n",
              "       0, 0, 0, 0, 0, 0, 0, 0, 0, 0, 0, 0, 0, 0, 0, 0, 0, 0, 0, 0, 0, 0,\n",
              "       0, 0, 0, 0, 0, 0, 0, 0, 0, 0, 0, 0, 0, 0, 0, 0, 0, 0, 1, 1, 1, 1,\n",
              "       1, 1, 1, 1, 1, 1, 1, 1, 1, 1, 1, 1, 1, 1, 1, 1, 1, 1, 1, 1, 1, 1,\n",
              "       1, 1, 1, 1, 1, 1, 1, 1, 1, 1, 1, 1, 1, 1, 1, 1, 1, 1, 1, 1, 1, 1,\n",
              "       1, 1, 1, 1, 1, 1, 1, 1, 1, 1, 1, 1, 1, 1, 1, 1, 1, 1, 1, 1, 1, 1,\n",
              "       1, 1, 1, 1, 1, 1, 1, 1, 1, 1, 1, 1, 1, 1, 1, 1])"
            ]
          },
          "metadata": {
            "tags": []
          },
          "execution_count": 57
        }
      ]
    },
    {
      "cell_type": "code",
      "metadata": {
        "id": "XSgKiPMTS0fp"
      },
      "source": [
        "X= preprocessing.StandardScaler().fit(X).transform(X)\n",
        "# X[0:5]"
      ],
      "execution_count": 58,
      "outputs": []
    },
    {
      "cell_type": "code",
      "metadata": {
        "id": "FFAqtrkyK7u0"
      },
      "source": [
        "X_train,y_train = X,y"
      ],
      "execution_count": 59,
      "outputs": []
    },
    {
      "cell_type": "markdown",
      "metadata": {
        "id": "br0qs5KPS0fp"
      },
      "source": [
        "# Classification"
      ]
    },
    {
      "cell_type": "markdown",
      "metadata": {
        "id": "sjh9ZYDxS0fq"
      },
      "source": [
        "Now, it is your turn, use the training set to build an accurate model. Then use the test set to report the accuracy of the model\n",
        "You should use the following algorithm:\n",
        "- K Nearest Neighbor(KNN)\n",
        "- Decision Tree\n",
        "- Support Vector Machine\n",
        "- Logistic Regression\n",
        "\n",
        "\n",
        "\n",
        "__ Notice:__ \n",
        "- You can go above and change the pre-processing, feature selection, feature-extraction, and so on, to make a better model.\n",
        "- You should use either scikit-learn, Scipy or Numpy libraries for developing the classification algorithms.\n",
        "- You should include the code of the algorithm in the following cells."
      ]
    },
    {
      "cell_type": "markdown",
      "metadata": {
        "id": "UPremn3NS0fr"
      },
      "source": [
        "# K Nearest Neighbor(KNN)\n",
        "Notice: You should find the best k to build the model with the best accuracy.  \n",
        "**warning:** You should not use the __loan_test.csv__ for finding the best k, however, you can split your train_loan.csv into train and test to find the best __k__."
      ]
    },
    {
      "cell_type": "code",
      "metadata": {
        "id": "IpX7KvjHw86f"
      },
      "source": [
        "from sklearn.neighbors import KNeighborsClassifier \r\n",
        "from sklearn.metrics import accuracy_score\r\n",
        "#from imblearn.over_sampling import RandomOverSampler\r\n",
        "from sklearn.model_selection import cross_val_score\r\n",
        "from sklearn.metrics import jaccard_similarity_score\r\n",
        "from sklearn.metrics import f1_score\r\n",
        "from sklearn.metrics import log_loss\r\n",
        "from sklearn.model_selection import cross_val_score\r\n",
        "trainscore = {}"
      ],
      "execution_count": 60,
      "outputs": []
    },
    {
      "cell_type": "code",
      "metadata": {
        "colab": {
          "base_uri": "https://localhost:8080/"
        },
        "id": "PFh8EI6QS0fs",
        "outputId": "150667e4-97db-450c-b3c5-e041e492f89c"
      },
      "source": [
        "bestScore=0.0\r\n",
        "accList=[]\r\n",
        "\r\n",
        "for k in range(2,20):\r\n",
        "    \r\n",
        "    knn_mod = KNeighborsClassifier(n_neighbors=k,algorithm='auto')\r\n",
        "    \r\n",
        "    # using 10 fold cross validation for scoring the classifier's accuracy\r\n",
        "    scores = cross_val_score(knn_mod, X, y, cv=10)\r\n",
        "    score=scores.mean()\r\n",
        "    accList.append(score)\r\n",
        "    \r\n",
        "    if score > bestScore:\r\n",
        "        bestScore=score\r\n",
        "        best_knn=knn_mod\r\n",
        "        bestK=k\r\n",
        "        \r\n",
        "print(\"Best K is \",bestK,\" with cross validation accuracy is\",bestScore)\r\n",
        "knn_mod=best_knn"
      ],
      "execution_count": 61,
      "outputs": [
        {
          "output_type": "stream",
          "text": [
            "Best K is  7  with cross validation accuracy is 0.7467226890756302\n"
          ],
          "name": "stdout"
        }
      ]
    },
    {
      "cell_type": "code",
      "metadata": {
        "colab": {
          "base_uri": "https://localhost:8080/"
        },
        "id": "Vdkf4SkXK5MQ",
        "outputId": "587a3cf3-b563-4628-e027-6bd3aca772dc"
      },
      "source": [
        "knn_mod.fit(X_train,y_train)\r\n",
        "y_predknn = knn_mod.predict(X_train)\r\n",
        "trainscore['KNN_jaccard'] = jaccard_similarity_score(y_train,y_predknn)*100\r\n",
        "trainscore['KNN_f1_score'] = f1_score(y_train,y_predknn, average='weighted')*100\r\n",
        "trainscore"
      ],
      "execution_count": 62,
      "outputs": [
        {
          "output_type": "stream",
          "text": [
            "/usr/local/lib/python3.6/dist-packages/sklearn/metrics/_classification.py:664: FutureWarning: jaccard_similarity_score has been deprecated and replaced with jaccard_score. It will be removed in version 0.23. This implementation has surprising behavior for binary and multiclass classification tasks.\n",
            "  FutureWarning)\n"
          ],
          "name": "stderr"
        },
        {
          "output_type": "execute_result",
          "data": {
            "text/plain": [
              "{'KNN_f1_score': 79.55764876306203, 'KNN_jaccard': 80.92485549132948}"
            ]
          },
          "metadata": {
            "tags": []
          },
          "execution_count": 62
        }
      ]
    },
    {
      "cell_type": "code",
      "metadata": {
        "colab": {
          "base_uri": "https://localhost:8080/",
          "height": 295
        },
        "id": "xkVAfTtfM5Uw",
        "outputId": "cc5aca24-8fc2-490e-ea07-b6a0a988d91f"
      },
      "source": [
        "plt.plot(range(2,20),accList)\r\n",
        "plt.xlabel('K')\r\n",
        "plt.ylabel('CV Accuracy')\r\n",
        "plt.title('Plot Model KNN base K')\r\n",
        "plt.show()"
      ],
      "execution_count": 63,
      "outputs": [
        {
          "output_type": "display_data",
          "data": {
            "image/png": "[encoded data removed]",
            "text/plain": [
              "<Figure size 432x288 with 1 Axes>"
            ]
          },
          "metadata": {
            "tags": [],
            "needs_background": "light"
          }
        }
      ]
    },
    {
      "cell_type": "markdown",
      "metadata": {
        "id": "4N0KWEnkS0ft"
      },
      "source": [
        "# Decision Tree"
      ]
    },
    {
      "cell_type": "code",
      "metadata": {
        "colab": {
          "base_uri": "https://localhost:8080/"
        },
        "id": "pqsXDFkiS0ft",
        "outputId": "e661ad42-d43c-4894-bff6-d52337ddd519"
      },
      "source": [
        "from sklearn.tree import DecisionTreeClassifier\n",
        "dc_mod = DecisionTreeClassifier()\n",
        "dc_mod = dc_mod.fit(X_train, y_train)\n",
        "\n",
        "y_pred_dc=dc_mod.predict(X_train)\n",
        "\n",
        "trainscore['DC_Tree_jaccard'] = jaccard_similarity_score(y_train,y_pred_dc)*100\n",
        "trainscore['DC_Treef1_score'] = f1_score(y_train,y_pred_dc, average='weighted')*100\n",
        "trainscore"
      ],
      "execution_count": 64,
      "outputs": [
        {
          "output_type": "stream",
          "text": [
            "/usr/local/lib/python3.6/dist-packages/sklearn/metrics/_classification.py:664: FutureWarning: jaccard_similarity_score has been deprecated and replaced with jaccard_score. It will be removed in version 0.23. This implementation has surprising behavior for binary and multiclass classification tasks.\n",
            "  FutureWarning)\n"
          ],
          "name": "stderr"
        },
        {
          "output_type": "execute_result",
          "data": {
            "text/plain": [
              "{'DC_Tree_jaccard': 89.30635838150289,\n",
              " 'DC_Treef1_score': 88.7074869590869,\n",
              " 'KNN_f1_score': 79.55764876306203,\n",
              " 'KNN_jaccard': 80.92485549132948}"
            ]
          },
          "metadata": {
            "tags": []
          },
          "execution_count": 64
        }
      ]
    },
    {
      "cell_type": "code",
      "metadata": {
        "colab": {
          "base_uri": "https://localhost:8080/",
          "height": 958
        },
        "id": "A8TaYd8JN0yg",
        "outputId": "64f7705f-f48b-4cb0-c2d5-7eea779bbede"
      },
      "source": [
        "import graphviz\r\n",
        "import pydotplus\r\n",
        "\r\n",
        "from sklearn import tree\r\n",
        "\r\n",
        "d = tree.export_graphviz(dc_mod, feature_names = [*Feature.columns],\r\n",
        "                         class_names = 'loan_status',\r\n",
        "                         filled = True, rounded = True,\r\n",
        "                         special_characters = True)\r\n",
        "graph = pydotplus.graph_from_dot_data(d)\r\n",
        "graph.set_size('\"20!\"')\r\n",
        "gra = graphviz.Source(graph.to_string())\r\n",
        "gra"
      ],
      "execution_count": 65,
      "outputs": [
        {
          "output_type": "execute_result",
          "data": {
            "text/plain": [
              "<graphviz.files.Source at 0x7f290dc27630>"
            ],
            "image/svg+xml": "<?xml version=\"1.0\" encoding=\"UTF-8\" standalone=\"no\"?>\n<!DOCTYPE svg PUBLIC \"-//W3C//DTD SVG 1.1//EN\"\n \"http://www.w3.org/Graphics/SVG/1.1/DTD/svg11.dtd\">\n<!-- Generated by graphviz version 2.40.1 (20161225.0304)\n -->\n<!-- Title: Tree Pages: 1 -->\n<svg width=\"1440pt\" height=\"688pt\"\n viewBox=\"0.00 0.00 1440.00 687.84\" xmlns=\"http://www.w3.org/2000/svg\" xmlns:xlink=\"http://www.w3.org/1999/xlink\">\n<g id=\"graph0\" class=\"graph\" transform=\"scale(.3696 .3696) rotate(0) translate(4 1857)\">\n<title>Tree</title>\n<polygon fill=\"#ffffff\" stroke=\"transparent\" points=\"-4,4 -4,-1857 3892,-1857 3892,4 -4,4\"/>\n<!-- 0 -->\n<g id=\"node1\" class=\"node\">\n<title>0</title>\n<path fill=\"#eeab7a\" stroke=\"#000000\" d=\"M648.5,-1853C648.5,-1853 540.5,-1853 540.5,-1853 534.5,-1853 528.5,-1847 528.5,-1841 528.5,-1841 528.5,-1782 528.5,-1782 528.5,-1776 534.5,-1770 540.5,-1770 540.5,-1770 648.5,-1770 648.5,-1770 654.5,-1770 660.5,-1776 660.5,-1782 660.5,-1782 660.5,-1841 660.5,-1841 660.5,-1847 654.5,-1853 648.5,-1853\"/>\n<text text-anchor=\"start\" x=\"536.5\" y=\"-1837.8\" font-family=\"Helvetica,sans-Serif\" font-size=\"14.00\" fill=\"#000000\">weekend ≤ &#45;0.188</text>\n<text text-anchor=\"start\" x=\"556.5\" y=\"-1822.8\" font-family=\"Helvetica,sans-Serif\" font-size=\"14.00\" fill=\"#000000\">gini = 0.374</text>\n<text text-anchor=\"start\" x=\"546.5\" y=\"-1807.8\" font-family=\"Helvetica,sans-Serif\" font-size=\"14.00\" fill=\"#000000\">samples = 346</text>\n<text text-anchor=\"start\" x=\"540.5\" y=\"-1792.8\" font-family=\"Helvetica,sans-Serif\" font-size=\"14.00\" fill=\"#000000\">value = [260, 86]</text>\n<text text-anchor=\"start\" x=\"568\" y=\"-1777.8\" font-family=\"Helvetica,sans-Serif\" font-size=\"14.00\" fill=\"#000000\">class = l</text>\n</g>\n<!-- 1 -->\n<g id=\"node2\" class=\"node\">\n<title>1</title>\n<path fill=\"#e6843d\" stroke=\"#000000\" d=\"M571.5,-1734C571.5,-1734 479.5,-1734 479.5,-1734 473.5,-1734 467.5,-1728 467.5,-1722 467.5,-1722 467.5,-1663 467.5,-1663 467.5,-1657 473.5,-1651 479.5,-1651 479.5,-1651 571.5,-1651 571.5,-1651 577.5,-1651 583.5,-1657 583.5,-1663 583.5,-1663 583.5,-1722 583.5,-1722 583.5,-1728 577.5,-1734 571.5,-1734\"/>\n<text text-anchor=\"start\" x=\"480\" y=\"-1718.8\" font-family=\"Helvetica,sans-Serif\" font-size=\"14.00\" fill=\"#000000\">college ≤ 0.14</text>\n<text text-anchor=\"start\" x=\"487.5\" y=\"-1703.8\" font-family=\"Helvetica,sans-Serif\" font-size=\"14.00\" fill=\"#000000\">gini = 0.042</text>\n<text text-anchor=\"start\" x=\"477.5\" y=\"-1688.8\" font-family=\"Helvetica,sans-Serif\" font-size=\"14.00\" fill=\"#000000\">samples = 141</text>\n<text text-anchor=\"start\" x=\"475.5\" y=\"-1673.8\" font-family=\"Helvetica,sans-Serif\" font-size=\"14.00\" fill=\"#000000\">value = [138, 3]</text>\n<text text-anchor=\"start\" x=\"499\" y=\"-1658.8\" font-family=\"Helvetica,sans-Serif\" font-size=\"14.00\" fill=\"#000000\">class = l</text>\n</g>\n<!-- 0&#45;&gt;1 -->\n<g id=\"edge1\" class=\"edge\">\n<title>0&#45;&gt;1</title>\n<path fill=\"none\" stroke=\"#000000\" d=\"M570.3671,-1769.8796C565.3539,-1761.2335 560.0187,-1752.0322 554.8419,-1743.1042\"/>\n<polygon fill=\"#000000\" stroke=\"#000000\" points=\"557.7798,-1741.1934 549.7359,-1734.2981 551.7242,-1744.7047 557.7798,-1741.1934\"/>\n<text text-anchor=\"middle\" x=\"543.3103\" y=\"-1754.7582\" font-family=\"Helvetica,sans-Serif\" font-size=\"14.00\" fill=\"#000000\">True</text>\n</g>\n<!-- 20 -->\n<g id=\"node21\" class=\"node\">\n<title>20</title>\n<path fill=\"#f7d7c0\" stroke=\"#000000\" d=\"M942.5,-1734C942.5,-1734 842.5,-1734 842.5,-1734 836.5,-1734 830.5,-1728 830.5,-1722 830.5,-1722 830.5,-1663 830.5,-1663 830.5,-1657 836.5,-1651 842.5,-1651 842.5,-1651 942.5,-1651 942.5,-1651 948.5,-1651 954.5,-1657 954.5,-1663 954.5,-1663 954.5,-1722 954.5,-1722 954.5,-1728 948.5,-1734 942.5,-1734\"/>\n<text text-anchor=\"start\" x=\"850\" y=\"-1718.8\" font-family=\"Helvetica,sans-Serif\" font-size=\"14.00\" fill=\"#000000\">terms ≤ &#45;1.46</text>\n<text text-anchor=\"start\" x=\"854.5\" y=\"-1703.8\" font-family=\"Helvetica,sans-Serif\" font-size=\"14.00\" fill=\"#000000\">gini = 0.482</text>\n<text text-anchor=\"start\" x=\"844.5\" y=\"-1688.8\" font-family=\"Helvetica,sans-Serif\" font-size=\"14.00\" fill=\"#000000\">samples = 205</text>\n<text text-anchor=\"start\" x=\"838.5\" y=\"-1673.8\" font-family=\"Helvetica,sans-Serif\" font-size=\"14.00\" fill=\"#000000\">value = [122, 83]</text>\n<text text-anchor=\"start\" x=\"866\" y=\"-1658.8\" font-family=\"Helvetica,sans-Serif\" font-size=\"14.00\" fill=\"#000000\">class = l</text>\n</g>\n<!-- 0&#45;&gt;20 -->\n<g id=\"edge20\" class=\"edge\">\n<title>0&#45;&gt;20</title>\n<path fill=\"none\" stroke=\"#000000\" d=\"M660.6359,-1785.09C708.1387,-1766.1208 772.1177,-1740.5721 820.8359,-1721.1175\"/>\n<polygon fill=\"#000000\" stroke=\"#000000\" points=\"822.3778,-1724.2706 830.3667,-1717.3116 819.7818,-1717.7698 822.3778,-1724.2706\"/>\n<text text-anchor=\"middle\" x=\"820.5054\" y=\"-1736.5845\" font-family=\"Helvetica,sans-Serif\" font-size=\"14.00\" fill=\"#000000\">False</text>\n</g>\n<!-- 2 -->\n<g id=\"node3\" class=\"node\">\n<title>2</title>\n<path fill=\"#e58139\" stroke=\"#000000\" d=\"M442,-1607.5C442,-1607.5 359,-1607.5 359,-1607.5 353,-1607.5 347,-1601.5 347,-1595.5 347,-1595.5 347,-1551.5 347,-1551.5 347,-1545.5 353,-1539.5 359,-1539.5 359,-1539.5 442,-1539.5 442,-1539.5 448,-1539.5 454,-1545.5 454,-1551.5 454,-1551.5 454,-1595.5 454,-1595.5 454,-1601.5 448,-1607.5 442,-1607.5\"/>\n<text text-anchor=\"start\" x=\"371\" y=\"-1592.3\" font-family=\"Helvetica,sans-Serif\" font-size=\"14.00\" fill=\"#000000\">gini = 0.0</text>\n<text text-anchor=\"start\" x=\"356.5\" y=\"-1577.3\" font-family=\"Helvetica,sans-Serif\" font-size=\"14.00\" fill=\"#000000\">samples = 84</text>\n<text text-anchor=\"start\" x=\"355\" y=\"-1562.3\" font-family=\"Helvetica,sans-Serif\" font-size=\"14.00\" fill=\"#000000\">value = [84, 0]</text>\n<text text-anchor=\"start\" x=\"374\" y=\"-1547.3\" font-family=\"Helvetica,sans-Serif\" font-size=\"14.00\" fill=\"#000000\">class = l</text>\n</g>\n<!-- 1&#45;&gt;2 -->\n<g id=\"edge2\" class=\"edge\">\n<title>1&#45;&gt;2</title>\n<path fill=\"none\" stroke=\"#000000\" d=\"M481.7811,-1650.8796C469.5375,-1639.2237 456.2339,-1626.5587 444.0029,-1614.9148\"/>\n<polygon fill=\"#000000\" stroke=\"#000000\" points=\"446.2012,-1612.1751 436.5451,-1607.8149 441.3746,-1617.245 446.2012,-1612.1751\"/>\n</g>\n<!-- 3 -->\n<g id=\"node4\" class=\"node\">\n<title>3</title>\n<path fill=\"#e68844\" stroke=\"#000000\" d=\"M567,-1615C567,-1615 484,-1615 484,-1615 478,-1615 472,-1609 472,-1603 472,-1603 472,-1544 472,-1544 472,-1538 478,-1532 484,-1532 484,-1532 567,-1532 567,-1532 573,-1532 579,-1538 579,-1544 579,-1544 579,-1603 579,-1603 579,-1609 573,-1615 567,-1615\"/>\n<text text-anchor=\"start\" x=\"487\" y=\"-1599.8\" font-family=\"Helvetica,sans-Serif\" font-size=\"14.00\" fill=\"#000000\">age ≤ 1.254</text>\n<text text-anchor=\"start\" x=\"496\" y=\"-1584.8\" font-family=\"Helvetica,sans-Serif\" font-size=\"14.00\" fill=\"#000000\">gini = 0.1</text>\n<text text-anchor=\"start\" x=\"481.5\" y=\"-1569.8\" font-family=\"Helvetica,sans-Serif\" font-size=\"14.00\" fill=\"#000000\">samples = 57</text>\n<text text-anchor=\"start\" x=\"480\" y=\"-1554.8\" font-family=\"Helvetica,sans-Serif\" font-size=\"14.00\" fill=\"#000000\">value = [54, 3]</text>\n<text text-anchor=\"start\" x=\"499\" y=\"-1539.8\" font-family=\"Helvetica,sans-Serif\" font-size=\"14.00\" fill=\"#000000\">class = l</text>\n</g>\n<!-- 1&#45;&gt;3 -->\n<g id=\"edge3\" class=\"edge\">\n<title>1&#45;&gt;3</title>\n<path fill=\"none\" stroke=\"#000000\" d=\"M525.5,-1650.8796C525.5,-1642.6838 525.5,-1633.9891 525.5,-1625.5013\"/>\n<polygon fill=\"#000000\" stroke=\"#000000\" points=\"529.0001,-1625.298 525.5,-1615.2981 522.0001,-1625.2981 529.0001,-1625.298\"/>\n</g>\n<!-- 4 -->\n<g id=\"node5\" class=\"node\">\n<title>4</title>\n<path fill=\"#e68641\" stroke=\"#000000\" d=\"M325,-1496C325,-1496 240,-1496 240,-1496 234,-1496 228,-1490 228,-1484 228,-1484 228,-1425 228,-1425 228,-1419 234,-1413 240,-1413 240,-1413 325,-1413 325,-1413 331,-1413 337,-1419 337,-1425 337,-1425 337,-1484 337,-1484 337,-1490 331,-1496 325,-1496\"/>\n<text text-anchor=\"start\" x=\"236\" y=\"-1480.8\" font-family=\"Helvetica,sans-Serif\" font-size=\"14.00\" fill=\"#000000\">terms ≤ &#45;0.019</text>\n<text text-anchor=\"start\" x=\"244.5\" y=\"-1465.8\" font-family=\"Helvetica,sans-Serif\" font-size=\"14.00\" fill=\"#000000\">gini = 0.077</text>\n<text text-anchor=\"start\" x=\"238.5\" y=\"-1450.8\" font-family=\"Helvetica,sans-Serif\" font-size=\"14.00\" fill=\"#000000\">samples = 50</text>\n<text text-anchor=\"start\" x=\"237\" y=\"-1435.8\" font-family=\"Helvetica,sans-Serif\" font-size=\"14.00\" fill=\"#000000\">value = [48, 2]</text>\n<text text-anchor=\"start\" x=\"256\" y=\"-1420.8\" font-family=\"Helvetica,sans-Serif\" font-size=\"14.00\" fill=\"#000000\">class = l</text>\n</g>\n<!-- 3&#45;&gt;4 -->\n<g id=\"edge4\" class=\"edge\">\n<title>3&#45;&gt;4</title>\n<path fill=\"none\" stroke=\"#000000\" d=\"M471.9265,-1537.3165C468.7694,-1535.4643 465.6126,-1533.6784 462.5,-1532 425.2719,-1511.9259 381.7548,-1493.0729 346.8351,-1478.9885\"/>\n<polygon fill=\"#000000\" stroke=\"#000000\" points=\"347.811,-1475.6093 337.2263,-1475.1454 345.2114,-1482.1088 347.811,-1475.6093\"/>\n</g>\n<!-- 15 -->\n<g id=\"node16\" class=\"node\">\n<title>15</title>\n<path fill=\"#e9965a\" stroke=\"#000000\" d=\"M563,-1496C563,-1496 488,-1496 488,-1496 482,-1496 476,-1490 476,-1484 476,-1484 476,-1425 476,-1425 476,-1419 482,-1413 488,-1413 488,-1413 563,-1413 563,-1413 569,-1413 575,-1419 575,-1425 575,-1425 575,-1484 575,-1484 575,-1490 569,-1496 563,-1496\"/>\n<text text-anchor=\"start\" x=\"491\" y=\"-1480.8\" font-family=\"Helvetica,sans-Serif\" font-size=\"14.00\" fill=\"#000000\">age ≤ 1.42</text>\n<text text-anchor=\"start\" x=\"487.5\" y=\"-1465.8\" font-family=\"Helvetica,sans-Serif\" font-size=\"14.00\" fill=\"#000000\">gini = 0.245</text>\n<text text-anchor=\"start\" x=\"486\" y=\"-1450.8\" font-family=\"Helvetica,sans-Serif\" font-size=\"14.00\" fill=\"#000000\">samples = 7</text>\n<text text-anchor=\"start\" x=\"484\" y=\"-1435.8\" font-family=\"Helvetica,sans-Serif\" font-size=\"14.00\" fill=\"#000000\">value = [6, 1]</text>\n<text text-anchor=\"start\" x=\"499\" y=\"-1420.8\" font-family=\"Helvetica,sans-Serif\" font-size=\"14.00\" fill=\"#000000\">class = l</text>\n</g>\n<!-- 3&#45;&gt;15 -->\n<g id=\"edge15\" class=\"edge\">\n<title>3&#45;&gt;15</title>\n<path fill=\"none\" stroke=\"#000000\" d=\"M525.5,-1531.8796C525.5,-1523.6838 525.5,-1514.9891 525.5,-1506.5013\"/>\n<polygon fill=\"#000000\" stroke=\"#000000\" points=\"529.0001,-1506.298 525.5,-1496.2981 522.0001,-1506.2981 529.0001,-1506.298\"/>\n</g>\n<!-- 5 -->\n<g id=\"node6\" class=\"node\">\n<title>5</title>\n<path fill=\"#e58139\" stroke=\"#000000\" d=\"M199,-1369.5C199,-1369.5 116,-1369.5 116,-1369.5 110,-1369.5 104,-1363.5 104,-1357.5 104,-1357.5 104,-1313.5 104,-1313.5 104,-1307.5 110,-1301.5 116,-1301.5 116,-1301.5 199,-1301.5 199,-1301.5 205,-1301.5 211,-1307.5 211,-1313.5 211,-1313.5 211,-1357.5 211,-1357.5 211,-1363.5 205,-1369.5 199,-1369.5\"/>\n<text text-anchor=\"start\" x=\"128\" y=\"-1354.3\" font-family=\"Helvetica,sans-Serif\" font-size=\"14.00\" fill=\"#000000\">gini = 0.0</text>\n<text text-anchor=\"start\" x=\"113.5\" y=\"-1339.3\" font-family=\"Helvetica,sans-Serif\" font-size=\"14.00\" fill=\"#000000\">samples = 25</text>\n<text text-anchor=\"start\" x=\"112\" y=\"-1324.3\" font-family=\"Helvetica,sans-Serif\" font-size=\"14.00\" fill=\"#000000\">value = [25, 0]</text>\n<text text-anchor=\"start\" x=\"131\" y=\"-1309.3\" font-family=\"Helvetica,sans-Serif\" font-size=\"14.00\" fill=\"#000000\">class = l</text>\n</g>\n<!-- 4&#45;&gt;5 -->\n<g id=\"edge5\" class=\"edge\">\n<title>4&#45;&gt;5</title>\n<path fill=\"none\" stroke=\"#000000\" d=\"M238.7811,-1412.8796C226.5375,-1401.2237 213.2339,-1388.5587 201.0029,-1376.9148\"/>\n<polygon fill=\"#000000\" stroke=\"#000000\" points=\"203.2012,-1374.1751 193.5451,-1369.8149 198.3746,-1379.245 203.2012,-1374.1751\"/>\n</g>\n<!-- 6 -->\n<g id=\"node7\" class=\"node\">\n<title>6</title>\n<path fill=\"#e78c4a\" stroke=\"#000000\" d=\"M324,-1377C324,-1377 241,-1377 241,-1377 235,-1377 229,-1371 229,-1365 229,-1365 229,-1306 229,-1306 229,-1300 235,-1294 241,-1294 241,-1294 324,-1294 324,-1294 330,-1294 336,-1300 336,-1306 336,-1306 336,-1365 336,-1365 336,-1371 330,-1377 324,-1377\"/>\n<text text-anchor=\"start\" x=\"241.5\" y=\"-1361.8\" font-family=\"Helvetica,sans-Serif\" font-size=\"14.00\" fill=\"#000000\">age ≤ &#45;0.404</text>\n<text text-anchor=\"start\" x=\"244.5\" y=\"-1346.8\" font-family=\"Helvetica,sans-Serif\" font-size=\"14.00\" fill=\"#000000\">gini = 0.147</text>\n<text text-anchor=\"start\" x=\"238.5\" y=\"-1331.8\" font-family=\"Helvetica,sans-Serif\" font-size=\"14.00\" fill=\"#000000\">samples = 25</text>\n<text text-anchor=\"start\" x=\"237\" y=\"-1316.8\" font-family=\"Helvetica,sans-Serif\" font-size=\"14.00\" fill=\"#000000\">value = [23, 2]</text>\n<text text-anchor=\"start\" x=\"256\" y=\"-1301.8\" font-family=\"Helvetica,sans-Serif\" font-size=\"14.00\" fill=\"#000000\">class = l</text>\n</g>\n<!-- 4&#45;&gt;6 -->\n<g id=\"edge6\" class=\"edge\">\n<title>4&#45;&gt;6</title>\n<path fill=\"none\" stroke=\"#000000\" d=\"M282.5,-1412.8796C282.5,-1404.6838 282.5,-1395.9891 282.5,-1387.5013\"/>\n<polygon fill=\"#000000\" stroke=\"#000000\" points=\"286.0001,-1387.298 282.5,-1377.2981 279.0001,-1387.2981 286.0001,-1387.298\"/>\n</g>\n<!-- 7 -->\n<g id=\"node8\" class=\"node\">\n<title>7</title>\n<path fill=\"#eb9d65\" stroke=\"#000000\" d=\"M198.5,-1258C198.5,-1258 118.5,-1258 118.5,-1258 112.5,-1258 106.5,-1252 106.5,-1246 106.5,-1246 106.5,-1187 106.5,-1187 106.5,-1181 112.5,-1175 118.5,-1175 118.5,-1175 198.5,-1175 198.5,-1175 204.5,-1175 210.5,-1181 210.5,-1187 210.5,-1187 210.5,-1246 210.5,-1246 210.5,-1252 204.5,-1258 198.5,-1258\"/>\n<text text-anchor=\"start\" x=\"117.5\" y=\"-1242.8\" font-family=\"Helvetica,sans-Serif\" font-size=\"14.00\" fill=\"#000000\">age ≤ &#45;0.985</text>\n<text text-anchor=\"start\" x=\"120.5\" y=\"-1227.8\" font-family=\"Helvetica,sans-Serif\" font-size=\"14.00\" fill=\"#000000\">gini = 0.298</text>\n<text text-anchor=\"start\" x=\"114.5\" y=\"-1212.8\" font-family=\"Helvetica,sans-Serif\" font-size=\"14.00\" fill=\"#000000\">samples = 11</text>\n<text text-anchor=\"start\" x=\"117\" y=\"-1197.8\" font-family=\"Helvetica,sans-Serif\" font-size=\"14.00\" fill=\"#000000\">value = [9, 2]</text>\n<text text-anchor=\"start\" x=\"132\" y=\"-1182.8\" font-family=\"Helvetica,sans-Serif\" font-size=\"14.00\" fill=\"#000000\">class = l</text>\n</g>\n<!-- 6&#45;&gt;7 -->\n<g id=\"edge7\" class=\"edge\">\n<title>6&#45;&gt;7</title>\n<path fill=\"none\" stroke=\"#000000\" d=\"M239.1308,-1293.8796C229.5584,-1284.6931 219.3328,-1274.8798 209.4897,-1265.4336\"/>\n<polygon fill=\"#000000\" stroke=\"#000000\" points=\"211.6928,-1262.6969 202.0543,-1258.2981 206.8459,-1267.7475 211.6928,-1262.6969\"/>\n</g>\n<!-- 14 -->\n<g id=\"node15\" class=\"node\">\n<title>14</title>\n<path fill=\"#e58139\" stroke=\"#000000\" d=\"M324,-1250.5C324,-1250.5 241,-1250.5 241,-1250.5 235,-1250.5 229,-1244.5 229,-1238.5 229,-1238.5 229,-1194.5 229,-1194.5 229,-1188.5 235,-1182.5 241,-1182.5 241,-1182.5 324,-1182.5 324,-1182.5 330,-1182.5 336,-1188.5 336,-1194.5 336,-1194.5 336,-1238.5 336,-1238.5 336,-1244.5 330,-1250.5 324,-1250.5\"/>\n<text text-anchor=\"start\" x=\"253\" y=\"-1235.3\" font-family=\"Helvetica,sans-Serif\" font-size=\"14.00\" fill=\"#000000\">gini = 0.0</text>\n<text text-anchor=\"start\" x=\"238.5\" y=\"-1220.3\" font-family=\"Helvetica,sans-Serif\" font-size=\"14.00\" fill=\"#000000\">samples = 14</text>\n<text text-anchor=\"start\" x=\"237\" y=\"-1205.3\" font-family=\"Helvetica,sans-Serif\" font-size=\"14.00\" fill=\"#000000\">value = [14, 0]</text>\n<text text-anchor=\"start\" x=\"256\" y=\"-1190.3\" font-family=\"Helvetica,sans-Serif\" font-size=\"14.00\" fill=\"#000000\">class = l</text>\n</g>\n<!-- 6&#45;&gt;14 -->\n<g id=\"edge14\" class=\"edge\">\n<title>6&#45;&gt;14</title>\n<path fill=\"none\" stroke=\"#000000\" d=\"M282.5,-1293.8796C282.5,-1283.2134 282.5,-1271.7021 282.5,-1260.9015\"/>\n<polygon fill=\"#000000\" stroke=\"#000000\" points=\"286.0001,-1260.8149 282.5,-1250.8149 279.0001,-1260.815 286.0001,-1260.8149\"/>\n</g>\n<!-- 8 -->\n<g id=\"node9\" class=\"node\">\n<title>8</title>\n<path fill=\"#e58139\" stroke=\"#000000\" d=\"M87,-1131.5C87,-1131.5 12,-1131.5 12,-1131.5 6,-1131.5 0,-1125.5 0,-1119.5 0,-1119.5 0,-1075.5 0,-1075.5 0,-1069.5 6,-1063.5 12,-1063.5 12,-1063.5 87,-1063.5 87,-1063.5 93,-1063.5 99,-1069.5 99,-1075.5 99,-1075.5 99,-1119.5 99,-1119.5 99,-1125.5 93,-1131.5 87,-1131.5\"/>\n<text text-anchor=\"start\" x=\"20\" y=\"-1116.3\" font-family=\"Helvetica,sans-Serif\" font-size=\"14.00\" fill=\"#000000\">gini = 0.0</text>\n<text text-anchor=\"start\" x=\"10\" y=\"-1101.3\" font-family=\"Helvetica,sans-Serif\" font-size=\"14.00\" fill=\"#000000\">samples = 4</text>\n<text text-anchor=\"start\" x=\"8\" y=\"-1086.3\" font-family=\"Helvetica,sans-Serif\" font-size=\"14.00\" fill=\"#000000\">value = [4, 0]</text>\n<text text-anchor=\"start\" x=\"23\" y=\"-1071.3\" font-family=\"Helvetica,sans-Serif\" font-size=\"14.00\" fill=\"#000000\">class = l</text>\n</g>\n<!-- 7&#45;&gt;8 -->\n<g id=\"edge8\" class=\"edge\">\n<title>7&#45;&gt;8</title>\n<path fill=\"none\" stroke=\"#000000\" d=\"M120.3771,-1174.8796C109.8014,-1163.3337 98.3188,-1150.7976 87.7367,-1139.2446\"/>\n<polygon fill=\"#000000\" stroke=\"#000000\" points=\"90.2667,-1136.825 80.9313,-1131.8149 85.1049,-1141.5531 90.2667,-1136.825\"/>\n</g>\n<!-- 9 -->\n<g id=\"node10\" class=\"node\">\n<title>9</title>\n<path fill=\"#efb388\" stroke=\"#000000\" d=\"M204,-1139C204,-1139 129,-1139 129,-1139 123,-1139 117,-1133 117,-1127 117,-1127 117,-1068 117,-1068 117,-1062 123,-1056 129,-1056 129,-1056 204,-1056 204,-1056 210,-1056 216,-1062 216,-1068 216,-1068 216,-1127 216,-1127 216,-1133 210,-1139 204,-1139\"/>\n<text text-anchor=\"start\" x=\"125.5\" y=\"-1123.8\" font-family=\"Helvetica,sans-Serif\" font-size=\"14.00\" fill=\"#000000\">age ≤ &#45;0.736</text>\n<text text-anchor=\"start\" x=\"128.5\" y=\"-1108.8\" font-family=\"Helvetica,sans-Serif\" font-size=\"14.00\" fill=\"#000000\">gini = 0.408</text>\n<text text-anchor=\"start\" x=\"127\" y=\"-1093.8\" font-family=\"Helvetica,sans-Serif\" font-size=\"14.00\" fill=\"#000000\">samples = 7</text>\n<text text-anchor=\"start\" x=\"125\" y=\"-1078.8\" font-family=\"Helvetica,sans-Serif\" font-size=\"14.00\" fill=\"#000000\">value = [5, 2]</text>\n<text text-anchor=\"start\" x=\"140\" y=\"-1063.8\" font-family=\"Helvetica,sans-Serif\" font-size=\"14.00\" fill=\"#000000\">class = l</text>\n</g>\n<!-- 7&#45;&gt;9 -->\n<g id=\"edge9\" class=\"edge\">\n<title>7&#45;&gt;9</title>\n<path fill=\"none\" stroke=\"#000000\" d=\"M161.298,-1174.8796C161.849,-1166.6838 162.4335,-1157.9891 163.0041,-1149.5013\"/>\n<polygon fill=\"#000000\" stroke=\"#000000\" points=\"166.5113,-1149.5103 163.69,-1139.2981 159.5271,-1149.0408 166.5113,-1149.5103\"/>\n</g>\n<!-- 10 -->\n<g id=\"node11\" class=\"node\">\n<title>10</title>\n<path fill=\"#ffffff\" stroke=\"#000000\" d=\"M103,-1012.5C103,-1012.5 28,-1012.5 28,-1012.5 22,-1012.5 16,-1006.5 16,-1000.5 16,-1000.5 16,-956.5 16,-956.5 16,-950.5 22,-944.5 28,-944.5 28,-944.5 103,-944.5 103,-944.5 109,-944.5 115,-950.5 115,-956.5 115,-956.5 115,-1000.5 115,-1000.5 115,-1006.5 109,-1012.5 103,-1012.5\"/>\n<text text-anchor=\"start\" x=\"36\" y=\"-997.3\" font-family=\"Helvetica,sans-Serif\" font-size=\"14.00\" fill=\"#000000\">gini = 0.5</text>\n<text text-anchor=\"start\" x=\"26\" y=\"-982.3\" font-family=\"Helvetica,sans-Serif\" font-size=\"14.00\" fill=\"#000000\">samples = 2</text>\n<text text-anchor=\"start\" x=\"24\" y=\"-967.3\" font-family=\"Helvetica,sans-Serif\" font-size=\"14.00\" fill=\"#000000\">value = [1, 1]</text>\n<text text-anchor=\"start\" x=\"39\" y=\"-952.3\" font-family=\"Helvetica,sans-Serif\" font-size=\"14.00\" fill=\"#000000\">class = l</text>\n</g>\n<!-- 9&#45;&gt;10 -->\n<g id=\"edge10\" class=\"edge\">\n<title>9&#45;&gt;10</title>\n<path fill=\"none\" stroke=\"#000000\" d=\"M131.1751,-1055.8796C121.469,-1044.4436 110.9384,-1032.0363 101.2107,-1020.575\"/>\n<polygon fill=\"#000000\" stroke=\"#000000\" points=\"103.7638,-1018.1743 94.6244,-1012.8149 98.4269,-1022.7039 103.7638,-1018.1743\"/>\n</g>\n<!-- 11 -->\n<g id=\"node12\" class=\"node\">\n<title>11</title>\n<path fill=\"#eca06a\" stroke=\"#000000\" d=\"M220,-1020C220,-1020 145,-1020 145,-1020 139,-1020 133,-1014 133,-1008 133,-1008 133,-949 133,-949 133,-943 139,-937 145,-937 145,-937 220,-937 220,-937 226,-937 232,-943 232,-949 232,-949 232,-1008 232,-1008 232,-1014 226,-1020 220,-1020\"/>\n<text text-anchor=\"start\" x=\"146\" y=\"-1004.8\" font-family=\"Helvetica,sans-Serif\" font-size=\"14.00\" fill=\"#000000\">age ≤ &#45;0.57</text>\n<text text-anchor=\"start\" x=\"149\" y=\"-989.8\" font-family=\"Helvetica,sans-Serif\" font-size=\"14.00\" fill=\"#000000\">gini = 0.32</text>\n<text text-anchor=\"start\" x=\"143\" y=\"-974.8\" font-family=\"Helvetica,sans-Serif\" font-size=\"14.00\" fill=\"#000000\">samples = 5</text>\n<text text-anchor=\"start\" x=\"141\" y=\"-959.8\" font-family=\"Helvetica,sans-Serif\" font-size=\"14.00\" fill=\"#000000\">value = [4, 1]</text>\n<text text-anchor=\"start\" x=\"156\" y=\"-944.8\" font-family=\"Helvetica,sans-Serif\" font-size=\"14.00\" fill=\"#000000\">class = l</text>\n</g>\n<!-- 9&#45;&gt;11 -->\n<g id=\"edge11\" class=\"edge\">\n<title>9&#45;&gt;11</title>\n<path fill=\"none\" stroke=\"#000000\" d=\"M172.096,-1055.8796C173.2101,-1047.5938 174.3927,-1038.798 175.5458,-1030.2216\"/>\n<polygon fill=\"#000000\" stroke=\"#000000\" points=\"179.0162,-1030.6753 176.8801,-1020.2981 172.0787,-1029.7425 179.0162,-1030.6753\"/>\n</g>\n<!-- 12 -->\n<g id=\"node13\" class=\"node\">\n<title>12</title>\n<path fill=\"#e58139\" stroke=\"#000000\" d=\"M161,-893.5C161,-893.5 86,-893.5 86,-893.5 80,-893.5 74,-887.5 74,-881.5 74,-881.5 74,-837.5 74,-837.5 74,-831.5 80,-825.5 86,-825.5 86,-825.5 161,-825.5 161,-825.5 167,-825.5 173,-831.5 173,-837.5 173,-837.5 173,-881.5 173,-881.5 173,-887.5 167,-893.5 161,-893.5\"/>\n<text text-anchor=\"start\" x=\"94\" y=\"-878.3\" font-family=\"Helvetica,sans-Serif\" font-size=\"14.00\" fill=\"#000000\">gini = 0.0</text>\n<text text-anchor=\"start\" x=\"84\" y=\"-863.3\" font-family=\"Helvetica,sans-Serif\" font-size=\"14.00\" fill=\"#000000\">samples = 1</text>\n<text text-anchor=\"start\" x=\"82\" y=\"-848.3\" font-family=\"Helvetica,sans-Serif\" font-size=\"14.00\" fill=\"#000000\">value = [1, 0]</text>\n<text text-anchor=\"start\" x=\"97\" y=\"-833.3\" font-family=\"Helvetica,sans-Serif\" font-size=\"14.00\" fill=\"#000000\">class = l</text>\n</g>\n<!-- 11&#45;&gt;12 -->\n<g id=\"edge12\" class=\"edge\">\n<title>11&#45;&gt;12</title>\n<path fill=\"none\" stroke=\"#000000\" d=\"M161.8647,-936.8796C156.4128,-925.8835 150.5157,-913.9893 145.0184,-902.9015\"/>\n<polygon fill=\"#000000\" stroke=\"#000000\" points=\"148.0911,-901.2195 140.5133,-893.8149 141.8196,-904.3289 148.0911,-901.2195\"/>\n</g>\n<!-- 13 -->\n<g id=\"node14\" class=\"node\">\n<title>13</title>\n<path fill=\"#eeab7b\" stroke=\"#000000\" d=\"M278,-893.5C278,-893.5 203,-893.5 203,-893.5 197,-893.5 191,-887.5 191,-881.5 191,-881.5 191,-837.5 191,-837.5 191,-831.5 197,-825.5 203,-825.5 203,-825.5 278,-825.5 278,-825.5 284,-825.5 290,-831.5 290,-837.5 290,-837.5 290,-881.5 290,-881.5 290,-887.5 284,-893.5 278,-893.5\"/>\n<text text-anchor=\"start\" x=\"202.5\" y=\"-878.3\" font-family=\"Helvetica,sans-Serif\" font-size=\"14.00\" fill=\"#000000\">gini = 0.375</text>\n<text text-anchor=\"start\" x=\"201\" y=\"-863.3\" font-family=\"Helvetica,sans-Serif\" font-size=\"14.00\" fill=\"#000000\">samples = 4</text>\n<text text-anchor=\"start\" x=\"199\" y=\"-848.3\" font-family=\"Helvetica,sans-Serif\" font-size=\"14.00\" fill=\"#000000\">value = [3, 1]</text>\n<text text-anchor=\"start\" x=\"214\" y=\"-833.3\" font-family=\"Helvetica,sans-Serif\" font-size=\"14.00\" fill=\"#000000\">class = l</text>\n</g>\n<!-- 11&#45;&gt;13 -->\n<g id=\"edge13\" class=\"edge\">\n<title>11&#45;&gt;13</title>\n<path fill=\"none\" stroke=\"#000000\" d=\"M202.7856,-936.8796C208.145,-925.8835 213.9422,-913.9893 219.3463,-902.9015\"/>\n<polygon fill=\"#000000\" stroke=\"#000000\" points=\"222.54,-904.3375 223.7751,-893.8149 216.2476,-901.2706 222.54,-904.3375\"/>\n</g>\n<!-- 16 -->\n<g id=\"node17\" class=\"node\">\n<title>16</title>\n<path fill=\"#ffffff\" stroke=\"#000000\" d=\"M507,-1377C507,-1377 422,-1377 422,-1377 416,-1377 410,-1371 410,-1365 410,-1365 410,-1306 410,-1306 410,-1300 416,-1294 422,-1294 422,-1294 507,-1294 507,-1294 513,-1294 519,-1300 519,-1306 519,-1306 519,-1365 519,-1365 519,-1371 513,-1377 507,-1377\"/>\n<text text-anchor=\"start\" x=\"418\" y=\"-1361.8\" font-family=\"Helvetica,sans-Serif\" font-size=\"14.00\" fill=\"#000000\">terms ≤ &#45;0.019</text>\n<text text-anchor=\"start\" x=\"435\" y=\"-1346.8\" font-family=\"Helvetica,sans-Serif\" font-size=\"14.00\" fill=\"#000000\">gini = 0.5</text>\n<text text-anchor=\"start\" x=\"425\" y=\"-1331.8\" font-family=\"Helvetica,sans-Serif\" font-size=\"14.00\" fill=\"#000000\">samples = 2</text>\n<text text-anchor=\"start\" x=\"423\" y=\"-1316.8\" font-family=\"Helvetica,sans-Serif\" font-size=\"14.00\" fill=\"#000000\">value = [1, 1]</text>\n<text text-anchor=\"start\" x=\"438\" y=\"-1301.8\" font-family=\"Helvetica,sans-Serif\" font-size=\"14.00\" fill=\"#000000\">class = l</text>\n</g>\n<!-- 15&#45;&gt;16 -->\n<g id=\"edge16\" class=\"edge\">\n<title>15&#45;&gt;16</title>\n<path fill=\"none\" stroke=\"#000000\" d=\"M504.1652,-1412.8796C499.7793,-1404.3236 495.1147,-1395.2238 490.583,-1386.3833\"/>\n<polygon fill=\"#000000\" stroke=\"#000000\" points=\"493.6022,-1384.6004 485.9259,-1377.2981 487.373,-1387.7936 493.6022,-1384.6004\"/>\n</g>\n<!-- 19 -->\n<g id=\"node20\" class=\"node\">\n<title>19</title>\n<path fill=\"#e58139\" stroke=\"#000000\" d=\"M624,-1369.5C624,-1369.5 549,-1369.5 549,-1369.5 543,-1369.5 537,-1363.5 537,-1357.5 537,-1357.5 537,-1313.5 537,-1313.5 537,-1307.5 543,-1301.5 549,-1301.5 549,-1301.5 624,-1301.5 624,-1301.5 630,-1301.5 636,-1307.5 636,-1313.5 636,-1313.5 636,-1357.5 636,-1357.5 636,-1363.5 630,-1369.5 624,-1369.5\"/>\n<text text-anchor=\"start\" x=\"557\" y=\"-1354.3\" font-family=\"Helvetica,sans-Serif\" font-size=\"14.00\" fill=\"#000000\">gini = 0.0</text>\n<text text-anchor=\"start\" x=\"547\" y=\"-1339.3\" font-family=\"Helvetica,sans-Serif\" font-size=\"14.00\" fill=\"#000000\">samples = 5</text>\n<text text-anchor=\"start\" x=\"545\" y=\"-1324.3\" font-family=\"Helvetica,sans-Serif\" font-size=\"14.00\" fill=\"#000000\">value = [5, 0]</text>\n<text text-anchor=\"start\" x=\"560\" y=\"-1309.3\" font-family=\"Helvetica,sans-Serif\" font-size=\"14.00\" fill=\"#000000\">class = l</text>\n</g>\n<!-- 15&#45;&gt;19 -->\n<g id=\"edge19\" class=\"edge\">\n<title>15&#45;&gt;19</title>\n<path fill=\"none\" stroke=\"#000000\" d=\"M546.8348,-1412.8796C552.4715,-1401.8835 558.5685,-1389.9893 564.2522,-1378.9015\"/>\n<polygon fill=\"#000000\" stroke=\"#000000\" points=\"567.4629,-1380.3105 568.91,-1369.8149 561.2337,-1377.1173 567.4629,-1380.3105\"/>\n</g>\n<!-- 17 -->\n<g id=\"node18\" class=\"node\">\n<title>17</title>\n<path fill=\"#399de5\" stroke=\"#000000\" d=\"M441,-1250.5C441,-1250.5 366,-1250.5 366,-1250.5 360,-1250.5 354,-1244.5 354,-1238.5 354,-1238.5 354,-1194.5 354,-1194.5 354,-1188.5 360,-1182.5 366,-1182.5 366,-1182.5 441,-1182.5 441,-1182.5 447,-1182.5 453,-1188.5 453,-1194.5 453,-1194.5 453,-1238.5 453,-1238.5 453,-1244.5 447,-1250.5 441,-1250.5\"/>\n<text text-anchor=\"start\" x=\"374\" y=\"-1235.3\" font-family=\"Helvetica,sans-Serif\" font-size=\"14.00\" fill=\"#000000\">gini = 0.0</text>\n<text text-anchor=\"start\" x=\"364\" y=\"-1220.3\" font-family=\"Helvetica,sans-Serif\" font-size=\"14.00\" fill=\"#000000\">samples = 1</text>\n<text text-anchor=\"start\" x=\"362\" y=\"-1205.3\" font-family=\"Helvetica,sans-Serif\" font-size=\"14.00\" fill=\"#000000\">value = [0, 1]</text>\n<text text-anchor=\"start\" x=\"374.5\" y=\"-1190.3\" font-family=\"Helvetica,sans-Serif\" font-size=\"14.00\" fill=\"#000000\">class = o</text>\n</g>\n<!-- 16&#45;&gt;17 -->\n<g id=\"edge17\" class=\"edge\">\n<title>16&#45;&gt;17</title>\n<path fill=\"none\" stroke=\"#000000\" d=\"M443.1652,-1293.8796C437.5285,-1282.8835 431.4315,-1270.9893 425.7478,-1259.9015\"/>\n<polygon fill=\"#000000\" stroke=\"#000000\" points=\"428.7663,-1258.1173 421.09,-1250.8149 422.5371,-1261.3105 428.7663,-1258.1173\"/>\n</g>\n<!-- 18 -->\n<g id=\"node19\" class=\"node\">\n<title>18</title>\n<path fill=\"#e58139\" stroke=\"#000000\" d=\"M558,-1250.5C558,-1250.5 483,-1250.5 483,-1250.5 477,-1250.5 471,-1244.5 471,-1238.5 471,-1238.5 471,-1194.5 471,-1194.5 471,-1188.5 477,-1182.5 483,-1182.5 483,-1182.5 558,-1182.5 558,-1182.5 564,-1182.5 570,-1188.5 570,-1194.5 570,-1194.5 570,-1238.5 570,-1238.5 570,-1244.5 564,-1250.5 558,-1250.5\"/>\n<text text-anchor=\"start\" x=\"491\" y=\"-1235.3\" font-family=\"Helvetica,sans-Serif\" font-size=\"14.00\" fill=\"#000000\">gini = 0.0</text>\n<text text-anchor=\"start\" x=\"481\" y=\"-1220.3\" font-family=\"Helvetica,sans-Serif\" font-size=\"14.00\" fill=\"#000000\">samples = 1</text>\n<text text-anchor=\"start\" x=\"479\" y=\"-1205.3\" font-family=\"Helvetica,sans-Serif\" font-size=\"14.00\" fill=\"#000000\">value = [1, 0]</text>\n<text text-anchor=\"start\" x=\"494\" y=\"-1190.3\" font-family=\"Helvetica,sans-Serif\" font-size=\"14.00\" fill=\"#000000\">class = l</text>\n</g>\n<!-- 16&#45;&gt;18 -->\n<g id=\"edge18\" class=\"edge\">\n<title>16&#45;&gt;18</title>\n<path fill=\"none\" stroke=\"#000000\" d=\"M484.0861,-1293.8796C489.2607,-1282.8835 494.858,-1270.9893 500.0758,-1259.9015\"/>\n<polygon fill=\"#000000\" stroke=\"#000000\" points=\"503.2606,-1261.3534 504.3518,-1250.8149 496.9269,-1258.3728 503.2606,-1261.3534\"/>\n</g>\n<!-- 21 -->\n<g id=\"node22\" class=\"node\">\n<title>21</title>\n<path fill=\"#e58139\" stroke=\"#000000\" d=\"M930,-1607.5C930,-1607.5 855,-1607.5 855,-1607.5 849,-1607.5 843,-1601.5 843,-1595.5 843,-1595.5 843,-1551.5 843,-1551.5 843,-1545.5 849,-1539.5 855,-1539.5 855,-1539.5 930,-1539.5 930,-1539.5 936,-1539.5 942,-1545.5 942,-1551.5 942,-1551.5 942,-1595.5 942,-1595.5 942,-1601.5 936,-1607.5 930,-1607.5\"/>\n<text text-anchor=\"start\" x=\"863\" y=\"-1592.3\" font-family=\"Helvetica,sans-Serif\" font-size=\"14.00\" fill=\"#000000\">gini = 0.0</text>\n<text text-anchor=\"start\" x=\"853\" y=\"-1577.3\" font-family=\"Helvetica,sans-Serif\" font-size=\"14.00\" fill=\"#000000\">samples = 7</text>\n<text text-anchor=\"start\" x=\"851\" y=\"-1562.3\" font-family=\"Helvetica,sans-Serif\" font-size=\"14.00\" fill=\"#000000\">value = [7, 0]</text>\n<text text-anchor=\"start\" x=\"866\" y=\"-1547.3\" font-family=\"Helvetica,sans-Serif\" font-size=\"14.00\" fill=\"#000000\">class = l</text>\n</g>\n<!-- 20&#45;&gt;21 -->\n<g id=\"edge21\" class=\"edge\">\n<title>20&#45;&gt;21</title>\n<path fill=\"none\" stroke=\"#000000\" d=\"M892.5,-1650.8796C892.5,-1640.2134 892.5,-1628.7021 892.5,-1617.9015\"/>\n<polygon fill=\"#000000\" stroke=\"#000000\" points=\"896.0001,-1617.8149 892.5,-1607.8149 889.0001,-1617.815 896.0001,-1617.8149\"/>\n</g>\n<!-- 22 -->\n<g id=\"node23\" class=\"node\">\n<title>22</title>\n<path fill=\"#f8dcc8\" stroke=\"#000000\" d=\"M1715.5,-1615C1715.5,-1615 1615.5,-1615 1615.5,-1615 1609.5,-1615 1603.5,-1609 1603.5,-1603 1603.5,-1603 1603.5,-1544 1603.5,-1544 1603.5,-1538 1609.5,-1532 1615.5,-1532 1615.5,-1532 1715.5,-1532 1715.5,-1532 1721.5,-1532 1727.5,-1538 1727.5,-1544 1727.5,-1544 1727.5,-1603 1727.5,-1603 1727.5,-1609 1721.5,-1615 1715.5,-1615\"/>\n<text text-anchor=\"start\" x=\"1615\" y=\"-1599.8\" font-family=\"Helvetica,sans-Serif\" font-size=\"14.00\" fill=\"#000000\">Gender ≤ 0.979</text>\n<text text-anchor=\"start\" x=\"1627.5\" y=\"-1584.8\" font-family=\"Helvetica,sans-Serif\" font-size=\"14.00\" fill=\"#000000\">gini = 0.487</text>\n<text text-anchor=\"start\" x=\"1617.5\" y=\"-1569.8\" font-family=\"Helvetica,sans-Serif\" font-size=\"14.00\" fill=\"#000000\">samples = 198</text>\n<text text-anchor=\"start\" x=\"1611.5\" y=\"-1554.8\" font-family=\"Helvetica,sans-Serif\" font-size=\"14.00\" fill=\"#000000\">value = [115, 83]</text>\n<text text-anchor=\"start\" x=\"1639\" y=\"-1539.8\" font-family=\"Helvetica,sans-Serif\" font-size=\"14.00\" fill=\"#000000\">class = l</text>\n</g>\n<!-- 20&#45;&gt;22 -->\n<g id=\"edge22\" class=\"edge\">\n<title>20&#45;&gt;22</title>\n<path fill=\"none\" stroke=\"#000000\" d=\"M954.7767,-1682.9128C1096.4933,-1661.0961 1442.4418,-1607.8388 1593.2417,-1584.6239\"/>\n<polygon fill=\"#000000\" stroke=\"#000000\" points=\"1593.9715,-1588.0528 1603.3225,-1583.072 1592.9064,-1581.1343 1593.9715,-1588.0528\"/>\n</g>\n<!-- 23 -->\n<g id=\"node24\" class=\"node\">\n<title>23</title>\n<path fill=\"#f9e4d4\" stroke=\"#000000\" d=\"M1711.5,-1496C1711.5,-1496 1619.5,-1496 1619.5,-1496 1613.5,-1496 1607.5,-1490 1607.5,-1484 1607.5,-1484 1607.5,-1425 1607.5,-1425 1607.5,-1419 1613.5,-1413 1619.5,-1413 1619.5,-1413 1711.5,-1413 1711.5,-1413 1717.5,-1413 1723.5,-1419 1723.5,-1425 1723.5,-1425 1723.5,-1484 1723.5,-1484 1723.5,-1490 1717.5,-1496 1711.5,-1496\"/>\n<text text-anchor=\"start\" x=\"1620\" y=\"-1480.8\" font-family=\"Helvetica,sans-Serif\" font-size=\"14.00\" fill=\"#000000\">college ≤ 0.14</text>\n<text text-anchor=\"start\" x=\"1627.5\" y=\"-1465.8\" font-family=\"Helvetica,sans-Serif\" font-size=\"14.00\" fill=\"#000000\">gini = 0.493</text>\n<text text-anchor=\"start\" x=\"1617.5\" y=\"-1450.8\" font-family=\"Helvetica,sans-Serif\" font-size=\"14.00\" fill=\"#000000\">samples = 173</text>\n<text text-anchor=\"start\" x=\"1615.5\" y=\"-1435.8\" font-family=\"Helvetica,sans-Serif\" font-size=\"14.00\" fill=\"#000000\">value = [97, 76]</text>\n<text text-anchor=\"start\" x=\"1639\" y=\"-1420.8\" font-family=\"Helvetica,sans-Serif\" font-size=\"14.00\" fill=\"#000000\">class = l</text>\n</g>\n<!-- 22&#45;&gt;23 -->\n<g id=\"edge23\" class=\"edge\">\n<title>22&#45;&gt;23</title>\n<path fill=\"none\" stroke=\"#000000\" d=\"M1665.5,-1531.8796C1665.5,-1523.6838 1665.5,-1514.9891 1665.5,-1506.5013\"/>\n<polygon fill=\"#000000\" stroke=\"#000000\" points=\"1669.0001,-1506.298 1665.5,-1496.2981 1662.0001,-1506.2981 1669.0001,-1506.298\"/>\n</g>\n<!-- 182 -->\n<g id=\"node183\" class=\"node\">\n<title>182</title>\n<path fill=\"#efb286\" stroke=\"#000000\" d=\"M3205,-1496C3205,-1496 3122,-1496 3122,-1496 3116,-1496 3110,-1490 3110,-1484 3110,-1484 3110,-1425 3110,-1425 3110,-1419 3116,-1413 3122,-1413 3122,-1413 3205,-1413 3205,-1413 3211,-1413 3217,-1419 3217,-1425 3217,-1425 3217,-1484 3217,-1484 3217,-1490 3211,-1496 3205,-1496\"/>\n<text text-anchor=\"start\" x=\"3122.5\" y=\"-1480.8\" font-family=\"Helvetica,sans-Serif\" font-size=\"14.00\" fill=\"#000000\">age ≤ &#45;0.073</text>\n<text text-anchor=\"start\" x=\"3125.5\" y=\"-1465.8\" font-family=\"Helvetica,sans-Serif\" font-size=\"14.00\" fill=\"#000000\">gini = 0.403</text>\n<text text-anchor=\"start\" x=\"3119.5\" y=\"-1450.8\" font-family=\"Helvetica,sans-Serif\" font-size=\"14.00\" fill=\"#000000\">samples = 25</text>\n<text text-anchor=\"start\" x=\"3118\" y=\"-1435.8\" font-family=\"Helvetica,sans-Serif\" font-size=\"14.00\" fill=\"#000000\">value = [18, 7]</text>\n<text text-anchor=\"start\" x=\"3137\" y=\"-1420.8\" font-family=\"Helvetica,sans-Serif\" font-size=\"14.00\" fill=\"#000000\">class = l</text>\n</g>\n<!-- 22&#45;&gt;182 -->\n<g id=\"edge182\" class=\"edge\">\n<title>22&#45;&gt;182</title>\n<path fill=\"none\" stroke=\"#000000\" d=\"M1727.96,-1568.5382C1971.152,-1549.2192 2853.4165,-1479.1328 3099.4215,-1459.5904\"/>\n<polygon fill=\"#000000\" stroke=\"#000000\" points=\"3099.933,-1463.0608 3109.6244,-1458.7798 3099.3786,-1456.0828 3099.933,-1463.0608\"/>\n</g>\n<!-- 24 -->\n<g id=\"node25\" class=\"node\">\n<title>24</title>\n<path fill=\"#fefaf7\" stroke=\"#000000\" d=\"M1127.5,-1377C1127.5,-1377 1035.5,-1377 1035.5,-1377 1029.5,-1377 1023.5,-1371 1023.5,-1365 1023.5,-1365 1023.5,-1306 1023.5,-1306 1023.5,-1300 1029.5,-1294 1035.5,-1294 1035.5,-1294 1127.5,-1294 1127.5,-1294 1133.5,-1294 1139.5,-1300 1139.5,-1306 1139.5,-1306 1139.5,-1365 1139.5,-1365 1139.5,-1371 1133.5,-1377 1127.5,-1377\"/>\n<text text-anchor=\"start\" x=\"1040.5\" y=\"-1361.8\" font-family=\"Helvetica,sans-Serif\" font-size=\"14.00\" fill=\"#000000\">age ≤ &#45;1.399</text>\n<text text-anchor=\"start\" x=\"1052\" y=\"-1346.8\" font-family=\"Helvetica,sans-Serif\" font-size=\"14.00\" fill=\"#000000\">gini = 0.5</text>\n<text text-anchor=\"start\" x=\"1037.5\" y=\"-1331.8\" font-family=\"Helvetica,sans-Serif\" font-size=\"14.00\" fill=\"#000000\">samples = 96</text>\n<text text-anchor=\"start\" x=\"1031.5\" y=\"-1316.8\" font-family=\"Helvetica,sans-Serif\" font-size=\"14.00\" fill=\"#000000\">value = [49, 47]</text>\n<text text-anchor=\"start\" x=\"1055\" y=\"-1301.8\" font-family=\"Helvetica,sans-Serif\" font-size=\"14.00\" fill=\"#000000\">class = l</text>\n</g>\n<!-- 23&#45;&gt;24 -->\n<g id=\"edge24\" class=\"edge\">\n<title>23&#45;&gt;24</title>\n<path fill=\"none\" stroke=\"#000000\" d=\"M1607.3688,-1442.6548C1498.7382,-1420.5194 1265.4835,-1372.9898 1149.6516,-1349.3871\"/>\n<polygon fill=\"#000000\" stroke=\"#000000\" points=\"1150.3263,-1345.9527 1139.8288,-1347.3855 1148.9286,-1352.8117 1150.3263,-1345.9527\"/>\n</g>\n<!-- 119 -->\n<g id=\"node120\" class=\"node\">\n<title>119</title>\n<path fill=\"#f5cdb1\" stroke=\"#000000\" d=\"M2508.5,-1377C2508.5,-1377 2416.5,-1377 2416.5,-1377 2410.5,-1377 2404.5,-1371 2404.5,-1365 2404.5,-1365 2404.5,-1306 2404.5,-1306 2404.5,-1300 2410.5,-1294 2416.5,-1294 2416.5,-1294 2508.5,-1294 2508.5,-1294 2514.5,-1294 2520.5,-1300 2520.5,-1306 2520.5,-1306 2520.5,-1365 2520.5,-1365 2520.5,-1371 2514.5,-1377 2508.5,-1377\"/>\n<text text-anchor=\"start\" x=\"2428\" y=\"-1361.8\" font-family=\"Helvetica,sans-Serif\" font-size=\"14.00\" fill=\"#000000\">age ≤ 0.59</text>\n<text text-anchor=\"start\" x=\"2429\" y=\"-1346.8\" font-family=\"Helvetica,sans-Serif\" font-size=\"14.00\" fill=\"#000000\">gini = 0.47</text>\n<text text-anchor=\"start\" x=\"2418.5\" y=\"-1331.8\" font-family=\"Helvetica,sans-Serif\" font-size=\"14.00\" fill=\"#000000\">samples = 77</text>\n<text text-anchor=\"start\" x=\"2412.5\" y=\"-1316.8\" font-family=\"Helvetica,sans-Serif\" font-size=\"14.00\" fill=\"#000000\">value = [48, 29]</text>\n<text text-anchor=\"start\" x=\"2436\" y=\"-1301.8\" font-family=\"Helvetica,sans-Serif\" font-size=\"14.00\" fill=\"#000000\">class = l</text>\n</g>\n<!-- 23&#45;&gt;119 -->\n<g id=\"edge119\" class=\"edge\">\n<title>23&#45;&gt;119</title>\n<path fill=\"none\" stroke=\"#000000\" d=\"M1723.7824,-1445.7979C1867.7815,-1424.2974 2239.8293,-1368.7469 2394.0063,-1345.7268\"/>\n<polygon fill=\"#000000\" stroke=\"#000000\" points=\"2394.9099,-1349.1308 2404.2834,-1344.1923 2393.8762,-1342.2075 2394.9099,-1349.1308\"/>\n</g>\n<!-- 25 -->\n<g id=\"node26\" class=\"node\">\n<title>25</title>\n<path fill=\"#eeab7b\" stroke=\"#000000\" d=\"M783,-1258C783,-1258 600,-1258 600,-1258 594,-1258 588,-1252 588,-1246 588,-1246 588,-1187 588,-1187 588,-1181 594,-1175 600,-1175 600,-1175 783,-1175 783,-1175 789,-1175 795,-1181 795,-1187 795,-1187 795,-1246 795,-1246 795,-1252 789,-1258 783,-1258\"/>\n<text text-anchor=\"start\" x=\"596\" y=\"-1242.8\" font-family=\"Helvetica,sans-Serif\" font-size=\"14.00\" fill=\"#000000\">High School or Below ≤ 0.128</text>\n<text text-anchor=\"start\" x=\"653.5\" y=\"-1227.8\" font-family=\"Helvetica,sans-Serif\" font-size=\"14.00\" fill=\"#000000\">gini = 0.375</text>\n<text text-anchor=\"start\" x=\"652\" y=\"-1212.8\" font-family=\"Helvetica,sans-Serif\" font-size=\"14.00\" fill=\"#000000\">samples = 8</text>\n<text text-anchor=\"start\" x=\"650\" y=\"-1197.8\" font-family=\"Helvetica,sans-Serif\" font-size=\"14.00\" fill=\"#000000\">value = [6, 2]</text>\n<text text-anchor=\"start\" x=\"665\" y=\"-1182.8\" font-family=\"Helvetica,sans-Serif\" font-size=\"14.00\" fill=\"#000000\">class = l</text>\n</g>\n<!-- 24&#45;&gt;25 -->\n<g id=\"edge25\" class=\"edge\">\n<title>24&#45;&gt;25</title>\n<path fill=\"none\" stroke=\"#000000\" d=\"M1023.1131,-1317.6845C965.6787,-1300.1596 876.469,-1272.9393 805.0388,-1251.1439\"/>\n<polygon fill=\"#000000\" stroke=\"#000000\" points=\"805.6689,-1247.6769 795.0828,-1248.106 803.626,-1254.3722 805.6689,-1247.6769\"/>\n</g>\n<!-- 34 -->\n<g id=\"node35\" class=\"node\">\n<title>34</title>\n<path fill=\"#f6fbfe\" stroke=\"#000000\" d=\"M1127.5,-1258C1127.5,-1258 1035.5,-1258 1035.5,-1258 1029.5,-1258 1023.5,-1252 1023.5,-1246 1023.5,-1246 1023.5,-1187 1023.5,-1187 1023.5,-1181 1029.5,-1175 1035.5,-1175 1035.5,-1175 1127.5,-1175 1127.5,-1175 1133.5,-1175 1139.5,-1181 1139.5,-1187 1139.5,-1187 1139.5,-1246 1139.5,-1246 1139.5,-1252 1133.5,-1258 1127.5,-1258\"/>\n<text text-anchor=\"start\" x=\"1040.5\" y=\"-1242.8\" font-family=\"Helvetica,sans-Serif\" font-size=\"14.00\" fill=\"#000000\">age ≤ &#45;0.736</text>\n<text text-anchor=\"start\" x=\"1052\" y=\"-1227.8\" font-family=\"Helvetica,sans-Serif\" font-size=\"14.00\" fill=\"#000000\">gini = 0.5</text>\n<text text-anchor=\"start\" x=\"1037.5\" y=\"-1212.8\" font-family=\"Helvetica,sans-Serif\" font-size=\"14.00\" fill=\"#000000\">samples = 88</text>\n<text text-anchor=\"start\" x=\"1031.5\" y=\"-1197.8\" font-family=\"Helvetica,sans-Serif\" font-size=\"14.00\" fill=\"#000000\">value = [43, 45]</text>\n<text text-anchor=\"start\" x=\"1052.5\" y=\"-1182.8\" font-family=\"Helvetica,sans-Serif\" font-size=\"14.00\" fill=\"#000000\">class = o</text>\n</g>\n<!-- 24&#45;&gt;34 -->\n<g id=\"edge34\" class=\"edge\">\n<title>24&#45;&gt;34</title>\n<path fill=\"none\" stroke=\"#000000\" d=\"M1081.5,-1293.8796C1081.5,-1285.6838 1081.5,-1276.9891 1081.5,-1268.5013\"/>\n<polygon fill=\"#000000\" stroke=\"#000000\" points=\"1085.0001,-1268.298 1081.5,-1258.2981 1078.0001,-1268.2981 1085.0001,-1268.298\"/>\n</g>\n<!-- 26 -->\n<g id=\"node27\" class=\"node\">\n<title>26</title>\n<path fill=\"#ffffff\" stroke=\"#000000\" d=\"M486,-1139C486,-1139 411,-1139 411,-1139 405,-1139 399,-1133 399,-1127 399,-1127 399,-1068 399,-1068 399,-1062 405,-1056 411,-1056 411,-1056 486,-1056 486,-1056 492,-1056 498,-1062 498,-1068 498,-1068 498,-1127 498,-1127 498,-1133 492,-1139 486,-1139\"/>\n<text text-anchor=\"start\" x=\"407.5\" y=\"-1123.8\" font-family=\"Helvetica,sans-Serif\" font-size=\"14.00\" fill=\"#000000\">age ≤ &#45;1.565</text>\n<text text-anchor=\"start\" x=\"419\" y=\"-1108.8\" font-family=\"Helvetica,sans-Serif\" font-size=\"14.00\" fill=\"#000000\">gini = 0.5</text>\n<text text-anchor=\"start\" x=\"409\" y=\"-1093.8\" font-family=\"Helvetica,sans-Serif\" font-size=\"14.00\" fill=\"#000000\">samples = 2</text>\n<text text-anchor=\"start\" x=\"407\" y=\"-1078.8\" font-family=\"Helvetica,sans-Serif\" font-size=\"14.00\" fill=\"#000000\">value = [1, 1]</text>\n<text text-anchor=\"start\" x=\"422\" y=\"-1063.8\" font-family=\"Helvetica,sans-Serif\" font-size=\"14.00\" fill=\"#000000\">class = l</text>\n</g>\n<!-- 25&#45;&gt;26 -->\n<g id=\"edge26\" class=\"edge\">\n<title>25&#45;&gt;26</title>\n<path fill=\"none\" stroke=\"#000000\" d=\"M606.5104,-1174.8796C573.6417,-1158.7834 536.8432,-1140.7627 507.033,-1126.1643\"/>\n<polygon fill=\"#000000\" stroke=\"#000000\" points=\"508.5383,-1123.0043 498.018,-1121.7495 505.4596,-1129.291 508.5383,-1123.0043\"/>\n</g>\n<!-- 29 -->\n<g id=\"node30\" class=\"node\">\n<title>29</title>\n<path fill=\"#ea9a61\" stroke=\"#000000\" d=\"M720,-1139C720,-1139 645,-1139 645,-1139 639,-1139 633,-1133 633,-1127 633,-1127 633,-1068 633,-1068 633,-1062 639,-1056 645,-1056 645,-1056 720,-1056 720,-1056 726,-1056 732,-1062 732,-1068 732,-1068 732,-1127 732,-1127 732,-1133 726,-1139 720,-1139\"/>\n<text text-anchor=\"start\" x=\"641.5\" y=\"-1123.8\" font-family=\"Helvetica,sans-Serif\" font-size=\"14.00\" fill=\"#000000\">age ≤ &#45;1.565</text>\n<text text-anchor=\"start\" x=\"644.5\" y=\"-1108.8\" font-family=\"Helvetica,sans-Serif\" font-size=\"14.00\" fill=\"#000000\">gini = 0.278</text>\n<text text-anchor=\"start\" x=\"643\" y=\"-1093.8\" font-family=\"Helvetica,sans-Serif\" font-size=\"14.00\" fill=\"#000000\">samples = 6</text>\n<text text-anchor=\"start\" x=\"641\" y=\"-1078.8\" font-family=\"Helvetica,sans-Serif\" font-size=\"14.00\" fill=\"#000000\">value = [5, 1]</text>\n<text text-anchor=\"start\" x=\"656\" y=\"-1063.8\" font-family=\"Helvetica,sans-Serif\" font-size=\"14.00\" fill=\"#000000\">class = l</text>\n</g>\n<!-- 25&#45;&gt;29 -->\n<g id=\"edge29\" class=\"edge\">\n<title>25&#45;&gt;29</title>\n<path fill=\"none\" stroke=\"#000000\" d=\"M688.3522,-1174.8796C687.7324,-1166.6838 687.0748,-1157.9891 686.4329,-1149.5013\"/>\n<polygon fill=\"#000000\" stroke=\"#000000\" points=\"689.9055,-1149.0056 685.6612,-1139.2981 682.9254,-1149.5336 689.9055,-1149.0056\"/>\n</g>\n<!-- 27 -->\n<g id=\"node28\" class=\"node\">\n<title>27</title>\n<path fill=\"#e58139\" stroke=\"#000000\" d=\"M369,-1012.5C369,-1012.5 294,-1012.5 294,-1012.5 288,-1012.5 282,-1006.5 282,-1000.5 282,-1000.5 282,-956.5 282,-956.5 282,-950.5 288,-944.5 294,-944.5 294,-944.5 369,-944.5 369,-944.5 375,-944.5 381,-950.5 381,-956.5 381,-956.5 381,-1000.5 381,-1000.5 381,-1006.5 375,-1012.5 369,-1012.5\"/>\n<text text-anchor=\"start\" x=\"302\" y=\"-997.3\" font-family=\"Helvetica,sans-Serif\" font-size=\"14.00\" fill=\"#000000\">gini = 0.0</text>\n<text text-anchor=\"start\" x=\"292\" y=\"-982.3\" font-family=\"Helvetica,sans-Serif\" font-size=\"14.00\" fill=\"#000000\">samples = 1</text>\n<text text-anchor=\"start\" x=\"290\" y=\"-967.3\" font-family=\"Helvetica,sans-Serif\" font-size=\"14.00\" fill=\"#000000\">value = [1, 0]</text>\n<text text-anchor=\"start\" x=\"305\" y=\"-952.3\" font-family=\"Helvetica,sans-Serif\" font-size=\"14.00\" fill=\"#000000\">class = l</text>\n</g>\n<!-- 26&#45;&gt;27 -->\n<g id=\"edge27\" class=\"edge\">\n<title>26&#45;&gt;27</title>\n<path fill=\"none\" stroke=\"#000000\" d=\"M407.5791,-1055.8796C396.2272,-1044.3337 383.9018,-1031.7976 372.543,-1020.2446\"/>\n<polygon fill=\"#000000\" stroke=\"#000000\" points=\"374.7449,-1017.4919 365.2382,-1012.8149 369.7534,-1022.3995 374.7449,-1017.4919\"/>\n</g>\n<!-- 28 -->\n<g id=\"node29\" class=\"node\">\n<title>28</title>\n<path fill=\"#399de5\" stroke=\"#000000\" d=\"M486,-1012.5C486,-1012.5 411,-1012.5 411,-1012.5 405,-1012.5 399,-1006.5 399,-1000.5 399,-1000.5 399,-956.5 399,-956.5 399,-950.5 405,-944.5 411,-944.5 411,-944.5 486,-944.5 486,-944.5 492,-944.5 498,-950.5 498,-956.5 498,-956.5 498,-1000.5 498,-1000.5 498,-1006.5 492,-1012.5 486,-1012.5\"/>\n<text text-anchor=\"start\" x=\"419\" y=\"-997.3\" font-family=\"Helvetica,sans-Serif\" font-size=\"14.00\" fill=\"#000000\">gini = 0.0</text>\n<text text-anchor=\"start\" x=\"409\" y=\"-982.3\" font-family=\"Helvetica,sans-Serif\" font-size=\"14.00\" fill=\"#000000\">samples = 1</text>\n<text text-anchor=\"start\" x=\"407\" y=\"-967.3\" font-family=\"Helvetica,sans-Serif\" font-size=\"14.00\" fill=\"#000000\">value = [0, 1]</text>\n<text text-anchor=\"start\" x=\"419.5\" y=\"-952.3\" font-family=\"Helvetica,sans-Serif\" font-size=\"14.00\" fill=\"#000000\">class = o</text>\n</g>\n<!-- 26&#45;&gt;28 -->\n<g id=\"edge28\" class=\"edge\">\n<title>26&#45;&gt;28</title>\n<path fill=\"none\" stroke=\"#000000\" d=\"M448.5,-1055.8796C448.5,-1045.2134 448.5,-1033.7021 448.5,-1022.9015\"/>\n<polygon fill=\"#000000\" stroke=\"#000000\" points=\"452.0001,-1022.8149 448.5,-1012.8149 445.0001,-1022.815 452.0001,-1022.8149\"/>\n</g>\n<!-- 30 -->\n<g id=\"node31\" class=\"node\">\n<title>30</title>\n<path fill=\"#f2c09c\" stroke=\"#000000\" d=\"M603,-1020C603,-1020 528,-1020 528,-1020 522,-1020 516,-1014 516,-1008 516,-1008 516,-949 516,-949 516,-943 522,-937 528,-937 528,-937 603,-937 603,-937 609,-937 615,-943 615,-949 615,-949 615,-1008 615,-1008 615,-1014 609,-1020 603,-1020\"/>\n<text text-anchor=\"start\" x=\"524.5\" y=\"-1004.8\" font-family=\"Helvetica,sans-Serif\" font-size=\"14.00\" fill=\"#000000\">age ≤ &#45;1.731</text>\n<text text-anchor=\"start\" x=\"527.5\" y=\"-989.8\" font-family=\"Helvetica,sans-Serif\" font-size=\"14.00\" fill=\"#000000\">gini = 0.444</text>\n<text text-anchor=\"start\" x=\"526\" y=\"-974.8\" font-family=\"Helvetica,sans-Serif\" font-size=\"14.00\" fill=\"#000000\">samples = 3</text>\n<text text-anchor=\"start\" x=\"524\" y=\"-959.8\" font-family=\"Helvetica,sans-Serif\" font-size=\"14.00\" fill=\"#000000\">value = [2, 1]</text>\n<text text-anchor=\"start\" x=\"539\" y=\"-944.8\" font-family=\"Helvetica,sans-Serif\" font-size=\"14.00\" fill=\"#000000\">class = l</text>\n</g>\n<!-- 29&#45;&gt;30 -->\n<g id=\"edge30\" class=\"edge\">\n<title>29&#45;&gt;30</title>\n<path fill=\"none\" stroke=\"#000000\" d=\"M641.5791,-1055.8796C632.547,-1046.6931 622.8987,-1036.8798 613.6112,-1027.4336\"/>\n<polygon fill=\"#000000\" stroke=\"#000000\" points=\"616.1023,-1024.975 606.5956,-1020.2981 611.1107,-1029.8827 616.1023,-1024.975\"/>\n</g>\n<!-- 33 -->\n<g id=\"node34\" class=\"node\">\n<title>33</title>\n<path fill=\"#e58139\" stroke=\"#000000\" d=\"M720,-1012.5C720,-1012.5 645,-1012.5 645,-1012.5 639,-1012.5 633,-1006.5 633,-1000.5 633,-1000.5 633,-956.5 633,-956.5 633,-950.5 639,-944.5 645,-944.5 645,-944.5 720,-944.5 720,-944.5 726,-944.5 732,-950.5 732,-956.5 732,-956.5 732,-1000.5 732,-1000.5 732,-1006.5 726,-1012.5 720,-1012.5\"/>\n<text text-anchor=\"start\" x=\"653\" y=\"-997.3\" font-family=\"Helvetica,sans-Serif\" font-size=\"14.00\" fill=\"#000000\">gini = 0.0</text>\n<text text-anchor=\"start\" x=\"643\" y=\"-982.3\" font-family=\"Helvetica,sans-Serif\" font-size=\"14.00\" fill=\"#000000\">samples = 3</text>\n<text text-anchor=\"start\" x=\"641\" y=\"-967.3\" font-family=\"Helvetica,sans-Serif\" font-size=\"14.00\" fill=\"#000000\">value = [3, 0]</text>\n<text text-anchor=\"start\" x=\"656\" y=\"-952.3\" font-family=\"Helvetica,sans-Serif\" font-size=\"14.00\" fill=\"#000000\">class = l</text>\n</g>\n<!-- 29&#45;&gt;33 -->\n<g id=\"edge33\" class=\"edge\">\n<title>29&#45;&gt;33</title>\n<path fill=\"none\" stroke=\"#000000\" d=\"M682.5,-1055.8796C682.5,-1045.2134 682.5,-1033.7021 682.5,-1022.9015\"/>\n<polygon fill=\"#000000\" stroke=\"#000000\" points=\"686.0001,-1022.8149 682.5,-1012.8149 679.0001,-1022.815 686.0001,-1022.8149\"/>\n</g>\n<!-- 31 -->\n<g id=\"node32\" class=\"node\">\n<title>31</title>\n<path fill=\"#e58139\" stroke=\"#000000\" d=\"M486,-893.5C486,-893.5 411,-893.5 411,-893.5 405,-893.5 399,-887.5 399,-881.5 399,-881.5 399,-837.5 399,-837.5 399,-831.5 405,-825.5 411,-825.5 411,-825.5 486,-825.5 486,-825.5 492,-825.5 498,-831.5 498,-837.5 498,-837.5 498,-881.5 498,-881.5 498,-887.5 492,-893.5 486,-893.5\"/>\n<text text-anchor=\"start\" x=\"419\" y=\"-878.3\" font-family=\"Helvetica,sans-Serif\" font-size=\"14.00\" fill=\"#000000\">gini = 0.0</text>\n<text text-anchor=\"start\" x=\"409\" y=\"-863.3\" font-family=\"Helvetica,sans-Serif\" font-size=\"14.00\" fill=\"#000000\">samples = 1</text>\n<text text-anchor=\"start\" x=\"407\" y=\"-848.3\" font-family=\"Helvetica,sans-Serif\" font-size=\"14.00\" fill=\"#000000\">value = [1, 0]</text>\n<text text-anchor=\"start\" x=\"422\" y=\"-833.3\" font-family=\"Helvetica,sans-Serif\" font-size=\"14.00\" fill=\"#000000\">class = l</text>\n</g>\n<!-- 30&#45;&gt;31 -->\n<g id=\"edge31\" class=\"edge\">\n<title>30&#45;&gt;31</title>\n<path fill=\"none\" stroke=\"#000000\" d=\"M524.5791,-936.8796C513.2272,-925.3337 500.9018,-912.7976 489.543,-901.2446\"/>\n<polygon fill=\"#000000\" stroke=\"#000000\" points=\"491.7449,-898.4919 482.2382,-893.8149 486.7534,-903.3995 491.7449,-898.4919\"/>\n</g>\n<!-- 32 -->\n<g id=\"node33\" class=\"node\">\n<title>32</title>\n<path fill=\"#ffffff\" stroke=\"#000000\" d=\"M603,-893.5C603,-893.5 528,-893.5 528,-893.5 522,-893.5 516,-887.5 516,-881.5 516,-881.5 516,-837.5 516,-837.5 516,-831.5 522,-825.5 528,-825.5 528,-825.5 603,-825.5 603,-825.5 609,-825.5 615,-831.5 615,-837.5 615,-837.5 615,-881.5 615,-881.5 615,-887.5 609,-893.5 603,-893.5\"/>\n<text text-anchor=\"start\" x=\"536\" y=\"-878.3\" font-family=\"Helvetica,sans-Serif\" font-size=\"14.00\" fill=\"#000000\">gini = 0.5</text>\n<text text-anchor=\"start\" x=\"526\" y=\"-863.3\" font-family=\"Helvetica,sans-Serif\" font-size=\"14.00\" fill=\"#000000\">samples = 2</text>\n<text text-anchor=\"start\" x=\"524\" y=\"-848.3\" font-family=\"Helvetica,sans-Serif\" font-size=\"14.00\" fill=\"#000000\">value = [1, 1]</text>\n<text text-anchor=\"start\" x=\"539\" y=\"-833.3\" font-family=\"Helvetica,sans-Serif\" font-size=\"14.00\" fill=\"#000000\">class = l</text>\n</g>\n<!-- 30&#45;&gt;32 -->\n<g id=\"edge32\" class=\"edge\">\n<title>30&#45;&gt;32</title>\n<path fill=\"none\" stroke=\"#000000\" d=\"M565.5,-936.8796C565.5,-926.2134 565.5,-914.7021 565.5,-903.9015\"/>\n<polygon fill=\"#000000\" stroke=\"#000000\" points=\"569.0001,-903.8149 565.5,-893.8149 562.0001,-903.815 569.0001,-903.8149\"/>\n</g>\n<!-- 35 -->\n<g id=\"node36\" class=\"node\">\n<title>35</title>\n<path fill=\"#9ccef2\" stroke=\"#000000\" d=\"M973.5,-1139C973.5,-1139 869.5,-1139 869.5,-1139 863.5,-1139 857.5,-1133 857.5,-1127 857.5,-1127 857.5,-1068 857.5,-1068 857.5,-1062 863.5,-1056 869.5,-1056 869.5,-1056 973.5,-1056 973.5,-1056 979.5,-1056 985.5,-1062 985.5,-1068 985.5,-1068 985.5,-1127 985.5,-1127 985.5,-1133 979.5,-1139 973.5,-1139\"/>\n<text text-anchor=\"start\" x=\"865.5\" y=\"-1123.8\" font-family=\"Helvetica,sans-Serif\" font-size=\"14.00\" fill=\"#000000\">Principal ≤ &#45;0.399</text>\n<text text-anchor=\"start\" x=\"883.5\" y=\"-1108.8\" font-family=\"Helvetica,sans-Serif\" font-size=\"14.00\" fill=\"#000000\">gini = 0.444</text>\n<text text-anchor=\"start\" x=\"877.5\" y=\"-1093.8\" font-family=\"Helvetica,sans-Serif\" font-size=\"14.00\" fill=\"#000000\">samples = 18</text>\n<text text-anchor=\"start\" x=\"876\" y=\"-1078.8\" font-family=\"Helvetica,sans-Serif\" font-size=\"14.00\" fill=\"#000000\">value = [6, 12]</text>\n<text text-anchor=\"start\" x=\"892.5\" y=\"-1063.8\" font-family=\"Helvetica,sans-Serif\" font-size=\"14.00\" fill=\"#000000\">class = o</text>\n</g>\n<!-- 34&#45;&gt;35 -->\n<g id=\"edge35\" class=\"edge\">\n<title>34&#45;&gt;35</title>\n<path fill=\"none\" stroke=\"#000000\" d=\"M1025.5398,-1174.8796C1012.6292,-1165.2774 998.7979,-1154.9903 985.5718,-1145.1534\"/>\n<polygon fill=\"#000000\" stroke=\"#000000\" points=\"987.5414,-1142.2564 977.4286,-1139.0969 983.3639,-1147.8732 987.5414,-1142.2564\"/>\n</g>\n<!-- 48 -->\n<g id=\"node49\" class=\"node\">\n<title>48</title>\n<path fill=\"#fcf1ea\" stroke=\"#000000\" d=\"M1301.5,-1139C1301.5,-1139 1209.5,-1139 1209.5,-1139 1203.5,-1139 1197.5,-1133 1197.5,-1127 1197.5,-1127 1197.5,-1068 1197.5,-1068 1197.5,-1062 1203.5,-1056 1209.5,-1056 1209.5,-1056 1301.5,-1056 1301.5,-1056 1307.5,-1056 1313.5,-1062 1313.5,-1068 1313.5,-1068 1313.5,-1127 1313.5,-1127 1313.5,-1133 1307.5,-1139 1301.5,-1139\"/>\n<text text-anchor=\"start\" x=\"1221\" y=\"-1123.8\" font-family=\"Helvetica,sans-Serif\" font-size=\"14.00\" fill=\"#000000\">age ≤ 0.59</text>\n<text text-anchor=\"start\" x=\"1217.5\" y=\"-1108.8\" font-family=\"Helvetica,sans-Serif\" font-size=\"14.00\" fill=\"#000000\">gini = 0.498</text>\n<text text-anchor=\"start\" x=\"1211.5\" y=\"-1093.8\" font-family=\"Helvetica,sans-Serif\" font-size=\"14.00\" fill=\"#000000\">samples = 70</text>\n<text text-anchor=\"start\" x=\"1205.5\" y=\"-1078.8\" font-family=\"Helvetica,sans-Serif\" font-size=\"14.00\" fill=\"#000000\">value = [37, 33]</text>\n<text text-anchor=\"start\" x=\"1229\" y=\"-1063.8\" font-family=\"Helvetica,sans-Serif\" font-size=\"14.00\" fill=\"#000000\">class = l</text>\n</g>\n<!-- 34&#45;&gt;48 -->\n<g id=\"edge48\" class=\"edge\">\n<title>34&#45;&gt;48</title>\n<path fill=\"none\" stroke=\"#000000\" d=\"M1139.9235,-1176.5437C1155.6452,-1165.7915 1172.7675,-1154.0814 1188.8983,-1143.0494\"/>\n<polygon fill=\"#000000\" stroke=\"#000000\" points=\"1190.9522,-1145.885 1197.2307,-1137.3509 1187.0006,-1140.1071 1190.9522,-1145.885\"/>\n</g>\n<!-- 36 -->\n<g id=\"node37\" class=\"node\">\n<title>36</title>\n<path fill=\"#399de5\" stroke=\"#000000\" d=\"M837,-1012.5C837,-1012.5 762,-1012.5 762,-1012.5 756,-1012.5 750,-1006.5 750,-1000.5 750,-1000.5 750,-956.5 750,-956.5 750,-950.5 756,-944.5 762,-944.5 762,-944.5 837,-944.5 837,-944.5 843,-944.5 849,-950.5 849,-956.5 849,-956.5 849,-1000.5 849,-1000.5 849,-1006.5 843,-1012.5 837,-1012.5\"/>\n<text text-anchor=\"start\" x=\"770\" y=\"-997.3\" font-family=\"Helvetica,sans-Serif\" font-size=\"14.00\" fill=\"#000000\">gini = 0.0</text>\n<text text-anchor=\"start\" x=\"760\" y=\"-982.3\" font-family=\"Helvetica,sans-Serif\" font-size=\"14.00\" fill=\"#000000\">samples = 2</text>\n<text text-anchor=\"start\" x=\"758\" y=\"-967.3\" font-family=\"Helvetica,sans-Serif\" font-size=\"14.00\" fill=\"#000000\">value = [0, 2]</text>\n<text text-anchor=\"start\" x=\"770.5\" y=\"-952.3\" font-family=\"Helvetica,sans-Serif\" font-size=\"14.00\" fill=\"#000000\">class = o</text>\n</g>\n<!-- 35&#45;&gt;36 -->\n<g id=\"edge36\" class=\"edge\">\n<title>35&#45;&gt;36</title>\n<path fill=\"none\" stroke=\"#000000\" d=\"M878.8303,-1055.8796C866.8806,-1044.2237 853.8963,-1031.5587 841.9589,-1019.9148\"/>\n<polygon fill=\"#000000\" stroke=\"#000000\" points=\"844.2825,-1017.292 834.68,-1012.8149 839.3947,-1022.303 844.2825,-1017.292\"/>\n</g>\n<!-- 37 -->\n<g id=\"node38\" class=\"node\">\n<title>37</title>\n<path fill=\"#b0d8f5\" stroke=\"#000000\" d=\"M964,-1020C964,-1020 879,-1020 879,-1020 873,-1020 867,-1014 867,-1008 867,-1008 867,-949 867,-949 867,-943 873,-937 879,-937 879,-937 964,-937 964,-937 970,-937 976,-943 976,-949 976,-949 976,-1008 976,-1008 976,-1014 970,-1020 964,-1020\"/>\n<text text-anchor=\"start\" x=\"875\" y=\"-1004.8\" font-family=\"Helvetica,sans-Serif\" font-size=\"14.00\" fill=\"#000000\">terms ≤ &#45;0.019</text>\n<text text-anchor=\"start\" x=\"883.5\" y=\"-989.8\" font-family=\"Helvetica,sans-Serif\" font-size=\"14.00\" fill=\"#000000\">gini = 0.469</text>\n<text text-anchor=\"start\" x=\"877.5\" y=\"-974.8\" font-family=\"Helvetica,sans-Serif\" font-size=\"14.00\" fill=\"#000000\">samples = 16</text>\n<text text-anchor=\"start\" x=\"876\" y=\"-959.8\" font-family=\"Helvetica,sans-Serif\" font-size=\"14.00\" fill=\"#000000\">value = [6, 10]</text>\n<text text-anchor=\"start\" x=\"892.5\" y=\"-944.8\" font-family=\"Helvetica,sans-Serif\" font-size=\"14.00\" fill=\"#000000\">class = o</text>\n</g>\n<!-- 35&#45;&gt;37 -->\n<g id=\"edge37\" class=\"edge\">\n<title>35&#45;&gt;37</title>\n<path fill=\"none\" stroke=\"#000000\" d=\"M921.5,-1055.8796C921.5,-1047.6838 921.5,-1038.9891 921.5,-1030.5013\"/>\n<polygon fill=\"#000000\" stroke=\"#000000\" points=\"925.0001,-1030.298 921.5,-1020.2981 918.0001,-1030.2981 925.0001,-1030.298\"/>\n</g>\n<!-- 38 -->\n<g id=\"node39\" class=\"node\">\n<title>38</title>\n<path fill=\"#f2c09c\" stroke=\"#000000\" d=\"M747.5,-901C747.5,-901 645.5,-901 645.5,-901 639.5,-901 633.5,-895 633.5,-889 633.5,-889 633.5,-830 633.5,-830 633.5,-824 639.5,-818 645.5,-818 645.5,-818 747.5,-818 747.5,-818 753.5,-818 759.5,-824 759.5,-830 759.5,-830 759.5,-889 759.5,-889 759.5,-895 753.5,-901 747.5,-901\"/>\n<text text-anchor=\"start\" x=\"641.5\" y=\"-885.8\" font-family=\"Helvetica,sans-Serif\" font-size=\"14.00\" fill=\"#000000\">Bechalor ≤ 1.119</text>\n<text text-anchor=\"start\" x=\"658.5\" y=\"-870.8\" font-family=\"Helvetica,sans-Serif\" font-size=\"14.00\" fill=\"#000000\">gini = 0.444</text>\n<text text-anchor=\"start\" x=\"657\" y=\"-855.8\" font-family=\"Helvetica,sans-Serif\" font-size=\"14.00\" fill=\"#000000\">samples = 3</text>\n<text text-anchor=\"start\" x=\"655\" y=\"-840.8\" font-family=\"Helvetica,sans-Serif\" font-size=\"14.00\" fill=\"#000000\">value = [2, 1]</text>\n<text text-anchor=\"start\" x=\"670\" y=\"-825.8\" font-family=\"Helvetica,sans-Serif\" font-size=\"14.00\" fill=\"#000000\">class = l</text>\n</g>\n<!-- 37&#45;&gt;38 -->\n<g id=\"edge38\" class=\"edge\">\n<title>37&#45;&gt;38</title>\n<path fill=\"none\" stroke=\"#000000\" d=\"M866.9683,-942.4923C863.7886,-940.5953 860.6171,-938.7516 857.5,-937 829.1937,-921.0939 797.1202,-905.2392 769.092,-892.0528\"/>\n<polygon fill=\"#000000\" stroke=\"#000000\" points=\"770.2944,-888.7513 759.7531,-887.6869 767.3298,-895.0926 770.2944,-888.7513\"/>\n</g>\n<!-- 41 -->\n<g id=\"node42\" class=\"node\">\n<title>41</title>\n<path fill=\"#91c9f1\" stroke=\"#000000\" d=\"M993,-901C993,-901 810,-901 810,-901 804,-901 798,-895 798,-889 798,-889 798,-830 798,-830 798,-824 804,-818 810,-818 810,-818 993,-818 993,-818 999,-818 1005,-824 1005,-830 1005,-830 1005,-889 1005,-889 1005,-895 999,-901 993,-901\"/>\n<text text-anchor=\"start\" x=\"806\" y=\"-885.8\" font-family=\"Helvetica,sans-Serif\" font-size=\"14.00\" fill=\"#000000\">High School or Below ≤ 0.128</text>\n<text text-anchor=\"start\" x=\"863.5\" y=\"-870.8\" font-family=\"Helvetica,sans-Serif\" font-size=\"14.00\" fill=\"#000000\">gini = 0.426</text>\n<text text-anchor=\"start\" x=\"857.5\" y=\"-855.8\" font-family=\"Helvetica,sans-Serif\" font-size=\"14.00\" fill=\"#000000\">samples = 13</text>\n<text text-anchor=\"start\" x=\"860\" y=\"-840.8\" font-family=\"Helvetica,sans-Serif\" font-size=\"14.00\" fill=\"#000000\">value = [4, 9]</text>\n<text text-anchor=\"start\" x=\"872.5\" y=\"-825.8\" font-family=\"Helvetica,sans-Serif\" font-size=\"14.00\" fill=\"#000000\">class = o</text>\n</g>\n<!-- 37&#45;&gt;41 -->\n<g id=\"edge41\" class=\"edge\">\n<title>37&#45;&gt;41</title>\n<path fill=\"none\" stroke=\"#000000\" d=\"M914.505,-936.8796C913.1124,-928.5938 911.6341,-919.798 910.1927,-911.2216\"/>\n<polygon fill=\"#000000\" stroke=\"#000000\" points=\"913.634,-910.5796 908.5249,-901.2981 906.7308,-911.7399 913.634,-910.5796\"/>\n</g>\n<!-- 39 -->\n<g id=\"node40\" class=\"node\">\n<title>39</title>\n<path fill=\"#e58139\" stroke=\"#000000\" d=\"M585,-774.5C585,-774.5 510,-774.5 510,-774.5 504,-774.5 498,-768.5 498,-762.5 498,-762.5 498,-718.5 498,-718.5 498,-712.5 504,-706.5 510,-706.5 510,-706.5 585,-706.5 585,-706.5 591,-706.5 597,-712.5 597,-718.5 597,-718.5 597,-762.5 597,-762.5 597,-768.5 591,-774.5 585,-774.5\"/>\n<text text-anchor=\"start\" x=\"518\" y=\"-759.3\" font-family=\"Helvetica,sans-Serif\" font-size=\"14.00\" fill=\"#000000\">gini = 0.0</text>\n<text text-anchor=\"start\" x=\"508\" y=\"-744.3\" font-family=\"Helvetica,sans-Serif\" font-size=\"14.00\" fill=\"#000000\">samples = 2</text>\n<text text-anchor=\"start\" x=\"506\" y=\"-729.3\" font-family=\"Helvetica,sans-Serif\" font-size=\"14.00\" fill=\"#000000\">value = [2, 0]</text>\n<text text-anchor=\"start\" x=\"521\" y=\"-714.3\" font-family=\"Helvetica,sans-Serif\" font-size=\"14.00\" fill=\"#000000\">class = l</text>\n</g>\n<!-- 38&#45;&gt;39 -->\n<g id=\"edge39\" class=\"edge\">\n<title>38&#45;&gt;39</title>\n<path fill=\"none\" stroke=\"#000000\" d=\"M644.387,-817.8796C629.5174,-806.0038 613.336,-793.0804 598.5317,-781.2568\"/>\n<polygon fill=\"#000000\" stroke=\"#000000\" points=\"600.4638,-778.3207 590.4658,-774.8149 596.0954,-783.7904 600.4638,-778.3207\"/>\n</g>\n<!-- 40 -->\n<g id=\"node41\" class=\"node\">\n<title>40</title>\n<path fill=\"#399de5\" stroke=\"#000000\" d=\"M702,-774.5C702,-774.5 627,-774.5 627,-774.5 621,-774.5 615,-768.5 615,-762.5 615,-762.5 615,-718.5 615,-718.5 615,-712.5 621,-706.5 627,-706.5 627,-706.5 702,-706.5 702,-706.5 708,-706.5 714,-712.5 714,-718.5 714,-718.5 714,-762.5 714,-762.5 714,-768.5 708,-774.5 702,-774.5\"/>\n<text text-anchor=\"start\" x=\"635\" y=\"-759.3\" font-family=\"Helvetica,sans-Serif\" font-size=\"14.00\" fill=\"#000000\">gini = 0.0</text>\n<text text-anchor=\"start\" x=\"625\" y=\"-744.3\" font-family=\"Helvetica,sans-Serif\" font-size=\"14.00\" fill=\"#000000\">samples = 1</text>\n<text text-anchor=\"start\" x=\"623\" y=\"-729.3\" font-family=\"Helvetica,sans-Serif\" font-size=\"14.00\" fill=\"#000000\">value = [0, 1]</text>\n<text text-anchor=\"start\" x=\"635.5\" y=\"-714.3\" font-family=\"Helvetica,sans-Serif\" font-size=\"14.00\" fill=\"#000000\">class = o</text>\n</g>\n<!-- 38&#45;&gt;40 -->\n<g id=\"edge40\" class=\"edge\">\n<title>38&#45;&gt;40</title>\n<path fill=\"none\" stroke=\"#000000\" d=\"M685.308,-817.8796C682.4102,-807.1034 679.2804,-795.4647 676.3501,-784.5677\"/>\n<polygon fill=\"#000000\" stroke=\"#000000\" points=\"679.7044,-783.563 673.7275,-774.8149 672.9445,-785.3808 679.7044,-783.563\"/>\n</g>\n<!-- 42 -->\n<g id=\"node43\" class=\"node\">\n<title>42</title>\n<path fill=\"#ffffff\" stroke=\"#000000\" d=\"M819,-774.5C819,-774.5 744,-774.5 744,-774.5 738,-774.5 732,-768.5 732,-762.5 732,-762.5 732,-718.5 732,-718.5 732,-712.5 738,-706.5 744,-706.5 744,-706.5 819,-706.5 819,-706.5 825,-706.5 831,-712.5 831,-718.5 831,-718.5 831,-762.5 831,-762.5 831,-768.5 825,-774.5 819,-774.5\"/>\n<text text-anchor=\"start\" x=\"752\" y=\"-759.3\" font-family=\"Helvetica,sans-Serif\" font-size=\"14.00\" fill=\"#000000\">gini = 0.5</text>\n<text text-anchor=\"start\" x=\"742\" y=\"-744.3\" font-family=\"Helvetica,sans-Serif\" font-size=\"14.00\" fill=\"#000000\">samples = 2</text>\n<text text-anchor=\"start\" x=\"740\" y=\"-729.3\" font-family=\"Helvetica,sans-Serif\" font-size=\"14.00\" fill=\"#000000\">value = [1, 1]</text>\n<text text-anchor=\"start\" x=\"755\" y=\"-714.3\" font-family=\"Helvetica,sans-Serif\" font-size=\"14.00\" fill=\"#000000\">class = l</text>\n</g>\n<!-- 41&#45;&gt;42 -->\n<g id=\"edge42\" class=\"edge\">\n<title>41&#45;&gt;42</title>\n<path fill=\"none\" stroke=\"#000000\" d=\"M859.5298,-817.8796C847.776,-806.2237 835.0046,-793.5587 823.2628,-781.9148\"/>\n<polygon fill=\"#000000\" stroke=\"#000000\" points=\"825.6684,-779.3712 816.1033,-774.8149 820.7394,-784.3416 825.6684,-779.3712\"/>\n</g>\n<!-- 43 -->\n<g id=\"node44\" class=\"node\">\n<title>43</title>\n<path fill=\"#83c2ef\" stroke=\"#000000\" d=\"M941.5,-782C941.5,-782 861.5,-782 861.5,-782 855.5,-782 849.5,-776 849.5,-770 849.5,-770 849.5,-711 849.5,-711 849.5,-705 855.5,-699 861.5,-699 861.5,-699 941.5,-699 941.5,-699 947.5,-699 953.5,-705 953.5,-711 953.5,-711 953.5,-770 953.5,-770 953.5,-776 947.5,-782 941.5,-782\"/>\n<text text-anchor=\"start\" x=\"860.5\" y=\"-766.8\" font-family=\"Helvetica,sans-Serif\" font-size=\"14.00\" fill=\"#000000\">age ≤ &#45;0.902</text>\n<text text-anchor=\"start\" x=\"863.5\" y=\"-751.8\" font-family=\"Helvetica,sans-Serif\" font-size=\"14.00\" fill=\"#000000\">gini = 0.397</text>\n<text text-anchor=\"start\" x=\"857.5\" y=\"-736.8\" font-family=\"Helvetica,sans-Serif\" font-size=\"14.00\" fill=\"#000000\">samples = 11</text>\n<text text-anchor=\"start\" x=\"860\" y=\"-721.8\" font-family=\"Helvetica,sans-Serif\" font-size=\"14.00\" fill=\"#000000\">value = [3, 8]</text>\n<text text-anchor=\"start\" x=\"872.5\" y=\"-706.8\" font-family=\"Helvetica,sans-Serif\" font-size=\"14.00\" fill=\"#000000\">class = o</text>\n</g>\n<!-- 41&#45;&gt;43 -->\n<g id=\"edge43\" class=\"edge\">\n<title>41&#45;&gt;43</title>\n<path fill=\"none\" stroke=\"#000000\" d=\"M901.5,-817.8796C901.5,-809.6838 901.5,-800.9891 901.5,-792.5013\"/>\n<polygon fill=\"#000000\" stroke=\"#000000\" points=\"905.0001,-792.298 901.5,-782.2981 898.0001,-792.2981 905.0001,-792.298\"/>\n</g>\n<!-- 44 -->\n<g id=\"node45\" class=\"node\">\n<title>44</title>\n<path fill=\"#9ccef2\" stroke=\"#000000\" d=\"M724,-663C724,-663 649,-663 649,-663 643,-663 637,-657 637,-651 637,-651 637,-592 637,-592 637,-586 643,-580 649,-580 649,-580 724,-580 724,-580 730,-580 736,-586 736,-592 736,-592 736,-651 736,-651 736,-657 730,-663 724,-663\"/>\n<text text-anchor=\"start\" x=\"645.5\" y=\"-647.8\" font-family=\"Helvetica,sans-Serif\" font-size=\"14.00\" fill=\"#000000\">age ≤ &#45;1.151</text>\n<text text-anchor=\"start\" x=\"648.5\" y=\"-632.8\" font-family=\"Helvetica,sans-Serif\" font-size=\"14.00\" fill=\"#000000\">gini = 0.444</text>\n<text text-anchor=\"start\" x=\"647\" y=\"-617.8\" font-family=\"Helvetica,sans-Serif\" font-size=\"14.00\" fill=\"#000000\">samples = 6</text>\n<text text-anchor=\"start\" x=\"645\" y=\"-602.8\" font-family=\"Helvetica,sans-Serif\" font-size=\"14.00\" fill=\"#000000\">value = [2, 4]</text>\n<text text-anchor=\"start\" x=\"657.5\" y=\"-587.8\" font-family=\"Helvetica,sans-Serif\" font-size=\"14.00\" fill=\"#000000\">class = o</text>\n</g>\n<!-- 43&#45;&gt;44 -->\n<g id=\"edge44\" class=\"edge\">\n<title>43&#45;&gt;44</title>\n<path fill=\"none\" stroke=\"#000000\" d=\"M849.2336,-704.3358C845.9836,-702.4569 842.7235,-700.662 839.5,-699 801.9547,-679.6419 786.3502,-683.6519 745.1733,-662.9638\"/>\n<polygon fill=\"#000000\" stroke=\"#000000\" points=\"746.7673,-659.8478 736.2831,-658.3206 743.5267,-666.0525 746.7673,-659.8478\"/>\n</g>\n<!-- 47 -->\n<g id=\"node48\" class=\"node\">\n<title>47</title>\n<path fill=\"#6ab6ec\" stroke=\"#000000\" d=\"M841,-655.5C841,-655.5 766,-655.5 766,-655.5 760,-655.5 754,-649.5 754,-643.5 754,-643.5 754,-599.5 754,-599.5 754,-593.5 760,-587.5 766,-587.5 766,-587.5 841,-587.5 841,-587.5 847,-587.5 853,-593.5 853,-599.5 853,-599.5 853,-643.5 853,-643.5 853,-649.5 847,-655.5 841,-655.5\"/>\n<text text-anchor=\"start\" x=\"770\" y=\"-640.3\" font-family=\"Helvetica,sans-Serif\" font-size=\"14.00\" fill=\"#000000\">gini = 0.32</text>\n<text text-anchor=\"start\" x=\"764\" y=\"-625.3\" font-family=\"Helvetica,sans-Serif\" font-size=\"14.00\" fill=\"#000000\">samples = 5</text>\n<text text-anchor=\"start\" x=\"762\" y=\"-610.3\" font-family=\"Helvetica,sans-Serif\" font-size=\"14.00\" fill=\"#000000\">value = [1, 4]</text>\n<text text-anchor=\"start\" x=\"774.5\" y=\"-595.3\" font-family=\"Helvetica,sans-Serif\" font-size=\"14.00\" fill=\"#000000\">class = o</text>\n</g>\n<!-- 43&#45;&gt;47 -->\n<g id=\"edge47\" class=\"edge\">\n<title>43&#45;&gt;47</title>\n<path fill=\"none\" stroke=\"#000000\" d=\"M867.2244,-698.8796C857.8065,-687.4436 847.5887,-675.0363 838.15,-663.575\"/>\n<polygon fill=\"#000000\" stroke=\"#000000\" points=\"840.8182,-661.3093 831.7594,-655.8149 835.4147,-665.7592 840.8182,-661.3093\"/>\n</g>\n<!-- 45 -->\n<g id=\"node46\" class=\"node\">\n<title>45</title>\n<path fill=\"#9ccef2\" stroke=\"#000000\" d=\"M635,-536.5C635,-536.5 560,-536.5 560,-536.5 554,-536.5 548,-530.5 548,-524.5 548,-524.5 548,-480.5 548,-480.5 548,-474.5 554,-468.5 560,-468.5 560,-468.5 635,-468.5 635,-468.5 641,-468.5 647,-474.5 647,-480.5 647,-480.5 647,-524.5 647,-524.5 647,-530.5 641,-536.5 635,-536.5\"/>\n<text text-anchor=\"start\" x=\"559.5\" y=\"-521.3\" font-family=\"Helvetica,sans-Serif\" font-size=\"14.00\" fill=\"#000000\">gini = 0.444</text>\n<text text-anchor=\"start\" x=\"558\" y=\"-506.3\" font-family=\"Helvetica,sans-Serif\" font-size=\"14.00\" fill=\"#000000\">samples = 3</text>\n<text text-anchor=\"start\" x=\"556\" y=\"-491.3\" font-family=\"Helvetica,sans-Serif\" font-size=\"14.00\" fill=\"#000000\">value = [1, 2]</text>\n<text text-anchor=\"start\" x=\"568.5\" y=\"-476.3\" font-family=\"Helvetica,sans-Serif\" font-size=\"14.00\" fill=\"#000000\">class = o</text>\n</g>\n<!-- 44&#45;&gt;45 -->\n<g id=\"edge45\" class=\"edge\">\n<title>44&#45;&gt;45</title>\n<path fill=\"none\" stroke=\"#000000\" d=\"M655.3721,-579.8796C646.9014,-568.5536 637.7181,-556.2748 629.2153,-544.9058\"/>\n<polygon fill=\"#000000\" stroke=\"#000000\" points=\"631.9562,-542.7268 623.1641,-536.8149 626.3505,-546.9193 631.9562,-542.7268\"/>\n</g>\n<!-- 46 -->\n<g id=\"node47\" class=\"node\">\n<title>46</title>\n<path fill=\"#9ccef2\" stroke=\"#000000\" d=\"M752,-536.5C752,-536.5 677,-536.5 677,-536.5 671,-536.5 665,-530.5 665,-524.5 665,-524.5 665,-480.5 665,-480.5 665,-474.5 671,-468.5 677,-468.5 677,-468.5 752,-468.5 752,-468.5 758,-468.5 764,-474.5 764,-480.5 764,-480.5 764,-524.5 764,-524.5 764,-530.5 758,-536.5 752,-536.5\"/>\n<text text-anchor=\"start\" x=\"676.5\" y=\"-521.3\" font-family=\"Helvetica,sans-Serif\" font-size=\"14.00\" fill=\"#000000\">gini = 0.444</text>\n<text text-anchor=\"start\" x=\"675\" y=\"-506.3\" font-family=\"Helvetica,sans-Serif\" font-size=\"14.00\" fill=\"#000000\">samples = 3</text>\n<text text-anchor=\"start\" x=\"673\" y=\"-491.3\" font-family=\"Helvetica,sans-Serif\" font-size=\"14.00\" fill=\"#000000\">value = [1, 2]</text>\n<text text-anchor=\"start\" x=\"685.5\" y=\"-476.3\" font-family=\"Helvetica,sans-Serif\" font-size=\"14.00\" fill=\"#000000\">class = o</text>\n</g>\n<!-- 44&#45;&gt;46 -->\n<g id=\"edge46\" class=\"edge\">\n<title>44&#45;&gt;46</title>\n<path fill=\"none\" stroke=\"#000000\" d=\"M696.293,-579.8796C698.8286,-569.1034 701.5671,-557.4647 704.1311,-546.5677\"/>\n<polygon fill=\"#000000\" stroke=\"#000000\" points=\"707.5424,-547.3508 706.4259,-536.8149 700.7285,-545.7474 707.5424,-547.3508\"/>\n</g>\n<!-- 49 -->\n<g id=\"node50\" class=\"node\">\n<title>49</title>\n<path fill=\"#f7d9c3\" stroke=\"#000000\" d=\"M1301.5,-1020C1301.5,-1020 1209.5,-1020 1209.5,-1020 1203.5,-1020 1197.5,-1014 1197.5,-1008 1197.5,-1008 1197.5,-949 1197.5,-949 1197.5,-943 1203.5,-937 1209.5,-937 1209.5,-937 1301.5,-937 1301.5,-937 1307.5,-937 1313.5,-943 1313.5,-949 1313.5,-949 1313.5,-1008 1313.5,-1008 1313.5,-1014 1307.5,-1020 1301.5,-1020\"/>\n<text text-anchor=\"start\" x=\"1217\" y=\"-1004.8\" font-family=\"Helvetica,sans-Serif\" font-size=\"14.00\" fill=\"#000000\">age ≤ 0.425</text>\n<text text-anchor=\"start\" x=\"1217.5\" y=\"-989.8\" font-family=\"Helvetica,sans-Serif\" font-size=\"14.00\" fill=\"#000000\">gini = 0.484</text>\n<text text-anchor=\"start\" x=\"1211.5\" y=\"-974.8\" font-family=\"Helvetica,sans-Serif\" font-size=\"14.00\" fill=\"#000000\">samples = 39</text>\n<text text-anchor=\"start\" x=\"1205.5\" y=\"-959.8\" font-family=\"Helvetica,sans-Serif\" font-size=\"14.00\" fill=\"#000000\">value = [23, 16]</text>\n<text text-anchor=\"start\" x=\"1229\" y=\"-944.8\" font-family=\"Helvetica,sans-Serif\" font-size=\"14.00\" fill=\"#000000\">class = l</text>\n</g>\n<!-- 48&#45;&gt;49 -->\n<g id=\"edge49\" class=\"edge\">\n<title>48&#45;&gt;49</title>\n<path fill=\"none\" stroke=\"#000000\" d=\"M1255.5,-1055.8796C1255.5,-1047.6838 1255.5,-1038.9891 1255.5,-1030.5013\"/>\n<polygon fill=\"#000000\" stroke=\"#000000\" points=\"1259.0001,-1030.298 1255.5,-1020.2981 1252.0001,-1030.2981 1259.0001,-1030.298\"/>\n</g>\n<!-- 82 -->\n<g id=\"node83\" class=\"node\">\n<title>82</title>\n<path fill=\"#dceefa\" stroke=\"#000000\" d=\"M1662.5,-1020C1662.5,-1020 1570.5,-1020 1570.5,-1020 1564.5,-1020 1558.5,-1014 1558.5,-1008 1558.5,-1008 1558.5,-949 1558.5,-949 1558.5,-943 1564.5,-937 1570.5,-937 1570.5,-937 1662.5,-937 1662.5,-937 1668.5,-937 1674.5,-943 1674.5,-949 1674.5,-949 1674.5,-1008 1674.5,-1008 1674.5,-1014 1668.5,-1020 1662.5,-1020\"/>\n<text text-anchor=\"start\" x=\"1578\" y=\"-1004.8\" font-family=\"Helvetica,sans-Serif\" font-size=\"14.00\" fill=\"#000000\">age ≤ 1.088</text>\n<text text-anchor=\"start\" x=\"1578.5\" y=\"-989.8\" font-family=\"Helvetica,sans-Serif\" font-size=\"14.00\" fill=\"#000000\">gini = 0.495</text>\n<text text-anchor=\"start\" x=\"1572.5\" y=\"-974.8\" font-family=\"Helvetica,sans-Serif\" font-size=\"14.00\" fill=\"#000000\">samples = 31</text>\n<text text-anchor=\"start\" x=\"1566.5\" y=\"-959.8\" font-family=\"Helvetica,sans-Serif\" font-size=\"14.00\" fill=\"#000000\">value = [14, 17]</text>\n<text text-anchor=\"start\" x=\"1587.5\" y=\"-944.8\" font-family=\"Helvetica,sans-Serif\" font-size=\"14.00\" fill=\"#000000\">class = o</text>\n</g>\n<!-- 48&#45;&gt;82 -->\n<g id=\"edge82\" class=\"edge\">\n<title>48&#45;&gt;82</title>\n<path fill=\"none\" stroke=\"#000000\" d=\"M1313.5009,-1078.3806C1377.6146,-1057.2461 1480.7704,-1023.2419 1548.6014,-1000.8821\"/>\n<polygon fill=\"#000000\" stroke=\"#000000\" points=\"1549.9425,-1004.1253 1558.3441,-997.6705 1547.751,-997.4772 1549.9425,-1004.1253\"/>\n</g>\n<!-- 50 -->\n<g id=\"node51\" class=\"node\">\n<title>50</title>\n<path fill=\"#fbeade\" stroke=\"#000000\" d=\"M1234,-901C1234,-901 1051,-901 1051,-901 1045,-901 1039,-895 1039,-889 1039,-889 1039,-830 1039,-830 1039,-824 1045,-818 1051,-818 1051,-818 1234,-818 1234,-818 1240,-818 1246,-824 1246,-830 1246,-830 1246,-889 1246,-889 1246,-895 1240,-901 1234,-901\"/>\n<text text-anchor=\"start\" x=\"1047\" y=\"-885.8\" font-family=\"Helvetica,sans-Serif\" font-size=\"14.00\" fill=\"#000000\">High School or Below ≤ 0.128</text>\n<text text-anchor=\"start\" x=\"1104.5\" y=\"-870.8\" font-family=\"Helvetica,sans-Serif\" font-size=\"14.00\" fill=\"#000000\">gini = 0.496</text>\n<text text-anchor=\"start\" x=\"1098.5\" y=\"-855.8\" font-family=\"Helvetica,sans-Serif\" font-size=\"14.00\" fill=\"#000000\">samples = 33</text>\n<text text-anchor=\"start\" x=\"1092.5\" y=\"-840.8\" font-family=\"Helvetica,sans-Serif\" font-size=\"14.00\" fill=\"#000000\">value = [18, 15]</text>\n<text text-anchor=\"start\" x=\"1116\" y=\"-825.8\" font-family=\"Helvetica,sans-Serif\" font-size=\"14.00\" fill=\"#000000\">class = l</text>\n</g>\n<!-- 49&#45;&gt;50 -->\n<g id=\"edge50\" class=\"edge\">\n<title>49&#45;&gt;50</title>\n<path fill=\"none\" stroke=\"#000000\" d=\"M1215.9781,-936.8796C1207.3403,-927.7832 1198.119,-918.0722 1189.2303,-908.7116\"/>\n<polygon fill=\"#000000\" stroke=\"#000000\" points=\"1191.6146,-906.1395 1182.1906,-901.2981 1186.5385,-910.9597 1191.6146,-906.1395\"/>\n</g>\n<!-- 79 -->\n<g id=\"node80\" class=\"node\">\n<title>79</title>\n<path fill=\"#ea9a61\" stroke=\"#000000\" d=\"M1459,-901C1459,-901 1276,-901 1276,-901 1270,-901 1264,-895 1264,-889 1264,-889 1264,-830 1264,-830 1264,-824 1270,-818 1276,-818 1276,-818 1459,-818 1459,-818 1465,-818 1471,-824 1471,-830 1471,-830 1471,-889 1471,-889 1471,-895 1465,-901 1459,-901\"/>\n<text text-anchor=\"start\" x=\"1272\" y=\"-885.8\" font-family=\"Helvetica,sans-Serif\" font-size=\"14.00\" fill=\"#000000\">High School or Below ≤ 0.128</text>\n<text text-anchor=\"start\" x=\"1329.5\" y=\"-870.8\" font-family=\"Helvetica,sans-Serif\" font-size=\"14.00\" fill=\"#000000\">gini = 0.278</text>\n<text text-anchor=\"start\" x=\"1328\" y=\"-855.8\" font-family=\"Helvetica,sans-Serif\" font-size=\"14.00\" fill=\"#000000\">samples = 6</text>\n<text text-anchor=\"start\" x=\"1326\" y=\"-840.8\" font-family=\"Helvetica,sans-Serif\" font-size=\"14.00\" fill=\"#000000\">value = [5, 1]</text>\n<text text-anchor=\"start\" x=\"1341\" y=\"-825.8\" font-family=\"Helvetica,sans-Serif\" font-size=\"14.00\" fill=\"#000000\">class = l</text>\n</g>\n<!-- 49&#45;&gt;79 -->\n<g id=\"edge79\" class=\"edge\">\n<title>49&#45;&gt;79</title>\n<path fill=\"none\" stroke=\"#000000\" d=\"M1294.6722,-936.8796C1303.2335,-927.7832 1312.3732,-918.0722 1321.1832,-908.7116\"/>\n<polygon fill=\"#000000\" stroke=\"#000000\" points=\"1323.8557,-910.9789 1328.1606,-901.2981 1318.7583,-906.1813 1323.8557,-910.9789\"/>\n</g>\n<!-- 51 -->\n<g id=\"node52\" class=\"node\">\n<title>51</title>\n<path fill=\"#7bbeee\" stroke=\"#000000\" d=\"M1069,-782C1069,-782 984,-782 984,-782 978,-782 972,-776 972,-770 972,-770 972,-711 972,-711 972,-705 978,-699 984,-699 984,-699 1069,-699 1069,-699 1075,-699 1081,-705 1081,-711 1081,-711 1081,-770 1081,-770 1081,-776 1075,-782 1069,-782\"/>\n<text text-anchor=\"start\" x=\"980\" y=\"-766.8\" font-family=\"Helvetica,sans-Serif\" font-size=\"14.00\" fill=\"#000000\">terms ≤ &#45;0.019</text>\n<text text-anchor=\"start\" x=\"988.5\" y=\"-751.8\" font-family=\"Helvetica,sans-Serif\" font-size=\"14.00\" fill=\"#000000\">gini = 0.375</text>\n<text text-anchor=\"start\" x=\"987\" y=\"-736.8\" font-family=\"Helvetica,sans-Serif\" font-size=\"14.00\" fill=\"#000000\">samples = 4</text>\n<text text-anchor=\"start\" x=\"985\" y=\"-721.8\" font-family=\"Helvetica,sans-Serif\" font-size=\"14.00\" fill=\"#000000\">value = [1, 3]</text>\n<text text-anchor=\"start\" x=\"997.5\" y=\"-706.8\" font-family=\"Helvetica,sans-Serif\" font-size=\"14.00\" fill=\"#000000\">class = o</text>\n</g>\n<!-- 50&#45;&gt;51 -->\n<g id=\"edge51\" class=\"edge\">\n<title>50&#45;&gt;51</title>\n<path fill=\"none\" stroke=\"#000000\" d=\"M1101.9288,-817.8796C1093.0618,-808.7832 1083.5956,-799.0722 1074.4709,-789.7116\"/>\n<polygon fill=\"#000000\" stroke=\"#000000\" points=\"1076.7309,-787.0158 1067.2443,-782.2981 1071.7183,-791.9019 1076.7309,-787.0158\"/>\n</g>\n<!-- 54 -->\n<g id=\"node55\" class=\"node\">\n<title>54</title>\n<path fill=\"#f7dac5\" stroke=\"#000000\" d=\"M1203.5,-782C1203.5,-782 1111.5,-782 1111.5,-782 1105.5,-782 1099.5,-776 1099.5,-770 1099.5,-770 1099.5,-711 1099.5,-711 1099.5,-705 1105.5,-699 1111.5,-699 1111.5,-699 1203.5,-699 1203.5,-699 1209.5,-699 1215.5,-705 1215.5,-711 1215.5,-711 1215.5,-770 1215.5,-770 1215.5,-776 1209.5,-782 1203.5,-782\"/>\n<text text-anchor=\"start\" x=\"1116.5\" y=\"-766.8\" font-family=\"Helvetica,sans-Serif\" font-size=\"14.00\" fill=\"#000000\">age ≤ &#45;0.239</text>\n<text text-anchor=\"start\" x=\"1119.5\" y=\"-751.8\" font-family=\"Helvetica,sans-Serif\" font-size=\"14.00\" fill=\"#000000\">gini = 0.485</text>\n<text text-anchor=\"start\" x=\"1113.5\" y=\"-736.8\" font-family=\"Helvetica,sans-Serif\" font-size=\"14.00\" fill=\"#000000\">samples = 29</text>\n<text text-anchor=\"start\" x=\"1107.5\" y=\"-721.8\" font-family=\"Helvetica,sans-Serif\" font-size=\"14.00\" fill=\"#000000\">value = [17, 12]</text>\n<text text-anchor=\"start\" x=\"1131\" y=\"-706.8\" font-family=\"Helvetica,sans-Serif\" font-size=\"14.00\" fill=\"#000000\">class = l</text>\n</g>\n<!-- 50&#45;&gt;54 -->\n<g id=\"edge54\" class=\"edge\">\n<title>50&#45;&gt;54</title>\n<path fill=\"none\" stroke=\"#000000\" d=\"M1147.7463,-817.8796C1148.7907,-809.5938 1149.8994,-800.798 1150.9805,-792.2216\"/>\n<polygon fill=\"#000000\" stroke=\"#000000\" points=\"1154.4532,-792.6573 1152.2313,-782.2981 1147.5081,-791.7818 1154.4532,-792.6573\"/>\n</g>\n<!-- 52 -->\n<g id=\"node53\" class=\"node\">\n<title>52</title>\n<path fill=\"#399de5\" stroke=\"#000000\" d=\"M958,-655.5C958,-655.5 883,-655.5 883,-655.5 877,-655.5 871,-649.5 871,-643.5 871,-643.5 871,-599.5 871,-599.5 871,-593.5 877,-587.5 883,-587.5 883,-587.5 958,-587.5 958,-587.5 964,-587.5 970,-593.5 970,-599.5 970,-599.5 970,-643.5 970,-643.5 970,-649.5 964,-655.5 958,-655.5\"/>\n<text text-anchor=\"start\" x=\"891\" y=\"-640.3\" font-family=\"Helvetica,sans-Serif\" font-size=\"14.00\" fill=\"#000000\">gini = 0.0</text>\n<text text-anchor=\"start\" x=\"881\" y=\"-625.3\" font-family=\"Helvetica,sans-Serif\" font-size=\"14.00\" fill=\"#000000\">samples = 2</text>\n<text text-anchor=\"start\" x=\"879\" y=\"-610.3\" font-family=\"Helvetica,sans-Serif\" font-size=\"14.00\" fill=\"#000000\">value = [0, 2]</text>\n<text text-anchor=\"start\" x=\"891.5\" y=\"-595.3\" font-family=\"Helvetica,sans-Serif\" font-size=\"14.00\" fill=\"#000000\">class = o</text>\n</g>\n<!-- 51&#45;&gt;52 -->\n<g id=\"edge52\" class=\"edge\">\n<title>51&#45;&gt;52</title>\n<path fill=\"none\" stroke=\"#000000\" d=\"M989.4263,-698.8796C979.2397,-687.4436 968.1878,-675.0363 957.9785,-663.575\"/>\n<polygon fill=\"#000000\" stroke=\"#000000\" points=\"960.3312,-660.9541 951.0662,-655.8149 955.1042,-665.6101 960.3312,-660.9541\"/>\n</g>\n<!-- 53 -->\n<g id=\"node54\" class=\"node\">\n<title>53</title>\n<path fill=\"#ffffff\" stroke=\"#000000\" d=\"M1075,-655.5C1075,-655.5 1000,-655.5 1000,-655.5 994,-655.5 988,-649.5 988,-643.5 988,-643.5 988,-599.5 988,-599.5 988,-593.5 994,-587.5 1000,-587.5 1000,-587.5 1075,-587.5 1075,-587.5 1081,-587.5 1087,-593.5 1087,-599.5 1087,-599.5 1087,-643.5 1087,-643.5 1087,-649.5 1081,-655.5 1075,-655.5\"/>\n<text text-anchor=\"start\" x=\"1008\" y=\"-640.3\" font-family=\"Helvetica,sans-Serif\" font-size=\"14.00\" fill=\"#000000\">gini = 0.5</text>\n<text text-anchor=\"start\" x=\"998\" y=\"-625.3\" font-family=\"Helvetica,sans-Serif\" font-size=\"14.00\" fill=\"#000000\">samples = 2</text>\n<text text-anchor=\"start\" x=\"996\" y=\"-610.3\" font-family=\"Helvetica,sans-Serif\" font-size=\"14.00\" fill=\"#000000\">value = [1, 1]</text>\n<text text-anchor=\"start\" x=\"1011\" y=\"-595.3\" font-family=\"Helvetica,sans-Serif\" font-size=\"14.00\" fill=\"#000000\">class = l</text>\n</g>\n<!-- 51&#45;&gt;53 -->\n<g id=\"edge53\" class=\"edge\">\n<title>51&#45;&gt;53</title>\n<path fill=\"none\" stroke=\"#000000\" d=\"M1030.3473,-698.8796C1031.3332,-688.2134 1032.3973,-676.7021 1033.3957,-665.9015\"/>\n<polygon fill=\"#000000\" stroke=\"#000000\" points=\"1036.8926,-666.0947 1034.328,-655.8149 1029.9224,-665.4503 1036.8926,-666.0947\"/>\n</g>\n<!-- 55 -->\n<g id=\"node56\" class=\"node\">\n<title>55</title>\n<path fill=\"#fcefe6\" stroke=\"#000000\" d=\"M1197.5,-663C1197.5,-663 1117.5,-663 1117.5,-663 1111.5,-663 1105.5,-657 1105.5,-651 1105.5,-651 1105.5,-592 1105.5,-592 1105.5,-586 1111.5,-580 1117.5,-580 1117.5,-580 1197.5,-580 1197.5,-580 1203.5,-580 1209.5,-586 1209.5,-592 1209.5,-592 1209.5,-651 1209.5,-651 1209.5,-657 1203.5,-663 1197.5,-663\"/>\n<text text-anchor=\"start\" x=\"1116.5\" y=\"-647.8\" font-family=\"Helvetica,sans-Serif\" font-size=\"14.00\" fill=\"#000000\">age ≤ &#45;0.404</text>\n<text text-anchor=\"start\" x=\"1119.5\" y=\"-632.8\" font-family=\"Helvetica,sans-Serif\" font-size=\"14.00\" fill=\"#000000\">gini = 0.498</text>\n<text text-anchor=\"start\" x=\"1113.5\" y=\"-617.8\" font-family=\"Helvetica,sans-Serif\" font-size=\"14.00\" fill=\"#000000\">samples = 15</text>\n<text text-anchor=\"start\" x=\"1116\" y=\"-602.8\" font-family=\"Helvetica,sans-Serif\" font-size=\"14.00\" fill=\"#000000\">value = [8, 7]</text>\n<text text-anchor=\"start\" x=\"1131\" y=\"-587.8\" font-family=\"Helvetica,sans-Serif\" font-size=\"14.00\" fill=\"#000000\">class = l</text>\n</g>\n<!-- 54&#45;&gt;55 -->\n<g id=\"edge55\" class=\"edge\">\n<title>54&#45;&gt;55</title>\n<path fill=\"none\" stroke=\"#000000\" d=\"M1157.5,-698.8796C1157.5,-690.6838 1157.5,-681.9891 1157.5,-673.5013\"/>\n<polygon fill=\"#000000\" stroke=\"#000000\" points=\"1161.0001,-673.298 1157.5,-663.2981 1154.0001,-673.2981 1161.0001,-673.298\"/>\n</g>\n<!-- 66 -->\n<g id=\"node67\" class=\"node\">\n<title>66</title>\n<path fill=\"#f3c7a7\" stroke=\"#000000\" d=\"M1352.5,-663C1352.5,-663 1248.5,-663 1248.5,-663 1242.5,-663 1236.5,-657 1236.5,-651 1236.5,-651 1236.5,-592 1236.5,-592 1236.5,-586 1242.5,-580 1248.5,-580 1248.5,-580 1352.5,-580 1352.5,-580 1358.5,-580 1364.5,-586 1364.5,-592 1364.5,-592 1364.5,-651 1364.5,-651 1364.5,-657 1358.5,-663 1352.5,-663\"/>\n<text text-anchor=\"start\" x=\"1244.5\" y=\"-647.8\" font-family=\"Helvetica,sans-Serif\" font-size=\"14.00\" fill=\"#000000\">Principal ≤ &#45;0.399</text>\n<text text-anchor=\"start\" x=\"1262.5\" y=\"-632.8\" font-family=\"Helvetica,sans-Serif\" font-size=\"14.00\" fill=\"#000000\">gini = 0.459</text>\n<text text-anchor=\"start\" x=\"1256.5\" y=\"-617.8\" font-family=\"Helvetica,sans-Serif\" font-size=\"14.00\" fill=\"#000000\">samples = 14</text>\n<text text-anchor=\"start\" x=\"1259\" y=\"-602.8\" font-family=\"Helvetica,sans-Serif\" font-size=\"14.00\" fill=\"#000000\">value = [9, 5]</text>\n<text text-anchor=\"start\" x=\"1274\" y=\"-587.8\" font-family=\"Helvetica,sans-Serif\" font-size=\"14.00\" fill=\"#000000\">class = l</text>\n</g>\n<!-- 54&#45;&gt;66 -->\n<g id=\"edge66\" class=\"edge\">\n<title>54&#45;&gt;66</title>\n<path fill=\"none\" stroke=\"#000000\" d=\"M1207.5145,-698.8796C1218.7701,-689.513 1230.8088,-679.4948 1242.3646,-669.8784\"/>\n<polygon fill=\"#000000\" stroke=\"#000000\" points=\"1244.8242,-672.385 1250.2721,-663.2981 1240.3466,-667.0043 1244.8242,-672.385\"/>\n</g>\n<!-- 56 -->\n<g id=\"node57\" class=\"node\">\n<title>56</title>\n<path fill=\"#f6d5bd\" stroke=\"#000000\" d=\"M934,-544C934,-544 849,-544 849,-544 843,-544 837,-538 837,-532 837,-532 837,-473 837,-473 837,-467 843,-461 849,-461 849,-461 934,-461 934,-461 940,-461 946,-467 946,-473 946,-473 946,-532 946,-532 946,-538 940,-544 934,-544\"/>\n<text text-anchor=\"start\" x=\"845\" y=\"-528.8\" font-family=\"Helvetica,sans-Serif\" font-size=\"14.00\" fill=\"#000000\">terms ≤ &#45;0.019</text>\n<text text-anchor=\"start\" x=\"858\" y=\"-513.8\" font-family=\"Helvetica,sans-Serif\" font-size=\"14.00\" fill=\"#000000\">gini = 0.48</text>\n<text text-anchor=\"start\" x=\"847.5\" y=\"-498.8\" font-family=\"Helvetica,sans-Serif\" font-size=\"14.00\" fill=\"#000000\">samples = 10</text>\n<text text-anchor=\"start\" x=\"850\" y=\"-483.8\" font-family=\"Helvetica,sans-Serif\" font-size=\"14.00\" fill=\"#000000\">value = [6, 4]</text>\n<text text-anchor=\"start\" x=\"865\" y=\"-468.8\" font-family=\"Helvetica,sans-Serif\" font-size=\"14.00\" fill=\"#000000\">class = l</text>\n</g>\n<!-- 55&#45;&gt;56 -->\n<g id=\"edge56\" class=\"edge\">\n<title>55&#45;&gt;56</title>\n<path fill=\"none\" stroke=\"#000000\" d=\"M1105.232,-585.339C1101.9823,-583.4593 1098.7228,-581.6634 1095.5,-580 1050.4623,-556.7551 996.7883,-536.641 955.8024,-522.7332\"/>\n<polygon fill=\"#000000\" stroke=\"#000000\" points=\"956.7946,-519.3744 946.2007,-519.5095 954.5666,-526.0104 956.7946,-519.3744\"/>\n</g>\n<!-- 61 -->\n<g id=\"node62\" class=\"node\">\n<title>61</title>\n<path fill=\"#bddef6\" stroke=\"#000000\" d=\"M1182.5,-544C1182.5,-544 1078.5,-544 1078.5,-544 1072.5,-544 1066.5,-538 1066.5,-532 1066.5,-532 1066.5,-473 1066.5,-473 1066.5,-467 1072.5,-461 1078.5,-461 1078.5,-461 1182.5,-461 1182.5,-461 1188.5,-461 1194.5,-467 1194.5,-473 1194.5,-473 1194.5,-532 1194.5,-532 1194.5,-538 1188.5,-544 1182.5,-544\"/>\n<text text-anchor=\"start\" x=\"1074.5\" y=\"-528.8\" font-family=\"Helvetica,sans-Serif\" font-size=\"14.00\" fill=\"#000000\">Principal ≤ &#45;0.399</text>\n<text text-anchor=\"start\" x=\"1097\" y=\"-513.8\" font-family=\"Helvetica,sans-Serif\" font-size=\"14.00\" fill=\"#000000\">gini = 0.48</text>\n<text text-anchor=\"start\" x=\"1091\" y=\"-498.8\" font-family=\"Helvetica,sans-Serif\" font-size=\"14.00\" fill=\"#000000\">samples = 5</text>\n<text text-anchor=\"start\" x=\"1089\" y=\"-483.8\" font-family=\"Helvetica,sans-Serif\" font-size=\"14.00\" fill=\"#000000\">value = [2, 3]</text>\n<text text-anchor=\"start\" x=\"1101.5\" y=\"-468.8\" font-family=\"Helvetica,sans-Serif\" font-size=\"14.00\" fill=\"#000000\">class = o</text>\n</g>\n<!-- 55&#45;&gt;61 -->\n<g id=\"edge61\" class=\"edge\">\n<title>55&#45;&gt;61</title>\n<path fill=\"none\" stroke=\"#000000\" d=\"M1148.0567,-579.8796C1146.1767,-571.5938 1144.1811,-562.798 1142.2351,-554.2216\"/>\n<polygon fill=\"#000000\" stroke=\"#000000\" points=\"1145.6096,-553.2757 1139.9836,-544.2981 1138.7831,-554.8247 1145.6096,-553.2757\"/>\n</g>\n<!-- 57 -->\n<g id=\"node58\" class=\"node\">\n<title>57</title>\n<path fill=\"#e58139\" stroke=\"#000000\" d=\"M812,-417.5C812,-417.5 737,-417.5 737,-417.5 731,-417.5 725,-411.5 725,-405.5 725,-405.5 725,-361.5 725,-361.5 725,-355.5 731,-349.5 737,-349.5 737,-349.5 812,-349.5 812,-349.5 818,-349.5 824,-355.5 824,-361.5 824,-361.5 824,-405.5 824,-405.5 824,-411.5 818,-417.5 812,-417.5\"/>\n<text text-anchor=\"start\" x=\"745\" y=\"-402.3\" font-family=\"Helvetica,sans-Serif\" font-size=\"14.00\" fill=\"#000000\">gini = 0.0</text>\n<text text-anchor=\"start\" x=\"735\" y=\"-387.3\" font-family=\"Helvetica,sans-Serif\" font-size=\"14.00\" fill=\"#000000\">samples = 2</text>\n<text text-anchor=\"start\" x=\"733\" y=\"-372.3\" font-family=\"Helvetica,sans-Serif\" font-size=\"14.00\" fill=\"#000000\">value = [2, 0]</text>\n<text text-anchor=\"start\" x=\"748\" y=\"-357.3\" font-family=\"Helvetica,sans-Serif\" font-size=\"14.00\" fill=\"#000000\">class = l</text>\n</g>\n<!-- 56&#45;&gt;57 -->\n<g id=\"edge57\" class=\"edge\">\n<title>56&#45;&gt;57</title>\n<path fill=\"none\" stroke=\"#000000\" d=\"M850.5791,-460.8796C839.2272,-449.3337 826.9018,-436.7976 815.543,-425.2446\"/>\n<polygon fill=\"#000000\" stroke=\"#000000\" points=\"817.7449,-422.4919 808.2382,-417.8149 812.7534,-427.3995 817.7449,-422.4919\"/>\n</g>\n<!-- 58 -->\n<g id=\"node59\" class=\"node\">\n<title>58</title>\n<path fill=\"#ffffff\" stroke=\"#000000\" d=\"M929,-425C929,-425 854,-425 854,-425 848,-425 842,-419 842,-413 842,-413 842,-354 842,-354 842,-348 848,-342 854,-342 854,-342 929,-342 929,-342 935,-342 941,-348 941,-354 941,-354 941,-413 941,-413 941,-419 935,-425 929,-425\"/>\n<text text-anchor=\"start\" x=\"855\" y=\"-409.8\" font-family=\"Helvetica,sans-Serif\" font-size=\"14.00\" fill=\"#000000\">age ≤ &#45;0.57</text>\n<text text-anchor=\"start\" x=\"862\" y=\"-394.8\" font-family=\"Helvetica,sans-Serif\" font-size=\"14.00\" fill=\"#000000\">gini = 0.5</text>\n<text text-anchor=\"start\" x=\"852\" y=\"-379.8\" font-family=\"Helvetica,sans-Serif\" font-size=\"14.00\" fill=\"#000000\">samples = 8</text>\n<text text-anchor=\"start\" x=\"850\" y=\"-364.8\" font-family=\"Helvetica,sans-Serif\" font-size=\"14.00\" fill=\"#000000\">value = [4, 4]</text>\n<text text-anchor=\"start\" x=\"865\" y=\"-349.8\" font-family=\"Helvetica,sans-Serif\" font-size=\"14.00\" fill=\"#000000\">class = l</text>\n</g>\n<!-- 56&#45;&gt;58 -->\n<g id=\"edge58\" class=\"edge\">\n<title>56&#45;&gt;58</title>\n<path fill=\"none\" stroke=\"#000000\" d=\"M891.5,-460.8796C891.5,-452.6838 891.5,-443.9891 891.5,-435.5013\"/>\n<polygon fill=\"#000000\" stroke=\"#000000\" points=\"895.0001,-435.298 891.5,-425.2981 888.0001,-435.2981 895.0001,-435.298\"/>\n</g>\n<!-- 59 -->\n<g id=\"node60\" class=\"node\">\n<title>59</title>\n<path fill=\"#ffffff\" stroke=\"#000000\" d=\"M872,-298.5C872,-298.5 797,-298.5 797,-298.5 791,-298.5 785,-292.5 785,-286.5 785,-286.5 785,-242.5 785,-242.5 785,-236.5 791,-230.5 797,-230.5 797,-230.5 872,-230.5 872,-230.5 878,-230.5 884,-236.5 884,-242.5 884,-242.5 884,-286.5 884,-286.5 884,-292.5 878,-298.5 872,-298.5\"/>\n<text text-anchor=\"start\" x=\"805\" y=\"-283.3\" font-family=\"Helvetica,sans-Serif\" font-size=\"14.00\" fill=\"#000000\">gini = 0.5</text>\n<text text-anchor=\"start\" x=\"795\" y=\"-268.3\" font-family=\"Helvetica,sans-Serif\" font-size=\"14.00\" fill=\"#000000\">samples = 4</text>\n<text text-anchor=\"start\" x=\"793\" y=\"-253.3\" font-family=\"Helvetica,sans-Serif\" font-size=\"14.00\" fill=\"#000000\">value = [2, 2]</text>\n<text text-anchor=\"start\" x=\"808\" y=\"-238.3\" font-family=\"Helvetica,sans-Serif\" font-size=\"14.00\" fill=\"#000000\">class = l</text>\n</g>\n<!-- 58&#45;&gt;59 -->\n<g id=\"edge59\" class=\"edge\">\n<title>58&#45;&gt;59</title>\n<path fill=\"none\" stroke=\"#000000\" d=\"M871.5642,-341.8796C866.2971,-330.8835 860.5999,-318.9893 855.289,-307.9015\"/>\n<polygon fill=\"#000000\" stroke=\"#000000\" points=\"858.4131,-306.3217 850.9366,-298.8149 852.1,-309.3457 858.4131,-306.3217\"/>\n</g>\n<!-- 60 -->\n<g id=\"node61\" class=\"node\">\n<title>60</title>\n<path fill=\"#ffffff\" stroke=\"#000000\" d=\"M989,-298.5C989,-298.5 914,-298.5 914,-298.5 908,-298.5 902,-292.5 902,-286.5 902,-286.5 902,-242.5 902,-242.5 902,-236.5 908,-230.5 914,-230.5 914,-230.5 989,-230.5 989,-230.5 995,-230.5 1001,-236.5 1001,-242.5 1001,-242.5 1001,-286.5 1001,-286.5 1001,-292.5 995,-298.5 989,-298.5\"/>\n<text text-anchor=\"start\" x=\"922\" y=\"-283.3\" font-family=\"Helvetica,sans-Serif\" font-size=\"14.00\" fill=\"#000000\">gini = 0.5</text>\n<text text-anchor=\"start\" x=\"912\" y=\"-268.3\" font-family=\"Helvetica,sans-Serif\" font-size=\"14.00\" fill=\"#000000\">samples = 4</text>\n<text text-anchor=\"start\" x=\"910\" y=\"-253.3\" font-family=\"Helvetica,sans-Serif\" font-size=\"14.00\" fill=\"#000000\">value = [2, 2]</text>\n<text text-anchor=\"start\" x=\"925\" y=\"-238.3\" font-family=\"Helvetica,sans-Serif\" font-size=\"14.00\" fill=\"#000000\">class = l</text>\n</g>\n<!-- 58&#45;&gt;60 -->\n<g id=\"edge60\" class=\"edge\">\n<title>58&#45;&gt;60</title>\n<path fill=\"none\" stroke=\"#000000\" d=\"M912.4851,-341.8796C918.0293,-330.8835 924.0264,-318.9893 929.6169,-307.9015\"/>\n<polygon fill=\"#000000\" stroke=\"#000000\" points=\"932.8214,-309.3199 934.1984,-298.8149 926.5709,-306.1684 932.8214,-309.3199\"/>\n</g>\n<!-- 62 -->\n<g id=\"node63\" class=\"node\">\n<title>62</title>\n<path fill=\"#ffffff\" stroke=\"#000000\" d=\"M1046,-417.5C1046,-417.5 971,-417.5 971,-417.5 965,-417.5 959,-411.5 959,-405.5 959,-405.5 959,-361.5 959,-361.5 959,-355.5 965,-349.5 971,-349.5 971,-349.5 1046,-349.5 1046,-349.5 1052,-349.5 1058,-355.5 1058,-361.5 1058,-361.5 1058,-405.5 1058,-405.5 1058,-411.5 1052,-417.5 1046,-417.5\"/>\n<text text-anchor=\"start\" x=\"979\" y=\"-402.3\" font-family=\"Helvetica,sans-Serif\" font-size=\"14.00\" fill=\"#000000\">gini = 0.5</text>\n<text text-anchor=\"start\" x=\"969\" y=\"-387.3\" font-family=\"Helvetica,sans-Serif\" font-size=\"14.00\" fill=\"#000000\">samples = 2</text>\n<text text-anchor=\"start\" x=\"967\" y=\"-372.3\" font-family=\"Helvetica,sans-Serif\" font-size=\"14.00\" fill=\"#000000\">value = [1, 1]</text>\n<text text-anchor=\"start\" x=\"982\" y=\"-357.3\" font-family=\"Helvetica,sans-Serif\" font-size=\"14.00\" fill=\"#000000\">class = l</text>\n</g>\n<!-- 61&#45;&gt;62 -->\n<g id=\"edge62\" class=\"edge\">\n<title>61&#45;&gt;62</title>\n<path fill=\"none\" stroke=\"#000000\" d=\"M1087.8303,-460.8796C1075.8806,-449.2237 1062.8963,-436.5587 1050.9589,-424.9148\"/>\n<polygon fill=\"#000000\" stroke=\"#000000\" points=\"1053.2825,-422.292 1043.68,-417.8149 1048.3947,-427.303 1053.2825,-422.292\"/>\n</g>\n<!-- 63 -->\n<g id=\"node64\" class=\"node\">\n<title>63</title>\n<path fill=\"#9ccef2\" stroke=\"#000000\" d=\"M1173,-425C1173,-425 1088,-425 1088,-425 1082,-425 1076,-419 1076,-413 1076,-413 1076,-354 1076,-354 1076,-348 1082,-342 1088,-342 1088,-342 1173,-342 1173,-342 1179,-342 1185,-348 1185,-354 1185,-354 1185,-413 1185,-413 1185,-419 1179,-425 1173,-425\"/>\n<text text-anchor=\"start\" x=\"1084\" y=\"-409.8\" font-family=\"Helvetica,sans-Serif\" font-size=\"14.00\" fill=\"#000000\">terms ≤ &#45;0.019</text>\n<text text-anchor=\"start\" x=\"1092.5\" y=\"-394.8\" font-family=\"Helvetica,sans-Serif\" font-size=\"14.00\" fill=\"#000000\">gini = 0.444</text>\n<text text-anchor=\"start\" x=\"1091\" y=\"-379.8\" font-family=\"Helvetica,sans-Serif\" font-size=\"14.00\" fill=\"#000000\">samples = 3</text>\n<text text-anchor=\"start\" x=\"1089\" y=\"-364.8\" font-family=\"Helvetica,sans-Serif\" font-size=\"14.00\" fill=\"#000000\">value = [1, 2]</text>\n<text text-anchor=\"start\" x=\"1101.5\" y=\"-349.8\" font-family=\"Helvetica,sans-Serif\" font-size=\"14.00\" fill=\"#000000\">class = o</text>\n</g>\n<!-- 61&#45;&gt;63 -->\n<g id=\"edge63\" class=\"edge\">\n<title>61&#45;&gt;63</title>\n<path fill=\"none\" stroke=\"#000000\" d=\"M1130.5,-460.8796C1130.5,-452.6838 1130.5,-443.9891 1130.5,-435.5013\"/>\n<polygon fill=\"#000000\" stroke=\"#000000\" points=\"1134.0001,-435.298 1130.5,-425.2981 1127.0001,-435.2981 1134.0001,-435.298\"/>\n</g>\n<!-- 64 -->\n<g id=\"node65\" class=\"node\">\n<title>64</title>\n<path fill=\"#399de5\" stroke=\"#000000\" d=\"M1108,-298.5C1108,-298.5 1033,-298.5 1033,-298.5 1027,-298.5 1021,-292.5 1021,-286.5 1021,-286.5 1021,-242.5 1021,-242.5 1021,-236.5 1027,-230.5 1033,-230.5 1033,-230.5 1108,-230.5 1108,-230.5 1114,-230.5 1120,-236.5 1120,-242.5 1120,-242.5 1120,-286.5 1120,-286.5 1120,-292.5 1114,-298.5 1108,-298.5\"/>\n<text text-anchor=\"start\" x=\"1041\" y=\"-283.3\" font-family=\"Helvetica,sans-Serif\" font-size=\"14.00\" fill=\"#000000\">gini = 0.0</text>\n<text text-anchor=\"start\" x=\"1031\" y=\"-268.3\" font-family=\"Helvetica,sans-Serif\" font-size=\"14.00\" fill=\"#000000\">samples = 1</text>\n<text text-anchor=\"start\" x=\"1029\" y=\"-253.3\" font-family=\"Helvetica,sans-Serif\" font-size=\"14.00\" fill=\"#000000\">value = [0, 1]</text>\n<text text-anchor=\"start\" x=\"1041.5\" y=\"-238.3\" font-family=\"Helvetica,sans-Serif\" font-size=\"14.00\" fill=\"#000000\">class = o</text>\n</g>\n<!-- 63&#45;&gt;64 -->\n<g id=\"edge64\" class=\"edge\">\n<title>63&#45;&gt;64</title>\n<path fill=\"none\" stroke=\"#000000\" d=\"M1109.5149,-341.8796C1103.9707,-330.8835 1097.9736,-318.9893 1092.3831,-307.9015\"/>\n<polygon fill=\"#000000\" stroke=\"#000000\" points=\"1095.4291,-306.1684 1087.8016,-298.8149 1089.1786,-309.3199 1095.4291,-306.1684\"/>\n</g>\n<!-- 65 -->\n<g id=\"node66\" class=\"node\">\n<title>65</title>\n<path fill=\"#ffffff\" stroke=\"#000000\" d=\"M1225,-298.5C1225,-298.5 1150,-298.5 1150,-298.5 1144,-298.5 1138,-292.5 1138,-286.5 1138,-286.5 1138,-242.5 1138,-242.5 1138,-236.5 1144,-230.5 1150,-230.5 1150,-230.5 1225,-230.5 1225,-230.5 1231,-230.5 1237,-236.5 1237,-242.5 1237,-242.5 1237,-286.5 1237,-286.5 1237,-292.5 1231,-298.5 1225,-298.5\"/>\n<text text-anchor=\"start\" x=\"1158\" y=\"-283.3\" font-family=\"Helvetica,sans-Serif\" font-size=\"14.00\" fill=\"#000000\">gini = 0.5</text>\n<text text-anchor=\"start\" x=\"1148\" y=\"-268.3\" font-family=\"Helvetica,sans-Serif\" font-size=\"14.00\" fill=\"#000000\">samples = 2</text>\n<text text-anchor=\"start\" x=\"1146\" y=\"-253.3\" font-family=\"Helvetica,sans-Serif\" font-size=\"14.00\" fill=\"#000000\">value = [1, 1]</text>\n<text text-anchor=\"start\" x=\"1161\" y=\"-238.3\" font-family=\"Helvetica,sans-Serif\" font-size=\"14.00\" fill=\"#000000\">class = l</text>\n</g>\n<!-- 63&#45;&gt;65 -->\n<g id=\"edge65\" class=\"edge\">\n<title>63&#45;&gt;65</title>\n<path fill=\"none\" stroke=\"#000000\" d=\"M1150.4358,-341.8796C1155.7029,-330.8835 1161.4001,-318.9893 1166.711,-307.9015\"/>\n<polygon fill=\"#000000\" stroke=\"#000000\" points=\"1169.9,-309.3457 1171.0634,-298.8149 1163.5869,-306.3217 1169.9,-309.3457\"/>\n</g>\n<!-- 67 -->\n<g id=\"node68\" class=\"node\">\n<title>67</title>\n<path fill=\"#9ccef2\" stroke=\"#000000\" d=\"M1338,-544C1338,-544 1263,-544 1263,-544 1257,-544 1251,-538 1251,-532 1251,-532 1251,-473 1251,-473 1251,-467 1257,-461 1263,-461 1263,-461 1338,-461 1338,-461 1344,-461 1350,-467 1350,-473 1350,-473 1350,-532 1350,-532 1350,-538 1344,-544 1338,-544\"/>\n<text text-anchor=\"start\" x=\"1262\" y=\"-528.8\" font-family=\"Helvetica,sans-Serif\" font-size=\"14.00\" fill=\"#000000\">age ≤ 0.259</text>\n<text text-anchor=\"start\" x=\"1262.5\" y=\"-513.8\" font-family=\"Helvetica,sans-Serif\" font-size=\"14.00\" fill=\"#000000\">gini = 0.444</text>\n<text text-anchor=\"start\" x=\"1261\" y=\"-498.8\" font-family=\"Helvetica,sans-Serif\" font-size=\"14.00\" fill=\"#000000\">samples = 3</text>\n<text text-anchor=\"start\" x=\"1259\" y=\"-483.8\" font-family=\"Helvetica,sans-Serif\" font-size=\"14.00\" fill=\"#000000\">value = [1, 2]</text>\n<text text-anchor=\"start\" x=\"1271.5\" y=\"-468.8\" font-family=\"Helvetica,sans-Serif\" font-size=\"14.00\" fill=\"#000000\">class = o</text>\n</g>\n<!-- 66&#45;&gt;67 -->\n<g id=\"edge67\" class=\"edge\">\n<title>66&#45;&gt;67</title>\n<path fill=\"none\" stroke=\"#000000\" d=\"M1300.5,-579.8796C1300.5,-571.6838 1300.5,-562.9891 1300.5,-554.5013\"/>\n<polygon fill=\"#000000\" stroke=\"#000000\" points=\"1304.0001,-554.298 1300.5,-544.2981 1297.0001,-554.2981 1304.0001,-554.298\"/>\n</g>\n<!-- 72 -->\n<g id=\"node73\" class=\"node\">\n<title>72</title>\n<path fill=\"#efb083\" stroke=\"#000000\" d=\"M1483,-544C1483,-544 1398,-544 1398,-544 1392,-544 1386,-538 1386,-532 1386,-532 1386,-473 1386,-473 1386,-467 1392,-461 1398,-461 1398,-461 1483,-461 1483,-461 1489,-461 1495,-467 1495,-473 1495,-473 1495,-532 1495,-532 1495,-538 1489,-544 1483,-544\"/>\n<text text-anchor=\"start\" x=\"1394\" y=\"-528.8\" font-family=\"Helvetica,sans-Serif\" font-size=\"14.00\" fill=\"#000000\">terms ≤ &#45;0.019</text>\n<text text-anchor=\"start\" x=\"1402.5\" y=\"-513.8\" font-family=\"Helvetica,sans-Serif\" font-size=\"14.00\" fill=\"#000000\">gini = 0.397</text>\n<text text-anchor=\"start\" x=\"1396.5\" y=\"-498.8\" font-family=\"Helvetica,sans-Serif\" font-size=\"14.00\" fill=\"#000000\">samples = 11</text>\n<text text-anchor=\"start\" x=\"1399\" y=\"-483.8\" font-family=\"Helvetica,sans-Serif\" font-size=\"14.00\" fill=\"#000000\">value = [8, 3]</text>\n<text text-anchor=\"start\" x=\"1414\" y=\"-468.8\" font-family=\"Helvetica,sans-Serif\" font-size=\"14.00\" fill=\"#000000\">class = l</text>\n</g>\n<!-- 66&#45;&gt;72 -->\n<g id=\"edge72\" class=\"edge\">\n<title>66&#45;&gt;72</title>\n<path fill=\"none\" stroke=\"#000000\" d=\"M1349.4652,-579.8796C1360.4847,-570.513 1372.2709,-560.4948 1383.5842,-550.8784\"/>\n<polygon fill=\"#000000\" stroke=\"#000000\" points=\"1385.9732,-553.4414 1391.3258,-544.2981 1381.4396,-548.1078 1385.9732,-553.4414\"/>\n</g>\n<!-- 68 -->\n<g id=\"node69\" class=\"node\">\n<title>68</title>\n<path fill=\"#399de5\" stroke=\"#000000\" d=\"M1290,-417.5C1290,-417.5 1215,-417.5 1215,-417.5 1209,-417.5 1203,-411.5 1203,-405.5 1203,-405.5 1203,-361.5 1203,-361.5 1203,-355.5 1209,-349.5 1215,-349.5 1215,-349.5 1290,-349.5 1290,-349.5 1296,-349.5 1302,-355.5 1302,-361.5 1302,-361.5 1302,-405.5 1302,-405.5 1302,-411.5 1296,-417.5 1290,-417.5\"/>\n<text text-anchor=\"start\" x=\"1223\" y=\"-402.3\" font-family=\"Helvetica,sans-Serif\" font-size=\"14.00\" fill=\"#000000\">gini = 0.0</text>\n<text text-anchor=\"start\" x=\"1213\" y=\"-387.3\" font-family=\"Helvetica,sans-Serif\" font-size=\"14.00\" fill=\"#000000\">samples = 1</text>\n<text text-anchor=\"start\" x=\"1211\" y=\"-372.3\" font-family=\"Helvetica,sans-Serif\" font-size=\"14.00\" fill=\"#000000\">value = [0, 1]</text>\n<text text-anchor=\"start\" x=\"1223.5\" y=\"-357.3\" font-family=\"Helvetica,sans-Serif\" font-size=\"14.00\" fill=\"#000000\">class = o</text>\n</g>\n<!-- 67&#45;&gt;68 -->\n<g id=\"edge68\" class=\"edge\">\n<title>67&#45;&gt;68</title>\n<path fill=\"none\" stroke=\"#000000\" d=\"M1283.7119,-460.8796C1279.3209,-449.9935 1274.5748,-438.227 1270.1408,-427.2344\"/>\n<polygon fill=\"#000000\" stroke=\"#000000\" points=\"1273.328,-425.7796 1266.3413,-417.8149 1266.8362,-428.3982 1273.328,-425.7796\"/>\n</g>\n<!-- 69 -->\n<g id=\"node70\" class=\"node\">\n<title>69</title>\n<path fill=\"#ffffff\" stroke=\"#000000\" d=\"M1417,-425C1417,-425 1332,-425 1332,-425 1326,-425 1320,-419 1320,-413 1320,-413 1320,-354 1320,-354 1320,-348 1326,-342 1332,-342 1332,-342 1417,-342 1417,-342 1423,-342 1429,-348 1429,-354 1429,-354 1429,-413 1429,-413 1429,-419 1423,-425 1417,-425\"/>\n<text text-anchor=\"start\" x=\"1328\" y=\"-409.8\" font-family=\"Helvetica,sans-Serif\" font-size=\"14.00\" fill=\"#000000\">terms ≤ &#45;0.019</text>\n<text text-anchor=\"start\" x=\"1345\" y=\"-394.8\" font-family=\"Helvetica,sans-Serif\" font-size=\"14.00\" fill=\"#000000\">gini = 0.5</text>\n<text text-anchor=\"start\" x=\"1335\" y=\"-379.8\" font-family=\"Helvetica,sans-Serif\" font-size=\"14.00\" fill=\"#000000\">samples = 2</text>\n<text text-anchor=\"start\" x=\"1333\" y=\"-364.8\" font-family=\"Helvetica,sans-Serif\" font-size=\"14.00\" fill=\"#000000\">value = [1, 1]</text>\n<text text-anchor=\"start\" x=\"1348\" y=\"-349.8\" font-family=\"Helvetica,sans-Serif\" font-size=\"14.00\" fill=\"#000000\">class = l</text>\n</g>\n<!-- 67&#45;&gt;69 -->\n<g id=\"edge69\" class=\"edge\">\n<title>67&#45;&gt;69</title>\n<path fill=\"none\" stroke=\"#000000\" d=\"M1326.3816,-460.8796C1331.8142,-452.1434 1337.5992,-442.8404 1343.2053,-433.8253\"/>\n<polygon fill=\"#000000\" stroke=\"#000000\" points=\"1346.1993,-435.6383 1348.5079,-425.2981 1340.2549,-431.9418 1346.1993,-435.6383\"/>\n</g>\n<!-- 70 -->\n<g id=\"node71\" class=\"node\">\n<title>70</title>\n<path fill=\"#e58139\" stroke=\"#000000\" d=\"M1406,-298.5C1406,-298.5 1331,-298.5 1331,-298.5 1325,-298.5 1319,-292.5 1319,-286.5 1319,-286.5 1319,-242.5 1319,-242.5 1319,-236.5 1325,-230.5 1331,-230.5 1331,-230.5 1406,-230.5 1406,-230.5 1412,-230.5 1418,-236.5 1418,-242.5 1418,-242.5 1418,-286.5 1418,-286.5 1418,-292.5 1412,-298.5 1406,-298.5\"/>\n<text text-anchor=\"start\" x=\"1339\" y=\"-283.3\" font-family=\"Helvetica,sans-Serif\" font-size=\"14.00\" fill=\"#000000\">gini = 0.0</text>\n<text text-anchor=\"start\" x=\"1329\" y=\"-268.3\" font-family=\"Helvetica,sans-Serif\" font-size=\"14.00\" fill=\"#000000\">samples = 1</text>\n<text text-anchor=\"start\" x=\"1327\" y=\"-253.3\" font-family=\"Helvetica,sans-Serif\" font-size=\"14.00\" fill=\"#000000\">value = [1, 0]</text>\n<text text-anchor=\"start\" x=\"1342\" y=\"-238.3\" font-family=\"Helvetica,sans-Serif\" font-size=\"14.00\" fill=\"#000000\">class = l</text>\n</g>\n<!-- 69&#45;&gt;70 -->\n<g id=\"edge70\" class=\"edge\">\n<title>69&#45;&gt;70</title>\n<path fill=\"none\" stroke=\"#000000\" d=\"M1372.4015,-341.8796C1371.8637,-331.2134 1371.2833,-319.7021 1370.7387,-308.9015\"/>\n<polygon fill=\"#000000\" stroke=\"#000000\" points=\"1374.2294,-308.626 1370.2302,-298.8149 1367.2383,-308.9785 1374.2294,-308.626\"/>\n</g>\n<!-- 71 -->\n<g id=\"node72\" class=\"node\">\n<title>71</title>\n<path fill=\"#399de5\" stroke=\"#000000\" d=\"M1523,-298.5C1523,-298.5 1448,-298.5 1448,-298.5 1442,-298.5 1436,-292.5 1436,-286.5 1436,-286.5 1436,-242.5 1436,-242.5 1436,-236.5 1442,-230.5 1448,-230.5 1448,-230.5 1523,-230.5 1523,-230.5 1529,-230.5 1535,-236.5 1535,-242.5 1535,-242.5 1535,-286.5 1535,-286.5 1535,-292.5 1529,-298.5 1523,-298.5\"/>\n<text text-anchor=\"start\" x=\"1456\" y=\"-283.3\" font-family=\"Helvetica,sans-Serif\" font-size=\"14.00\" fill=\"#000000\">gini = 0.0</text>\n<text text-anchor=\"start\" x=\"1446\" y=\"-268.3\" font-family=\"Helvetica,sans-Serif\" font-size=\"14.00\" fill=\"#000000\">samples = 1</text>\n<text text-anchor=\"start\" x=\"1444\" y=\"-253.3\" font-family=\"Helvetica,sans-Serif\" font-size=\"14.00\" fill=\"#000000\">value = [0, 1]</text>\n<text text-anchor=\"start\" x=\"1456.5\" y=\"-238.3\" font-family=\"Helvetica,sans-Serif\" font-size=\"14.00\" fill=\"#000000\">class = o</text>\n</g>\n<!-- 69&#45;&gt;71 -->\n<g id=\"edge71\" class=\"edge\">\n<title>69&#45;&gt;71</title>\n<path fill=\"none\" stroke=\"#000000\" d=\"M1413.3224,-341.8796C1424.0921,-330.3337 1435.7854,-317.7976 1446.5617,-306.2446\"/>\n<polygon fill=\"#000000\" stroke=\"#000000\" points=\"1449.2303,-308.5149 1453.492,-298.8149 1444.1115,-303.7402 1449.2303,-308.5149\"/>\n</g>\n<!-- 73 -->\n<g id=\"node74\" class=\"node\">\n<title>73</title>\n<path fill=\"#ffffff\" stroke=\"#000000\" d=\"M1534,-417.5C1534,-417.5 1459,-417.5 1459,-417.5 1453,-417.5 1447,-411.5 1447,-405.5 1447,-405.5 1447,-361.5 1447,-361.5 1447,-355.5 1453,-349.5 1459,-349.5 1459,-349.5 1534,-349.5 1534,-349.5 1540,-349.5 1546,-355.5 1546,-361.5 1546,-361.5 1546,-405.5 1546,-405.5 1546,-411.5 1540,-417.5 1534,-417.5\"/>\n<text text-anchor=\"start\" x=\"1467\" y=\"-402.3\" font-family=\"Helvetica,sans-Serif\" font-size=\"14.00\" fill=\"#000000\">gini = 0.5</text>\n<text text-anchor=\"start\" x=\"1457\" y=\"-387.3\" font-family=\"Helvetica,sans-Serif\" font-size=\"14.00\" fill=\"#000000\">samples = 2</text>\n<text text-anchor=\"start\" x=\"1455\" y=\"-372.3\" font-family=\"Helvetica,sans-Serif\" font-size=\"14.00\" fill=\"#000000\">value = [1, 1]</text>\n<text text-anchor=\"start\" x=\"1470\" y=\"-357.3\" font-family=\"Helvetica,sans-Serif\" font-size=\"14.00\" fill=\"#000000\">class = l</text>\n</g>\n<!-- 72&#45;&gt;73 -->\n<g id=\"edge73\" class=\"edge\">\n<title>72&#45;&gt;73</title>\n<path fill=\"none\" stroke=\"#000000\" d=\"M1460.0861,-460.8796C1465.2607,-449.8835 1470.858,-437.9893 1476.0758,-426.9015\"/>\n<polygon fill=\"#000000\" stroke=\"#000000\" points=\"1479.2606,-428.3534 1480.3518,-417.8149 1472.9269,-425.3728 1479.2606,-428.3534\"/>\n</g>\n<!-- 74 -->\n<g id=\"node75\" class=\"node\">\n<title>74</title>\n<path fill=\"#eca572\" stroke=\"#000000\" d=\"M1651,-425C1651,-425 1576,-425 1576,-425 1570,-425 1564,-419 1564,-413 1564,-413 1564,-354 1564,-354 1564,-348 1570,-342 1576,-342 1576,-342 1651,-342 1651,-342 1657,-342 1663,-348 1663,-354 1663,-354 1663,-413 1663,-413 1663,-419 1657,-425 1651,-425\"/>\n<text text-anchor=\"start\" x=\"1575\" y=\"-409.8\" font-family=\"Helvetica,sans-Serif\" font-size=\"14.00\" fill=\"#000000\">age ≤ 0.093</text>\n<text text-anchor=\"start\" x=\"1575.5\" y=\"-394.8\" font-family=\"Helvetica,sans-Serif\" font-size=\"14.00\" fill=\"#000000\">gini = 0.346</text>\n<text text-anchor=\"start\" x=\"1574\" y=\"-379.8\" font-family=\"Helvetica,sans-Serif\" font-size=\"14.00\" fill=\"#000000\">samples = 9</text>\n<text text-anchor=\"start\" x=\"1572\" y=\"-364.8\" font-family=\"Helvetica,sans-Serif\" font-size=\"14.00\" fill=\"#000000\">value = [7, 2]</text>\n<text text-anchor=\"start\" x=\"1587\" y=\"-349.8\" font-family=\"Helvetica,sans-Serif\" font-size=\"14.00\" fill=\"#000000\">class = l</text>\n</g>\n<!-- 72&#45;&gt;74 -->\n<g id=\"edge74\" class=\"edge\">\n<title>72&#45;&gt;74</title>\n<path fill=\"none\" stroke=\"#000000\" d=\"M1495.1281,-465.6208C1513.9826,-452.8238 1535.2099,-438.3399 1554.5,-425 1554.8863,-424.7329 1555.2739,-424.4647 1555.6627,-424.1955\"/>\n<polygon fill=\"#000000\" stroke=\"#000000\" points=\"1557.7497,-427.0074 1563.9656,-418.4276 1553.7559,-421.2585 1557.7497,-427.0074\"/>\n</g>\n<!-- 75 -->\n<g id=\"node76\" class=\"node\">\n<title>75</title>\n<path fill=\"#efb388\" stroke=\"#000000\" d=\"M1645,-306C1645,-306 1570,-306 1570,-306 1564,-306 1558,-300 1558,-294 1558,-294 1558,-235 1558,-235 1558,-229 1564,-223 1570,-223 1570,-223 1645,-223 1645,-223 1651,-223 1657,-229 1657,-235 1657,-235 1657,-294 1657,-294 1657,-300 1651,-306 1645,-306\"/>\n<text text-anchor=\"start\" x=\"1566.5\" y=\"-290.8\" font-family=\"Helvetica,sans-Serif\" font-size=\"14.00\" fill=\"#000000\">age ≤ &#45;0.073</text>\n<text text-anchor=\"start\" x=\"1569.5\" y=\"-275.8\" font-family=\"Helvetica,sans-Serif\" font-size=\"14.00\" fill=\"#000000\">gini = 0.408</text>\n<text text-anchor=\"start\" x=\"1568\" y=\"-260.8\" font-family=\"Helvetica,sans-Serif\" font-size=\"14.00\" fill=\"#000000\">samples = 7</text>\n<text text-anchor=\"start\" x=\"1566\" y=\"-245.8\" font-family=\"Helvetica,sans-Serif\" font-size=\"14.00\" fill=\"#000000\">value = [5, 2]</text>\n<text text-anchor=\"start\" x=\"1581\" y=\"-230.8\" font-family=\"Helvetica,sans-Serif\" font-size=\"14.00\" fill=\"#000000\">class = l</text>\n</g>\n<!-- 74&#45;&gt;75 -->\n<g id=\"edge75\" class=\"edge\">\n<title>74&#45;&gt;75</title>\n<path fill=\"none\" stroke=\"#000000\" d=\"M1611.4015,-341.8796C1610.9883,-333.6838 1610.5499,-324.9891 1610.1219,-316.5013\"/>\n<polygon fill=\"#000000\" stroke=\"#000000\" points=\"1613.6067,-316.1091 1609.6075,-306.2981 1606.6156,-316.4617 1613.6067,-316.1091\"/>\n</g>\n<!-- 78 -->\n<g id=\"node79\" class=\"node\">\n<title>78</title>\n<path fill=\"#e58139\" stroke=\"#000000\" d=\"M1762,-298.5C1762,-298.5 1687,-298.5 1687,-298.5 1681,-298.5 1675,-292.5 1675,-286.5 1675,-286.5 1675,-242.5 1675,-242.5 1675,-236.5 1681,-230.5 1687,-230.5 1687,-230.5 1762,-230.5 1762,-230.5 1768,-230.5 1774,-236.5 1774,-242.5 1774,-242.5 1774,-286.5 1774,-286.5 1774,-292.5 1768,-298.5 1762,-298.5\"/>\n<text text-anchor=\"start\" x=\"1695\" y=\"-283.3\" font-family=\"Helvetica,sans-Serif\" font-size=\"14.00\" fill=\"#000000\">gini = 0.0</text>\n<text text-anchor=\"start\" x=\"1685\" y=\"-268.3\" font-family=\"Helvetica,sans-Serif\" font-size=\"14.00\" fill=\"#000000\">samples = 2</text>\n<text text-anchor=\"start\" x=\"1683\" y=\"-253.3\" font-family=\"Helvetica,sans-Serif\" font-size=\"14.00\" fill=\"#000000\">value = [2, 0]</text>\n<text text-anchor=\"start\" x=\"1698\" y=\"-238.3\" font-family=\"Helvetica,sans-Serif\" font-size=\"14.00\" fill=\"#000000\">class = l</text>\n</g>\n<!-- 74&#45;&gt;78 -->\n<g id=\"edge78\" class=\"edge\">\n<title>74&#45;&gt;78</title>\n<path fill=\"none\" stroke=\"#000000\" d=\"M1652.3224,-341.8796C1663.0921,-330.3337 1674.7854,-317.7976 1685.5617,-306.2446\"/>\n<polygon fill=\"#000000\" stroke=\"#000000\" points=\"1688.2303,-308.5149 1692.492,-298.8149 1683.1115,-303.7402 1688.2303,-308.5149\"/>\n</g>\n<!-- 76 -->\n<g id=\"node77\" class=\"node\">\n<title>76</title>\n<path fill=\"#eeab7b\" stroke=\"#000000\" d=\"M1586,-179.5C1586,-179.5 1511,-179.5 1511,-179.5 1505,-179.5 1499,-173.5 1499,-167.5 1499,-167.5 1499,-123.5 1499,-123.5 1499,-117.5 1505,-111.5 1511,-111.5 1511,-111.5 1586,-111.5 1586,-111.5 1592,-111.5 1598,-117.5 1598,-123.5 1598,-123.5 1598,-167.5 1598,-167.5 1598,-173.5 1592,-179.5 1586,-179.5\"/>\n<text text-anchor=\"start\" x=\"1510.5\" y=\"-164.3\" font-family=\"Helvetica,sans-Serif\" font-size=\"14.00\" fill=\"#000000\">gini = 0.375</text>\n<text text-anchor=\"start\" x=\"1509\" y=\"-149.3\" font-family=\"Helvetica,sans-Serif\" font-size=\"14.00\" fill=\"#000000\">samples = 4</text>\n<text text-anchor=\"start\" x=\"1507\" y=\"-134.3\" font-family=\"Helvetica,sans-Serif\" font-size=\"14.00\" fill=\"#000000\">value = [3, 1]</text>\n<text text-anchor=\"start\" x=\"1522\" y=\"-119.3\" font-family=\"Helvetica,sans-Serif\" font-size=\"14.00\" fill=\"#000000\">class = l</text>\n</g>\n<!-- 75&#45;&gt;76 -->\n<g id=\"edge76\" class=\"edge\">\n<title>75&#45;&gt;76</title>\n<path fill=\"none\" stroke=\"#000000\" d=\"M1586.8647,-222.8796C1581.4128,-211.8835 1575.5157,-199.9893 1570.0184,-188.9015\"/>\n<polygon fill=\"#000000\" stroke=\"#000000\" points=\"1573.0911,-187.2195 1565.5133,-179.8149 1566.8196,-190.3289 1573.0911,-187.2195\"/>\n</g>\n<!-- 77 -->\n<g id=\"node78\" class=\"node\">\n<title>77</title>\n<path fill=\"#f2c09c\" stroke=\"#000000\" d=\"M1703,-179.5C1703,-179.5 1628,-179.5 1628,-179.5 1622,-179.5 1616,-173.5 1616,-167.5 1616,-167.5 1616,-123.5 1616,-123.5 1616,-117.5 1622,-111.5 1628,-111.5 1628,-111.5 1703,-111.5 1703,-111.5 1709,-111.5 1715,-117.5 1715,-123.5 1715,-123.5 1715,-167.5 1715,-167.5 1715,-173.5 1709,-179.5 1703,-179.5\"/>\n<text text-anchor=\"start\" x=\"1627.5\" y=\"-164.3\" font-family=\"Helvetica,sans-Serif\" font-size=\"14.00\" fill=\"#000000\">gini = 0.444</text>\n<text text-anchor=\"start\" x=\"1626\" y=\"-149.3\" font-family=\"Helvetica,sans-Serif\" font-size=\"14.00\" fill=\"#000000\">samples = 3</text>\n<text text-anchor=\"start\" x=\"1624\" y=\"-134.3\" font-family=\"Helvetica,sans-Serif\" font-size=\"14.00\" fill=\"#000000\">value = [2, 1]</text>\n<text text-anchor=\"start\" x=\"1639\" y=\"-119.3\" font-family=\"Helvetica,sans-Serif\" font-size=\"14.00\" fill=\"#000000\">class = l</text>\n</g>\n<!-- 75&#45;&gt;77 -->\n<g id=\"edge77\" class=\"edge\">\n<title>75&#45;&gt;77</title>\n<path fill=\"none\" stroke=\"#000000\" d=\"M1627.7856,-222.8796C1633.145,-211.8835 1638.9422,-199.9893 1644.3463,-188.9015\"/>\n<polygon fill=\"#000000\" stroke=\"#000000\" points=\"1647.54,-190.3375 1648.7751,-179.8149 1641.2476,-187.2706 1647.54,-190.3375\"/>\n</g>\n<!-- 80 -->\n<g id=\"node81\" class=\"node\">\n<title>80</title>\n<path fill=\"#e58139\" stroke=\"#000000\" d=\"M1321,-774.5C1321,-774.5 1246,-774.5 1246,-774.5 1240,-774.5 1234,-768.5 1234,-762.5 1234,-762.5 1234,-718.5 1234,-718.5 1234,-712.5 1240,-706.5 1246,-706.5 1246,-706.5 1321,-706.5 1321,-706.5 1327,-706.5 1333,-712.5 1333,-718.5 1333,-718.5 1333,-762.5 1333,-762.5 1333,-768.5 1327,-774.5 1321,-774.5\"/>\n<text text-anchor=\"start\" x=\"1254\" y=\"-759.3\" font-family=\"Helvetica,sans-Serif\" font-size=\"14.00\" fill=\"#000000\">gini = 0.0</text>\n<text text-anchor=\"start\" x=\"1244\" y=\"-744.3\" font-family=\"Helvetica,sans-Serif\" font-size=\"14.00\" fill=\"#000000\">samples = 3</text>\n<text text-anchor=\"start\" x=\"1242\" y=\"-729.3\" font-family=\"Helvetica,sans-Serif\" font-size=\"14.00\" fill=\"#000000\">value = [3, 0]</text>\n<text text-anchor=\"start\" x=\"1257\" y=\"-714.3\" font-family=\"Helvetica,sans-Serif\" font-size=\"14.00\" fill=\"#000000\">class = l</text>\n</g>\n<!-- 79&#45;&gt;80 -->\n<g id=\"edge80\" class=\"edge\">\n<title>79&#45;&gt;80</title>\n<path fill=\"none\" stroke=\"#000000\" d=\"M1338.1209,-817.8796C1330.2037,-806.6636 1321.6269,-794.5131 1313.6675,-783.2372\"/>\n<polygon fill=\"#000000\" stroke=\"#000000\" points=\"1316.3486,-780.9662 1307.7223,-774.8149 1310.6298,-785.003 1316.3486,-780.9662\"/>\n</g>\n<!-- 81 -->\n<g id=\"node82\" class=\"node\">\n<title>81</title>\n<path fill=\"#f2c09c\" stroke=\"#000000\" d=\"M1438,-774.5C1438,-774.5 1363,-774.5 1363,-774.5 1357,-774.5 1351,-768.5 1351,-762.5 1351,-762.5 1351,-718.5 1351,-718.5 1351,-712.5 1357,-706.5 1363,-706.5 1363,-706.5 1438,-706.5 1438,-706.5 1444,-706.5 1450,-712.5 1450,-718.5 1450,-718.5 1450,-762.5 1450,-762.5 1450,-768.5 1444,-774.5 1438,-774.5\"/>\n<text text-anchor=\"start\" x=\"1362.5\" y=\"-759.3\" font-family=\"Helvetica,sans-Serif\" font-size=\"14.00\" fill=\"#000000\">gini = 0.444</text>\n<text text-anchor=\"start\" x=\"1361\" y=\"-744.3\" font-family=\"Helvetica,sans-Serif\" font-size=\"14.00\" fill=\"#000000\">samples = 3</text>\n<text text-anchor=\"start\" x=\"1359\" y=\"-729.3\" font-family=\"Helvetica,sans-Serif\" font-size=\"14.00\" fill=\"#000000\">value = [2, 1]</text>\n<text text-anchor=\"start\" x=\"1374\" y=\"-714.3\" font-family=\"Helvetica,sans-Serif\" font-size=\"14.00\" fill=\"#000000\">class = l</text>\n</g>\n<!-- 79&#45;&gt;81 -->\n<g id=\"edge81\" class=\"edge\">\n<title>79&#45;&gt;81</title>\n<path fill=\"none\" stroke=\"#000000\" d=\"M1379.0418,-817.8796C1382.0301,-807.1034 1385.2577,-795.4647 1388.2795,-784.5677\"/>\n<polygon fill=\"#000000\" stroke=\"#000000\" points=\"1391.6845,-785.3866 1390.9841,-774.8149 1384.939,-783.516 1391.6845,-785.3866\"/>\n</g>\n<!-- 83 -->\n<g id=\"node84\" class=\"node\">\n<title>83</title>\n<path fill=\"#72b9ec\" stroke=\"#000000\" d=\"M1659,-901C1659,-901 1574,-901 1574,-901 1568,-901 1562,-895 1562,-889 1562,-889 1562,-830 1562,-830 1562,-824 1568,-818 1574,-818 1574,-818 1659,-818 1659,-818 1665,-818 1671,-824 1671,-830 1671,-830 1671,-889 1671,-889 1671,-895 1665,-901 1659,-901\"/>\n<text text-anchor=\"start\" x=\"1570\" y=\"-885.8\" font-family=\"Helvetica,sans-Serif\" font-size=\"14.00\" fill=\"#000000\">terms ≤ &#45;0.019</text>\n<text text-anchor=\"start\" x=\"1578.5\" y=\"-870.8\" font-family=\"Helvetica,sans-Serif\" font-size=\"14.00\" fill=\"#000000\">gini = 0.346</text>\n<text text-anchor=\"start\" x=\"1577\" y=\"-855.8\" font-family=\"Helvetica,sans-Serif\" font-size=\"14.00\" fill=\"#000000\">samples = 9</text>\n<text text-anchor=\"start\" x=\"1575\" y=\"-840.8\" font-family=\"Helvetica,sans-Serif\" font-size=\"14.00\" fill=\"#000000\">value = [2, 7]</text>\n<text text-anchor=\"start\" x=\"1587.5\" y=\"-825.8\" font-family=\"Helvetica,sans-Serif\" font-size=\"14.00\" fill=\"#000000\">class = o</text>\n</g>\n<!-- 82&#45;&gt;83 -->\n<g id=\"edge83\" class=\"edge\">\n<title>82&#45;&gt;83</title>\n<path fill=\"none\" stroke=\"#000000\" d=\"M1616.5,-936.8796C1616.5,-928.6838 1616.5,-919.9891 1616.5,-911.5013\"/>\n<polygon fill=\"#000000\" stroke=\"#000000\" points=\"1620.0001,-911.298 1616.5,-901.2981 1613.0001,-911.2981 1620.0001,-911.298\"/>\n</g>\n<!-- 90 -->\n<g id=\"node91\" class=\"node\">\n<title>90</title>\n<path fill=\"#fbeade\" stroke=\"#000000\" d=\"M2023.5,-901C2023.5,-901 1919.5,-901 1919.5,-901 1913.5,-901 1907.5,-895 1907.5,-889 1907.5,-889 1907.5,-830 1907.5,-830 1907.5,-824 1913.5,-818 1919.5,-818 1919.5,-818 2023.5,-818 2023.5,-818 2029.5,-818 2035.5,-824 2035.5,-830 2035.5,-830 2035.5,-889 2035.5,-889 2035.5,-895 2029.5,-901 2023.5,-901\"/>\n<text text-anchor=\"start\" x=\"1915.5\" y=\"-885.8\" font-family=\"Helvetica,sans-Serif\" font-size=\"14.00\" fill=\"#000000\">Principal ≤ &#45;0.399</text>\n<text text-anchor=\"start\" x=\"1933.5\" y=\"-870.8\" font-family=\"Helvetica,sans-Serif\" font-size=\"14.00\" fill=\"#000000\">gini = 0.496</text>\n<text text-anchor=\"start\" x=\"1927.5\" y=\"-855.8\" font-family=\"Helvetica,sans-Serif\" font-size=\"14.00\" fill=\"#000000\">samples = 22</text>\n<text text-anchor=\"start\" x=\"1921.5\" y=\"-840.8\" font-family=\"Helvetica,sans-Serif\" font-size=\"14.00\" fill=\"#000000\">value = [12, 10]</text>\n<text text-anchor=\"start\" x=\"1945\" y=\"-825.8\" font-family=\"Helvetica,sans-Serif\" font-size=\"14.00\" fill=\"#000000\">class = l</text>\n</g>\n<!-- 82&#45;&gt;90 -->\n<g id=\"edge90\" class=\"edge\">\n<title>82&#45;&gt;90</title>\n<path fill=\"none\" stroke=\"#000000\" d=\"M1674.7235,-958.9828C1735.6557,-938.5577 1831.4902,-906.4329 1897.6909,-884.2417\"/>\n<polygon fill=\"#000000\" stroke=\"#000000\" points=\"1898.8664,-887.5391 1907.2355,-881.0422 1896.6416,-880.902 1898.8664,-887.5391\"/>\n</g>\n<!-- 84 -->\n<g id=\"node85\" class=\"node\">\n<title>84</title>\n<path fill=\"#399de5\" stroke=\"#000000\" d=\"M1555,-774.5C1555,-774.5 1480,-774.5 1480,-774.5 1474,-774.5 1468,-768.5 1468,-762.5 1468,-762.5 1468,-718.5 1468,-718.5 1468,-712.5 1474,-706.5 1480,-706.5 1480,-706.5 1555,-706.5 1555,-706.5 1561,-706.5 1567,-712.5 1567,-718.5 1567,-718.5 1567,-762.5 1567,-762.5 1567,-768.5 1561,-774.5 1555,-774.5\"/>\n<text text-anchor=\"start\" x=\"1488\" y=\"-759.3\" font-family=\"Helvetica,sans-Serif\" font-size=\"14.00\" fill=\"#000000\">gini = 0.0</text>\n<text text-anchor=\"start\" x=\"1478\" y=\"-744.3\" font-family=\"Helvetica,sans-Serif\" font-size=\"14.00\" fill=\"#000000\">samples = 3</text>\n<text text-anchor=\"start\" x=\"1476\" y=\"-729.3\" font-family=\"Helvetica,sans-Serif\" font-size=\"14.00\" fill=\"#000000\">value = [0, 3]</text>\n<text text-anchor=\"start\" x=\"1488.5\" y=\"-714.3\" font-family=\"Helvetica,sans-Serif\" font-size=\"14.00\" fill=\"#000000\">class = o</text>\n</g>\n<!-- 83&#45;&gt;84 -->\n<g id=\"edge84\" class=\"edge\">\n<title>83&#45;&gt;84</title>\n<path fill=\"none\" stroke=\"#000000\" d=\"M1581.8746,-817.8796C1572.3607,-806.4436 1562.0386,-794.0363 1552.5035,-782.575\"/>\n<polygon fill=\"#000000\" stroke=\"#000000\" points=\"1555.1339,-780.264 1546.0477,-774.8149 1549.7526,-784.7409 1555.1339,-780.264\"/>\n</g>\n<!-- 85 -->\n<g id=\"node86\" class=\"node\">\n<title>85</title>\n<path fill=\"#9ccef2\" stroke=\"#000000\" d=\"M1780,-782C1780,-782 1597,-782 1597,-782 1591,-782 1585,-776 1585,-770 1585,-770 1585,-711 1585,-711 1585,-705 1591,-699 1597,-699 1597,-699 1780,-699 1780,-699 1786,-699 1792,-705 1792,-711 1792,-711 1792,-770 1792,-770 1792,-776 1786,-782 1780,-782\"/>\n<text text-anchor=\"start\" x=\"1593\" y=\"-766.8\" font-family=\"Helvetica,sans-Serif\" font-size=\"14.00\" fill=\"#000000\">High School or Below ≤ 0.128</text>\n<text text-anchor=\"start\" x=\"1650.5\" y=\"-751.8\" font-family=\"Helvetica,sans-Serif\" font-size=\"14.00\" fill=\"#000000\">gini = 0.444</text>\n<text text-anchor=\"start\" x=\"1649\" y=\"-736.8\" font-family=\"Helvetica,sans-Serif\" font-size=\"14.00\" fill=\"#000000\">samples = 6</text>\n<text text-anchor=\"start\" x=\"1647\" y=\"-721.8\" font-family=\"Helvetica,sans-Serif\" font-size=\"14.00\" fill=\"#000000\">value = [2, 4]</text>\n<text text-anchor=\"start\" x=\"1659.5\" y=\"-706.8\" font-family=\"Helvetica,sans-Serif\" font-size=\"14.00\" fill=\"#000000\">class = o</text>\n</g>\n<!-- 83&#45;&gt;85 -->\n<g id=\"edge85\" class=\"edge\">\n<title>83&#45;&gt;85</title>\n<path fill=\"none\" stroke=\"#000000\" d=\"M1641.6821,-817.8796C1646.9133,-809.2335 1652.4805,-800.0322 1657.8823,-791.1042\"/>\n<polygon fill=\"#000000\" stroke=\"#000000\" points=\"1661.0283,-792.6658 1663.2104,-782.2981 1655.0392,-789.0421 1661.0283,-792.6658\"/>\n</g>\n<!-- 86 -->\n<g id=\"node87\" class=\"node\">\n<title>86</title>\n<path fill=\"#e58139\" stroke=\"#000000\" d=\"M1604,-655.5C1604,-655.5 1529,-655.5 1529,-655.5 1523,-655.5 1517,-649.5 1517,-643.5 1517,-643.5 1517,-599.5 1517,-599.5 1517,-593.5 1523,-587.5 1529,-587.5 1529,-587.5 1604,-587.5 1604,-587.5 1610,-587.5 1616,-593.5 1616,-599.5 1616,-599.5 1616,-643.5 1616,-643.5 1616,-649.5 1610,-655.5 1604,-655.5\"/>\n<text text-anchor=\"start\" x=\"1537\" y=\"-640.3\" font-family=\"Helvetica,sans-Serif\" font-size=\"14.00\" fill=\"#000000\">gini = 0.0</text>\n<text text-anchor=\"start\" x=\"1527\" y=\"-625.3\" font-family=\"Helvetica,sans-Serif\" font-size=\"14.00\" fill=\"#000000\">samples = 1</text>\n<text text-anchor=\"start\" x=\"1525\" y=\"-610.3\" font-family=\"Helvetica,sans-Serif\" font-size=\"14.00\" fill=\"#000000\">value = [1, 0]</text>\n<text text-anchor=\"start\" x=\"1540\" y=\"-595.3\" font-family=\"Helvetica,sans-Serif\" font-size=\"14.00\" fill=\"#000000\">class = l</text>\n</g>\n<!-- 85&#45;&gt;86 -->\n<g id=\"edge86\" class=\"edge\">\n<title>85&#45;&gt;86</title>\n<path fill=\"none\" stroke=\"#000000\" d=\"M1645.8303,-698.8796C1633.8806,-687.2237 1620.8963,-674.5587 1608.9589,-662.9148\"/>\n<polygon fill=\"#000000\" stroke=\"#000000\" points=\"1611.2825,-660.292 1601.68,-655.8149 1606.3947,-665.303 1611.2825,-660.292\"/>\n</g>\n<!-- 87 -->\n<g id=\"node88\" class=\"node\">\n<title>87</title>\n<path fill=\"#6ab6ec\" stroke=\"#000000\" d=\"M1721,-663C1721,-663 1646,-663 1646,-663 1640,-663 1634,-657 1634,-651 1634,-651 1634,-592 1634,-592 1634,-586 1640,-580 1646,-580 1646,-580 1721,-580 1721,-580 1727,-580 1733,-586 1733,-592 1733,-592 1733,-651 1733,-651 1733,-657 1727,-663 1721,-663\"/>\n<text text-anchor=\"start\" x=\"1645\" y=\"-647.8\" font-family=\"Helvetica,sans-Serif\" font-size=\"14.00\" fill=\"#000000\">age ≤ 0.922</text>\n<text text-anchor=\"start\" x=\"1650\" y=\"-632.8\" font-family=\"Helvetica,sans-Serif\" font-size=\"14.00\" fill=\"#000000\">gini = 0.32</text>\n<text text-anchor=\"start\" x=\"1644\" y=\"-617.8\" font-family=\"Helvetica,sans-Serif\" font-size=\"14.00\" fill=\"#000000\">samples = 5</text>\n<text text-anchor=\"start\" x=\"1642\" y=\"-602.8\" font-family=\"Helvetica,sans-Serif\" font-size=\"14.00\" fill=\"#000000\">value = [1, 4]</text>\n<text text-anchor=\"start\" x=\"1654.5\" y=\"-587.8\" font-family=\"Helvetica,sans-Serif\" font-size=\"14.00\" fill=\"#000000\">class = o</text>\n</g>\n<!-- 85&#45;&gt;87 -->\n<g id=\"edge87\" class=\"edge\">\n<title>85&#45;&gt;87</title>\n<path fill=\"none\" stroke=\"#000000\" d=\"M1686.7512,-698.8796C1686.4069,-690.6838 1686.0416,-681.9891 1685.6849,-673.5013\"/>\n<polygon fill=\"#000000\" stroke=\"#000000\" points=\"1689.173,-673.1423 1685.2562,-663.2981 1682.1792,-673.4362 1689.173,-673.1423\"/>\n</g>\n<!-- 88 -->\n<g id=\"node89\" class=\"node\">\n<title>88</title>\n<path fill=\"#399de5\" stroke=\"#000000\" d=\"M1600,-536.5C1600,-536.5 1525,-536.5 1525,-536.5 1519,-536.5 1513,-530.5 1513,-524.5 1513,-524.5 1513,-480.5 1513,-480.5 1513,-474.5 1519,-468.5 1525,-468.5 1525,-468.5 1600,-468.5 1600,-468.5 1606,-468.5 1612,-474.5 1612,-480.5 1612,-480.5 1612,-524.5 1612,-524.5 1612,-530.5 1606,-536.5 1600,-536.5\"/>\n<text text-anchor=\"start\" x=\"1533\" y=\"-521.3\" font-family=\"Helvetica,sans-Serif\" font-size=\"14.00\" fill=\"#000000\">gini = 0.0</text>\n<text text-anchor=\"start\" x=\"1523\" y=\"-506.3\" font-family=\"Helvetica,sans-Serif\" font-size=\"14.00\" fill=\"#000000\">samples = 2</text>\n<text text-anchor=\"start\" x=\"1521\" y=\"-491.3\" font-family=\"Helvetica,sans-Serif\" font-size=\"14.00\" fill=\"#000000\">value = [0, 2]</text>\n<text text-anchor=\"start\" x=\"1533.5\" y=\"-476.3\" font-family=\"Helvetica,sans-Serif\" font-size=\"14.00\" fill=\"#000000\">class = o</text>\n</g>\n<!-- 87&#45;&gt;88 -->\n<g id=\"edge88\" class=\"edge\">\n<title>87&#45;&gt;88</title>\n<path fill=\"none\" stroke=\"#000000\" d=\"M1641.1801,-579.8796C1629.3283,-568.2237 1616.4505,-555.5587 1604.6109,-543.9148\"/>\n<polygon fill=\"#000000\" stroke=\"#000000\" points=\"1606.9756,-541.3314 1597.3917,-536.8149 1602.0673,-546.3223 1606.9756,-541.3314\"/>\n</g>\n<!-- 89 -->\n<g id=\"node90\" class=\"node\">\n<title>89</title>\n<path fill=\"#9ccef2\" stroke=\"#000000\" d=\"M1717,-536.5C1717,-536.5 1642,-536.5 1642,-536.5 1636,-536.5 1630,-530.5 1630,-524.5 1630,-524.5 1630,-480.5 1630,-480.5 1630,-474.5 1636,-468.5 1642,-468.5 1642,-468.5 1717,-468.5 1717,-468.5 1723,-468.5 1729,-474.5 1729,-480.5 1729,-480.5 1729,-524.5 1729,-524.5 1729,-530.5 1723,-536.5 1717,-536.5\"/>\n<text text-anchor=\"start\" x=\"1641.5\" y=\"-521.3\" font-family=\"Helvetica,sans-Serif\" font-size=\"14.00\" fill=\"#000000\">gini = 0.444</text>\n<text text-anchor=\"start\" x=\"1640\" y=\"-506.3\" font-family=\"Helvetica,sans-Serif\" font-size=\"14.00\" fill=\"#000000\">samples = 3</text>\n<text text-anchor=\"start\" x=\"1638\" y=\"-491.3\" font-family=\"Helvetica,sans-Serif\" font-size=\"14.00\" fill=\"#000000\">value = [1, 2]</text>\n<text text-anchor=\"start\" x=\"1650.5\" y=\"-476.3\" font-family=\"Helvetica,sans-Serif\" font-size=\"14.00\" fill=\"#000000\">class = o</text>\n</g>\n<!-- 87&#45;&gt;89 -->\n<g id=\"edge89\" class=\"edge\">\n<title>87&#45;&gt;89</title>\n<path fill=\"none\" stroke=\"#000000\" d=\"M1682.101,-579.8796C1681.7425,-569.2134 1681.3555,-557.7021 1680.9925,-546.9015\"/>\n<polygon fill=\"#000000\" stroke=\"#000000\" points=\"1684.4875,-546.6917 1680.6534,-536.8149 1677.4915,-546.9269 1684.4875,-546.6917\"/>\n</g>\n<!-- 91 -->\n<g id=\"node92\" class=\"node\">\n<title>91</title>\n<path fill=\"#eeab7b\" stroke=\"#000000\" d=\"M2009,-782C2009,-782 1934,-782 1934,-782 1928,-782 1922,-776 1922,-770 1922,-770 1922,-711 1922,-711 1922,-705 1928,-699 1934,-699 1934,-699 2009,-699 2009,-699 2015,-699 2021,-705 2021,-711 2021,-711 2021,-770 2021,-770 2021,-776 2015,-782 2009,-782\"/>\n<text text-anchor=\"start\" x=\"1933\" y=\"-766.8\" font-family=\"Helvetica,sans-Serif\" font-size=\"14.00\" fill=\"#000000\">age ≤ 1.254</text>\n<text text-anchor=\"start\" x=\"1933.5\" y=\"-751.8\" font-family=\"Helvetica,sans-Serif\" font-size=\"14.00\" fill=\"#000000\">gini = 0.375</text>\n<text text-anchor=\"start\" x=\"1932\" y=\"-736.8\" font-family=\"Helvetica,sans-Serif\" font-size=\"14.00\" fill=\"#000000\">samples = 8</text>\n<text text-anchor=\"start\" x=\"1930\" y=\"-721.8\" font-family=\"Helvetica,sans-Serif\" font-size=\"14.00\" fill=\"#000000\">value = [6, 2]</text>\n<text text-anchor=\"start\" x=\"1945\" y=\"-706.8\" font-family=\"Helvetica,sans-Serif\" font-size=\"14.00\" fill=\"#000000\">class = l</text>\n</g>\n<!-- 90&#45;&gt;91 -->\n<g id=\"edge91\" class=\"edge\">\n<title>90&#45;&gt;91</title>\n<path fill=\"none\" stroke=\"#000000\" d=\"M1971.5,-817.8796C1971.5,-809.6838 1971.5,-800.9891 1971.5,-792.5013\"/>\n<polygon fill=\"#000000\" stroke=\"#000000\" points=\"1975.0001,-792.298 1971.5,-782.2981 1968.0001,-792.2981 1975.0001,-792.298\"/>\n</g>\n<!-- 100 -->\n<g id=\"node101\" class=\"node\">\n<title>100</title>\n<path fill=\"#cee6f8\" stroke=\"#000000\" d=\"M2318.5,-782C2318.5,-782 2238.5,-782 2238.5,-782 2232.5,-782 2226.5,-776 2226.5,-770 2226.5,-770 2226.5,-711 2226.5,-711 2226.5,-705 2232.5,-699 2238.5,-699 2238.5,-699 2318.5,-699 2318.5,-699 2324.5,-699 2330.5,-705 2330.5,-711 2330.5,-711 2330.5,-770 2330.5,-770 2330.5,-776 2324.5,-782 2318.5,-782\"/>\n<text text-anchor=\"start\" x=\"2240\" y=\"-766.8\" font-family=\"Helvetica,sans-Serif\" font-size=\"14.00\" fill=\"#000000\">age ≤ 2.912</text>\n<text text-anchor=\"start\" x=\"2245\" y=\"-751.8\" font-family=\"Helvetica,sans-Serif\" font-size=\"14.00\" fill=\"#000000\">gini = 0.49</text>\n<text text-anchor=\"start\" x=\"2234.5\" y=\"-736.8\" font-family=\"Helvetica,sans-Serif\" font-size=\"14.00\" fill=\"#000000\">samples = 14</text>\n<text text-anchor=\"start\" x=\"2237\" y=\"-721.8\" font-family=\"Helvetica,sans-Serif\" font-size=\"14.00\" fill=\"#000000\">value = [6, 8]</text>\n<text text-anchor=\"start\" x=\"2249.5\" y=\"-706.8\" font-family=\"Helvetica,sans-Serif\" font-size=\"14.00\" fill=\"#000000\">class = o</text>\n</g>\n<!-- 90&#45;&gt;100 -->\n<g id=\"edge100\" class=\"edge\">\n<title>90&#45;&gt;100</title>\n<path fill=\"none\" stroke=\"#000000\" d=\"M2035.8573,-834.5537C2089.1555,-813.8941 2164.3963,-784.7291 2216.9146,-764.3719\"/>\n<polygon fill=\"#000000\" stroke=\"#000000\" points=\"2218.387,-767.5549 2226.4461,-760.6773 2215.857,-761.0281 2218.387,-767.5549\"/>\n</g>\n<!-- 92 -->\n<g id=\"node93\" class=\"node\">\n<title>92</title>\n<path fill=\"#ffffff\" stroke=\"#000000\" d=\"M1957.5,-663C1957.5,-663 1855.5,-663 1855.5,-663 1849.5,-663 1843.5,-657 1843.5,-651 1843.5,-651 1843.5,-592 1843.5,-592 1843.5,-586 1849.5,-580 1855.5,-580 1855.5,-580 1957.5,-580 1957.5,-580 1963.5,-580 1969.5,-586 1969.5,-592 1969.5,-592 1969.5,-651 1969.5,-651 1969.5,-657 1963.5,-663 1957.5,-663\"/>\n<text text-anchor=\"start\" x=\"1851.5\" y=\"-647.8\" font-family=\"Helvetica,sans-Serif\" font-size=\"14.00\" fill=\"#000000\">Bechalor ≤ 1.119</text>\n<text text-anchor=\"start\" x=\"1877\" y=\"-632.8\" font-family=\"Helvetica,sans-Serif\" font-size=\"14.00\" fill=\"#000000\">gini = 0.5</text>\n<text text-anchor=\"start\" x=\"1867\" y=\"-617.8\" font-family=\"Helvetica,sans-Serif\" font-size=\"14.00\" fill=\"#000000\">samples = 2</text>\n<text text-anchor=\"start\" x=\"1865\" y=\"-602.8\" font-family=\"Helvetica,sans-Serif\" font-size=\"14.00\" fill=\"#000000\">value = [1, 1]</text>\n<text text-anchor=\"start\" x=\"1880\" y=\"-587.8\" font-family=\"Helvetica,sans-Serif\" font-size=\"14.00\" fill=\"#000000\">class = l</text>\n</g>\n<!-- 91&#45;&gt;92 -->\n<g id=\"edge92\" class=\"edge\">\n<title>91&#45;&gt;92</title>\n<path fill=\"none\" stroke=\"#000000\" d=\"M1948.7662,-698.8796C1944.0435,-690.2335 1939.0176,-681.0322 1934.141,-672.1042\"/>\n<polygon fill=\"#000000\" stroke=\"#000000\" points=\"1937.1963,-670.3964 1929.3309,-663.2981 1931.053,-673.752 1937.1963,-670.3964\"/>\n</g>\n<!-- 95 -->\n<g id=\"node96\" class=\"node\">\n<title>95</title>\n<path fill=\"#ea9a61\" stroke=\"#000000\" d=\"M2075,-663C2075,-663 2000,-663 2000,-663 1994,-663 1988,-657 1988,-651 1988,-651 1988,-592 1988,-592 1988,-586 1994,-580 2000,-580 2000,-580 2075,-580 2075,-580 2081,-580 2087,-586 2087,-592 2087,-592 2087,-651 2087,-651 2087,-657 2081,-663 2075,-663\"/>\n<text text-anchor=\"start\" x=\"1999\" y=\"-647.8\" font-family=\"Helvetica,sans-Serif\" font-size=\"14.00\" fill=\"#000000\">age ≤ 2.249</text>\n<text text-anchor=\"start\" x=\"1999.5\" y=\"-632.8\" font-family=\"Helvetica,sans-Serif\" font-size=\"14.00\" fill=\"#000000\">gini = 0.278</text>\n<text text-anchor=\"start\" x=\"1998\" y=\"-617.8\" font-family=\"Helvetica,sans-Serif\" font-size=\"14.00\" fill=\"#000000\">samples = 6</text>\n<text text-anchor=\"start\" x=\"1996\" y=\"-602.8\" font-family=\"Helvetica,sans-Serif\" font-size=\"14.00\" fill=\"#000000\">value = [5, 1]</text>\n<text text-anchor=\"start\" x=\"2011\" y=\"-587.8\" font-family=\"Helvetica,sans-Serif\" font-size=\"14.00\" fill=\"#000000\">class = l</text>\n</g>\n<!-- 91&#45;&gt;95 -->\n<g id=\"edge95\" class=\"edge\">\n<title>91&#45;&gt;95</title>\n<path fill=\"none\" stroke=\"#000000\" d=\"M1994.5836,-698.8796C1999.3789,-690.2335 2004.4822,-681.0322 2009.4338,-672.1042\"/>\n<polygon fill=\"#000000\" stroke=\"#000000\" points=\"2012.5284,-673.7407 2014.3179,-663.2981 2006.4069,-670.3455 2012.5284,-673.7407\"/>\n</g>\n<!-- 93 -->\n<g id=\"node94\" class=\"node\">\n<title>93</title>\n<path fill=\"#e58139\" stroke=\"#000000\" d=\"M1834,-536.5C1834,-536.5 1759,-536.5 1759,-536.5 1753,-536.5 1747,-530.5 1747,-524.5 1747,-524.5 1747,-480.5 1747,-480.5 1747,-474.5 1753,-468.5 1759,-468.5 1759,-468.5 1834,-468.5 1834,-468.5 1840,-468.5 1846,-474.5 1846,-480.5 1846,-480.5 1846,-524.5 1846,-524.5 1846,-530.5 1840,-536.5 1834,-536.5\"/>\n<text text-anchor=\"start\" x=\"1767\" y=\"-521.3\" font-family=\"Helvetica,sans-Serif\" font-size=\"14.00\" fill=\"#000000\">gini = 0.0</text>\n<text text-anchor=\"start\" x=\"1757\" y=\"-506.3\" font-family=\"Helvetica,sans-Serif\" font-size=\"14.00\" fill=\"#000000\">samples = 1</text>\n<text text-anchor=\"start\" x=\"1755\" y=\"-491.3\" font-family=\"Helvetica,sans-Serif\" font-size=\"14.00\" fill=\"#000000\">value = [1, 0]</text>\n<text text-anchor=\"start\" x=\"1770\" y=\"-476.3\" font-family=\"Helvetica,sans-Serif\" font-size=\"14.00\" fill=\"#000000\">class = l</text>\n</g>\n<!-- 92&#45;&gt;93 -->\n<g id=\"edge93\" class=\"edge\">\n<title>92&#45;&gt;93</title>\n<path fill=\"none\" stroke=\"#000000\" d=\"M1868.0273,-579.8796C1857.3547,-568.3337 1845.7667,-555.7976 1835.0875,-544.2446\"/>\n<polygon fill=\"#000000\" stroke=\"#000000\" points=\"1837.5778,-541.7825 1828.2197,-536.8149 1832.4375,-546.534 1837.5778,-541.7825\"/>\n</g>\n<!-- 94 -->\n<g id=\"node95\" class=\"node\">\n<title>94</title>\n<path fill=\"#399de5\" stroke=\"#000000\" d=\"M1951,-536.5C1951,-536.5 1876,-536.5 1876,-536.5 1870,-536.5 1864,-530.5 1864,-524.5 1864,-524.5 1864,-480.5 1864,-480.5 1864,-474.5 1870,-468.5 1876,-468.5 1876,-468.5 1951,-468.5 1951,-468.5 1957,-468.5 1963,-474.5 1963,-480.5 1963,-480.5 1963,-524.5 1963,-524.5 1963,-530.5 1957,-536.5 1951,-536.5\"/>\n<text text-anchor=\"start\" x=\"1884\" y=\"-521.3\" font-family=\"Helvetica,sans-Serif\" font-size=\"14.00\" fill=\"#000000\">gini = 0.0</text>\n<text text-anchor=\"start\" x=\"1874\" y=\"-506.3\" font-family=\"Helvetica,sans-Serif\" font-size=\"14.00\" fill=\"#000000\">samples = 1</text>\n<text text-anchor=\"start\" x=\"1872\" y=\"-491.3\" font-family=\"Helvetica,sans-Serif\" font-size=\"14.00\" fill=\"#000000\">value = [0, 1]</text>\n<text text-anchor=\"start\" x=\"1884.5\" y=\"-476.3\" font-family=\"Helvetica,sans-Serif\" font-size=\"14.00\" fill=\"#000000\">class = o</text>\n</g>\n<!-- 92&#45;&gt;94 -->\n<g id=\"edge94\" class=\"edge\">\n<title>92&#45;&gt;94</title>\n<path fill=\"none\" stroke=\"#000000\" d=\"M1908.9483,-579.8796C1909.5757,-569.2134 1910.2528,-557.7021 1910.8881,-546.9015\"/>\n<polygon fill=\"#000000\" stroke=\"#000000\" points=\"1914.3881,-547.0032 1911.4815,-536.8149 1907.4002,-546.5921 1914.3881,-547.0032\"/>\n</g>\n<!-- 96 -->\n<g id=\"node97\" class=\"node\">\n<title>96</title>\n<path fill=\"#e58139\" stroke=\"#000000\" d=\"M2068,-536.5C2068,-536.5 1993,-536.5 1993,-536.5 1987,-536.5 1981,-530.5 1981,-524.5 1981,-524.5 1981,-480.5 1981,-480.5 1981,-474.5 1987,-468.5 1993,-468.5 1993,-468.5 2068,-468.5 2068,-468.5 2074,-468.5 2080,-474.5 2080,-480.5 2080,-480.5 2080,-524.5 2080,-524.5 2080,-530.5 2074,-536.5 2068,-536.5\"/>\n<text text-anchor=\"start\" x=\"2001\" y=\"-521.3\" font-family=\"Helvetica,sans-Serif\" font-size=\"14.00\" fill=\"#000000\">gini = 0.0</text>\n<text text-anchor=\"start\" x=\"1991\" y=\"-506.3\" font-family=\"Helvetica,sans-Serif\" font-size=\"14.00\" fill=\"#000000\">samples = 4</text>\n<text text-anchor=\"start\" x=\"1989\" y=\"-491.3\" font-family=\"Helvetica,sans-Serif\" font-size=\"14.00\" fill=\"#000000\">value = [4, 0]</text>\n<text text-anchor=\"start\" x=\"2004\" y=\"-476.3\" font-family=\"Helvetica,sans-Serif\" font-size=\"14.00\" fill=\"#000000\">class = l</text>\n</g>\n<!-- 95&#45;&gt;96 -->\n<g id=\"edge96\" class=\"edge\">\n<title>95&#45;&gt;96</title>\n<path fill=\"none\" stroke=\"#000000\" d=\"M2035.0517,-579.8796C2034.4243,-569.2134 2033.7472,-557.7021 2033.1119,-546.9015\"/>\n<polygon fill=\"#000000\" stroke=\"#000000\" points=\"2036.5998,-546.5921 2032.5185,-536.8149 2029.6119,-547.0032 2036.5998,-546.5921\"/>\n</g>\n<!-- 97 -->\n<g id=\"node98\" class=\"node\">\n<title>97</title>\n<path fill=\"#ffffff\" stroke=\"#000000\" d=\"M2185,-544C2185,-544 2110,-544 2110,-544 2104,-544 2098,-538 2098,-532 2098,-532 2098,-473 2098,-473 2098,-467 2104,-461 2110,-461 2110,-461 2185,-461 2185,-461 2191,-461 2197,-467 2197,-473 2197,-473 2197,-532 2197,-532 2197,-538 2191,-544 2185,-544\"/>\n<text text-anchor=\"start\" x=\"2109\" y=\"-528.8\" font-family=\"Helvetica,sans-Serif\" font-size=\"14.00\" fill=\"#000000\">age ≤ 2.829</text>\n<text text-anchor=\"start\" x=\"2118\" y=\"-513.8\" font-family=\"Helvetica,sans-Serif\" font-size=\"14.00\" fill=\"#000000\">gini = 0.5</text>\n<text text-anchor=\"start\" x=\"2108\" y=\"-498.8\" font-family=\"Helvetica,sans-Serif\" font-size=\"14.00\" fill=\"#000000\">samples = 2</text>\n<text text-anchor=\"start\" x=\"2106\" y=\"-483.8\" font-family=\"Helvetica,sans-Serif\" font-size=\"14.00\" fill=\"#000000\">value = [1, 1]</text>\n<text text-anchor=\"start\" x=\"2121\" y=\"-468.8\" font-family=\"Helvetica,sans-Serif\" font-size=\"14.00\" fill=\"#000000\">class = l</text>\n</g>\n<!-- 95&#45;&gt;97 -->\n<g id=\"edge97\" class=\"edge\">\n<title>95&#45;&gt;97</title>\n<path fill=\"none\" stroke=\"#000000\" d=\"M2075.9727,-579.8796C2084.3811,-570.7832 2093.3576,-561.0722 2102.0103,-551.7116\"/>\n<polygon fill=\"#000000\" stroke=\"#000000\" points=\"2104.6453,-554.0172 2108.8631,-544.2981 2099.505,-549.2656 2104.6453,-554.0172\"/>\n</g>\n<!-- 98 -->\n<g id=\"node99\" class=\"node\">\n<title>98</title>\n<path fill=\"#399de5\" stroke=\"#000000\" d=\"M2043,-417.5C2043,-417.5 1968,-417.5 1968,-417.5 1962,-417.5 1956,-411.5 1956,-405.5 1956,-405.5 1956,-361.5 1956,-361.5 1956,-355.5 1962,-349.5 1968,-349.5 1968,-349.5 2043,-349.5 2043,-349.5 2049,-349.5 2055,-355.5 2055,-361.5 2055,-361.5 2055,-405.5 2055,-405.5 2055,-411.5 2049,-417.5 2043,-417.5\"/>\n<text text-anchor=\"start\" x=\"1976\" y=\"-402.3\" font-family=\"Helvetica,sans-Serif\" font-size=\"14.00\" fill=\"#000000\">gini = 0.0</text>\n<text text-anchor=\"start\" x=\"1966\" y=\"-387.3\" font-family=\"Helvetica,sans-Serif\" font-size=\"14.00\" fill=\"#000000\">samples = 1</text>\n<text text-anchor=\"start\" x=\"1964\" y=\"-372.3\" font-family=\"Helvetica,sans-Serif\" font-size=\"14.00\" fill=\"#000000\">value = [0, 1]</text>\n<text text-anchor=\"start\" x=\"1976.5\" y=\"-357.3\" font-family=\"Helvetica,sans-Serif\" font-size=\"14.00\" fill=\"#000000\">class = o</text>\n</g>\n<!-- 97&#45;&gt;98 -->\n<g id=\"edge98\" class=\"edge\">\n<title>97&#45;&gt;98</title>\n<path fill=\"none\" stroke=\"#000000\" d=\"M2097.8353,-460.8796C2083.6642,-449.0038 2068.243,-436.0804 2054.1342,-424.2568\"/>\n<polygon fill=\"#000000\" stroke=\"#000000\" points=\"2056.3598,-421.5554 2046.4472,-417.8149 2051.8637,-426.9206 2056.3598,-421.5554\"/>\n</g>\n<!-- 99 -->\n<g id=\"node100\" class=\"node\">\n<title>99</title>\n<path fill=\"#e58139\" stroke=\"#000000\" d=\"M2160,-417.5C2160,-417.5 2085,-417.5 2085,-417.5 2079,-417.5 2073,-411.5 2073,-405.5 2073,-405.5 2073,-361.5 2073,-361.5 2073,-355.5 2079,-349.5 2085,-349.5 2085,-349.5 2160,-349.5 2160,-349.5 2166,-349.5 2172,-355.5 2172,-361.5 2172,-361.5 2172,-405.5 2172,-405.5 2172,-411.5 2166,-417.5 2160,-417.5\"/>\n<text text-anchor=\"start\" x=\"2093\" y=\"-402.3\" font-family=\"Helvetica,sans-Serif\" font-size=\"14.00\" fill=\"#000000\">gini = 0.0</text>\n<text text-anchor=\"start\" x=\"2083\" y=\"-387.3\" font-family=\"Helvetica,sans-Serif\" font-size=\"14.00\" fill=\"#000000\">samples = 1</text>\n<text text-anchor=\"start\" x=\"2081\" y=\"-372.3\" font-family=\"Helvetica,sans-Serif\" font-size=\"14.00\" fill=\"#000000\">value = [1, 0]</text>\n<text text-anchor=\"start\" x=\"2096\" y=\"-357.3\" font-family=\"Helvetica,sans-Serif\" font-size=\"14.00\" fill=\"#000000\">class = l</text>\n</g>\n<!-- 97&#45;&gt;99 -->\n<g id=\"edge99\" class=\"edge\">\n<title>97&#45;&gt;99</title>\n<path fill=\"none\" stroke=\"#000000\" d=\"M2138.7562,-460.8796C2136.5154,-450.2134 2134.0971,-438.7021 2131.8281,-427.9015\"/>\n<polygon fill=\"#000000\" stroke=\"#000000\" points=\"2135.1903,-426.8817 2129.709,-417.8149 2128.3398,-428.3209 2135.1903,-426.8817\"/>\n</g>\n<!-- 101 -->\n<g id=\"node102\" class=\"node\">\n<title>101</title>\n<path fill=\"#e3f1fb\" stroke=\"#000000\" d=\"M2318.5,-663C2318.5,-663 2238.5,-663 2238.5,-663 2232.5,-663 2226.5,-657 2226.5,-651 2226.5,-651 2226.5,-592 2226.5,-592 2226.5,-586 2232.5,-580 2238.5,-580 2238.5,-580 2318.5,-580 2318.5,-580 2324.5,-580 2330.5,-586 2330.5,-592 2330.5,-592 2330.5,-651 2330.5,-651 2330.5,-657 2324.5,-663 2318.5,-663\"/>\n<text text-anchor=\"start\" x=\"2240\" y=\"-647.8\" font-family=\"Helvetica,sans-Serif\" font-size=\"14.00\" fill=\"#000000\">age ≤ 2.497</text>\n<text text-anchor=\"start\" x=\"2240.5\" y=\"-632.8\" font-family=\"Helvetica,sans-Serif\" font-size=\"14.00\" fill=\"#000000\">gini = 0.497</text>\n<text text-anchor=\"start\" x=\"2234.5\" y=\"-617.8\" font-family=\"Helvetica,sans-Serif\" font-size=\"14.00\" fill=\"#000000\">samples = 13</text>\n<text text-anchor=\"start\" x=\"2237\" y=\"-602.8\" font-family=\"Helvetica,sans-Serif\" font-size=\"14.00\" fill=\"#000000\">value = [6, 7]</text>\n<text text-anchor=\"start\" x=\"2249.5\" y=\"-587.8\" font-family=\"Helvetica,sans-Serif\" font-size=\"14.00\" fill=\"#000000\">class = o</text>\n</g>\n<!-- 100&#45;&gt;101 -->\n<g id=\"edge101\" class=\"edge\">\n<title>100&#45;&gt;101</title>\n<path fill=\"none\" stroke=\"#000000\" d=\"M2278.5,-698.8796C2278.5,-690.6838 2278.5,-681.9891 2278.5,-673.5013\"/>\n<polygon fill=\"#000000\" stroke=\"#000000\" points=\"2282.0001,-673.298 2278.5,-663.2981 2275.0001,-673.2981 2282.0001,-673.298\"/>\n</g>\n<!-- 118 -->\n<g id=\"node119\" class=\"node\">\n<title>118</title>\n<path fill=\"#399de5\" stroke=\"#000000\" d=\"M2436,-655.5C2436,-655.5 2361,-655.5 2361,-655.5 2355,-655.5 2349,-649.5 2349,-643.5 2349,-643.5 2349,-599.5 2349,-599.5 2349,-593.5 2355,-587.5 2361,-587.5 2361,-587.5 2436,-587.5 2436,-587.5 2442,-587.5 2448,-593.5 2448,-599.5 2448,-599.5 2448,-643.5 2448,-643.5 2448,-649.5 2442,-655.5 2436,-655.5\"/>\n<text text-anchor=\"start\" x=\"2369\" y=\"-640.3\" font-family=\"Helvetica,sans-Serif\" font-size=\"14.00\" fill=\"#000000\">gini = 0.0</text>\n<text text-anchor=\"start\" x=\"2359\" y=\"-625.3\" font-family=\"Helvetica,sans-Serif\" font-size=\"14.00\" fill=\"#000000\">samples = 1</text>\n<text text-anchor=\"start\" x=\"2357\" y=\"-610.3\" font-family=\"Helvetica,sans-Serif\" font-size=\"14.00\" fill=\"#000000\">value = [0, 1]</text>\n<text text-anchor=\"start\" x=\"2369.5\" y=\"-595.3\" font-family=\"Helvetica,sans-Serif\" font-size=\"14.00\" fill=\"#000000\">class = o</text>\n</g>\n<!-- 100&#45;&gt;118 -->\n<g id=\"edge118\" class=\"edge\">\n<title>100&#45;&gt;118</title>\n<path fill=\"none\" stroke=\"#000000\" d=\"M2320.4702,-698.8796C2332.224,-687.2237 2344.9954,-674.5587 2356.7372,-662.9148\"/>\n<polygon fill=\"#000000\" stroke=\"#000000\" points=\"2359.2606,-665.3416 2363.8967,-655.8149 2354.3316,-660.3712 2359.2606,-665.3416\"/>\n</g>\n<!-- 102 -->\n<g id=\"node103\" class=\"node\">\n<title>102</title>\n<path fill=\"#c6e3f8\" stroke=\"#000000\" d=\"M2329.5,-544C2329.5,-544 2227.5,-544 2227.5,-544 2221.5,-544 2215.5,-538 2215.5,-532 2215.5,-532 2215.5,-473 2215.5,-473 2215.5,-467 2221.5,-461 2227.5,-461 2227.5,-461 2329.5,-461 2329.5,-461 2335.5,-461 2341.5,-467 2341.5,-473 2341.5,-473 2341.5,-532 2341.5,-532 2341.5,-538 2335.5,-544 2329.5,-544\"/>\n<text text-anchor=\"start\" x=\"2223.5\" y=\"-528.8\" font-family=\"Helvetica,sans-Serif\" font-size=\"14.00\" fill=\"#000000\">Bechalor ≤ 1.119</text>\n<text text-anchor=\"start\" x=\"2240.5\" y=\"-513.8\" font-family=\"Helvetica,sans-Serif\" font-size=\"14.00\" fill=\"#000000\">gini = 0.486</text>\n<text text-anchor=\"start\" x=\"2234.5\" y=\"-498.8\" font-family=\"Helvetica,sans-Serif\" font-size=\"14.00\" fill=\"#000000\">samples = 12</text>\n<text text-anchor=\"start\" x=\"2237\" y=\"-483.8\" font-family=\"Helvetica,sans-Serif\" font-size=\"14.00\" fill=\"#000000\">value = [5, 7]</text>\n<text text-anchor=\"start\" x=\"2249.5\" y=\"-468.8\" font-family=\"Helvetica,sans-Serif\" font-size=\"14.00\" fill=\"#000000\">class = o</text>\n</g>\n<!-- 101&#45;&gt;102 -->\n<g id=\"edge102\" class=\"edge\">\n<title>101&#45;&gt;102</title>\n<path fill=\"none\" stroke=\"#000000\" d=\"M2278.5,-579.8796C2278.5,-571.6838 2278.5,-562.9891 2278.5,-554.5013\"/>\n<polygon fill=\"#000000\" stroke=\"#000000\" points=\"2282.0001,-554.298 2278.5,-544.2981 2275.0001,-554.2981 2282.0001,-554.298\"/>\n</g>\n<!-- 117 -->\n<g id=\"node118\" class=\"node\">\n<title>117</title>\n<path fill=\"#e58139\" stroke=\"#000000\" d=\"M2447,-536.5C2447,-536.5 2372,-536.5 2372,-536.5 2366,-536.5 2360,-530.5 2360,-524.5 2360,-524.5 2360,-480.5 2360,-480.5 2360,-474.5 2366,-468.5 2372,-468.5 2372,-468.5 2447,-468.5 2447,-468.5 2453,-468.5 2459,-474.5 2459,-480.5 2459,-480.5 2459,-524.5 2459,-524.5 2459,-530.5 2453,-536.5 2447,-536.5\"/>\n<text text-anchor=\"start\" x=\"2380\" y=\"-521.3\" font-family=\"Helvetica,sans-Serif\" font-size=\"14.00\" fill=\"#000000\">gini = 0.0</text>\n<text text-anchor=\"start\" x=\"2370\" y=\"-506.3\" font-family=\"Helvetica,sans-Serif\" font-size=\"14.00\" fill=\"#000000\">samples = 1</text>\n<text text-anchor=\"start\" x=\"2368\" y=\"-491.3\" font-family=\"Helvetica,sans-Serif\" font-size=\"14.00\" fill=\"#000000\">value = [1, 0]</text>\n<text text-anchor=\"start\" x=\"2383\" y=\"-476.3\" font-family=\"Helvetica,sans-Serif\" font-size=\"14.00\" fill=\"#000000\">class = l</text>\n</g>\n<!-- 101&#45;&gt;117 -->\n<g id=\"edge117\" class=\"edge\">\n<title>101&#45;&gt;117</title>\n<path fill=\"none\" stroke=\"#000000\" d=\"M2324.3174,-579.8796C2337.2697,-568.1138 2351.354,-555.3197 2364.2714,-543.5855\"/>\n<polygon fill=\"#000000\" stroke=\"#000000\" points=\"2366.6761,-546.1296 2371.7247,-536.8149 2361.9694,-540.9482 2366.6761,-546.1296\"/>\n</g>\n<!-- 103 -->\n<g id=\"node104\" class=\"node\">\n<title>103</title>\n<path fill=\"#b0d8f5\" stroke=\"#000000\" d=\"M2287,-425C2287,-425 2202,-425 2202,-425 2196,-425 2190,-419 2190,-413 2190,-413 2190,-354 2190,-354 2190,-348 2196,-342 2202,-342 2202,-342 2287,-342 2287,-342 2293,-342 2299,-348 2299,-354 2299,-354 2299,-413 2299,-413 2299,-419 2293,-425 2287,-425\"/>\n<text text-anchor=\"start\" x=\"2198\" y=\"-409.8\" font-family=\"Helvetica,sans-Serif\" font-size=\"14.00\" fill=\"#000000\">terms ≤ &#45;0.019</text>\n<text text-anchor=\"start\" x=\"2206.5\" y=\"-394.8\" font-family=\"Helvetica,sans-Serif\" font-size=\"14.00\" fill=\"#000000\">gini = 0.469</text>\n<text text-anchor=\"start\" x=\"2205\" y=\"-379.8\" font-family=\"Helvetica,sans-Serif\" font-size=\"14.00\" fill=\"#000000\">samples = 8</text>\n<text text-anchor=\"start\" x=\"2203\" y=\"-364.8\" font-family=\"Helvetica,sans-Serif\" font-size=\"14.00\" fill=\"#000000\">value = [3, 5]</text>\n<text text-anchor=\"start\" x=\"2215.5\" y=\"-349.8\" font-family=\"Helvetica,sans-Serif\" font-size=\"14.00\" fill=\"#000000\">class = o</text>\n</g>\n<!-- 102&#45;&gt;103 -->\n<g id=\"edge103\" class=\"edge\">\n<title>102&#45;&gt;103</title>\n<path fill=\"none\" stroke=\"#000000\" d=\"M2266.6084,-460.8796C2264.2153,-452.5037 2261.6733,-443.6067 2259.1977,-434.942\"/>\n<polygon fill=\"#000000\" stroke=\"#000000\" points=\"2262.5549,-433.9518 2256.4423,-425.2981 2255.8243,-435.8749 2262.5549,-433.9518\"/>\n</g>\n<!-- 112 -->\n<g id=\"node113\" class=\"node\">\n<title>112</title>\n<path fill=\"#ffffff\" stroke=\"#000000\" d=\"M2414,-425C2414,-425 2329,-425 2329,-425 2323,-425 2317,-419 2317,-413 2317,-413 2317,-354 2317,-354 2317,-348 2323,-342 2329,-342 2329,-342 2414,-342 2414,-342 2420,-342 2426,-348 2426,-354 2426,-354 2426,-413 2426,-413 2426,-419 2420,-425 2414,-425\"/>\n<text text-anchor=\"start\" x=\"2325\" y=\"-409.8\" font-family=\"Helvetica,sans-Serif\" font-size=\"14.00\" fill=\"#000000\">terms ≤ &#45;0.019</text>\n<text text-anchor=\"start\" x=\"2342\" y=\"-394.8\" font-family=\"Helvetica,sans-Serif\" font-size=\"14.00\" fill=\"#000000\">gini = 0.5</text>\n<text text-anchor=\"start\" x=\"2332\" y=\"-379.8\" font-family=\"Helvetica,sans-Serif\" font-size=\"14.00\" fill=\"#000000\">samples = 4</text>\n<text text-anchor=\"start\" x=\"2330\" y=\"-364.8\" font-family=\"Helvetica,sans-Serif\" font-size=\"14.00\" fill=\"#000000\">value = [2, 2]</text>\n<text text-anchor=\"start\" x=\"2345\" y=\"-349.8\" font-family=\"Helvetica,sans-Serif\" font-size=\"14.00\" fill=\"#000000\">class = l</text>\n</g>\n<!-- 102&#45;&gt;112 -->\n<g id=\"edge112\" class=\"edge\">\n<title>102&#45;&gt;112</title>\n<path fill=\"none\" stroke=\"#000000\" d=\"M2311.0269,-460.8796C2317.9951,-451.9633 2325.4247,-442.4565 2332.6056,-433.268\"/>\n<polygon fill=\"#000000\" stroke=\"#000000\" points=\"2335.4343,-435.3326 2338.8343,-425.2981 2329.9188,-431.0221 2335.4343,-435.3326\"/>\n</g>\n<!-- 104 -->\n<g id=\"node105\" class=\"node\">\n<title>104</title>\n<path fill=\"#ffffff\" stroke=\"#000000\" d=\"M2121,-306C2121,-306 2046,-306 2046,-306 2040,-306 2034,-300 2034,-294 2034,-294 2034,-235 2034,-235 2034,-229 2040,-223 2046,-223 2046,-223 2121,-223 2121,-223 2127,-223 2133,-229 2133,-235 2133,-235 2133,-294 2133,-294 2133,-300 2127,-306 2121,-306\"/>\n<text text-anchor=\"start\" x=\"2045\" y=\"-290.8\" font-family=\"Helvetica,sans-Serif\" font-size=\"14.00\" fill=\"#000000\">age ≤ 1.917</text>\n<text text-anchor=\"start\" x=\"2054\" y=\"-275.8\" font-family=\"Helvetica,sans-Serif\" font-size=\"14.00\" fill=\"#000000\">gini = 0.5</text>\n<text text-anchor=\"start\" x=\"2044\" y=\"-260.8\" font-family=\"Helvetica,sans-Serif\" font-size=\"14.00\" fill=\"#000000\">samples = 4</text>\n<text text-anchor=\"start\" x=\"2042\" y=\"-245.8\" font-family=\"Helvetica,sans-Serif\" font-size=\"14.00\" fill=\"#000000\">value = [2, 2]</text>\n<text text-anchor=\"start\" x=\"2057\" y=\"-230.8\" font-family=\"Helvetica,sans-Serif\" font-size=\"14.00\" fill=\"#000000\">class = l</text>\n</g>\n<!-- 103&#45;&gt;104 -->\n<g id=\"edge104\" class=\"edge\">\n<title>103&#45;&gt;104</title>\n<path fill=\"none\" stroke=\"#000000\" d=\"M2189.9927,-343.212C2174.3006,-331.6135 2157.1322,-318.9238 2141.2508,-307.1854\"/>\n<polygon fill=\"#000000\" stroke=\"#000000\" points=\"2143.2,-304.2738 2133.0778,-301.1445 2139.0392,-309.9031 2143.2,-304.2738\"/>\n</g>\n<!-- 109 -->\n<g id=\"node110\" class=\"node\">\n<title>109</title>\n<path fill=\"#7bbeee\" stroke=\"#000000\" d=\"M2238,-306C2238,-306 2163,-306 2163,-306 2157,-306 2151,-300 2151,-294 2151,-294 2151,-235 2151,-235 2151,-229 2157,-223 2163,-223 2163,-223 2238,-223 2238,-223 2244,-223 2250,-229 2250,-235 2250,-235 2250,-294 2250,-294 2250,-300 2244,-306 2238,-306\"/>\n<text text-anchor=\"start\" x=\"2162\" y=\"-290.8\" font-family=\"Helvetica,sans-Serif\" font-size=\"14.00\" fill=\"#000000\">age ≤ 1.585</text>\n<text text-anchor=\"start\" x=\"2162.5\" y=\"-275.8\" font-family=\"Helvetica,sans-Serif\" font-size=\"14.00\" fill=\"#000000\">gini = 0.375</text>\n<text text-anchor=\"start\" x=\"2161\" y=\"-260.8\" font-family=\"Helvetica,sans-Serif\" font-size=\"14.00\" fill=\"#000000\">samples = 4</text>\n<text text-anchor=\"start\" x=\"2159\" y=\"-245.8\" font-family=\"Helvetica,sans-Serif\" font-size=\"14.00\" fill=\"#000000\">value = [1, 3]</text>\n<text text-anchor=\"start\" x=\"2171.5\" y=\"-230.8\" font-family=\"Helvetica,sans-Serif\" font-size=\"14.00\" fill=\"#000000\">class = o</text>\n</g>\n<!-- 103&#45;&gt;109 -->\n<g id=\"edge109\" class=\"edge\">\n<title>103&#45;&gt;109</title>\n<path fill=\"none\" stroke=\"#000000\" d=\"M2229.1109,-341.8796C2226.014,-333.5037 2222.7243,-324.6067 2219.5206,-315.942\"/>\n<polygon fill=\"#000000\" stroke=\"#000000\" points=\"2222.7056,-314.4636 2215.9547,-306.2981 2216.14,-316.8913 2222.7056,-314.4636\"/>\n</g>\n<!-- 105 -->\n<g id=\"node106\" class=\"node\">\n<title>105</title>\n<path fill=\"#9ccef2\" stroke=\"#000000\" d=\"M2004,-187C2004,-187 1929,-187 1929,-187 1923,-187 1917,-181 1917,-175 1917,-175 1917,-116 1917,-116 1917,-110 1923,-104 1929,-104 1929,-104 2004,-104 2004,-104 2010,-104 2016,-110 2016,-116 2016,-116 2016,-175 2016,-175 2016,-181 2010,-187 2004,-187\"/>\n<text text-anchor=\"start\" x=\"1932\" y=\"-171.8\" font-family=\"Helvetica,sans-Serif\" font-size=\"14.00\" fill=\"#000000\">age ≤ 1.42</text>\n<text text-anchor=\"start\" x=\"1928.5\" y=\"-156.8\" font-family=\"Helvetica,sans-Serif\" font-size=\"14.00\" fill=\"#000000\">gini = 0.444</text>\n<text text-anchor=\"start\" x=\"1927\" y=\"-141.8\" font-family=\"Helvetica,sans-Serif\" font-size=\"14.00\" fill=\"#000000\">samples = 3</text>\n<text text-anchor=\"start\" x=\"1925\" y=\"-126.8\" font-family=\"Helvetica,sans-Serif\" font-size=\"14.00\" fill=\"#000000\">value = [1, 2]</text>\n<text text-anchor=\"start\" x=\"1937.5\" y=\"-111.8\" font-family=\"Helvetica,sans-Serif\" font-size=\"14.00\" fill=\"#000000\">class = o</text>\n</g>\n<!-- 104&#45;&gt;105 -->\n<g id=\"edge105\" class=\"edge\">\n<title>104&#45;&gt;105</title>\n<path fill=\"none\" stroke=\"#000000\" d=\"M2042.5791,-222.8796C2033.547,-213.6931 2023.8987,-203.8798 2014.6112,-194.4336\"/>\n<polygon fill=\"#000000\" stroke=\"#000000\" points=\"2017.1023,-191.975 2007.5956,-187.2981 2012.1107,-196.8827 2017.1023,-191.975\"/>\n</g>\n<!-- 108 -->\n<g id=\"node109\" class=\"node\">\n<title>108</title>\n<path fill=\"#e58139\" stroke=\"#000000\" d=\"M2121,-179.5C2121,-179.5 2046,-179.5 2046,-179.5 2040,-179.5 2034,-173.5 2034,-167.5 2034,-167.5 2034,-123.5 2034,-123.5 2034,-117.5 2040,-111.5 2046,-111.5 2046,-111.5 2121,-111.5 2121,-111.5 2127,-111.5 2133,-117.5 2133,-123.5 2133,-123.5 2133,-167.5 2133,-167.5 2133,-173.5 2127,-179.5 2121,-179.5\"/>\n<text text-anchor=\"start\" x=\"2054\" y=\"-164.3\" font-family=\"Helvetica,sans-Serif\" font-size=\"14.00\" fill=\"#000000\">gini = 0.0</text>\n<text text-anchor=\"start\" x=\"2044\" y=\"-149.3\" font-family=\"Helvetica,sans-Serif\" font-size=\"14.00\" fill=\"#000000\">samples = 1</text>\n<text text-anchor=\"start\" x=\"2042\" y=\"-134.3\" font-family=\"Helvetica,sans-Serif\" font-size=\"14.00\" fill=\"#000000\">value = [1, 0]</text>\n<text text-anchor=\"start\" x=\"2057\" y=\"-119.3\" font-family=\"Helvetica,sans-Serif\" font-size=\"14.00\" fill=\"#000000\">class = l</text>\n</g>\n<!-- 104&#45;&gt;108 -->\n<g id=\"edge108\" class=\"edge\">\n<title>104&#45;&gt;108</title>\n<path fill=\"none\" stroke=\"#000000\" d=\"M2083.5,-222.8796C2083.5,-212.2134 2083.5,-200.7021 2083.5,-189.9015\"/>\n<polygon fill=\"#000000\" stroke=\"#000000\" points=\"2087.0001,-189.8149 2083.5,-179.8149 2080.0001,-189.815 2087.0001,-189.8149\"/>\n</g>\n<!-- 106 -->\n<g id=\"node107\" class=\"node\">\n<title>106</title>\n<path fill=\"#ffffff\" stroke=\"#000000\" d=\"M1946,-68C1946,-68 1871,-68 1871,-68 1865,-68 1859,-62 1859,-56 1859,-56 1859,-12 1859,-12 1859,-6 1865,0 1871,0 1871,0 1946,0 1946,0 1952,0 1958,-6 1958,-12 1958,-12 1958,-56 1958,-56 1958,-62 1952,-68 1946,-68\"/>\n<text text-anchor=\"start\" x=\"1879\" y=\"-52.8\" font-family=\"Helvetica,sans-Serif\" font-size=\"14.00\" fill=\"#000000\">gini = 0.5</text>\n<text text-anchor=\"start\" x=\"1869\" y=\"-37.8\" font-family=\"Helvetica,sans-Serif\" font-size=\"14.00\" fill=\"#000000\">samples = 2</text>\n<text text-anchor=\"start\" x=\"1867\" y=\"-22.8\" font-family=\"Helvetica,sans-Serif\" font-size=\"14.00\" fill=\"#000000\">value = [1, 1]</text>\n<text text-anchor=\"start\" x=\"1882\" y=\"-7.8\" font-family=\"Helvetica,sans-Serif\" font-size=\"14.00\" fill=\"#000000\">class = l</text>\n</g>\n<!-- 105&#45;&gt;106 -->\n<g id=\"edge106\" class=\"edge\">\n<title>105&#45;&gt;106</title>\n<path fill=\"none\" stroke=\"#000000\" d=\"M1944.9029,-103.9815C1940.3612,-95.2504 1935.5598,-86.0202 1930.9863,-77.2281\"/>\n<polygon fill=\"#000000\" stroke=\"#000000\" points=\"1934.0431,-75.52 1926.3233,-68.2637 1927.8331,-78.7504 1934.0431,-75.52\"/>\n</g>\n<!-- 107 -->\n<g id=\"node108\" class=\"node\">\n<title>107</title>\n<path fill=\"#399de5\" stroke=\"#000000\" d=\"M2063,-68C2063,-68 1988,-68 1988,-68 1982,-68 1976,-62 1976,-56 1976,-56 1976,-12 1976,-12 1976,-6 1982,0 1988,0 1988,0 2063,0 2063,0 2069,0 2075,-6 2075,-12 2075,-12 2075,-56 2075,-56 2075,-62 2069,-68 2063,-68\"/>\n<text text-anchor=\"start\" x=\"1996\" y=\"-52.8\" font-family=\"Helvetica,sans-Serif\" font-size=\"14.00\" fill=\"#000000\">gini = 0.0</text>\n<text text-anchor=\"start\" x=\"1986\" y=\"-37.8\" font-family=\"Helvetica,sans-Serif\" font-size=\"14.00\" fill=\"#000000\">samples = 1</text>\n<text text-anchor=\"start\" x=\"1984\" y=\"-22.8\" font-family=\"Helvetica,sans-Serif\" font-size=\"14.00\" fill=\"#000000\">value = [0, 1]</text>\n<text text-anchor=\"start\" x=\"1996.5\" y=\"-7.8\" font-family=\"Helvetica,sans-Serif\" font-size=\"14.00\" fill=\"#000000\">class = o</text>\n</g>\n<!-- 105&#45;&gt;107 -->\n<g id=\"edge107\" class=\"edge\">\n<title>105&#45;&gt;107</title>\n<path fill=\"none\" stroke=\"#000000\" d=\"M1988.4694,-103.9815C1993.0895,-95.2504 1997.9736,-86.0202 2002.626,-77.2281\"/>\n<polygon fill=\"#000000\" stroke=\"#000000\" points=\"2005.7859,-78.7395 2007.3694,-68.2637 1999.5987,-75.4655 2005.7859,-78.7395\"/>\n</g>\n<!-- 110 -->\n<g id=\"node111\" class=\"node\">\n<title>110</title>\n<path fill=\"#ffffff\" stroke=\"#000000\" d=\"M2238,-179.5C2238,-179.5 2163,-179.5 2163,-179.5 2157,-179.5 2151,-173.5 2151,-167.5 2151,-167.5 2151,-123.5 2151,-123.5 2151,-117.5 2157,-111.5 2163,-111.5 2163,-111.5 2238,-111.5 2238,-111.5 2244,-111.5 2250,-117.5 2250,-123.5 2250,-123.5 2250,-167.5 2250,-167.5 2250,-173.5 2244,-179.5 2238,-179.5\"/>\n<text text-anchor=\"start\" x=\"2171\" y=\"-164.3\" font-family=\"Helvetica,sans-Serif\" font-size=\"14.00\" fill=\"#000000\">gini = 0.5</text>\n<text text-anchor=\"start\" x=\"2161\" y=\"-149.3\" font-family=\"Helvetica,sans-Serif\" font-size=\"14.00\" fill=\"#000000\">samples = 2</text>\n<text text-anchor=\"start\" x=\"2159\" y=\"-134.3\" font-family=\"Helvetica,sans-Serif\" font-size=\"14.00\" fill=\"#000000\">value = [1, 1]</text>\n<text text-anchor=\"start\" x=\"2174\" y=\"-119.3\" font-family=\"Helvetica,sans-Serif\" font-size=\"14.00\" fill=\"#000000\">class = l</text>\n</g>\n<!-- 109&#45;&gt;110 -->\n<g id=\"edge110\" class=\"edge\">\n<title>109&#45;&gt;110</title>\n<path fill=\"none\" stroke=\"#000000\" d=\"M2200.5,-222.8796C2200.5,-212.2134 2200.5,-200.7021 2200.5,-189.9015\"/>\n<polygon fill=\"#000000\" stroke=\"#000000\" points=\"2204.0001,-189.8149 2200.5,-179.8149 2197.0001,-189.815 2204.0001,-189.8149\"/>\n</g>\n<!-- 111 -->\n<g id=\"node112\" class=\"node\">\n<title>111</title>\n<path fill=\"#399de5\" stroke=\"#000000\" d=\"M2355,-179.5C2355,-179.5 2280,-179.5 2280,-179.5 2274,-179.5 2268,-173.5 2268,-167.5 2268,-167.5 2268,-123.5 2268,-123.5 2268,-117.5 2274,-111.5 2280,-111.5 2280,-111.5 2355,-111.5 2355,-111.5 2361,-111.5 2367,-117.5 2367,-123.5 2367,-123.5 2367,-167.5 2367,-167.5 2367,-173.5 2361,-179.5 2355,-179.5\"/>\n<text text-anchor=\"start\" x=\"2288\" y=\"-164.3\" font-family=\"Helvetica,sans-Serif\" font-size=\"14.00\" fill=\"#000000\">gini = 0.0</text>\n<text text-anchor=\"start\" x=\"2278\" y=\"-149.3\" font-family=\"Helvetica,sans-Serif\" font-size=\"14.00\" fill=\"#000000\">samples = 2</text>\n<text text-anchor=\"start\" x=\"2276\" y=\"-134.3\" font-family=\"Helvetica,sans-Serif\" font-size=\"14.00\" fill=\"#000000\">value = [0, 2]</text>\n<text text-anchor=\"start\" x=\"2288.5\" y=\"-119.3\" font-family=\"Helvetica,sans-Serif\" font-size=\"14.00\" fill=\"#000000\">class = o</text>\n</g>\n<!-- 109&#45;&gt;111 -->\n<g id=\"edge111\" class=\"edge\">\n<title>109&#45;&gt;111</title>\n<path fill=\"none\" stroke=\"#000000\" d=\"M2241.4209,-222.8796C2252.7728,-211.3337 2265.0982,-198.7976 2276.457,-187.2446\"/>\n<polygon fill=\"#000000\" stroke=\"#000000\" points=\"2279.2466,-189.3995 2283.7618,-179.8149 2274.2551,-184.4919 2279.2466,-189.3995\"/>\n</g>\n<!-- 113 -->\n<g id=\"node114\" class=\"node\">\n<title>113</title>\n<path fill=\"#399de5\" stroke=\"#000000\" d=\"M2355,-298.5C2355,-298.5 2280,-298.5 2280,-298.5 2274,-298.5 2268,-292.5 2268,-286.5 2268,-286.5 2268,-242.5 2268,-242.5 2268,-236.5 2274,-230.5 2280,-230.5 2280,-230.5 2355,-230.5 2355,-230.5 2361,-230.5 2367,-236.5 2367,-242.5 2367,-242.5 2367,-286.5 2367,-286.5 2367,-292.5 2361,-298.5 2355,-298.5\"/>\n<text text-anchor=\"start\" x=\"2288\" y=\"-283.3\" font-family=\"Helvetica,sans-Serif\" font-size=\"14.00\" fill=\"#000000\">gini = 0.0</text>\n<text text-anchor=\"start\" x=\"2278\" y=\"-268.3\" font-family=\"Helvetica,sans-Serif\" font-size=\"14.00\" fill=\"#000000\">samples = 1</text>\n<text text-anchor=\"start\" x=\"2276\" y=\"-253.3\" font-family=\"Helvetica,sans-Serif\" font-size=\"14.00\" fill=\"#000000\">value = [0, 1]</text>\n<text text-anchor=\"start\" x=\"2288.5\" y=\"-238.3\" font-family=\"Helvetica,sans-Serif\" font-size=\"14.00\" fill=\"#000000\">class = o</text>\n</g>\n<!-- 112&#45;&gt;113 -->\n<g id=\"edge113\" class=\"edge\">\n<title>112&#45;&gt;113</title>\n<path fill=\"none\" stroke=\"#000000\" d=\"M2352.6134,-341.8796C2347.6735,-330.9935 2342.3341,-319.227 2337.3459,-308.2344\"/>\n<polygon fill=\"#000000\" stroke=\"#000000\" points=\"2340.391,-306.4749 2333.0715,-298.8149 2334.0166,-309.3675 2340.391,-306.4749\"/>\n</g>\n<!-- 114 -->\n<g id=\"node115\" class=\"node\">\n<title>114</title>\n<path fill=\"#f2c09c\" stroke=\"#000000\" d=\"M2472,-306C2472,-306 2397,-306 2397,-306 2391,-306 2385,-300 2385,-294 2385,-294 2385,-235 2385,-235 2385,-229 2391,-223 2397,-223 2397,-223 2472,-223 2472,-223 2478,-223 2484,-229 2484,-235 2484,-235 2484,-294 2484,-294 2484,-300 2478,-306 2472,-306\"/>\n<text text-anchor=\"start\" x=\"2396\" y=\"-290.8\" font-family=\"Helvetica,sans-Serif\" font-size=\"14.00\" fill=\"#000000\">age ≤ 2.083</text>\n<text text-anchor=\"start\" x=\"2396.5\" y=\"-275.8\" font-family=\"Helvetica,sans-Serif\" font-size=\"14.00\" fill=\"#000000\">gini = 0.444</text>\n<text text-anchor=\"start\" x=\"2395\" y=\"-260.8\" font-family=\"Helvetica,sans-Serif\" font-size=\"14.00\" fill=\"#000000\">samples = 3</text>\n<text text-anchor=\"start\" x=\"2393\" y=\"-245.8\" font-family=\"Helvetica,sans-Serif\" font-size=\"14.00\" fill=\"#000000\">value = [2, 1]</text>\n<text text-anchor=\"start\" x=\"2408\" y=\"-230.8\" font-family=\"Helvetica,sans-Serif\" font-size=\"14.00\" fill=\"#000000\">class = l</text>\n</g>\n<!-- 112&#45;&gt;114 -->\n<g id=\"edge114\" class=\"edge\">\n<title>112&#45;&gt;114</title>\n<path fill=\"none\" stroke=\"#000000\" d=\"M2393.5343,-341.8796C2398.064,-333.3236 2402.8815,-324.2238 2407.5618,-315.3833\"/>\n<polygon fill=\"#000000\" stroke=\"#000000\" points=\"2410.7859,-316.7736 2412.3716,-306.2981 2404.5994,-313.4983 2410.7859,-316.7736\"/>\n</g>\n<!-- 115 -->\n<g id=\"node116\" class=\"node\">\n<title>115</title>\n<path fill=\"#e58139\" stroke=\"#000000\" d=\"M2472,-179.5C2472,-179.5 2397,-179.5 2397,-179.5 2391,-179.5 2385,-173.5 2385,-167.5 2385,-167.5 2385,-123.5 2385,-123.5 2385,-117.5 2391,-111.5 2397,-111.5 2397,-111.5 2472,-111.5 2472,-111.5 2478,-111.5 2484,-117.5 2484,-123.5 2484,-123.5 2484,-167.5 2484,-167.5 2484,-173.5 2478,-179.5 2472,-179.5\"/>\n<text text-anchor=\"start\" x=\"2405\" y=\"-164.3\" font-family=\"Helvetica,sans-Serif\" font-size=\"14.00\" fill=\"#000000\">gini = 0.0</text>\n<text text-anchor=\"start\" x=\"2395\" y=\"-149.3\" font-family=\"Helvetica,sans-Serif\" font-size=\"14.00\" fill=\"#000000\">samples = 2</text>\n<text text-anchor=\"start\" x=\"2393\" y=\"-134.3\" font-family=\"Helvetica,sans-Serif\" font-size=\"14.00\" fill=\"#000000\">value = [2, 0]</text>\n<text text-anchor=\"start\" x=\"2408\" y=\"-119.3\" font-family=\"Helvetica,sans-Serif\" font-size=\"14.00\" fill=\"#000000\">class = l</text>\n</g>\n<!-- 114&#45;&gt;115 -->\n<g id=\"edge115\" class=\"edge\">\n<title>114&#45;&gt;115</title>\n<path fill=\"none\" stroke=\"#000000\" d=\"M2434.5,-222.8796C2434.5,-212.2134 2434.5,-200.7021 2434.5,-189.9015\"/>\n<polygon fill=\"#000000\" stroke=\"#000000\" points=\"2438.0001,-189.8149 2434.5,-179.8149 2431.0001,-189.815 2438.0001,-189.8149\"/>\n</g>\n<!-- 116 -->\n<g id=\"node117\" class=\"node\">\n<title>116</title>\n<path fill=\"#399de5\" stroke=\"#000000\" d=\"M2589,-179.5C2589,-179.5 2514,-179.5 2514,-179.5 2508,-179.5 2502,-173.5 2502,-167.5 2502,-167.5 2502,-123.5 2502,-123.5 2502,-117.5 2508,-111.5 2514,-111.5 2514,-111.5 2589,-111.5 2589,-111.5 2595,-111.5 2601,-117.5 2601,-123.5 2601,-123.5 2601,-167.5 2601,-167.5 2601,-173.5 2595,-179.5 2589,-179.5\"/>\n<text text-anchor=\"start\" x=\"2522\" y=\"-164.3\" font-family=\"Helvetica,sans-Serif\" font-size=\"14.00\" fill=\"#000000\">gini = 0.0</text>\n<text text-anchor=\"start\" x=\"2512\" y=\"-149.3\" font-family=\"Helvetica,sans-Serif\" font-size=\"14.00\" fill=\"#000000\">samples = 1</text>\n<text text-anchor=\"start\" x=\"2510\" y=\"-134.3\" font-family=\"Helvetica,sans-Serif\" font-size=\"14.00\" fill=\"#000000\">value = [0, 1]</text>\n<text text-anchor=\"start\" x=\"2522.5\" y=\"-119.3\" font-family=\"Helvetica,sans-Serif\" font-size=\"14.00\" fill=\"#000000\">class = o</text>\n</g>\n<!-- 114&#45;&gt;116 -->\n<g id=\"edge116\" class=\"edge\">\n<title>114&#45;&gt;116</title>\n<path fill=\"none\" stroke=\"#000000\" d=\"M2475.4209,-222.8796C2486.7728,-211.3337 2499.0982,-198.7976 2510.457,-187.2446\"/>\n<polygon fill=\"#000000\" stroke=\"#000000\" points=\"2513.2466,-189.3995 2517.7618,-179.8149 2508.2551,-184.4919 2513.2466,-189.3995\"/>\n</g>\n<!-- 120 -->\n<g id=\"node121\" class=\"node\">\n<title>120</title>\n<path fill=\"#f7dbc6\" stroke=\"#000000\" d=\"M2512.5,-1258C2512.5,-1258 2412.5,-1258 2412.5,-1258 2406.5,-1258 2400.5,-1252 2400.5,-1246 2400.5,-1246 2400.5,-1187 2400.5,-1187 2400.5,-1181 2406.5,-1175 2412.5,-1175 2412.5,-1175 2512.5,-1175 2512.5,-1175 2518.5,-1175 2524.5,-1181 2524.5,-1187 2524.5,-1187 2524.5,-1246 2524.5,-1246 2524.5,-1252 2518.5,-1258 2512.5,-1258\"/>\n<text text-anchor=\"start\" x=\"2408.5\" y=\"-1242.8\" font-family=\"Helvetica,sans-Serif\" font-size=\"14.00\" fill=\"#000000\">Principal ≤ 0.058</text>\n<text text-anchor=\"start\" x=\"2424.5\" y=\"-1227.8\" font-family=\"Helvetica,sans-Serif\" font-size=\"14.00\" fill=\"#000000\">gini = 0.486</text>\n<text text-anchor=\"start\" x=\"2418.5\" y=\"-1212.8\" font-family=\"Helvetica,sans-Serif\" font-size=\"14.00\" fill=\"#000000\">samples = 65</text>\n<text text-anchor=\"start\" x=\"2412.5\" y=\"-1197.8\" font-family=\"Helvetica,sans-Serif\" font-size=\"14.00\" fill=\"#000000\">value = [38, 27]</text>\n<text text-anchor=\"start\" x=\"2436\" y=\"-1182.8\" font-family=\"Helvetica,sans-Serif\" font-size=\"14.00\" fill=\"#000000\">class = l</text>\n</g>\n<!-- 119&#45;&gt;120 -->\n<g id=\"edge120\" class=\"edge\">\n<title>119&#45;&gt;120</title>\n<path fill=\"none\" stroke=\"#000000\" d=\"M2462.5,-1293.8796C2462.5,-1285.6838 2462.5,-1276.9891 2462.5,-1268.5013\"/>\n<polygon fill=\"#000000\" stroke=\"#000000\" points=\"2466.0001,-1268.298 2462.5,-1258.2981 2459.0001,-1268.2981 2466.0001,-1268.298\"/>\n</g>\n<!-- 173 -->\n<g id=\"node174\" class=\"node\">\n<title>173</title>\n<path fill=\"#ea9a61\" stroke=\"#000000\" d=\"M2690,-1258C2690,-1258 2607,-1258 2607,-1258 2601,-1258 2595,-1252 2595,-1246 2595,-1246 2595,-1187 2595,-1187 2595,-1181 2601,-1175 2607,-1175 2607,-1175 2690,-1175 2690,-1175 2696,-1175 2702,-1181 2702,-1187 2702,-1187 2702,-1246 2702,-1246 2702,-1252 2696,-1258 2690,-1258\"/>\n<text text-anchor=\"start\" x=\"2610\" y=\"-1242.8\" font-family=\"Helvetica,sans-Serif\" font-size=\"14.00\" fill=\"#000000\">age ≤ 0.922</text>\n<text text-anchor=\"start\" x=\"2610.5\" y=\"-1227.8\" font-family=\"Helvetica,sans-Serif\" font-size=\"14.00\" fill=\"#000000\">gini = 0.278</text>\n<text text-anchor=\"start\" x=\"2604.5\" y=\"-1212.8\" font-family=\"Helvetica,sans-Serif\" font-size=\"14.00\" fill=\"#000000\">samples = 12</text>\n<text text-anchor=\"start\" x=\"2603\" y=\"-1197.8\" font-family=\"Helvetica,sans-Serif\" font-size=\"14.00\" fill=\"#000000\">value = [10, 2]</text>\n<text text-anchor=\"start\" x=\"2622\" y=\"-1182.8\" font-family=\"Helvetica,sans-Serif\" font-size=\"14.00\" fill=\"#000000\">class = l</text>\n</g>\n<!-- 119&#45;&gt;173 -->\n<g id=\"edge173\" class=\"edge\">\n<title>119&#45;&gt;173</title>\n<path fill=\"none\" stroke=\"#000000\" d=\"M2520.5865,-1298.3371C2541.4779,-1284.9711 2565.119,-1269.8459 2586.3432,-1256.267\"/>\n<polygon fill=\"#000000\" stroke=\"#000000\" points=\"2588.4275,-1259.0886 2594.9648,-1250.751 2584.655,-1253.1921 2588.4275,-1259.0886\"/>\n</g>\n<!-- 121 -->\n<g id=\"node122\" class=\"node\">\n<title>121</title>\n<path fill=\"#eeaf81\" stroke=\"#000000\" d=\"M2378,-1139C2378,-1139 2295,-1139 2295,-1139 2289,-1139 2283,-1133 2283,-1127 2283,-1127 2283,-1068 2283,-1068 2283,-1062 2289,-1056 2295,-1056 2295,-1056 2378,-1056 2378,-1056 2384,-1056 2390,-1062 2390,-1068 2390,-1068 2390,-1127 2390,-1127 2390,-1133 2384,-1139 2378,-1139\"/>\n<text text-anchor=\"start\" x=\"2295.5\" y=\"-1123.8\" font-family=\"Helvetica,sans-Serif\" font-size=\"14.00\" fill=\"#000000\">age ≤ &#45;1.316</text>\n<text text-anchor=\"start\" x=\"2298.5\" y=\"-1108.8\" font-family=\"Helvetica,sans-Serif\" font-size=\"14.00\" fill=\"#000000\">gini = 0.391</text>\n<text text-anchor=\"start\" x=\"2292.5\" y=\"-1093.8\" font-family=\"Helvetica,sans-Serif\" font-size=\"14.00\" fill=\"#000000\">samples = 15</text>\n<text text-anchor=\"start\" x=\"2291\" y=\"-1078.8\" font-family=\"Helvetica,sans-Serif\" font-size=\"14.00\" fill=\"#000000\">value = [11, 4]</text>\n<text text-anchor=\"start\" x=\"2310\" y=\"-1063.8\" font-family=\"Helvetica,sans-Serif\" font-size=\"14.00\" fill=\"#000000\">class = l</text>\n</g>\n<!-- 120&#45;&gt;121 -->\n<g id=\"edge121\" class=\"edge\">\n<title>120&#45;&gt;121</title>\n<path fill=\"none\" stroke=\"#000000\" d=\"M2418.4313,-1174.8796C2408.7045,-1165.6931 2398.3139,-1155.8798 2388.3121,-1146.4336\"/>\n<polygon fill=\"#000000\" stroke=\"#000000\" points=\"2390.4301,-1143.6198 2380.7568,-1139.2981 2385.6237,-1148.7089 2390.4301,-1143.6198\"/>\n</g>\n<!-- 136 -->\n<g id=\"node137\" class=\"node\">\n<title>136</title>\n<path fill=\"#fbece2\" stroke=\"#000000\" d=\"M2512.5,-1139C2512.5,-1139 2420.5,-1139 2420.5,-1139 2414.5,-1139 2408.5,-1133 2408.5,-1127 2408.5,-1127 2408.5,-1068 2408.5,-1068 2408.5,-1062 2414.5,-1056 2420.5,-1056 2420.5,-1056 2512.5,-1056 2512.5,-1056 2518.5,-1056 2524.5,-1062 2524.5,-1068 2524.5,-1068 2524.5,-1127 2524.5,-1127 2524.5,-1133 2518.5,-1139 2512.5,-1139\"/>\n<text text-anchor=\"start\" x=\"2430\" y=\"-1123.8\" font-family=\"Helvetica,sans-Serif\" font-size=\"14.00\" fill=\"#000000\">age ≤ &#45;1.98</text>\n<text text-anchor=\"start\" x=\"2428.5\" y=\"-1108.8\" font-family=\"Helvetica,sans-Serif\" font-size=\"14.00\" fill=\"#000000\">gini = 0.497</text>\n<text text-anchor=\"start\" x=\"2422.5\" y=\"-1093.8\" font-family=\"Helvetica,sans-Serif\" font-size=\"14.00\" fill=\"#000000\">samples = 50</text>\n<text text-anchor=\"start\" x=\"2416.5\" y=\"-1078.8\" font-family=\"Helvetica,sans-Serif\" font-size=\"14.00\" fill=\"#000000\">value = [27, 23]</text>\n<text text-anchor=\"start\" x=\"2440\" y=\"-1063.8\" font-family=\"Helvetica,sans-Serif\" font-size=\"14.00\" fill=\"#000000\">class = l</text>\n</g>\n<!-- 120&#45;&gt;136 -->\n<g id=\"edge136\" class=\"edge\">\n<title>120&#45;&gt;136</title>\n<path fill=\"none\" stroke=\"#000000\" d=\"M2463.899,-1174.8796C2464.1745,-1166.6838 2464.4668,-1157.9891 2464.7521,-1149.5013\"/>\n<polygon fill=\"#000000\" stroke=\"#000000\" points=\"2468.257,-1149.41 2465.095,-1139.2981 2461.261,-1149.1748 2468.257,-1149.41\"/>\n</g>\n<!-- 122 -->\n<g id=\"node123\" class=\"node\">\n<title>122</title>\n<path fill=\"#399de5\" stroke=\"#000000\" d=\"M2255,-1012.5C2255,-1012.5 2180,-1012.5 2180,-1012.5 2174,-1012.5 2168,-1006.5 2168,-1000.5 2168,-1000.5 2168,-956.5 2168,-956.5 2168,-950.5 2174,-944.5 2180,-944.5 2180,-944.5 2255,-944.5 2255,-944.5 2261,-944.5 2267,-950.5 2267,-956.5 2267,-956.5 2267,-1000.5 2267,-1000.5 2267,-1006.5 2261,-1012.5 2255,-1012.5\"/>\n<text text-anchor=\"start\" x=\"2188\" y=\"-997.3\" font-family=\"Helvetica,sans-Serif\" font-size=\"14.00\" fill=\"#000000\">gini = 0.0</text>\n<text text-anchor=\"start\" x=\"2178\" y=\"-982.3\" font-family=\"Helvetica,sans-Serif\" font-size=\"14.00\" fill=\"#000000\">samples = 1</text>\n<text text-anchor=\"start\" x=\"2176\" y=\"-967.3\" font-family=\"Helvetica,sans-Serif\" font-size=\"14.00\" fill=\"#000000\">value = [0, 1]</text>\n<text text-anchor=\"start\" x=\"2188.5\" y=\"-952.3\" font-family=\"Helvetica,sans-Serif\" font-size=\"14.00\" fill=\"#000000\">class = o</text>\n</g>\n<!-- 121&#45;&gt;122 -->\n<g id=\"edge122\" class=\"edge\">\n<title>121&#45;&gt;122</title>\n<path fill=\"none\" stroke=\"#000000\" d=\"M2294.8796,-1055.8796C2283.2237,-1044.2237 2270.5587,-1031.5587 2258.9148,-1019.9148\"/>\n<polygon fill=\"#000000\" stroke=\"#000000\" points=\"2261.3609,-1017.4111 2251.8149,-1012.8149 2256.4111,-1022.3609 2261.3609,-1017.4111\"/>\n</g>\n<!-- 123 -->\n<g id=\"node124\" class=\"node\">\n<title>123</title>\n<path fill=\"#eca36f\" stroke=\"#000000\" d=\"M2380,-1020C2380,-1020 2297,-1020 2297,-1020 2291,-1020 2285,-1014 2285,-1008 2285,-1008 2285,-949 2285,-949 2285,-943 2291,-937 2297,-937 2297,-937 2380,-937 2380,-937 2386,-937 2392,-943 2392,-949 2392,-949 2392,-1008 2392,-1008 2392,-1014 2386,-1020 2380,-1020\"/>\n<text text-anchor=\"start\" x=\"2297.5\" y=\"-1004.8\" font-family=\"Helvetica,sans-Serif\" font-size=\"14.00\" fill=\"#000000\">age ≤ &#45;0.736</text>\n<text text-anchor=\"start\" x=\"2300.5\" y=\"-989.8\" font-family=\"Helvetica,sans-Serif\" font-size=\"14.00\" fill=\"#000000\">gini = 0.337</text>\n<text text-anchor=\"start\" x=\"2294.5\" y=\"-974.8\" font-family=\"Helvetica,sans-Serif\" font-size=\"14.00\" fill=\"#000000\">samples = 14</text>\n<text text-anchor=\"start\" x=\"2293\" y=\"-959.8\" font-family=\"Helvetica,sans-Serif\" font-size=\"14.00\" fill=\"#000000\">value = [11, 3]</text>\n<text text-anchor=\"start\" x=\"2312\" y=\"-944.8\" font-family=\"Helvetica,sans-Serif\" font-size=\"14.00\" fill=\"#000000\">class = l</text>\n</g>\n<!-- 121&#45;&gt;123 -->\n<g id=\"edge123\" class=\"edge\">\n<title>121&#45;&gt;123</title>\n<path fill=\"none\" stroke=\"#000000\" d=\"M2337.1995,-1055.8796C2337.3372,-1047.6838 2337.4834,-1038.9891 2337.626,-1030.5013\"/>\n<polygon fill=\"#000000\" stroke=\"#000000\" points=\"2341.1289,-1030.3555 2337.7975,-1020.2981 2334.1299,-1030.2378 2341.1289,-1030.3555\"/>\n</g>\n<!-- 124 -->\n<g id=\"node125\" class=\"node\">\n<title>124</title>\n<path fill=\"#e58139\" stroke=\"#000000\" d=\"M2350,-893.5C2350,-893.5 2275,-893.5 2275,-893.5 2269,-893.5 2263,-887.5 2263,-881.5 2263,-881.5 2263,-837.5 2263,-837.5 2263,-831.5 2269,-825.5 2275,-825.5 2275,-825.5 2350,-825.5 2350,-825.5 2356,-825.5 2362,-831.5 2362,-837.5 2362,-837.5 2362,-881.5 2362,-881.5 2362,-887.5 2356,-893.5 2350,-893.5\"/>\n<text text-anchor=\"start\" x=\"2283\" y=\"-878.3\" font-family=\"Helvetica,sans-Serif\" font-size=\"14.00\" fill=\"#000000\">gini = 0.0</text>\n<text text-anchor=\"start\" x=\"2273\" y=\"-863.3\" font-family=\"Helvetica,sans-Serif\" font-size=\"14.00\" fill=\"#000000\">samples = 5</text>\n<text text-anchor=\"start\" x=\"2271\" y=\"-848.3\" font-family=\"Helvetica,sans-Serif\" font-size=\"14.00\" fill=\"#000000\">value = [5, 0]</text>\n<text text-anchor=\"start\" x=\"2286\" y=\"-833.3\" font-family=\"Helvetica,sans-Serif\" font-size=\"14.00\" fill=\"#000000\">class = l</text>\n</g>\n<!-- 123&#45;&gt;124 -->\n<g id=\"edge124\" class=\"edge\">\n<title>123&#45;&gt;124</title>\n<path fill=\"none\" stroke=\"#000000\" d=\"M2329.4065,-936.8796C2327.076,-926.2134 2324.561,-914.7021 2322.2012,-903.9015\"/>\n<polygon fill=\"#000000\" stroke=\"#000000\" points=\"2325.5513,-902.8374 2319.9974,-893.8149 2318.7126,-904.3316 2325.5513,-902.8374\"/>\n</g>\n<!-- 125 -->\n<g id=\"node126\" class=\"node\">\n<title>125</title>\n<path fill=\"#f2c09c\" stroke=\"#000000\" d=\"M2467,-901C2467,-901 2392,-901 2392,-901 2386,-901 2380,-895 2380,-889 2380,-889 2380,-830 2380,-830 2380,-824 2386,-818 2392,-818 2392,-818 2467,-818 2467,-818 2473,-818 2479,-824 2479,-830 2479,-830 2479,-889 2479,-889 2479,-895 2473,-901 2467,-901\"/>\n<text text-anchor=\"start\" x=\"2393\" y=\"-885.8\" font-family=\"Helvetica,sans-Serif\" font-size=\"14.00\" fill=\"#000000\">age ≤ &#45;0.57</text>\n<text text-anchor=\"start\" x=\"2391.5\" y=\"-870.8\" font-family=\"Helvetica,sans-Serif\" font-size=\"14.00\" fill=\"#000000\">gini = 0.444</text>\n<text text-anchor=\"start\" x=\"2390\" y=\"-855.8\" font-family=\"Helvetica,sans-Serif\" font-size=\"14.00\" fill=\"#000000\">samples = 9</text>\n<text text-anchor=\"start\" x=\"2388\" y=\"-840.8\" font-family=\"Helvetica,sans-Serif\" font-size=\"14.00\" fill=\"#000000\">value = [6, 3]</text>\n<text text-anchor=\"start\" x=\"2403\" y=\"-825.8\" font-family=\"Helvetica,sans-Serif\" font-size=\"14.00\" fill=\"#000000\">class = l</text>\n</g>\n<!-- 123&#45;&gt;125 -->\n<g id=\"edge125\" class=\"edge\">\n<title>123&#45;&gt;125</title>\n<path fill=\"none\" stroke=\"#000000\" d=\"M2370.3274,-936.8796C2377.1457,-927.9633 2384.4156,-918.4565 2391.4421,-909.268\"/>\n<polygon fill=\"#000000\" stroke=\"#000000\" points=\"2394.2425,-911.3678 2397.5368,-901.2981 2388.682,-907.1156 2394.2425,-911.3678\"/>\n</g>\n<!-- 126 -->\n<g id=\"node127\" class=\"node\">\n<title>126</title>\n<path fill=\"#399de5\" stroke=\"#000000\" d=\"M2467,-774.5C2467,-774.5 2392,-774.5 2392,-774.5 2386,-774.5 2380,-768.5 2380,-762.5 2380,-762.5 2380,-718.5 2380,-718.5 2380,-712.5 2386,-706.5 2392,-706.5 2392,-706.5 2467,-706.5 2467,-706.5 2473,-706.5 2479,-712.5 2479,-718.5 2479,-718.5 2479,-762.5 2479,-762.5 2479,-768.5 2473,-774.5 2467,-774.5\"/>\n<text text-anchor=\"start\" x=\"2400\" y=\"-759.3\" font-family=\"Helvetica,sans-Serif\" font-size=\"14.00\" fill=\"#000000\">gini = 0.0</text>\n<text text-anchor=\"start\" x=\"2390\" y=\"-744.3\" font-family=\"Helvetica,sans-Serif\" font-size=\"14.00\" fill=\"#000000\">samples = 1</text>\n<text text-anchor=\"start\" x=\"2388\" y=\"-729.3\" font-family=\"Helvetica,sans-Serif\" font-size=\"14.00\" fill=\"#000000\">value = [0, 1]</text>\n<text text-anchor=\"start\" x=\"2400.5\" y=\"-714.3\" font-family=\"Helvetica,sans-Serif\" font-size=\"14.00\" fill=\"#000000\">class = o</text>\n</g>\n<!-- 125&#45;&gt;126 -->\n<g id=\"edge126\" class=\"edge\">\n<title>125&#45;&gt;126</title>\n<path fill=\"none\" stroke=\"#000000\" d=\"M2429.5,-817.8796C2429.5,-807.2134 2429.5,-795.7021 2429.5,-784.9015\"/>\n<polygon fill=\"#000000\" stroke=\"#000000\" points=\"2433.0001,-784.8149 2429.5,-774.8149 2426.0001,-784.815 2433.0001,-784.8149\"/>\n</g>\n<!-- 127 -->\n<g id=\"node128\" class=\"node\">\n<title>127</title>\n<path fill=\"#eeab7b\" stroke=\"#000000\" d=\"M2589,-782C2589,-782 2514,-782 2514,-782 2508,-782 2502,-776 2502,-770 2502,-770 2502,-711 2502,-711 2502,-705 2508,-699 2514,-699 2514,-699 2589,-699 2589,-699 2595,-699 2601,-705 2601,-711 2601,-711 2601,-770 2601,-770 2601,-776 2595,-782 2589,-782\"/>\n<text text-anchor=\"start\" x=\"2513\" y=\"-766.8\" font-family=\"Helvetica,sans-Serif\" font-size=\"14.00\" fill=\"#000000\">age ≤ 0.259</text>\n<text text-anchor=\"start\" x=\"2513.5\" y=\"-751.8\" font-family=\"Helvetica,sans-Serif\" font-size=\"14.00\" fill=\"#000000\">gini = 0.375</text>\n<text text-anchor=\"start\" x=\"2512\" y=\"-736.8\" font-family=\"Helvetica,sans-Serif\" font-size=\"14.00\" fill=\"#000000\">samples = 8</text>\n<text text-anchor=\"start\" x=\"2510\" y=\"-721.8\" font-family=\"Helvetica,sans-Serif\" font-size=\"14.00\" fill=\"#000000\">value = [6, 2]</text>\n<text text-anchor=\"start\" x=\"2525\" y=\"-706.8\" font-family=\"Helvetica,sans-Serif\" font-size=\"14.00\" fill=\"#000000\">class = l</text>\n</g>\n<!-- 125&#45;&gt;127 -->\n<g id=\"edge127\" class=\"edge\">\n<title>125&#45;&gt;127</title>\n<path fill=\"none\" stroke=\"#000000\" d=\"M2472.1697,-817.8796C2481.5877,-808.6931 2491.6484,-798.8798 2501.3328,-789.4336\"/>\n<polygon fill=\"#000000\" stroke=\"#000000\" points=\"2503.9335,-791.7861 2508.6482,-782.2981 2499.0457,-786.7751 2503.9335,-791.7861\"/>\n</g>\n<!-- 128 -->\n<g id=\"node129\" class=\"node\">\n<title>128</title>\n<path fill=\"#f2c09c\" stroke=\"#000000\" d=\"M2589,-663C2589,-663 2514,-663 2514,-663 2508,-663 2502,-657 2502,-651 2502,-651 2502,-592 2502,-592 2502,-586 2508,-580 2514,-580 2514,-580 2589,-580 2589,-580 2595,-580 2601,-586 2601,-592 2601,-592 2601,-651 2601,-651 2601,-657 2595,-663 2589,-663\"/>\n<text text-anchor=\"start\" x=\"2517\" y=\"-647.8\" font-family=\"Helvetica,sans-Serif\" font-size=\"14.00\" fill=\"#000000\">age ≤ 0.01</text>\n<text text-anchor=\"start\" x=\"2513.5\" y=\"-632.8\" font-family=\"Helvetica,sans-Serif\" font-size=\"14.00\" fill=\"#000000\">gini = 0.444</text>\n<text text-anchor=\"start\" x=\"2512\" y=\"-617.8\" font-family=\"Helvetica,sans-Serif\" font-size=\"14.00\" fill=\"#000000\">samples = 6</text>\n<text text-anchor=\"start\" x=\"2510\" y=\"-602.8\" font-family=\"Helvetica,sans-Serif\" font-size=\"14.00\" fill=\"#000000\">value = [4, 2]</text>\n<text text-anchor=\"start\" x=\"2525\" y=\"-587.8\" font-family=\"Helvetica,sans-Serif\" font-size=\"14.00\" fill=\"#000000\">class = l</text>\n</g>\n<!-- 127&#45;&gt;128 -->\n<g id=\"edge128\" class=\"edge\">\n<title>127&#45;&gt;128</title>\n<path fill=\"none\" stroke=\"#000000\" d=\"M2551.5,-698.8796C2551.5,-690.6838 2551.5,-681.9891 2551.5,-673.5013\"/>\n<polygon fill=\"#000000\" stroke=\"#000000\" points=\"2555.0001,-673.298 2551.5,-663.2981 2548.0001,-673.2981 2555.0001,-673.298\"/>\n</g>\n<!-- 135 -->\n<g id=\"node136\" class=\"node\">\n<title>135</title>\n<path fill=\"#e58139\" stroke=\"#000000\" d=\"M2706,-655.5C2706,-655.5 2631,-655.5 2631,-655.5 2625,-655.5 2619,-649.5 2619,-643.5 2619,-643.5 2619,-599.5 2619,-599.5 2619,-593.5 2625,-587.5 2631,-587.5 2631,-587.5 2706,-587.5 2706,-587.5 2712,-587.5 2718,-593.5 2718,-599.5 2718,-599.5 2718,-643.5 2718,-643.5 2718,-649.5 2712,-655.5 2706,-655.5\"/>\n<text text-anchor=\"start\" x=\"2639\" y=\"-640.3\" font-family=\"Helvetica,sans-Serif\" font-size=\"14.00\" fill=\"#000000\">gini = 0.0</text>\n<text text-anchor=\"start\" x=\"2629\" y=\"-625.3\" font-family=\"Helvetica,sans-Serif\" font-size=\"14.00\" fill=\"#000000\">samples = 2</text>\n<text text-anchor=\"start\" x=\"2627\" y=\"-610.3\" font-family=\"Helvetica,sans-Serif\" font-size=\"14.00\" fill=\"#000000\">value = [2, 0]</text>\n<text text-anchor=\"start\" x=\"2642\" y=\"-595.3\" font-family=\"Helvetica,sans-Serif\" font-size=\"14.00\" fill=\"#000000\">class = l</text>\n</g>\n<!-- 127&#45;&gt;135 -->\n<g id=\"edge135\" class=\"edge\">\n<title>127&#45;&gt;135</title>\n<path fill=\"none\" stroke=\"#000000\" d=\"M2592.4209,-698.8796C2603.7728,-687.3337 2616.0982,-674.7976 2627.457,-663.2446\"/>\n<polygon fill=\"#000000\" stroke=\"#000000\" points=\"2630.2466,-665.3995 2634.7618,-655.8149 2625.2551,-660.4919 2630.2466,-665.3995\"/>\n</g>\n<!-- 129 -->\n<g id=\"node130\" class=\"node\">\n<title>129</title>\n<path fill=\"#eca06a\" stroke=\"#000000\" d=\"M2589,-544C2589,-544 2514,-544 2514,-544 2508,-544 2502,-538 2502,-532 2502,-532 2502,-473 2502,-473 2502,-467 2508,-461 2514,-461 2514,-461 2589,-461 2589,-461 2595,-461 2601,-467 2601,-473 2601,-473 2601,-532 2601,-532 2601,-538 2595,-544 2589,-544\"/>\n<text text-anchor=\"start\" x=\"2510.5\" y=\"-528.8\" font-family=\"Helvetica,sans-Serif\" font-size=\"14.00\" fill=\"#000000\">age ≤ &#45;0.404</text>\n<text text-anchor=\"start\" x=\"2518\" y=\"-513.8\" font-family=\"Helvetica,sans-Serif\" font-size=\"14.00\" fill=\"#000000\">gini = 0.32</text>\n<text text-anchor=\"start\" x=\"2512\" y=\"-498.8\" font-family=\"Helvetica,sans-Serif\" font-size=\"14.00\" fill=\"#000000\">samples = 5</text>\n<text text-anchor=\"start\" x=\"2510\" y=\"-483.8\" font-family=\"Helvetica,sans-Serif\" font-size=\"14.00\" fill=\"#000000\">value = [4, 1]</text>\n<text text-anchor=\"start\" x=\"2525\" y=\"-468.8\" font-family=\"Helvetica,sans-Serif\" font-size=\"14.00\" fill=\"#000000\">class = l</text>\n</g>\n<!-- 128&#45;&gt;129 -->\n<g id=\"edge129\" class=\"edge\">\n<title>128&#45;&gt;129</title>\n<path fill=\"none\" stroke=\"#000000\" d=\"M2551.5,-579.8796C2551.5,-571.6838 2551.5,-562.9891 2551.5,-554.5013\"/>\n<polygon fill=\"#000000\" stroke=\"#000000\" points=\"2555.0001,-554.298 2551.5,-544.2981 2548.0001,-554.2981 2555.0001,-554.298\"/>\n</g>\n<!-- 134 -->\n<g id=\"node135\" class=\"node\">\n<title>134</title>\n<path fill=\"#399de5\" stroke=\"#000000\" d=\"M2706,-536.5C2706,-536.5 2631,-536.5 2631,-536.5 2625,-536.5 2619,-530.5 2619,-524.5 2619,-524.5 2619,-480.5 2619,-480.5 2619,-474.5 2625,-468.5 2631,-468.5 2631,-468.5 2706,-468.5 2706,-468.5 2712,-468.5 2718,-474.5 2718,-480.5 2718,-480.5 2718,-524.5 2718,-524.5 2718,-530.5 2712,-536.5 2706,-536.5\"/>\n<text text-anchor=\"start\" x=\"2639\" y=\"-521.3\" font-family=\"Helvetica,sans-Serif\" font-size=\"14.00\" fill=\"#000000\">gini = 0.0</text>\n<text text-anchor=\"start\" x=\"2629\" y=\"-506.3\" font-family=\"Helvetica,sans-Serif\" font-size=\"14.00\" fill=\"#000000\">samples = 1</text>\n<text text-anchor=\"start\" x=\"2627\" y=\"-491.3\" font-family=\"Helvetica,sans-Serif\" font-size=\"14.00\" fill=\"#000000\">value = [0, 1]</text>\n<text text-anchor=\"start\" x=\"2639.5\" y=\"-476.3\" font-family=\"Helvetica,sans-Serif\" font-size=\"14.00\" fill=\"#000000\">class = o</text>\n</g>\n<!-- 128&#45;&gt;134 -->\n<g id=\"edge134\" class=\"edge\">\n<title>128&#45;&gt;134</title>\n<path fill=\"none\" stroke=\"#000000\" d=\"M2592.4209,-579.8796C2603.7728,-568.3337 2616.0982,-555.7976 2627.457,-544.2446\"/>\n<polygon fill=\"#000000\" stroke=\"#000000\" points=\"2630.2466,-546.3995 2634.7618,-536.8149 2625.2551,-541.4919 2630.2466,-546.3995\"/>\n</g>\n<!-- 130 -->\n<g id=\"node131\" class=\"node\">\n<title>130</title>\n<path fill=\"#ffffff\" stroke=\"#000000\" d=\"M2603.5,-425C2603.5,-425 2499.5,-425 2499.5,-425 2493.5,-425 2487.5,-419 2487.5,-413 2487.5,-413 2487.5,-354 2487.5,-354 2487.5,-348 2493.5,-342 2499.5,-342 2499.5,-342 2603.5,-342 2603.5,-342 2609.5,-342 2615.5,-348 2615.5,-354 2615.5,-354 2615.5,-413 2615.5,-413 2615.5,-419 2609.5,-425 2603.5,-425\"/>\n<text text-anchor=\"start\" x=\"2495.5\" y=\"-409.8\" font-family=\"Helvetica,sans-Serif\" font-size=\"14.00\" fill=\"#000000\">Principal ≤ &#45;0.857</text>\n<text text-anchor=\"start\" x=\"2522\" y=\"-394.8\" font-family=\"Helvetica,sans-Serif\" font-size=\"14.00\" fill=\"#000000\">gini = 0.5</text>\n<text text-anchor=\"start\" x=\"2512\" y=\"-379.8\" font-family=\"Helvetica,sans-Serif\" font-size=\"14.00\" fill=\"#000000\">samples = 2</text>\n<text text-anchor=\"start\" x=\"2510\" y=\"-364.8\" font-family=\"Helvetica,sans-Serif\" font-size=\"14.00\" fill=\"#000000\">value = [1, 1]</text>\n<text text-anchor=\"start\" x=\"2525\" y=\"-349.8\" font-family=\"Helvetica,sans-Serif\" font-size=\"14.00\" fill=\"#000000\">class = l</text>\n</g>\n<!-- 129&#45;&gt;130 -->\n<g id=\"edge130\" class=\"edge\">\n<title>129&#45;&gt;130</title>\n<path fill=\"none\" stroke=\"#000000\" d=\"M2551.5,-460.8796C2551.5,-452.6838 2551.5,-443.9891 2551.5,-435.5013\"/>\n<polygon fill=\"#000000\" stroke=\"#000000\" points=\"2555.0001,-435.298 2551.5,-425.2981 2548.0001,-435.2981 2555.0001,-435.298\"/>\n</g>\n<!-- 133 -->\n<g id=\"node134\" class=\"node\">\n<title>133</title>\n<path fill=\"#e58139\" stroke=\"#000000\" d=\"M2721,-417.5C2721,-417.5 2646,-417.5 2646,-417.5 2640,-417.5 2634,-411.5 2634,-405.5 2634,-405.5 2634,-361.5 2634,-361.5 2634,-355.5 2640,-349.5 2646,-349.5 2646,-349.5 2721,-349.5 2721,-349.5 2727,-349.5 2733,-355.5 2733,-361.5 2733,-361.5 2733,-405.5 2733,-405.5 2733,-411.5 2727,-417.5 2721,-417.5\"/>\n<text text-anchor=\"start\" x=\"2654\" y=\"-402.3\" font-family=\"Helvetica,sans-Serif\" font-size=\"14.00\" fill=\"#000000\">gini = 0.0</text>\n<text text-anchor=\"start\" x=\"2644\" y=\"-387.3\" font-family=\"Helvetica,sans-Serif\" font-size=\"14.00\" fill=\"#000000\">samples = 3</text>\n<text text-anchor=\"start\" x=\"2642\" y=\"-372.3\" font-family=\"Helvetica,sans-Serif\" font-size=\"14.00\" fill=\"#000000\">value = [3, 0]</text>\n<text text-anchor=\"start\" x=\"2657\" y=\"-357.3\" font-family=\"Helvetica,sans-Serif\" font-size=\"14.00\" fill=\"#000000\">class = l</text>\n</g>\n<!-- 129&#45;&gt;133 -->\n<g id=\"edge133\" class=\"edge\">\n<title>129&#45;&gt;133</title>\n<path fill=\"none\" stroke=\"#000000\" d=\"M2597.6672,-460.8796C2610.7183,-449.1138 2624.9101,-436.3197 2637.9261,-424.5855\"/>\n<polygon fill=\"#000000\" stroke=\"#000000\" points=\"2640.3526,-427.1104 2645.4364,-417.8149 2635.6654,-421.9113 2640.3526,-427.1104\"/>\n</g>\n<!-- 131 -->\n<g id=\"node132\" class=\"node\">\n<title>131</title>\n<path fill=\"#399de5\" stroke=\"#000000\" d=\"M2589,-298.5C2589,-298.5 2514,-298.5 2514,-298.5 2508,-298.5 2502,-292.5 2502,-286.5 2502,-286.5 2502,-242.5 2502,-242.5 2502,-236.5 2508,-230.5 2514,-230.5 2514,-230.5 2589,-230.5 2589,-230.5 2595,-230.5 2601,-236.5 2601,-242.5 2601,-242.5 2601,-286.5 2601,-286.5 2601,-292.5 2595,-298.5 2589,-298.5\"/>\n<text text-anchor=\"start\" x=\"2522\" y=\"-283.3\" font-family=\"Helvetica,sans-Serif\" font-size=\"14.00\" fill=\"#000000\">gini = 0.0</text>\n<text text-anchor=\"start\" x=\"2512\" y=\"-268.3\" font-family=\"Helvetica,sans-Serif\" font-size=\"14.00\" fill=\"#000000\">samples = 1</text>\n<text text-anchor=\"start\" x=\"2510\" y=\"-253.3\" font-family=\"Helvetica,sans-Serif\" font-size=\"14.00\" fill=\"#000000\">value = [0, 1]</text>\n<text text-anchor=\"start\" x=\"2522.5\" y=\"-238.3\" font-family=\"Helvetica,sans-Serif\" font-size=\"14.00\" fill=\"#000000\">class = o</text>\n</g>\n<!-- 130&#45;&gt;131 -->\n<g id=\"edge131\" class=\"edge\">\n<title>130&#45;&gt;131</title>\n<path fill=\"none\" stroke=\"#000000\" d=\"M2551.5,-341.8796C2551.5,-331.2134 2551.5,-319.7021 2551.5,-308.9015\"/>\n<polygon fill=\"#000000\" stroke=\"#000000\" points=\"2555.0001,-308.8149 2551.5,-298.8149 2548.0001,-308.815 2555.0001,-308.8149\"/>\n</g>\n<!-- 132 -->\n<g id=\"node133\" class=\"node\">\n<title>132</title>\n<path fill=\"#e58139\" stroke=\"#000000\" d=\"M2706,-298.5C2706,-298.5 2631,-298.5 2631,-298.5 2625,-298.5 2619,-292.5 2619,-286.5 2619,-286.5 2619,-242.5 2619,-242.5 2619,-236.5 2625,-230.5 2631,-230.5 2631,-230.5 2706,-230.5 2706,-230.5 2712,-230.5 2718,-236.5 2718,-242.5 2718,-242.5 2718,-286.5 2718,-286.5 2718,-292.5 2712,-298.5 2706,-298.5\"/>\n<text text-anchor=\"start\" x=\"2639\" y=\"-283.3\" font-family=\"Helvetica,sans-Serif\" font-size=\"14.00\" fill=\"#000000\">gini = 0.0</text>\n<text text-anchor=\"start\" x=\"2629\" y=\"-268.3\" font-family=\"Helvetica,sans-Serif\" font-size=\"14.00\" fill=\"#000000\">samples = 1</text>\n<text text-anchor=\"start\" x=\"2627\" y=\"-253.3\" font-family=\"Helvetica,sans-Serif\" font-size=\"14.00\" fill=\"#000000\">value = [1, 0]</text>\n<text text-anchor=\"start\" x=\"2642\" y=\"-238.3\" font-family=\"Helvetica,sans-Serif\" font-size=\"14.00\" fill=\"#000000\">class = l</text>\n</g>\n<!-- 130&#45;&gt;132 -->\n<g id=\"edge132\" class=\"edge\">\n<title>130&#45;&gt;132</title>\n<path fill=\"none\" stroke=\"#000000\" d=\"M2592.4209,-341.8796C2603.7728,-330.3337 2616.0982,-317.7976 2627.457,-306.2446\"/>\n<polygon fill=\"#000000\" stroke=\"#000000\" points=\"2630.2466,-308.3995 2634.7618,-298.8149 2625.2551,-303.4919 2630.2466,-308.3995\"/>\n</g>\n<!-- 137 -->\n<g id=\"node138\" class=\"node\">\n<title>137</title>\n<path fill=\"#399de5\" stroke=\"#000000\" d=\"M2501,-1012.5C2501,-1012.5 2426,-1012.5 2426,-1012.5 2420,-1012.5 2414,-1006.5 2414,-1000.5 2414,-1000.5 2414,-956.5 2414,-956.5 2414,-950.5 2420,-944.5 2426,-944.5 2426,-944.5 2501,-944.5 2501,-944.5 2507,-944.5 2513,-950.5 2513,-956.5 2513,-956.5 2513,-1000.5 2513,-1000.5 2513,-1006.5 2507,-1012.5 2501,-1012.5\"/>\n<text text-anchor=\"start\" x=\"2434\" y=\"-997.3\" font-family=\"Helvetica,sans-Serif\" font-size=\"14.00\" fill=\"#000000\">gini = 0.0</text>\n<text text-anchor=\"start\" x=\"2424\" y=\"-982.3\" font-family=\"Helvetica,sans-Serif\" font-size=\"14.00\" fill=\"#000000\">samples = 1</text>\n<text text-anchor=\"start\" x=\"2422\" y=\"-967.3\" font-family=\"Helvetica,sans-Serif\" font-size=\"14.00\" fill=\"#000000\">value = [0, 1]</text>\n<text text-anchor=\"start\" x=\"2434.5\" y=\"-952.3\" font-family=\"Helvetica,sans-Serif\" font-size=\"14.00\" fill=\"#000000\">class = o</text>\n</g>\n<!-- 136&#45;&gt;137 -->\n<g id=\"edge137\" class=\"edge\">\n<title>136&#45;&gt;137</title>\n<path fill=\"none\" stroke=\"#000000\" d=\"M2465.4507,-1055.8796C2465.1818,-1045.2134 2464.8916,-1033.7021 2464.6194,-1022.9015\"/>\n<polygon fill=\"#000000\" stroke=\"#000000\" points=\"2468.1161,-1022.7235 2464.3651,-1012.8149 2461.1183,-1022.9 2468.1161,-1022.7235\"/>\n</g>\n<!-- 138 -->\n<g id=\"node139\" class=\"node\">\n<title>138</title>\n<path fill=\"#fae8da\" stroke=\"#000000\" d=\"M2635.5,-1020C2635.5,-1020 2543.5,-1020 2543.5,-1020 2537.5,-1020 2531.5,-1014 2531.5,-1008 2531.5,-1008 2531.5,-949 2531.5,-949 2531.5,-943 2537.5,-937 2543.5,-937 2543.5,-937 2635.5,-937 2635.5,-937 2641.5,-937 2647.5,-943 2647.5,-949 2647.5,-949 2647.5,-1008 2647.5,-1008 2647.5,-1014 2641.5,-1020 2635.5,-1020\"/>\n<text text-anchor=\"start\" x=\"2548.5\" y=\"-1004.8\" font-family=\"Helvetica,sans-Serif\" font-size=\"14.00\" fill=\"#000000\">age ≤ &#45;1.234</text>\n<text text-anchor=\"start\" x=\"2551.5\" y=\"-989.8\" font-family=\"Helvetica,sans-Serif\" font-size=\"14.00\" fill=\"#000000\">gini = 0.495</text>\n<text text-anchor=\"start\" x=\"2545.5\" y=\"-974.8\" font-family=\"Helvetica,sans-Serif\" font-size=\"14.00\" fill=\"#000000\">samples = 49</text>\n<text text-anchor=\"start\" x=\"2539.5\" y=\"-959.8\" font-family=\"Helvetica,sans-Serif\" font-size=\"14.00\" fill=\"#000000\">value = [27, 22]</text>\n<text text-anchor=\"start\" x=\"2563\" y=\"-944.8\" font-family=\"Helvetica,sans-Serif\" font-size=\"14.00\" fill=\"#000000\">class = l</text>\n</g>\n<!-- 136&#45;&gt;138 -->\n<g id=\"edge138\" class=\"edge\">\n<title>136&#45;&gt;138</title>\n<path fill=\"none\" stroke=\"#000000\" d=\"M2509.5194,-1055.8796C2519.0147,-1046.6931 2529.1578,-1036.8798 2538.9215,-1027.4336\"/>\n<polygon fill=\"#000000\" stroke=\"#000000\" points=\"2541.5436,-1029.7668 2546.297,-1020.2981 2536.6763,-1024.7359 2541.5436,-1029.7668\"/>\n</g>\n<!-- 139 -->\n<g id=\"node140\" class=\"node\">\n<title>139</title>\n<path fill=\"#e58139\" stroke=\"#000000\" d=\"M2584,-893.5C2584,-893.5 2509,-893.5 2509,-893.5 2503,-893.5 2497,-887.5 2497,-881.5 2497,-881.5 2497,-837.5 2497,-837.5 2497,-831.5 2503,-825.5 2509,-825.5 2509,-825.5 2584,-825.5 2584,-825.5 2590,-825.5 2596,-831.5 2596,-837.5 2596,-837.5 2596,-881.5 2596,-881.5 2596,-887.5 2590,-893.5 2584,-893.5\"/>\n<text text-anchor=\"start\" x=\"2517\" y=\"-878.3\" font-family=\"Helvetica,sans-Serif\" font-size=\"14.00\" fill=\"#000000\">gini = 0.0</text>\n<text text-anchor=\"start\" x=\"2507\" y=\"-863.3\" font-family=\"Helvetica,sans-Serif\" font-size=\"14.00\" fill=\"#000000\">samples = 3</text>\n<text text-anchor=\"start\" x=\"2505\" y=\"-848.3\" font-family=\"Helvetica,sans-Serif\" font-size=\"14.00\" fill=\"#000000\">value = [3, 0]</text>\n<text text-anchor=\"start\" x=\"2520\" y=\"-833.3\" font-family=\"Helvetica,sans-Serif\" font-size=\"14.00\" fill=\"#000000\">class = l</text>\n</g>\n<!-- 138&#45;&gt;139 -->\n<g id=\"edge139\" class=\"edge\">\n<title>138&#45;&gt;139</title>\n<path fill=\"none\" stroke=\"#000000\" d=\"M2574.4607,-936.8796C2570.527,-925.9935 2566.2753,-914.227 2562.3032,-903.2344\"/>\n<polygon fill=\"#000000\" stroke=\"#000000\" points=\"2565.5897,-902.0303 2558.8995,-893.8149 2559.0063,-904.4092 2565.5897,-902.0303\"/>\n</g>\n<!-- 140 -->\n<g id=\"node141\" class=\"node\">\n<title>140</title>\n<path fill=\"#fdf5ef\" stroke=\"#000000\" d=\"M2718.5,-901C2718.5,-901 2626.5,-901 2626.5,-901 2620.5,-901 2614.5,-895 2614.5,-889 2614.5,-889 2614.5,-830 2614.5,-830 2614.5,-824 2620.5,-818 2626.5,-818 2626.5,-818 2718.5,-818 2718.5,-818 2724.5,-818 2730.5,-824 2730.5,-830 2730.5,-830 2730.5,-889 2730.5,-889 2730.5,-895 2724.5,-901 2718.5,-901\"/>\n<text text-anchor=\"start\" x=\"2631.5\" y=\"-885.8\" font-family=\"Helvetica,sans-Serif\" font-size=\"14.00\" fill=\"#000000\">age ≤ &#45;1.068</text>\n<text text-anchor=\"start\" x=\"2634.5\" y=\"-870.8\" font-family=\"Helvetica,sans-Serif\" font-size=\"14.00\" fill=\"#000000\">gini = 0.499</text>\n<text text-anchor=\"start\" x=\"2628.5\" y=\"-855.8\" font-family=\"Helvetica,sans-Serif\" font-size=\"14.00\" fill=\"#000000\">samples = 46</text>\n<text text-anchor=\"start\" x=\"2622.5\" y=\"-840.8\" font-family=\"Helvetica,sans-Serif\" font-size=\"14.00\" fill=\"#000000\">value = [24, 22]</text>\n<text text-anchor=\"start\" x=\"2646\" y=\"-825.8\" font-family=\"Helvetica,sans-Serif\" font-size=\"14.00\" fill=\"#000000\">class = l</text>\n</g>\n<!-- 138&#45;&gt;140 -->\n<g id=\"edge140\" class=\"edge\">\n<title>138&#45;&gt;140</title>\n<path fill=\"none\" stroke=\"#000000\" d=\"M2618.5294,-936.8796C2624.6855,-928.0534 2631.2451,-918.6485 2637.5936,-909.5466\"/>\n<polygon fill=\"#000000\" stroke=\"#000000\" points=\"2640.4967,-911.5024 2643.3467,-901.2981 2634.7552,-907.4978 2640.4967,-911.5024\"/>\n</g>\n<!-- 141 -->\n<g id=\"node142\" class=\"node\">\n<title>141</title>\n<path fill=\"#399de5\" stroke=\"#000000\" d=\"M2710,-774.5C2710,-774.5 2635,-774.5 2635,-774.5 2629,-774.5 2623,-768.5 2623,-762.5 2623,-762.5 2623,-718.5 2623,-718.5 2623,-712.5 2629,-706.5 2635,-706.5 2635,-706.5 2710,-706.5 2710,-706.5 2716,-706.5 2722,-712.5 2722,-718.5 2722,-718.5 2722,-762.5 2722,-762.5 2722,-768.5 2716,-774.5 2710,-774.5\"/>\n<text text-anchor=\"start\" x=\"2643\" y=\"-759.3\" font-family=\"Helvetica,sans-Serif\" font-size=\"14.00\" fill=\"#000000\">gini = 0.0</text>\n<text text-anchor=\"start\" x=\"2633\" y=\"-744.3\" font-family=\"Helvetica,sans-Serif\" font-size=\"14.00\" fill=\"#000000\">samples = 2</text>\n<text text-anchor=\"start\" x=\"2631\" y=\"-729.3\" font-family=\"Helvetica,sans-Serif\" font-size=\"14.00\" fill=\"#000000\">value = [0, 2]</text>\n<text text-anchor=\"start\" x=\"2643.5\" y=\"-714.3\" font-family=\"Helvetica,sans-Serif\" font-size=\"14.00\" fill=\"#000000\">class = o</text>\n</g>\n<!-- 140&#45;&gt;141 -->\n<g id=\"edge141\" class=\"edge\">\n<title>140&#45;&gt;141</title>\n<path fill=\"none\" stroke=\"#000000\" d=\"M2672.5,-817.8796C2672.5,-807.2134 2672.5,-795.7021 2672.5,-784.9015\"/>\n<polygon fill=\"#000000\" stroke=\"#000000\" points=\"2676.0001,-784.8149 2672.5,-774.8149 2669.0001,-784.815 2676.0001,-784.8149\"/>\n</g>\n<!-- 142 -->\n<g id=\"node143\" class=\"node\">\n<title>142</title>\n<path fill=\"#fbeade\" stroke=\"#000000\" d=\"M3004.5,-782C3004.5,-782 2912.5,-782 2912.5,-782 2906.5,-782 2900.5,-776 2900.5,-770 2900.5,-770 2900.5,-711 2900.5,-711 2900.5,-705 2906.5,-699 2912.5,-699 2912.5,-699 3004.5,-699 3004.5,-699 3010.5,-699 3016.5,-705 3016.5,-711 3016.5,-711 3016.5,-770 3016.5,-770 3016.5,-776 3010.5,-782 3004.5,-782\"/>\n<text text-anchor=\"start\" x=\"2917.5\" y=\"-766.8\" font-family=\"Helvetica,sans-Serif\" font-size=\"14.00\" fill=\"#000000\">age ≤ &#45;0.404</text>\n<text text-anchor=\"start\" x=\"2920.5\" y=\"-751.8\" font-family=\"Helvetica,sans-Serif\" font-size=\"14.00\" fill=\"#000000\">gini = 0.496</text>\n<text text-anchor=\"start\" x=\"2914.5\" y=\"-736.8\" font-family=\"Helvetica,sans-Serif\" font-size=\"14.00\" fill=\"#000000\">samples = 44</text>\n<text text-anchor=\"start\" x=\"2908.5\" y=\"-721.8\" font-family=\"Helvetica,sans-Serif\" font-size=\"14.00\" fill=\"#000000\">value = [24, 20]</text>\n<text text-anchor=\"start\" x=\"2932\" y=\"-706.8\" font-family=\"Helvetica,sans-Serif\" font-size=\"14.00\" fill=\"#000000\">class = l</text>\n</g>\n<!-- 140&#45;&gt;142 -->\n<g id=\"edge142\" class=\"edge\">\n<title>140&#45;&gt;142</title>\n<path fill=\"none\" stroke=\"#000000\" d=\"M2730.5491,-822.5258C2733.5449,-820.9394 2736.5393,-819.4205 2739.5,-818 2788.5186,-794.4816 2846.6386,-774.2421 2890.6825,-760.3496\"/>\n<polygon fill=\"#000000\" stroke=\"#000000\" points=\"2891.9219,-763.6294 2900.4241,-757.3078 2889.8354,-756.9475 2891.9219,-763.6294\"/>\n</g>\n<!-- 143 -->\n<g id=\"node144\" class=\"node\">\n<title>143</title>\n<path fill=\"#f3c6a5\" stroke=\"#000000\" d=\"M3000,-663C3000,-663 2917,-663 2917,-663 2911,-663 2905,-657 2905,-651 2905,-651 2905,-592 2905,-592 2905,-586 2911,-580 2917,-580 2917,-580 3000,-580 3000,-580 3006,-580 3012,-586 3012,-592 3012,-592 3012,-651 3012,-651 3012,-657 3006,-663 3000,-663\"/>\n<text text-anchor=\"start\" x=\"2922\" y=\"-647.8\" font-family=\"Helvetica,sans-Serif\" font-size=\"14.00\" fill=\"#000000\">age ≤ &#45;0.57</text>\n<text text-anchor=\"start\" x=\"2920.5\" y=\"-632.8\" font-family=\"Helvetica,sans-Serif\" font-size=\"14.00\" fill=\"#000000\">gini = 0.457</text>\n<text text-anchor=\"start\" x=\"2914.5\" y=\"-617.8\" font-family=\"Helvetica,sans-Serif\" font-size=\"14.00\" fill=\"#000000\">samples = 17</text>\n<text text-anchor=\"start\" x=\"2913\" y=\"-602.8\" font-family=\"Helvetica,sans-Serif\" font-size=\"14.00\" fill=\"#000000\">value = [11, 6]</text>\n<text text-anchor=\"start\" x=\"2932\" y=\"-587.8\" font-family=\"Helvetica,sans-Serif\" font-size=\"14.00\" fill=\"#000000\">class = l</text>\n</g>\n<!-- 142&#45;&gt;143 -->\n<g id=\"edge143\" class=\"edge\">\n<title>142&#45;&gt;143</title>\n<path fill=\"none\" stroke=\"#000000\" d=\"M2958.5,-698.8796C2958.5,-690.6838 2958.5,-681.9891 2958.5,-673.5013\"/>\n<polygon fill=\"#000000\" stroke=\"#000000\" points=\"2962.0001,-673.298 2958.5,-663.2981 2955.0001,-673.2981 2962.0001,-673.298\"/>\n</g>\n<!-- 154 -->\n<g id=\"node155\" class=\"node\">\n<title>154</title>\n<path fill=\"#f1f8fd\" stroke=\"#000000\" d=\"M3303.5,-663C3303.5,-663 3211.5,-663 3211.5,-663 3205.5,-663 3199.5,-657 3199.5,-651 3199.5,-651 3199.5,-592 3199.5,-592 3199.5,-586 3205.5,-580 3211.5,-580 3211.5,-580 3303.5,-580 3303.5,-580 3309.5,-580 3315.5,-586 3315.5,-592 3315.5,-592 3315.5,-651 3315.5,-651 3315.5,-657 3309.5,-663 3303.5,-663\"/>\n<text text-anchor=\"start\" x=\"3211\" y=\"-647.8\" font-family=\"Helvetica,sans-Serif\" font-size=\"14.00\" fill=\"#000000\">terms ≤ &#45;0.019</text>\n<text text-anchor=\"start\" x=\"3219.5\" y=\"-632.8\" font-family=\"Helvetica,sans-Serif\" font-size=\"14.00\" fill=\"#000000\">gini = 0.499</text>\n<text text-anchor=\"start\" x=\"3213.5\" y=\"-617.8\" font-family=\"Helvetica,sans-Serif\" font-size=\"14.00\" fill=\"#000000\">samples = 27</text>\n<text text-anchor=\"start\" x=\"3207.5\" y=\"-602.8\" font-family=\"Helvetica,sans-Serif\" font-size=\"14.00\" fill=\"#000000\">value = [13, 14]</text>\n<text text-anchor=\"start\" x=\"3228.5\" y=\"-587.8\" font-family=\"Helvetica,sans-Serif\" font-size=\"14.00\" fill=\"#000000\">class = o</text>\n</g>\n<!-- 142&#45;&gt;154 -->\n<g id=\"edge154\" class=\"edge\">\n<title>142&#45;&gt;154</title>\n<path fill=\"none\" stroke=\"#000000\" d=\"M3016.5047,-717.4145C3066.146,-697.6576 3137.6557,-669.1972 3189.8839,-648.4108\"/>\n<polygon fill=\"#000000\" stroke=\"#000000\" points=\"3191.4051,-651.5724 3199.402,-644.6226 3188.8166,-645.0686 3191.4051,-651.5724\"/>\n</g>\n<!-- 144 -->\n<g id=\"node145\" class=\"node\">\n<title>144</title>\n<path fill=\"#f8e0ce\" stroke=\"#000000\" d=\"M2941.5,-544C2941.5,-544 2861.5,-544 2861.5,-544 2855.5,-544 2849.5,-538 2849.5,-532 2849.5,-532 2849.5,-473 2849.5,-473 2849.5,-467 2855.5,-461 2861.5,-461 2861.5,-461 2941.5,-461 2941.5,-461 2947.5,-461 2953.5,-467 2953.5,-473 2953.5,-473 2953.5,-532 2953.5,-532 2953.5,-538 2947.5,-544 2941.5,-544\"/>\n<text text-anchor=\"start\" x=\"2860.5\" y=\"-528.8\" font-family=\"Helvetica,sans-Serif\" font-size=\"14.00\" fill=\"#000000\">age ≤ &#45;0.902</text>\n<text text-anchor=\"start\" x=\"2868\" y=\"-513.8\" font-family=\"Helvetica,sans-Serif\" font-size=\"14.00\" fill=\"#000000\">gini = 0.49</text>\n<text text-anchor=\"start\" x=\"2857.5\" y=\"-498.8\" font-family=\"Helvetica,sans-Serif\" font-size=\"14.00\" fill=\"#000000\">samples = 14</text>\n<text text-anchor=\"start\" x=\"2860\" y=\"-483.8\" font-family=\"Helvetica,sans-Serif\" font-size=\"14.00\" fill=\"#000000\">value = [8, 6]</text>\n<text text-anchor=\"start\" x=\"2875\" y=\"-468.8\" font-family=\"Helvetica,sans-Serif\" font-size=\"14.00\" fill=\"#000000\">class = l</text>\n</g>\n<!-- 143&#45;&gt;144 -->\n<g id=\"edge144\" class=\"edge\">\n<title>143&#45;&gt;144</title>\n<path fill=\"none\" stroke=\"#000000\" d=\"M2938.5642,-579.8796C2934.4659,-571.3236 2930.1072,-562.2238 2925.8727,-553.3833\"/>\n<polygon fill=\"#000000\" stroke=\"#000000\" points=\"2928.9975,-551.8049 2921.5209,-544.2981 2922.6843,-554.8288 2928.9975,-551.8049\"/>\n</g>\n<!-- 153 -->\n<g id=\"node154\" class=\"node\">\n<title>153</title>\n<path fill=\"#e58139\" stroke=\"#000000\" d=\"M3059,-536.5C3059,-536.5 2984,-536.5 2984,-536.5 2978,-536.5 2972,-530.5 2972,-524.5 2972,-524.5 2972,-480.5 2972,-480.5 2972,-474.5 2978,-468.5 2984,-468.5 2984,-468.5 3059,-468.5 3059,-468.5 3065,-468.5 3071,-474.5 3071,-480.5 3071,-480.5 3071,-524.5 3071,-524.5 3071,-530.5 3065,-536.5 3059,-536.5\"/>\n<text text-anchor=\"start\" x=\"2992\" y=\"-521.3\" font-family=\"Helvetica,sans-Serif\" font-size=\"14.00\" fill=\"#000000\">gini = 0.0</text>\n<text text-anchor=\"start\" x=\"2982\" y=\"-506.3\" font-family=\"Helvetica,sans-Serif\" font-size=\"14.00\" fill=\"#000000\">samples = 3</text>\n<text text-anchor=\"start\" x=\"2980\" y=\"-491.3\" font-family=\"Helvetica,sans-Serif\" font-size=\"14.00\" fill=\"#000000\">value = [3, 0]</text>\n<text text-anchor=\"start\" x=\"2995\" y=\"-476.3\" font-family=\"Helvetica,sans-Serif\" font-size=\"14.00\" fill=\"#000000\">class = l</text>\n</g>\n<!-- 143&#45;&gt;153 -->\n<g id=\"edge153\" class=\"edge\">\n<title>143&#45;&gt;153</title>\n<path fill=\"none\" stroke=\"#000000\" d=\"M2980.5343,-579.8796C2986.3558,-568.8835 2992.6527,-556.9893 2998.5227,-545.9015\"/>\n<polygon fill=\"#000000\" stroke=\"#000000\" points=\"3001.7476,-547.2905 3003.3333,-536.8149 2995.5611,-544.0152 3001.7476,-547.2905\"/>\n</g>\n<!-- 145 -->\n<g id=\"node146\" class=\"node\">\n<title>145</title>\n<path fill=\"#bddef6\" stroke=\"#000000\" d=\"M2940,-425C2940,-425 2855,-425 2855,-425 2849,-425 2843,-419 2843,-413 2843,-413 2843,-354 2843,-354 2843,-348 2849,-342 2855,-342 2855,-342 2940,-342 2940,-342 2946,-342 2952,-348 2952,-354 2952,-354 2952,-413 2952,-413 2952,-419 2946,-425 2940,-425\"/>\n<text text-anchor=\"start\" x=\"2851\" y=\"-409.8\" font-family=\"Helvetica,sans-Serif\" font-size=\"14.00\" fill=\"#000000\">terms ≤ &#45;0.019</text>\n<text text-anchor=\"start\" x=\"2864\" y=\"-394.8\" font-family=\"Helvetica,sans-Serif\" font-size=\"14.00\" fill=\"#000000\">gini = 0.48</text>\n<text text-anchor=\"start\" x=\"2858\" y=\"-379.8\" font-family=\"Helvetica,sans-Serif\" font-size=\"14.00\" fill=\"#000000\">samples = 5</text>\n<text text-anchor=\"start\" x=\"2856\" y=\"-364.8\" font-family=\"Helvetica,sans-Serif\" font-size=\"14.00\" fill=\"#000000\">value = [2, 3]</text>\n<text text-anchor=\"start\" x=\"2868.5\" y=\"-349.8\" font-family=\"Helvetica,sans-Serif\" font-size=\"14.00\" fill=\"#000000\">class = o</text>\n</g>\n<!-- 144&#45;&gt;145 -->\n<g id=\"edge145\" class=\"edge\">\n<title>144&#45;&gt;145</title>\n<path fill=\"none\" stroke=\"#000000\" d=\"M2900.101,-460.8796C2899.8255,-452.6838 2899.5332,-443.9891 2899.2479,-435.5013\"/>\n<polygon fill=\"#000000\" stroke=\"#000000\" points=\"2902.739,-435.1748 2898.905,-425.2981 2895.743,-435.41 2902.739,-435.1748\"/>\n</g>\n<!-- 148 -->\n<g id=\"node149\" class=\"node\">\n<title>148</title>\n<path fill=\"#f2c09c\" stroke=\"#000000\" d=\"M3067,-425C3067,-425 2982,-425 2982,-425 2976,-425 2970,-419 2970,-413 2970,-413 2970,-354 2970,-354 2970,-348 2976,-342 2982,-342 2982,-342 3067,-342 3067,-342 3073,-342 3079,-348 3079,-354 3079,-354 3079,-413 3079,-413 3079,-419 3073,-425 3067,-425\"/>\n<text text-anchor=\"start\" x=\"2978\" y=\"-409.8\" font-family=\"Helvetica,sans-Serif\" font-size=\"14.00\" fill=\"#000000\">terms ≤ &#45;0.019</text>\n<text text-anchor=\"start\" x=\"2986.5\" y=\"-394.8\" font-family=\"Helvetica,sans-Serif\" font-size=\"14.00\" fill=\"#000000\">gini = 0.444</text>\n<text text-anchor=\"start\" x=\"2985\" y=\"-379.8\" font-family=\"Helvetica,sans-Serif\" font-size=\"14.00\" fill=\"#000000\">samples = 9</text>\n<text text-anchor=\"start\" x=\"2983\" y=\"-364.8\" font-family=\"Helvetica,sans-Serif\" font-size=\"14.00\" fill=\"#000000\">value = [6, 3]</text>\n<text text-anchor=\"start\" x=\"2998\" y=\"-349.8\" font-family=\"Helvetica,sans-Serif\" font-size=\"14.00\" fill=\"#000000\">class = l</text>\n</g>\n<!-- 144&#45;&gt;148 -->\n<g id=\"edge148\" class=\"edge\">\n<title>144&#45;&gt;148</title>\n<path fill=\"none\" stroke=\"#000000\" d=\"M2944.5194,-460.8796C2954.0147,-451.6931 2964.1578,-441.8798 2973.9215,-432.4336\"/>\n<polygon fill=\"#000000\" stroke=\"#000000\" points=\"2976.5436,-434.7668 2981.297,-425.2981 2971.6763,-429.7359 2976.5436,-434.7668\"/>\n</g>\n<!-- 146 -->\n<g id=\"node147\" class=\"node\">\n<title>146</title>\n<path fill=\"#f2c09c\" stroke=\"#000000\" d=\"M2823,-298.5C2823,-298.5 2748,-298.5 2748,-298.5 2742,-298.5 2736,-292.5 2736,-286.5 2736,-286.5 2736,-242.5 2736,-242.5 2736,-236.5 2742,-230.5 2748,-230.5 2748,-230.5 2823,-230.5 2823,-230.5 2829,-230.5 2835,-236.5 2835,-242.5 2835,-242.5 2835,-286.5 2835,-286.5 2835,-292.5 2829,-298.5 2823,-298.5\"/>\n<text text-anchor=\"start\" x=\"2747.5\" y=\"-283.3\" font-family=\"Helvetica,sans-Serif\" font-size=\"14.00\" fill=\"#000000\">gini = 0.444</text>\n<text text-anchor=\"start\" x=\"2746\" y=\"-268.3\" font-family=\"Helvetica,sans-Serif\" font-size=\"14.00\" fill=\"#000000\">samples = 3</text>\n<text text-anchor=\"start\" x=\"2744\" y=\"-253.3\" font-family=\"Helvetica,sans-Serif\" font-size=\"14.00\" fill=\"#000000\">value = [2, 1]</text>\n<text text-anchor=\"start\" x=\"2759\" y=\"-238.3\" font-family=\"Helvetica,sans-Serif\" font-size=\"14.00\" fill=\"#000000\">class = l</text>\n</g>\n<!-- 145&#45;&gt;146 -->\n<g id=\"edge146\" class=\"edge\">\n<title>145&#45;&gt;146</title>\n<path fill=\"none\" stroke=\"#000000\" d=\"M2858.3278,-341.8796C2847.4611,-330.3337 2835.6624,-317.7976 2824.7891,-306.2446\"/>\n<polygon fill=\"#000000\" stroke=\"#000000\" points=\"2827.1988,-303.6982 2817.7964,-298.8149 2822.1014,-308.4958 2827.1988,-303.6982\"/>\n</g>\n<!-- 147 -->\n<g id=\"node148\" class=\"node\">\n<title>147</title>\n<path fill=\"#399de5\" stroke=\"#000000\" d=\"M2940,-298.5C2940,-298.5 2865,-298.5 2865,-298.5 2859,-298.5 2853,-292.5 2853,-286.5 2853,-286.5 2853,-242.5 2853,-242.5 2853,-236.5 2859,-230.5 2865,-230.5 2865,-230.5 2940,-230.5 2940,-230.5 2946,-230.5 2952,-236.5 2952,-242.5 2952,-242.5 2952,-286.5 2952,-286.5 2952,-292.5 2946,-298.5 2940,-298.5\"/>\n<text text-anchor=\"start\" x=\"2873\" y=\"-283.3\" font-family=\"Helvetica,sans-Serif\" font-size=\"14.00\" fill=\"#000000\">gini = 0.0</text>\n<text text-anchor=\"start\" x=\"2863\" y=\"-268.3\" font-family=\"Helvetica,sans-Serif\" font-size=\"14.00\" fill=\"#000000\">samples = 2</text>\n<text text-anchor=\"start\" x=\"2861\" y=\"-253.3\" font-family=\"Helvetica,sans-Serif\" font-size=\"14.00\" fill=\"#000000\">value = [0, 2]</text>\n<text text-anchor=\"start\" x=\"2873.5\" y=\"-238.3\" font-family=\"Helvetica,sans-Serif\" font-size=\"14.00\" fill=\"#000000\">class = o</text>\n</g>\n<!-- 145&#45;&gt;147 -->\n<g id=\"edge147\" class=\"edge\">\n<title>145&#45;&gt;147</title>\n<path fill=\"none\" stroke=\"#000000\" d=\"M2899.2488,-341.8796C2899.6969,-331.2134 2900.1806,-319.7021 2900.6344,-308.9015\"/>\n<polygon fill=\"#000000\" stroke=\"#000000\" points=\"2904.1352,-308.9531 2901.0582,-298.8149 2897.1414,-308.6592 2904.1352,-308.9531\"/>\n</g>\n<!-- 149 -->\n<g id=\"node150\" class=\"node\">\n<title>149</title>\n<path fill=\"#ffffff\" stroke=\"#000000\" d=\"M3057,-298.5C3057,-298.5 2982,-298.5 2982,-298.5 2976,-298.5 2970,-292.5 2970,-286.5 2970,-286.5 2970,-242.5 2970,-242.5 2970,-236.5 2976,-230.5 2982,-230.5 2982,-230.5 3057,-230.5 3057,-230.5 3063,-230.5 3069,-236.5 3069,-242.5 3069,-242.5 3069,-286.5 3069,-286.5 3069,-292.5 3063,-298.5 3057,-298.5\"/>\n<text text-anchor=\"start\" x=\"2990\" y=\"-283.3\" font-family=\"Helvetica,sans-Serif\" font-size=\"14.00\" fill=\"#000000\">gini = 0.5</text>\n<text text-anchor=\"start\" x=\"2980\" y=\"-268.3\" font-family=\"Helvetica,sans-Serif\" font-size=\"14.00\" fill=\"#000000\">samples = 2</text>\n<text text-anchor=\"start\" x=\"2978\" y=\"-253.3\" font-family=\"Helvetica,sans-Serif\" font-size=\"14.00\" fill=\"#000000\">value = [1, 1]</text>\n<text text-anchor=\"start\" x=\"2993\" y=\"-238.3\" font-family=\"Helvetica,sans-Serif\" font-size=\"14.00\" fill=\"#000000\">class = l</text>\n</g>\n<!-- 148&#45;&gt;149 -->\n<g id=\"edge149\" class=\"edge\">\n<title>148&#45;&gt;149</title>\n<path fill=\"none\" stroke=\"#000000\" d=\"M3022.7512,-341.8796C3022.3031,-331.2134 3021.8194,-319.7021 3021.3656,-308.9015\"/>\n<polygon fill=\"#000000\" stroke=\"#000000\" points=\"3024.8586,-308.6592 3020.9418,-298.8149 3017.8648,-308.9531 3024.8586,-308.6592\"/>\n</g>\n<!-- 150 -->\n<g id=\"node151\" class=\"node\">\n<title>150</title>\n<path fill=\"#efb388\" stroke=\"#000000\" d=\"M3174,-306C3174,-306 3099,-306 3099,-306 3093,-306 3087,-300 3087,-294 3087,-294 3087,-235 3087,-235 3087,-229 3093,-223 3099,-223 3099,-223 3174,-223 3174,-223 3180,-223 3186,-229 3186,-235 3186,-235 3186,-294 3186,-294 3186,-300 3180,-306 3174,-306\"/>\n<text text-anchor=\"start\" x=\"3095.5\" y=\"-290.8\" font-family=\"Helvetica,sans-Serif\" font-size=\"14.00\" fill=\"#000000\">age ≤ &#45;0.736</text>\n<text text-anchor=\"start\" x=\"3098.5\" y=\"-275.8\" font-family=\"Helvetica,sans-Serif\" font-size=\"14.00\" fill=\"#000000\">gini = 0.408</text>\n<text text-anchor=\"start\" x=\"3097\" y=\"-260.8\" font-family=\"Helvetica,sans-Serif\" font-size=\"14.00\" fill=\"#000000\">samples = 7</text>\n<text text-anchor=\"start\" x=\"3095\" y=\"-245.8\" font-family=\"Helvetica,sans-Serif\" font-size=\"14.00\" fill=\"#000000\">value = [5, 2]</text>\n<text text-anchor=\"start\" x=\"3110\" y=\"-230.8\" font-family=\"Helvetica,sans-Serif\" font-size=\"14.00\" fill=\"#000000\">class = l</text>\n</g>\n<!-- 148&#45;&gt;150 -->\n<g id=\"edge150\" class=\"edge\">\n<title>148&#45;&gt;150</title>\n<path fill=\"none\" stroke=\"#000000\" d=\"M3063.6722,-341.8796C3072.2335,-332.7832 3081.3732,-323.0722 3090.1832,-313.7116\"/>\n<polygon fill=\"#000000\" stroke=\"#000000\" points=\"3092.8557,-315.9789 3097.1606,-306.2981 3087.7583,-311.1813 3092.8557,-315.9789\"/>\n</g>\n<!-- 151 -->\n<g id=\"node152\" class=\"node\">\n<title>151</title>\n<path fill=\"#eeab7b\" stroke=\"#000000\" d=\"M3057,-179.5C3057,-179.5 2982,-179.5 2982,-179.5 2976,-179.5 2970,-173.5 2970,-167.5 2970,-167.5 2970,-123.5 2970,-123.5 2970,-117.5 2976,-111.5 2982,-111.5 2982,-111.5 3057,-111.5 3057,-111.5 3063,-111.5 3069,-117.5 3069,-123.5 3069,-123.5 3069,-167.5 3069,-167.5 3069,-173.5 3063,-179.5 3057,-179.5\"/>\n<text text-anchor=\"start\" x=\"2981.5\" y=\"-164.3\" font-family=\"Helvetica,sans-Serif\" font-size=\"14.00\" fill=\"#000000\">gini = 0.375</text>\n<text text-anchor=\"start\" x=\"2980\" y=\"-149.3\" font-family=\"Helvetica,sans-Serif\" font-size=\"14.00\" fill=\"#000000\">samples = 4</text>\n<text text-anchor=\"start\" x=\"2978\" y=\"-134.3\" font-family=\"Helvetica,sans-Serif\" font-size=\"14.00\" fill=\"#000000\">value = [3, 1]</text>\n<text text-anchor=\"start\" x=\"2993\" y=\"-119.3\" font-family=\"Helvetica,sans-Serif\" font-size=\"14.00\" fill=\"#000000\">class = l</text>\n</g>\n<!-- 150&#45;&gt;151 -->\n<g id=\"edge151\" class=\"edge\">\n<title>150&#45;&gt;151</title>\n<path fill=\"none\" stroke=\"#000000\" d=\"M3095.5791,-222.8796C3084.2272,-211.3337 3071.9018,-198.7976 3060.543,-187.2446\"/>\n<polygon fill=\"#000000\" stroke=\"#000000\" points=\"3062.7449,-184.4919 3053.2382,-179.8149 3057.7534,-189.3995 3062.7449,-184.4919\"/>\n</g>\n<!-- 152 -->\n<g id=\"node153\" class=\"node\">\n<title>152</title>\n<path fill=\"#f2c09c\" stroke=\"#000000\" d=\"M3174,-179.5C3174,-179.5 3099,-179.5 3099,-179.5 3093,-179.5 3087,-173.5 3087,-167.5 3087,-167.5 3087,-123.5 3087,-123.5 3087,-117.5 3093,-111.5 3099,-111.5 3099,-111.5 3174,-111.5 3174,-111.5 3180,-111.5 3186,-117.5 3186,-123.5 3186,-123.5 3186,-167.5 3186,-167.5 3186,-173.5 3180,-179.5 3174,-179.5\"/>\n<text text-anchor=\"start\" x=\"3098.5\" y=\"-164.3\" font-family=\"Helvetica,sans-Serif\" font-size=\"14.00\" fill=\"#000000\">gini = 0.444</text>\n<text text-anchor=\"start\" x=\"3097\" y=\"-149.3\" font-family=\"Helvetica,sans-Serif\" font-size=\"14.00\" fill=\"#000000\">samples = 3</text>\n<text text-anchor=\"start\" x=\"3095\" y=\"-134.3\" font-family=\"Helvetica,sans-Serif\" font-size=\"14.00\" fill=\"#000000\">value = [2, 1]</text>\n<text text-anchor=\"start\" x=\"3110\" y=\"-119.3\" font-family=\"Helvetica,sans-Serif\" font-size=\"14.00\" fill=\"#000000\">class = l</text>\n</g>\n<!-- 150&#45;&gt;152 -->\n<g id=\"edge152\" class=\"edge\">\n<title>150&#45;&gt;152</title>\n<path fill=\"none\" stroke=\"#000000\" d=\"M3136.5,-222.8796C3136.5,-212.2134 3136.5,-200.7021 3136.5,-189.9015\"/>\n<polygon fill=\"#000000\" stroke=\"#000000\" points=\"3140.0001,-189.8149 3136.5,-179.8149 3133.0001,-189.815 3140.0001,-189.8149\"/>\n</g>\n<!-- 155 -->\n<g id=\"node156\" class=\"node\">\n<title>155</title>\n<path fill=\"#bddef6\" stroke=\"#000000\" d=\"M3297.5,-544C3297.5,-544 3217.5,-544 3217.5,-544 3211.5,-544 3205.5,-538 3205.5,-532 3205.5,-532 3205.5,-473 3205.5,-473 3205.5,-467 3211.5,-461 3217.5,-461 3217.5,-461 3297.5,-461 3297.5,-461 3303.5,-461 3309.5,-467 3309.5,-473 3309.5,-473 3309.5,-532 3309.5,-532 3309.5,-538 3303.5,-544 3297.5,-544\"/>\n<text text-anchor=\"start\" x=\"3216.5\" y=\"-528.8\" font-family=\"Helvetica,sans-Serif\" font-size=\"14.00\" fill=\"#000000\">age ≤ &#45;0.239</text>\n<text text-anchor=\"start\" x=\"3224\" y=\"-513.8\" font-family=\"Helvetica,sans-Serif\" font-size=\"14.00\" fill=\"#000000\">gini = 0.48</text>\n<text text-anchor=\"start\" x=\"3213.5\" y=\"-498.8\" font-family=\"Helvetica,sans-Serif\" font-size=\"14.00\" fill=\"#000000\">samples = 10</text>\n<text text-anchor=\"start\" x=\"3216\" y=\"-483.8\" font-family=\"Helvetica,sans-Serif\" font-size=\"14.00\" fill=\"#000000\">value = [4, 6]</text>\n<text text-anchor=\"start\" x=\"3228.5\" y=\"-468.8\" font-family=\"Helvetica,sans-Serif\" font-size=\"14.00\" fill=\"#000000\">class = o</text>\n</g>\n<!-- 154&#45;&gt;155 -->\n<g id=\"edge155\" class=\"edge\">\n<title>154&#45;&gt;155</title>\n<path fill=\"none\" stroke=\"#000000\" d=\"M3257.5,-579.8796C3257.5,-571.6838 3257.5,-562.9891 3257.5,-554.5013\"/>\n<polygon fill=\"#000000\" stroke=\"#000000\" points=\"3261.0001,-554.298 3257.5,-544.2981 3254.0001,-554.2981 3261.0001,-554.298\"/>\n</g>\n<!-- 162 -->\n<g id=\"node163\" class=\"node\">\n<title>162</title>\n<path fill=\"#fcf1e9\" stroke=\"#000000\" d=\"M3585.5,-544C3585.5,-544 3505.5,-544 3505.5,-544 3499.5,-544 3493.5,-538 3493.5,-532 3493.5,-532 3493.5,-473 3493.5,-473 3493.5,-467 3499.5,-461 3505.5,-461 3505.5,-461 3585.5,-461 3585.5,-461 3591.5,-461 3597.5,-467 3597.5,-473 3597.5,-473 3597.5,-532 3597.5,-532 3597.5,-538 3591.5,-544 3585.5,-544\"/>\n<text text-anchor=\"start\" x=\"3507\" y=\"-528.8\" font-family=\"Helvetica,sans-Serif\" font-size=\"14.00\" fill=\"#000000\">age ≤ 0.259</text>\n<text text-anchor=\"start\" x=\"3507.5\" y=\"-513.8\" font-family=\"Helvetica,sans-Serif\" font-size=\"14.00\" fill=\"#000000\">gini = 0.498</text>\n<text text-anchor=\"start\" x=\"3501.5\" y=\"-498.8\" font-family=\"Helvetica,sans-Serif\" font-size=\"14.00\" fill=\"#000000\">samples = 17</text>\n<text text-anchor=\"start\" x=\"3504\" y=\"-483.8\" font-family=\"Helvetica,sans-Serif\" font-size=\"14.00\" fill=\"#000000\">value = [9, 8]</text>\n<text text-anchor=\"start\" x=\"3519\" y=\"-468.8\" font-family=\"Helvetica,sans-Serif\" font-size=\"14.00\" fill=\"#000000\">class = l</text>\n</g>\n<!-- 154&#45;&gt;162 -->\n<g id=\"edge162\" class=\"edge\">\n<title>154&#45;&gt;162</title>\n<path fill=\"none\" stroke=\"#000000\" d=\"M3315.7811,-597.4186C3364.5754,-577.257 3434.0152,-548.5649 3483.755,-528.0127\"/>\n<polygon fill=\"#000000\" stroke=\"#000000\" points=\"3485.2102,-531.1985 3493.1157,-524.1449 3482.537,-524.729 3485.2102,-531.1985\"/>\n</g>\n<!-- 156 -->\n<g id=\"node157\" class=\"node\">\n<title>156</title>\n<path fill=\"#ffffff\" stroke=\"#000000\" d=\"M3237,-417.5C3237,-417.5 3162,-417.5 3162,-417.5 3156,-417.5 3150,-411.5 3150,-405.5 3150,-405.5 3150,-361.5 3150,-361.5 3150,-355.5 3156,-349.5 3162,-349.5 3162,-349.5 3237,-349.5 3237,-349.5 3243,-349.5 3249,-355.5 3249,-361.5 3249,-361.5 3249,-405.5 3249,-405.5 3249,-411.5 3243,-417.5 3237,-417.5\"/>\n<text text-anchor=\"start\" x=\"3170\" y=\"-402.3\" font-family=\"Helvetica,sans-Serif\" font-size=\"14.00\" fill=\"#000000\">gini = 0.5</text>\n<text text-anchor=\"start\" x=\"3160\" y=\"-387.3\" font-family=\"Helvetica,sans-Serif\" font-size=\"14.00\" fill=\"#000000\">samples = 2</text>\n<text text-anchor=\"start\" x=\"3158\" y=\"-372.3\" font-family=\"Helvetica,sans-Serif\" font-size=\"14.00\" fill=\"#000000\">value = [1, 1]</text>\n<text text-anchor=\"start\" x=\"3173\" y=\"-357.3\" font-family=\"Helvetica,sans-Serif\" font-size=\"14.00\" fill=\"#000000\">class = l</text>\n</g>\n<!-- 155&#45;&gt;156 -->\n<g id=\"edge156\" class=\"edge\">\n<title>155&#45;&gt;156</title>\n<path fill=\"none\" stroke=\"#000000\" d=\"M3237.2144,-460.8796C3231.855,-449.8835 3226.0578,-437.9893 3220.6537,-426.9015\"/>\n<polygon fill=\"#000000\" stroke=\"#000000\" points=\"3223.7524,-425.2706 3216.2249,-417.8149 3217.46,-428.3375 3223.7524,-425.2706\"/>\n</g>\n<!-- 157 -->\n<g id=\"node158\" class=\"node\">\n<title>157</title>\n<path fill=\"#b0d8f5\" stroke=\"#000000\" d=\"M3354,-425C3354,-425 3279,-425 3279,-425 3273,-425 3267,-419 3267,-413 3267,-413 3267,-354 3267,-354 3267,-348 3273,-342 3279,-342 3279,-342 3354,-342 3354,-342 3360,-342 3366,-348 3366,-354 3366,-354 3366,-413 3366,-413 3366,-419 3360,-425 3354,-425\"/>\n<text text-anchor=\"start\" x=\"3275.5\" y=\"-409.8\" font-family=\"Helvetica,sans-Serif\" font-size=\"14.00\" fill=\"#000000\">age ≤ &#45;0.073</text>\n<text text-anchor=\"start\" x=\"3278.5\" y=\"-394.8\" font-family=\"Helvetica,sans-Serif\" font-size=\"14.00\" fill=\"#000000\">gini = 0.469</text>\n<text text-anchor=\"start\" x=\"3277\" y=\"-379.8\" font-family=\"Helvetica,sans-Serif\" font-size=\"14.00\" fill=\"#000000\">samples = 8</text>\n<text text-anchor=\"start\" x=\"3275\" y=\"-364.8\" font-family=\"Helvetica,sans-Serif\" font-size=\"14.00\" fill=\"#000000\">value = [3, 5]</text>\n<text text-anchor=\"start\" x=\"3287.5\" y=\"-349.8\" font-family=\"Helvetica,sans-Serif\" font-size=\"14.00\" fill=\"#000000\">class = o</text>\n</g>\n<!-- 155&#45;&gt;157 -->\n<g id=\"edge157\" class=\"edge\">\n<title>155&#45;&gt;157</title>\n<path fill=\"none\" stroke=\"#000000\" d=\"M3278.1353,-460.8796C3282.3774,-452.3236 3286.889,-443.2238 3291.2721,-434.3833\"/>\n<polygon fill=\"#000000\" stroke=\"#000000\" points=\"3294.4703,-435.8121 3295.7766,-425.2981 3288.1988,-432.7026 3294.4703,-435.8121\"/>\n</g>\n<!-- 158 -->\n<g id=\"node159\" class=\"node\">\n<title>158</title>\n<path fill=\"#9ccef2\" stroke=\"#000000\" d=\"M3291,-298.5C3291,-298.5 3216,-298.5 3216,-298.5 3210,-298.5 3204,-292.5 3204,-286.5 3204,-286.5 3204,-242.5 3204,-242.5 3204,-236.5 3210,-230.5 3216,-230.5 3216,-230.5 3291,-230.5 3291,-230.5 3297,-230.5 3303,-236.5 3303,-242.5 3303,-242.5 3303,-286.5 3303,-286.5 3303,-292.5 3297,-298.5 3291,-298.5\"/>\n<text text-anchor=\"start\" x=\"3215.5\" y=\"-283.3\" font-family=\"Helvetica,sans-Serif\" font-size=\"14.00\" fill=\"#000000\">gini = 0.444</text>\n<text text-anchor=\"start\" x=\"3214\" y=\"-268.3\" font-family=\"Helvetica,sans-Serif\" font-size=\"14.00\" fill=\"#000000\">samples = 3</text>\n<text text-anchor=\"start\" x=\"3212\" y=\"-253.3\" font-family=\"Helvetica,sans-Serif\" font-size=\"14.00\" fill=\"#000000\">value = [1, 2]</text>\n<text text-anchor=\"start\" x=\"3224.5\" y=\"-238.3\" font-family=\"Helvetica,sans-Serif\" font-size=\"14.00\" fill=\"#000000\">class = o</text>\n</g>\n<!-- 157&#45;&gt;158 -->\n<g id=\"edge158\" class=\"edge\">\n<title>157&#45;&gt;158</title>\n<path fill=\"none\" stroke=\"#000000\" d=\"M3294.4657,-341.8796C3288.6442,-330.8835 3282.3473,-318.9893 3276.4773,-307.9015\"/>\n<polygon fill=\"#000000\" stroke=\"#000000\" points=\"3279.4389,-306.0152 3271.6667,-298.8149 3273.2524,-309.2905 3279.4389,-306.0152\"/>\n</g>\n<!-- 159 -->\n<g id=\"node160\" class=\"node\">\n<title>159</title>\n<path fill=\"#bddef6\" stroke=\"#000000\" d=\"M3408,-306C3408,-306 3333,-306 3333,-306 3327,-306 3321,-300 3321,-294 3321,-294 3321,-235 3321,-235 3321,-229 3327,-223 3333,-223 3333,-223 3408,-223 3408,-223 3414,-223 3420,-229 3420,-235 3420,-235 3420,-294 3420,-294 3420,-300 3414,-306 3408,-306\"/>\n<text text-anchor=\"start\" x=\"3332\" y=\"-290.8\" font-family=\"Helvetica,sans-Serif\" font-size=\"14.00\" fill=\"#000000\">age ≤ 0.259</text>\n<text text-anchor=\"start\" x=\"3337\" y=\"-275.8\" font-family=\"Helvetica,sans-Serif\" font-size=\"14.00\" fill=\"#000000\">gini = 0.48</text>\n<text text-anchor=\"start\" x=\"3331\" y=\"-260.8\" font-family=\"Helvetica,sans-Serif\" font-size=\"14.00\" fill=\"#000000\">samples = 5</text>\n<text text-anchor=\"start\" x=\"3329\" y=\"-245.8\" font-family=\"Helvetica,sans-Serif\" font-size=\"14.00\" fill=\"#000000\">value = [2, 3]</text>\n<text text-anchor=\"start\" x=\"3341.5\" y=\"-230.8\" font-family=\"Helvetica,sans-Serif\" font-size=\"14.00\" fill=\"#000000\">class = o</text>\n</g>\n<!-- 157&#45;&gt;159 -->\n<g id=\"edge159\" class=\"edge\">\n<title>157&#45;&gt;159</title>\n<path fill=\"none\" stroke=\"#000000\" d=\"M3335.3866,-341.8796C3339.2283,-333.4136 3343.3115,-324.4153 3347.2834,-315.6626\"/>\n<polygon fill=\"#000000\" stroke=\"#000000\" points=\"3350.5877,-316.8507 3351.5328,-306.2981 3344.2133,-313.9581 3350.5877,-316.8507\"/>\n</g>\n<!-- 160 -->\n<g id=\"node161\" class=\"node\">\n<title>160</title>\n<path fill=\"#ffffff\" stroke=\"#000000\" d=\"M3291,-179.5C3291,-179.5 3216,-179.5 3216,-179.5 3210,-179.5 3204,-173.5 3204,-167.5 3204,-167.5 3204,-123.5 3204,-123.5 3204,-117.5 3210,-111.5 3216,-111.5 3216,-111.5 3291,-111.5 3291,-111.5 3297,-111.5 3303,-117.5 3303,-123.5 3303,-123.5 3303,-167.5 3303,-167.5 3303,-173.5 3297,-179.5 3291,-179.5\"/>\n<text text-anchor=\"start\" x=\"3224\" y=\"-164.3\" font-family=\"Helvetica,sans-Serif\" font-size=\"14.00\" fill=\"#000000\">gini = 0.5</text>\n<text text-anchor=\"start\" x=\"3214\" y=\"-149.3\" font-family=\"Helvetica,sans-Serif\" font-size=\"14.00\" fill=\"#000000\">samples = 2</text>\n<text text-anchor=\"start\" x=\"3212\" y=\"-134.3\" font-family=\"Helvetica,sans-Serif\" font-size=\"14.00\" fill=\"#000000\">value = [1, 1]</text>\n<text text-anchor=\"start\" x=\"3227\" y=\"-119.3\" font-family=\"Helvetica,sans-Serif\" font-size=\"14.00\" fill=\"#000000\">class = l</text>\n</g>\n<!-- 159&#45;&gt;160 -->\n<g id=\"edge160\" class=\"edge\">\n<title>159&#45;&gt;160</title>\n<path fill=\"none\" stroke=\"#000000\" d=\"M3329.5791,-222.8796C3318.2272,-211.3337 3305.9018,-198.7976 3294.543,-187.2446\"/>\n<polygon fill=\"#000000\" stroke=\"#000000\" points=\"3296.7449,-184.4919 3287.2382,-179.8149 3291.7534,-189.3995 3296.7449,-184.4919\"/>\n</g>\n<!-- 161 -->\n<g id=\"node162\" class=\"node\">\n<title>161</title>\n<path fill=\"#9ccef2\" stroke=\"#000000\" d=\"M3408,-179.5C3408,-179.5 3333,-179.5 3333,-179.5 3327,-179.5 3321,-173.5 3321,-167.5 3321,-167.5 3321,-123.5 3321,-123.5 3321,-117.5 3327,-111.5 3333,-111.5 3333,-111.5 3408,-111.5 3408,-111.5 3414,-111.5 3420,-117.5 3420,-123.5 3420,-123.5 3420,-167.5 3420,-167.5 3420,-173.5 3414,-179.5 3408,-179.5\"/>\n<text text-anchor=\"start\" x=\"3332.5\" y=\"-164.3\" font-family=\"Helvetica,sans-Serif\" font-size=\"14.00\" fill=\"#000000\">gini = 0.444</text>\n<text text-anchor=\"start\" x=\"3331\" y=\"-149.3\" font-family=\"Helvetica,sans-Serif\" font-size=\"14.00\" fill=\"#000000\">samples = 3</text>\n<text text-anchor=\"start\" x=\"3329\" y=\"-134.3\" font-family=\"Helvetica,sans-Serif\" font-size=\"14.00\" fill=\"#000000\">value = [1, 2]</text>\n<text text-anchor=\"start\" x=\"3341.5\" y=\"-119.3\" font-family=\"Helvetica,sans-Serif\" font-size=\"14.00\" fill=\"#000000\">class = o</text>\n</g>\n<!-- 159&#45;&gt;161 -->\n<g id=\"edge161\" class=\"edge\">\n<title>159&#45;&gt;161</title>\n<path fill=\"none\" stroke=\"#000000\" d=\"M3370.5,-222.8796C3370.5,-212.2134 3370.5,-200.7021 3370.5,-189.9015\"/>\n<polygon fill=\"#000000\" stroke=\"#000000\" points=\"3374.0001,-189.8149 3370.5,-179.8149 3367.0001,-189.815 3374.0001,-189.8149\"/>\n</g>\n<!-- 163 -->\n<g id=\"node164\" class=\"node\">\n<title>163</title>\n<path fill=\"#d7ebfa\" stroke=\"#000000\" d=\"M3583,-425C3583,-425 3508,-425 3508,-425 3502,-425 3496,-419 3496,-413 3496,-413 3496,-354 3496,-354 3496,-348 3502,-342 3508,-342 3508,-342 3583,-342 3583,-342 3589,-342 3595,-348 3595,-354 3595,-354 3595,-413 3595,-413 3595,-419 3589,-425 3583,-425\"/>\n<text text-anchor=\"start\" x=\"3507\" y=\"-409.8\" font-family=\"Helvetica,sans-Serif\" font-size=\"14.00\" fill=\"#000000\">age ≤ 0.093</text>\n<text text-anchor=\"start\" x=\"3507.5\" y=\"-394.8\" font-family=\"Helvetica,sans-Serif\" font-size=\"14.00\" fill=\"#000000\">gini = 0.494</text>\n<text text-anchor=\"start\" x=\"3506\" y=\"-379.8\" font-family=\"Helvetica,sans-Serif\" font-size=\"14.00\" fill=\"#000000\">samples = 9</text>\n<text text-anchor=\"start\" x=\"3504\" y=\"-364.8\" font-family=\"Helvetica,sans-Serif\" font-size=\"14.00\" fill=\"#000000\">value = [4, 5]</text>\n<text text-anchor=\"start\" x=\"3516.5\" y=\"-349.8\" font-family=\"Helvetica,sans-Serif\" font-size=\"14.00\" fill=\"#000000\">class = o</text>\n</g>\n<!-- 162&#45;&gt;163 -->\n<g id=\"edge163\" class=\"edge\">\n<title>162&#45;&gt;163</title>\n<path fill=\"none\" stroke=\"#000000\" d=\"M3545.5,-460.8796C3545.5,-452.6838 3545.5,-443.9891 3545.5,-435.5013\"/>\n<polygon fill=\"#000000\" stroke=\"#000000\" points=\"3549.0001,-435.298 3545.5,-425.2981 3542.0001,-435.2981 3549.0001,-435.298\"/>\n</g>\n<!-- 170 -->\n<g id=\"node171\" class=\"node\">\n<title>170</title>\n<path fill=\"#f5cdb0\" stroke=\"#000000\" d=\"M3759,-425C3759,-425 3684,-425 3684,-425 3678,-425 3672,-419 3672,-413 3672,-413 3672,-354 3672,-354 3672,-348 3678,-342 3684,-342 3684,-342 3759,-342 3759,-342 3765,-342 3771,-348 3771,-354 3771,-354 3771,-413 3771,-413 3771,-419 3765,-425 3759,-425\"/>\n<text text-anchor=\"start\" x=\"3683\" y=\"-409.8\" font-family=\"Helvetica,sans-Serif\" font-size=\"14.00\" fill=\"#000000\">age ≤ 0.425</text>\n<text text-anchor=\"start\" x=\"3683.5\" y=\"-394.8\" font-family=\"Helvetica,sans-Serif\" font-size=\"14.00\" fill=\"#000000\">gini = 0.469</text>\n<text text-anchor=\"start\" x=\"3682\" y=\"-379.8\" font-family=\"Helvetica,sans-Serif\" font-size=\"14.00\" fill=\"#000000\">samples = 8</text>\n<text text-anchor=\"start\" x=\"3680\" y=\"-364.8\" font-family=\"Helvetica,sans-Serif\" font-size=\"14.00\" fill=\"#000000\">value = [5, 3]</text>\n<text text-anchor=\"start\" x=\"3695\" y=\"-349.8\" font-family=\"Helvetica,sans-Serif\" font-size=\"14.00\" fill=\"#000000\">class = l</text>\n</g>\n<!-- 162&#45;&gt;170 -->\n<g id=\"edge170\" class=\"edge\">\n<title>162&#45;&gt;170</title>\n<path fill=\"none\" stroke=\"#000000\" d=\"M3597.8293,-467.1183C3618.4931,-453.1467 3642.3156,-437.0394 3663.5024,-422.7143\"/>\n<polygon fill=\"#000000\" stroke=\"#000000\" points=\"3665.4631,-425.6136 3671.7868,-417.1129 3661.5422,-419.8147 3665.4631,-425.6136\"/>\n</g>\n<!-- 164 -->\n<g id=\"node165\" class=\"node\">\n<title>164</title>\n<path fill=\"#ffffff\" stroke=\"#000000\" d=\"M3525,-306C3525,-306 3450,-306 3450,-306 3444,-306 3438,-300 3438,-294 3438,-294 3438,-235 3438,-235 3438,-229 3444,-223 3450,-223 3450,-223 3525,-223 3525,-223 3531,-223 3537,-229 3537,-235 3537,-235 3537,-294 3537,-294 3537,-300 3531,-306 3525,-306\"/>\n<text text-anchor=\"start\" x=\"3446.5\" y=\"-290.8\" font-family=\"Helvetica,sans-Serif\" font-size=\"14.00\" fill=\"#000000\">age ≤ &#45;0.239</text>\n<text text-anchor=\"start\" x=\"3458\" y=\"-275.8\" font-family=\"Helvetica,sans-Serif\" font-size=\"14.00\" fill=\"#000000\">gini = 0.5</text>\n<text text-anchor=\"start\" x=\"3448\" y=\"-260.8\" font-family=\"Helvetica,sans-Serif\" font-size=\"14.00\" fill=\"#000000\">samples = 6</text>\n<text text-anchor=\"start\" x=\"3446\" y=\"-245.8\" font-family=\"Helvetica,sans-Serif\" font-size=\"14.00\" fill=\"#000000\">value = [3, 3]</text>\n<text text-anchor=\"start\" x=\"3461\" y=\"-230.8\" font-family=\"Helvetica,sans-Serif\" font-size=\"14.00\" fill=\"#000000\">class = l</text>\n</g>\n<!-- 163&#45;&gt;164 -->\n<g id=\"edge164\" class=\"edge\">\n<title>163&#45;&gt;164</title>\n<path fill=\"none\" stroke=\"#000000\" d=\"M3525.2144,-341.8796C3521.0443,-333.3236 3516.6091,-324.2238 3512.3003,-315.3833\"/>\n<polygon fill=\"#000000\" stroke=\"#000000\" points=\"3515.3997,-313.7538 3507.8722,-306.2981 3509.1073,-316.8207 3515.3997,-313.7538\"/>\n</g>\n<!-- 169 -->\n<g id=\"node170\" class=\"node\">\n<title>169</title>\n<path fill=\"#9ccef2\" stroke=\"#000000\" d=\"M3642,-298.5C3642,-298.5 3567,-298.5 3567,-298.5 3561,-298.5 3555,-292.5 3555,-286.5 3555,-286.5 3555,-242.5 3555,-242.5 3555,-236.5 3561,-230.5 3567,-230.5 3567,-230.5 3642,-230.5 3642,-230.5 3648,-230.5 3654,-236.5 3654,-242.5 3654,-242.5 3654,-286.5 3654,-286.5 3654,-292.5 3648,-298.5 3642,-298.5\"/>\n<text text-anchor=\"start\" x=\"3566.5\" y=\"-283.3\" font-family=\"Helvetica,sans-Serif\" font-size=\"14.00\" fill=\"#000000\">gini = 0.444</text>\n<text text-anchor=\"start\" x=\"3565\" y=\"-268.3\" font-family=\"Helvetica,sans-Serif\" font-size=\"14.00\" fill=\"#000000\">samples = 3</text>\n<text text-anchor=\"start\" x=\"3563\" y=\"-253.3\" font-family=\"Helvetica,sans-Serif\" font-size=\"14.00\" fill=\"#000000\">value = [1, 2]</text>\n<text text-anchor=\"start\" x=\"3575.5\" y=\"-238.3\" font-family=\"Helvetica,sans-Serif\" font-size=\"14.00\" fill=\"#000000\">class = o</text>\n</g>\n<!-- 163&#45;&gt;169 -->\n<g id=\"edge169\" class=\"edge\">\n<title>163&#45;&gt;169</title>\n<path fill=\"none\" stroke=\"#000000\" d=\"M3566.1353,-341.8796C3571.5872,-330.8835 3577.4843,-318.9893 3582.9816,-307.9015\"/>\n<polygon fill=\"#000000\" stroke=\"#000000\" points=\"3586.1804,-309.3289 3587.4867,-298.8149 3579.9089,-306.2195 3586.1804,-309.3289\"/>\n</g>\n<!-- 165 -->\n<g id=\"node166\" class=\"node\">\n<title>165</title>\n<path fill=\"#ffffff\" stroke=\"#000000\" d=\"M3525,-179.5C3525,-179.5 3450,-179.5 3450,-179.5 3444,-179.5 3438,-173.5 3438,-167.5 3438,-167.5 3438,-123.5 3438,-123.5 3438,-117.5 3444,-111.5 3450,-111.5 3450,-111.5 3525,-111.5 3525,-111.5 3531,-111.5 3537,-117.5 3537,-123.5 3537,-123.5 3537,-167.5 3537,-167.5 3537,-173.5 3531,-179.5 3525,-179.5\"/>\n<text text-anchor=\"start\" x=\"3458\" y=\"-164.3\" font-family=\"Helvetica,sans-Serif\" font-size=\"14.00\" fill=\"#000000\">gini = 0.5</text>\n<text text-anchor=\"start\" x=\"3448\" y=\"-149.3\" font-family=\"Helvetica,sans-Serif\" font-size=\"14.00\" fill=\"#000000\">samples = 2</text>\n<text text-anchor=\"start\" x=\"3446\" y=\"-134.3\" font-family=\"Helvetica,sans-Serif\" font-size=\"14.00\" fill=\"#000000\">value = [1, 1]</text>\n<text text-anchor=\"start\" x=\"3461\" y=\"-119.3\" font-family=\"Helvetica,sans-Serif\" font-size=\"14.00\" fill=\"#000000\">class = l</text>\n</g>\n<!-- 164&#45;&gt;165 -->\n<g id=\"edge165\" class=\"edge\">\n<title>164&#45;&gt;165</title>\n<path fill=\"none\" stroke=\"#000000\" d=\"M3487.5,-222.8796C3487.5,-212.2134 3487.5,-200.7021 3487.5,-189.9015\"/>\n<polygon fill=\"#000000\" stroke=\"#000000\" points=\"3491.0001,-189.8149 3487.5,-179.8149 3484.0001,-189.815 3491.0001,-189.8149\"/>\n</g>\n<!-- 166 -->\n<g id=\"node167\" class=\"node\">\n<title>166</title>\n<path fill=\"#ffffff\" stroke=\"#000000\" d=\"M3642,-187C3642,-187 3567,-187 3567,-187 3561,-187 3555,-181 3555,-175 3555,-175 3555,-116 3555,-116 3555,-110 3561,-104 3567,-104 3567,-104 3642,-104 3642,-104 3648,-104 3654,-110 3654,-116 3654,-116 3654,-175 3654,-175 3654,-181 3648,-187 3642,-187\"/>\n<text text-anchor=\"start\" x=\"3563.5\" y=\"-171.8\" font-family=\"Helvetica,sans-Serif\" font-size=\"14.00\" fill=\"#000000\">age ≤ &#45;0.073</text>\n<text text-anchor=\"start\" x=\"3575\" y=\"-156.8\" font-family=\"Helvetica,sans-Serif\" font-size=\"14.00\" fill=\"#000000\">gini = 0.5</text>\n<text text-anchor=\"start\" x=\"3565\" y=\"-141.8\" font-family=\"Helvetica,sans-Serif\" font-size=\"14.00\" fill=\"#000000\">samples = 4</text>\n<text text-anchor=\"start\" x=\"3563\" y=\"-126.8\" font-family=\"Helvetica,sans-Serif\" font-size=\"14.00\" fill=\"#000000\">value = [2, 2]</text>\n<text text-anchor=\"start\" x=\"3578\" y=\"-111.8\" font-family=\"Helvetica,sans-Serif\" font-size=\"14.00\" fill=\"#000000\">class = l</text>\n</g>\n<!-- 164&#45;&gt;166 -->\n<g id=\"edge166\" class=\"edge\">\n<title>164&#45;&gt;166</title>\n<path fill=\"none\" stroke=\"#000000\" d=\"M3528.4209,-222.8796C3537.453,-213.6931 3547.1013,-203.8798 3556.3888,-194.4336\"/>\n<polygon fill=\"#000000\" stroke=\"#000000\" points=\"3558.8893,-196.8827 3563.4044,-187.2981 3553.8977,-191.975 3558.8893,-196.8827\"/>\n</g>\n<!-- 167 -->\n<g id=\"node168\" class=\"node\">\n<title>167</title>\n<path fill=\"#ffffff\" stroke=\"#000000\" d=\"M3583,-68C3583,-68 3508,-68 3508,-68 3502,-68 3496,-62 3496,-56 3496,-56 3496,-12 3496,-12 3496,-6 3502,0 3508,0 3508,0 3583,0 3583,0 3589,0 3595,-6 3595,-12 3595,-12 3595,-56 3595,-56 3595,-62 3589,-68 3583,-68\"/>\n<text text-anchor=\"start\" x=\"3516\" y=\"-52.8\" font-family=\"Helvetica,sans-Serif\" font-size=\"14.00\" fill=\"#000000\">gini = 0.5</text>\n<text text-anchor=\"start\" x=\"3506\" y=\"-37.8\" font-family=\"Helvetica,sans-Serif\" font-size=\"14.00\" fill=\"#000000\">samples = 2</text>\n<text text-anchor=\"start\" x=\"3504\" y=\"-22.8\" font-family=\"Helvetica,sans-Serif\" font-size=\"14.00\" fill=\"#000000\">value = [1, 1]</text>\n<text text-anchor=\"start\" x=\"3519\" y=\"-7.8\" font-family=\"Helvetica,sans-Serif\" font-size=\"14.00\" fill=\"#000000\">class = l</text>\n</g>\n<!-- 166&#45;&gt;167 -->\n<g id=\"edge167\" class=\"edge\">\n<title>166&#45;&gt;167</title>\n<path fill=\"none\" stroke=\"#000000\" d=\"M3582.5306,-103.9815C3577.9105,-95.2504 3573.0264,-86.0202 3568.374,-77.2281\"/>\n<polygon fill=\"#000000\" stroke=\"#000000\" points=\"3571.4013,-75.4655 3563.6306,-68.2637 3565.2141,-78.7395 3571.4013,-75.4655\"/>\n</g>\n<!-- 168 -->\n<g id=\"node169\" class=\"node\">\n<title>168</title>\n<path fill=\"#ffffff\" stroke=\"#000000\" d=\"M3700,-68C3700,-68 3625,-68 3625,-68 3619,-68 3613,-62 3613,-56 3613,-56 3613,-12 3613,-12 3613,-6 3619,0 3625,0 3625,0 3700,0 3700,0 3706,0 3712,-6 3712,-12 3712,-12 3712,-56 3712,-56 3712,-62 3706,-68 3700,-68\"/>\n<text text-anchor=\"start\" x=\"3633\" y=\"-52.8\" font-family=\"Helvetica,sans-Serif\" font-size=\"14.00\" fill=\"#000000\">gini = 0.5</text>\n<text text-anchor=\"start\" x=\"3623\" y=\"-37.8\" font-family=\"Helvetica,sans-Serif\" font-size=\"14.00\" fill=\"#000000\">samples = 2</text>\n<text text-anchor=\"start\" x=\"3621\" y=\"-22.8\" font-family=\"Helvetica,sans-Serif\" font-size=\"14.00\" fill=\"#000000\">value = [1, 1]</text>\n<text text-anchor=\"start\" x=\"3636\" y=\"-7.8\" font-family=\"Helvetica,sans-Serif\" font-size=\"14.00\" fill=\"#000000\">class = l</text>\n</g>\n<!-- 166&#45;&gt;168 -->\n<g id=\"edge168\" class=\"edge\">\n<title>166&#45;&gt;168</title>\n<path fill=\"none\" stroke=\"#000000\" d=\"M3626.0971,-103.9815C3630.6388,-95.2504 3635.4402,-86.0202 3640.0137,-77.2281\"/>\n<polygon fill=\"#000000\" stroke=\"#000000\" points=\"3643.1669,-78.7504 3644.6767,-68.2637 3636.9569,-75.52 3643.1669,-78.7504\"/>\n</g>\n<!-- 171 -->\n<g id=\"node172\" class=\"node\">\n<title>171</title>\n<path fill=\"#f6d5bd\" stroke=\"#000000\" d=\"M3759,-298.5C3759,-298.5 3684,-298.5 3684,-298.5 3678,-298.5 3672,-292.5 3672,-286.5 3672,-286.5 3672,-242.5 3672,-242.5 3672,-236.5 3678,-230.5 3684,-230.5 3684,-230.5 3759,-230.5 3759,-230.5 3765,-230.5 3771,-236.5 3771,-242.5 3771,-242.5 3771,-286.5 3771,-286.5 3771,-292.5 3765,-298.5 3759,-298.5\"/>\n<text text-anchor=\"start\" x=\"3688\" y=\"-283.3\" font-family=\"Helvetica,sans-Serif\" font-size=\"14.00\" fill=\"#000000\">gini = 0.48</text>\n<text text-anchor=\"start\" x=\"3682\" y=\"-268.3\" font-family=\"Helvetica,sans-Serif\" font-size=\"14.00\" fill=\"#000000\">samples = 5</text>\n<text text-anchor=\"start\" x=\"3680\" y=\"-253.3\" font-family=\"Helvetica,sans-Serif\" font-size=\"14.00\" fill=\"#000000\">value = [3, 2]</text>\n<text text-anchor=\"start\" x=\"3695\" y=\"-238.3\" font-family=\"Helvetica,sans-Serif\" font-size=\"14.00\" fill=\"#000000\">class = l</text>\n</g>\n<!-- 170&#45;&gt;171 -->\n<g id=\"edge171\" class=\"edge\">\n<title>170&#45;&gt;171</title>\n<path fill=\"none\" stroke=\"#000000\" d=\"M3721.5,-341.8796C3721.5,-331.2134 3721.5,-319.7021 3721.5,-308.9015\"/>\n<polygon fill=\"#000000\" stroke=\"#000000\" points=\"3725.0001,-308.8149 3721.5,-298.8149 3718.0001,-308.815 3725.0001,-308.8149\"/>\n</g>\n<!-- 172 -->\n<g id=\"node173\" class=\"node\">\n<title>172</title>\n<path fill=\"#f2c09c\" stroke=\"#000000\" d=\"M3876,-298.5C3876,-298.5 3801,-298.5 3801,-298.5 3795,-298.5 3789,-292.5 3789,-286.5 3789,-286.5 3789,-242.5 3789,-242.5 3789,-236.5 3795,-230.5 3801,-230.5 3801,-230.5 3876,-230.5 3876,-230.5 3882,-230.5 3888,-236.5 3888,-242.5 3888,-242.5 3888,-286.5 3888,-286.5 3888,-292.5 3882,-298.5 3876,-298.5\"/>\n<text text-anchor=\"start\" x=\"3800.5\" y=\"-283.3\" font-family=\"Helvetica,sans-Serif\" font-size=\"14.00\" fill=\"#000000\">gini = 0.444</text>\n<text text-anchor=\"start\" x=\"3799\" y=\"-268.3\" font-family=\"Helvetica,sans-Serif\" font-size=\"14.00\" fill=\"#000000\">samples = 3</text>\n<text text-anchor=\"start\" x=\"3797\" y=\"-253.3\" font-family=\"Helvetica,sans-Serif\" font-size=\"14.00\" fill=\"#000000\">value = [2, 1]</text>\n<text text-anchor=\"start\" x=\"3812\" y=\"-238.3\" font-family=\"Helvetica,sans-Serif\" font-size=\"14.00\" fill=\"#000000\">class = l</text>\n</g>\n<!-- 170&#45;&gt;172 -->\n<g id=\"edge172\" class=\"edge\">\n<title>170&#45;&gt;172</title>\n<path fill=\"none\" stroke=\"#000000\" d=\"M3762.4209,-341.8796C3773.7728,-330.3337 3786.0982,-317.7976 3797.457,-306.2446\"/>\n<polygon fill=\"#000000\" stroke=\"#000000\" points=\"3800.2466,-308.3995 3804.7618,-298.8149 3795.2551,-303.4919 3800.2466,-308.3995\"/>\n</g>\n<!-- 174 -->\n<g id=\"node175\" class=\"node\">\n<title>174</title>\n<path fill=\"#e58139\" stroke=\"#000000\" d=\"M2686,-1131.5C2686,-1131.5 2611,-1131.5 2611,-1131.5 2605,-1131.5 2599,-1125.5 2599,-1119.5 2599,-1119.5 2599,-1075.5 2599,-1075.5 2599,-1069.5 2605,-1063.5 2611,-1063.5 2611,-1063.5 2686,-1063.5 2686,-1063.5 2692,-1063.5 2698,-1069.5 2698,-1075.5 2698,-1075.5 2698,-1119.5 2698,-1119.5 2698,-1125.5 2692,-1131.5 2686,-1131.5\"/>\n<text text-anchor=\"start\" x=\"2619\" y=\"-1116.3\" font-family=\"Helvetica,sans-Serif\" font-size=\"14.00\" fill=\"#000000\">gini = 0.0</text>\n<text text-anchor=\"start\" x=\"2609\" y=\"-1101.3\" font-family=\"Helvetica,sans-Serif\" font-size=\"14.00\" fill=\"#000000\">samples = 5</text>\n<text text-anchor=\"start\" x=\"2607\" y=\"-1086.3\" font-family=\"Helvetica,sans-Serif\" font-size=\"14.00\" fill=\"#000000\">value = [5, 0]</text>\n<text text-anchor=\"start\" x=\"2622\" y=\"-1071.3\" font-family=\"Helvetica,sans-Serif\" font-size=\"14.00\" fill=\"#000000\">class = l</text>\n</g>\n<!-- 173&#45;&gt;174 -->\n<g id=\"edge174\" class=\"edge\">\n<title>173&#45;&gt;174</title>\n<path fill=\"none\" stroke=\"#000000\" d=\"M2648.5,-1174.8796C2648.5,-1164.2134 2648.5,-1152.7021 2648.5,-1141.9015\"/>\n<polygon fill=\"#000000\" stroke=\"#000000\" points=\"2652.0001,-1141.8149 2648.5,-1131.8149 2645.0001,-1141.815 2652.0001,-1141.8149\"/>\n</g>\n<!-- 175 -->\n<g id=\"node176\" class=\"node\">\n<title>175</title>\n<path fill=\"#efb388\" stroke=\"#000000\" d=\"M2855,-1139C2855,-1139 2770,-1139 2770,-1139 2764,-1139 2758,-1133 2758,-1127 2758,-1127 2758,-1068 2758,-1068 2758,-1062 2764,-1056 2770,-1056 2770,-1056 2855,-1056 2855,-1056 2861,-1056 2867,-1062 2867,-1068 2867,-1068 2867,-1127 2867,-1127 2867,-1133 2861,-1139 2855,-1139\"/>\n<text text-anchor=\"start\" x=\"2766\" y=\"-1123.8\" font-family=\"Helvetica,sans-Serif\" font-size=\"14.00\" fill=\"#000000\">terms ≤ &#45;0.019</text>\n<text text-anchor=\"start\" x=\"2774.5\" y=\"-1108.8\" font-family=\"Helvetica,sans-Serif\" font-size=\"14.00\" fill=\"#000000\">gini = 0.408</text>\n<text text-anchor=\"start\" x=\"2773\" y=\"-1093.8\" font-family=\"Helvetica,sans-Serif\" font-size=\"14.00\" fill=\"#000000\">samples = 7</text>\n<text text-anchor=\"start\" x=\"2771\" y=\"-1078.8\" font-family=\"Helvetica,sans-Serif\" font-size=\"14.00\" fill=\"#000000\">value = [5, 2]</text>\n<text text-anchor=\"start\" x=\"2786\" y=\"-1063.8\" font-family=\"Helvetica,sans-Serif\" font-size=\"14.00\" fill=\"#000000\">class = l</text>\n</g>\n<!-- 173&#45;&gt;175 -->\n<g id=\"edge175\" class=\"edge\">\n<title>173&#45;&gt;175</title>\n<path fill=\"none\" stroke=\"#000000\" d=\"M2702.1997,-1177.5349C2717.3938,-1166.51 2734.0654,-1154.4129 2749.7426,-1143.0374\"/>\n<polygon fill=\"#000000\" stroke=\"#000000\" points=\"2751.7987,-1145.8698 2757.837,-1137.164 2747.6876,-1140.2042 2751.7987,-1145.8698\"/>\n</g>\n<!-- 176 -->\n<g id=\"node177\" class=\"node\">\n<title>176</title>\n<path fill=\"#ffffff\" stroke=\"#000000\" d=\"M2850,-1020C2850,-1020 2775,-1020 2775,-1020 2769,-1020 2763,-1014 2763,-1008 2763,-1008 2763,-949 2763,-949 2763,-943 2769,-937 2775,-937 2775,-937 2850,-937 2850,-937 2856,-937 2862,-943 2862,-949 2862,-949 2862,-1008 2862,-1008 2862,-1014 2856,-1020 2850,-1020\"/>\n<text text-anchor=\"start\" x=\"2774\" y=\"-1004.8\" font-family=\"Helvetica,sans-Serif\" font-size=\"14.00\" fill=\"#000000\">age ≤ 1.337</text>\n<text text-anchor=\"start\" x=\"2783\" y=\"-989.8\" font-family=\"Helvetica,sans-Serif\" font-size=\"14.00\" fill=\"#000000\">gini = 0.5</text>\n<text text-anchor=\"start\" x=\"2773\" y=\"-974.8\" font-family=\"Helvetica,sans-Serif\" font-size=\"14.00\" fill=\"#000000\">samples = 2</text>\n<text text-anchor=\"start\" x=\"2771\" y=\"-959.8\" font-family=\"Helvetica,sans-Serif\" font-size=\"14.00\" fill=\"#000000\">value = [1, 1]</text>\n<text text-anchor=\"start\" x=\"2786\" y=\"-944.8\" font-family=\"Helvetica,sans-Serif\" font-size=\"14.00\" fill=\"#000000\">class = l</text>\n</g>\n<!-- 175&#45;&gt;176 -->\n<g id=\"edge176\" class=\"edge\">\n<title>175&#45;&gt;176</title>\n<path fill=\"none\" stroke=\"#000000\" d=\"M2812.5,-1055.8796C2812.5,-1047.6838 2812.5,-1038.9891 2812.5,-1030.5013\"/>\n<polygon fill=\"#000000\" stroke=\"#000000\" points=\"2816.0001,-1030.298 2812.5,-1020.2981 2809.0001,-1030.2981 2816.0001,-1030.298\"/>\n</g>\n<!-- 179 -->\n<g id=\"node180\" class=\"node\">\n<title>179</title>\n<path fill=\"#eca06a\" stroke=\"#000000\" d=\"M2996,-1020C2996,-1020 2921,-1020 2921,-1020 2915,-1020 2909,-1014 2909,-1008 2909,-1008 2909,-949 2909,-949 2909,-943 2915,-937 2921,-937 2921,-937 2996,-937 2996,-937 3002,-937 3008,-943 3008,-949 3008,-949 3008,-1008 3008,-1008 3008,-1014 3002,-1020 2996,-1020\"/>\n<text text-anchor=\"start\" x=\"2920\" y=\"-1004.8\" font-family=\"Helvetica,sans-Serif\" font-size=\"14.00\" fill=\"#000000\">age ≤ 1.254</text>\n<text text-anchor=\"start\" x=\"2925\" y=\"-989.8\" font-family=\"Helvetica,sans-Serif\" font-size=\"14.00\" fill=\"#000000\">gini = 0.32</text>\n<text text-anchor=\"start\" x=\"2919\" y=\"-974.8\" font-family=\"Helvetica,sans-Serif\" font-size=\"14.00\" fill=\"#000000\">samples = 5</text>\n<text text-anchor=\"start\" x=\"2917\" y=\"-959.8\" font-family=\"Helvetica,sans-Serif\" font-size=\"14.00\" fill=\"#000000\">value = [4, 1]</text>\n<text text-anchor=\"start\" x=\"2932\" y=\"-944.8\" font-family=\"Helvetica,sans-Serif\" font-size=\"14.00\" fill=\"#000000\">class = l</text>\n</g>\n<!-- 175&#45;&gt;179 -->\n<g id=\"edge179\" class=\"edge\">\n<title>175&#45;&gt;179</title>\n<path fill=\"none\" stroke=\"#000000\" d=\"M2863.5637,-1055.8796C2875.5707,-1046.0931 2888.4505,-1035.5951 2900.7288,-1025.5875\"/>\n<polygon fill=\"#000000\" stroke=\"#000000\" points=\"2903.1552,-1028.1252 2908.6953,-1019.0942 2898.7326,-1022.6992 2903.1552,-1028.1252\"/>\n</g>\n<!-- 177 -->\n<g id=\"node178\" class=\"node\">\n<title>177</title>\n<path fill=\"#e58139\" stroke=\"#000000\" d=\"M2836,-893.5C2836,-893.5 2761,-893.5 2761,-893.5 2755,-893.5 2749,-887.5 2749,-881.5 2749,-881.5 2749,-837.5 2749,-837.5 2749,-831.5 2755,-825.5 2761,-825.5 2761,-825.5 2836,-825.5 2836,-825.5 2842,-825.5 2848,-831.5 2848,-837.5 2848,-837.5 2848,-881.5 2848,-881.5 2848,-887.5 2842,-893.5 2836,-893.5\"/>\n<text text-anchor=\"start\" x=\"2769\" y=\"-878.3\" font-family=\"Helvetica,sans-Serif\" font-size=\"14.00\" fill=\"#000000\">gini = 0.0</text>\n<text text-anchor=\"start\" x=\"2759\" y=\"-863.3\" font-family=\"Helvetica,sans-Serif\" font-size=\"14.00\" fill=\"#000000\">samples = 1</text>\n<text text-anchor=\"start\" x=\"2757\" y=\"-848.3\" font-family=\"Helvetica,sans-Serif\" font-size=\"14.00\" fill=\"#000000\">value = [1, 0]</text>\n<text text-anchor=\"start\" x=\"2772\" y=\"-833.3\" font-family=\"Helvetica,sans-Serif\" font-size=\"14.00\" fill=\"#000000\">class = l</text>\n</g>\n<!-- 176&#45;&gt;177 -->\n<g id=\"edge177\" class=\"edge\">\n<title>176&#45;&gt;177</title>\n<path fill=\"none\" stroke=\"#000000\" d=\"M2807.6035,-936.8796C2806.3486,-926.2134 2804.9944,-914.7021 2803.7237,-903.9015\"/>\n<polygon fill=\"#000000\" stroke=\"#000000\" points=\"2807.1816,-903.3375 2802.5371,-893.8149 2800.2295,-904.1554 2807.1816,-903.3375\"/>\n</g>\n<!-- 178 -->\n<g id=\"node179\" class=\"node\">\n<title>178</title>\n<path fill=\"#399de5\" stroke=\"#000000\" d=\"M2953,-893.5C2953,-893.5 2878,-893.5 2878,-893.5 2872,-893.5 2866,-887.5 2866,-881.5 2866,-881.5 2866,-837.5 2866,-837.5 2866,-831.5 2872,-825.5 2878,-825.5 2878,-825.5 2953,-825.5 2953,-825.5 2959,-825.5 2965,-831.5 2965,-837.5 2965,-837.5 2965,-881.5 2965,-881.5 2965,-887.5 2959,-893.5 2953,-893.5\"/>\n<text text-anchor=\"start\" x=\"2886\" y=\"-878.3\" font-family=\"Helvetica,sans-Serif\" font-size=\"14.00\" fill=\"#000000\">gini = 0.0</text>\n<text text-anchor=\"start\" x=\"2876\" y=\"-863.3\" font-family=\"Helvetica,sans-Serif\" font-size=\"14.00\" fill=\"#000000\">samples = 1</text>\n<text text-anchor=\"start\" x=\"2874\" y=\"-848.3\" font-family=\"Helvetica,sans-Serif\" font-size=\"14.00\" fill=\"#000000\">value = [0, 1]</text>\n<text text-anchor=\"start\" x=\"2886.5\" y=\"-833.3\" font-family=\"Helvetica,sans-Serif\" font-size=\"14.00\" fill=\"#000000\">class = o</text>\n</g>\n<!-- 176&#45;&gt;178 -->\n<g id=\"edge178\" class=\"edge\">\n<title>176&#45;&gt;178</title>\n<path fill=\"none\" stroke=\"#000000\" d=\"M2848.5244,-936.8796C2858.4227,-925.4436 2869.1619,-913.0363 2879.0822,-901.575\"/>\n<polygon fill=\"#000000\" stroke=\"#000000\" points=\"2881.9007,-903.6666 2885.7988,-893.8149 2876.6079,-899.0855 2881.9007,-903.6666\"/>\n</g>\n<!-- 180 -->\n<g id=\"node181\" class=\"node\">\n<title>180</title>\n<path fill=\"#f2c09c\" stroke=\"#000000\" d=\"M3070,-893.5C3070,-893.5 2995,-893.5 2995,-893.5 2989,-893.5 2983,-887.5 2983,-881.5 2983,-881.5 2983,-837.5 2983,-837.5 2983,-831.5 2989,-825.5 2995,-825.5 2995,-825.5 3070,-825.5 3070,-825.5 3076,-825.5 3082,-831.5 3082,-837.5 3082,-837.5 3082,-881.5 3082,-881.5 3082,-887.5 3076,-893.5 3070,-893.5\"/>\n<text text-anchor=\"start\" x=\"2994.5\" y=\"-878.3\" font-family=\"Helvetica,sans-Serif\" font-size=\"14.00\" fill=\"#000000\">gini = 0.444</text>\n<text text-anchor=\"start\" x=\"2993\" y=\"-863.3\" font-family=\"Helvetica,sans-Serif\" font-size=\"14.00\" fill=\"#000000\">samples = 3</text>\n<text text-anchor=\"start\" x=\"2991\" y=\"-848.3\" font-family=\"Helvetica,sans-Serif\" font-size=\"14.00\" fill=\"#000000\">value = [2, 1]</text>\n<text text-anchor=\"start\" x=\"3006\" y=\"-833.3\" font-family=\"Helvetica,sans-Serif\" font-size=\"14.00\" fill=\"#000000\">class = l</text>\n</g>\n<!-- 179&#45;&gt;180 -->\n<g id=\"edge180\" class=\"edge\">\n<title>179&#45;&gt;180</title>\n<path fill=\"none\" stroke=\"#000000\" d=\"M2984.3816,-936.8796C2991.2879,-925.7735 2998.7639,-913.7513 3005.7175,-902.5691\"/>\n<polygon fill=\"#000000\" stroke=\"#000000\" points=\"3008.8527,-904.1552 3011.1613,-893.8149 3002.9083,-900.4587 3008.8527,-904.1552\"/>\n</g>\n<!-- 181 -->\n<g id=\"node182\" class=\"node\">\n<title>181</title>\n<path fill=\"#e58139\" stroke=\"#000000\" d=\"M3187,-893.5C3187,-893.5 3112,-893.5 3112,-893.5 3106,-893.5 3100,-887.5 3100,-881.5 3100,-881.5 3100,-837.5 3100,-837.5 3100,-831.5 3106,-825.5 3112,-825.5 3112,-825.5 3187,-825.5 3187,-825.5 3193,-825.5 3199,-831.5 3199,-837.5 3199,-837.5 3199,-881.5 3199,-881.5 3199,-887.5 3193,-893.5 3187,-893.5\"/>\n<text text-anchor=\"start\" x=\"3120\" y=\"-878.3\" font-family=\"Helvetica,sans-Serif\" font-size=\"14.00\" fill=\"#000000\">gini = 0.0</text>\n<text text-anchor=\"start\" x=\"3110\" y=\"-863.3\" font-family=\"Helvetica,sans-Serif\" font-size=\"14.00\" fill=\"#000000\">samples = 2</text>\n<text text-anchor=\"start\" x=\"3108\" y=\"-848.3\" font-family=\"Helvetica,sans-Serif\" font-size=\"14.00\" fill=\"#000000\">value = [2, 0]</text>\n<text text-anchor=\"start\" x=\"3123\" y=\"-833.3\" font-family=\"Helvetica,sans-Serif\" font-size=\"14.00\" fill=\"#000000\">class = l</text>\n</g>\n<!-- 179&#45;&gt;181 -->\n<g id=\"edge181\" class=\"edge\">\n<title>179&#45;&gt;181</title>\n<path fill=\"none\" stroke=\"#000000\" d=\"M3008.1281,-942.1846C3010.9312,-940.3868 3013.7338,-938.6466 3016.5,-937 3047.9278,-918.2925 3058.997,-919.5806 3090.5,-901 3091.5922,-900.3558 3092.6902,-899.6977 3093.792,-899.0277\"/>\n<polygon fill=\"#000000\" stroke=\"#000000\" points=\"3095.6725,-901.9798 3102.2757,-893.6943 3091.9469,-896.0536 3095.6725,-901.9798\"/>\n</g>\n<!-- 183 -->\n<g id=\"node184\" class=\"node\">\n<title>183</title>\n<path fill=\"#ffffff\" stroke=\"#000000\" d=\"M3203.5,-1377C3203.5,-1377 3123.5,-1377 3123.5,-1377 3117.5,-1377 3111.5,-1371 3111.5,-1365 3111.5,-1365 3111.5,-1306 3111.5,-1306 3111.5,-1300 3117.5,-1294 3123.5,-1294 3123.5,-1294 3203.5,-1294 3203.5,-1294 3209.5,-1294 3215.5,-1300 3215.5,-1306 3215.5,-1306 3215.5,-1365 3215.5,-1365 3215.5,-1371 3209.5,-1377 3203.5,-1377\"/>\n<text text-anchor=\"start\" x=\"3122.5\" y=\"-1361.8\" font-family=\"Helvetica,sans-Serif\" font-size=\"14.00\" fill=\"#000000\">age ≤ &#45;0.404</text>\n<text text-anchor=\"start\" x=\"3134\" y=\"-1346.8\" font-family=\"Helvetica,sans-Serif\" font-size=\"14.00\" fill=\"#000000\">gini = 0.5</text>\n<text text-anchor=\"start\" x=\"3119.5\" y=\"-1331.8\" font-family=\"Helvetica,sans-Serif\" font-size=\"14.00\" fill=\"#000000\">samples = 12</text>\n<text text-anchor=\"start\" x=\"3122\" y=\"-1316.8\" font-family=\"Helvetica,sans-Serif\" font-size=\"14.00\" fill=\"#000000\">value = [6, 6]</text>\n<text text-anchor=\"start\" x=\"3137\" y=\"-1301.8\" font-family=\"Helvetica,sans-Serif\" font-size=\"14.00\" fill=\"#000000\">class = l</text>\n</g>\n<!-- 182&#45;&gt;183 -->\n<g id=\"edge183\" class=\"edge\">\n<title>182&#45;&gt;183</title>\n<path fill=\"none\" stroke=\"#000000\" d=\"M3163.5,-1412.8796C3163.5,-1404.6838 3163.5,-1395.9891 3163.5,-1387.5013\"/>\n<polygon fill=\"#000000\" stroke=\"#000000\" points=\"3167.0001,-1387.298 3163.5,-1377.2981 3160.0001,-1387.2981 3167.0001,-1387.298\"/>\n</g>\n<!-- 194 -->\n<g id=\"node195\" class=\"node\">\n<title>194</title>\n<path fill=\"#e78c49\" stroke=\"#000000\" d=\"M3387,-1377C3387,-1377 3304,-1377 3304,-1377 3298,-1377 3292,-1371 3292,-1365 3292,-1365 3292,-1306 3292,-1306 3292,-1300 3298,-1294 3304,-1294 3304,-1294 3387,-1294 3387,-1294 3393,-1294 3399,-1300 3399,-1306 3399,-1306 3399,-1365 3399,-1365 3399,-1371 3393,-1377 3387,-1377\"/>\n<text text-anchor=\"start\" x=\"3307\" y=\"-1361.8\" font-family=\"Helvetica,sans-Serif\" font-size=\"14.00\" fill=\"#000000\">age ≤ 0.922</text>\n<text text-anchor=\"start\" x=\"3307.5\" y=\"-1346.8\" font-family=\"Helvetica,sans-Serif\" font-size=\"14.00\" fill=\"#000000\">gini = 0.142</text>\n<text text-anchor=\"start\" x=\"3301.5\" y=\"-1331.8\" font-family=\"Helvetica,sans-Serif\" font-size=\"14.00\" fill=\"#000000\">samples = 13</text>\n<text text-anchor=\"start\" x=\"3300\" y=\"-1316.8\" font-family=\"Helvetica,sans-Serif\" font-size=\"14.00\" fill=\"#000000\">value = [12, 1]</text>\n<text text-anchor=\"start\" x=\"3319\" y=\"-1301.8\" font-family=\"Helvetica,sans-Serif\" font-size=\"14.00\" fill=\"#000000\">class = l</text>\n</g>\n<!-- 182&#45;&gt;194 -->\n<g id=\"edge194\" class=\"edge\">\n<title>182&#45;&gt;194</title>\n<path fill=\"none\" stroke=\"#000000\" d=\"M3217.1216,-1419.4397C3237.9492,-1405.8217 3261.9385,-1390.1364 3283.5016,-1376.0374\"/>\n<polygon fill=\"#000000\" stroke=\"#000000\" points=\"3285.4931,-1378.9171 3291.9474,-1370.5152 3281.6623,-1373.0583 3285.4931,-1378.9171\"/>\n</g>\n<!-- 184 -->\n<g id=\"node185\" class=\"node\">\n<title>184</title>\n<path fill=\"#f2c09c\" stroke=\"#000000\" d=\"M3149,-1258C3149,-1258 3064,-1258 3064,-1258 3058,-1258 3052,-1252 3052,-1246 3052,-1246 3052,-1187 3052,-1187 3052,-1181 3058,-1175 3064,-1175 3064,-1175 3149,-1175 3149,-1175 3155,-1175 3161,-1181 3161,-1187 3161,-1187 3161,-1246 3161,-1246 3161,-1252 3155,-1258 3149,-1258\"/>\n<text text-anchor=\"start\" x=\"3060\" y=\"-1242.8\" font-family=\"Helvetica,sans-Serif\" font-size=\"14.00\" fill=\"#000000\">terms ≤ &#45;0.019</text>\n<text text-anchor=\"start\" x=\"3068.5\" y=\"-1227.8\" font-family=\"Helvetica,sans-Serif\" font-size=\"14.00\" fill=\"#000000\">gini = 0.444</text>\n<text text-anchor=\"start\" x=\"3067\" y=\"-1212.8\" font-family=\"Helvetica,sans-Serif\" font-size=\"14.00\" fill=\"#000000\">samples = 9</text>\n<text text-anchor=\"start\" x=\"3065\" y=\"-1197.8\" font-family=\"Helvetica,sans-Serif\" font-size=\"14.00\" fill=\"#000000\">value = [6, 3]</text>\n<text text-anchor=\"start\" x=\"3080\" y=\"-1182.8\" font-family=\"Helvetica,sans-Serif\" font-size=\"14.00\" fill=\"#000000\">class = l</text>\n</g>\n<!-- 183&#45;&gt;184 -->\n<g id=\"edge184\" class=\"edge\">\n<title>183&#45;&gt;184</title>\n<path fill=\"none\" stroke=\"#000000\" d=\"M3143.5642,-1293.8796C3139.4659,-1285.3236 3135.1072,-1276.2238 3130.8727,-1267.3833\"/>\n<polygon fill=\"#000000\" stroke=\"#000000\" points=\"3133.9975,-1265.8049 3126.5209,-1258.2981 3127.6843,-1268.8288 3133.9975,-1265.8049\"/>\n</g>\n<!-- 193 -->\n<g id=\"node194\" class=\"node\">\n<title>193</title>\n<path fill=\"#399de5\" stroke=\"#000000\" d=\"M3266,-1250.5C3266,-1250.5 3191,-1250.5 3191,-1250.5 3185,-1250.5 3179,-1244.5 3179,-1238.5 3179,-1238.5 3179,-1194.5 3179,-1194.5 3179,-1188.5 3185,-1182.5 3191,-1182.5 3191,-1182.5 3266,-1182.5 3266,-1182.5 3272,-1182.5 3278,-1188.5 3278,-1194.5 3278,-1194.5 3278,-1238.5 3278,-1238.5 3278,-1244.5 3272,-1250.5 3266,-1250.5\"/>\n<text text-anchor=\"start\" x=\"3199\" y=\"-1235.3\" font-family=\"Helvetica,sans-Serif\" font-size=\"14.00\" fill=\"#000000\">gini = 0.0</text>\n<text text-anchor=\"start\" x=\"3189\" y=\"-1220.3\" font-family=\"Helvetica,sans-Serif\" font-size=\"14.00\" fill=\"#000000\">samples = 3</text>\n<text text-anchor=\"start\" x=\"3187\" y=\"-1205.3\" font-family=\"Helvetica,sans-Serif\" font-size=\"14.00\" fill=\"#000000\">value = [0, 3]</text>\n<text text-anchor=\"start\" x=\"3199.5\" y=\"-1190.3\" font-family=\"Helvetica,sans-Serif\" font-size=\"14.00\" fill=\"#000000\">class = o</text>\n</g>\n<!-- 183&#45;&gt;193 -->\n<g id=\"edge193\" class=\"edge\">\n<title>183&#45;&gt;193</title>\n<path fill=\"none\" stroke=\"#000000\" d=\"M3186.2338,-1293.8796C3192.2401,-1282.8835 3198.737,-1270.9893 3204.7933,-1259.9015\"/>\n<polygon fill=\"#000000\" stroke=\"#000000\" points=\"3208.0345,-1261.2689 3209.7565,-1250.8149 3201.8912,-1257.9133 3208.0345,-1261.2689\"/>\n</g>\n<!-- 185 -->\n<g id=\"node186\" class=\"node\">\n<title>185</title>\n<path fill=\"#9ccef2\" stroke=\"#000000\" d=\"M3144,-1139C3144,-1139 3069,-1139 3069,-1139 3063,-1139 3057,-1133 3057,-1127 3057,-1127 3057,-1068 3057,-1068 3057,-1062 3063,-1056 3069,-1056 3069,-1056 3144,-1056 3144,-1056 3150,-1056 3156,-1062 3156,-1068 3156,-1068 3156,-1127 3156,-1127 3156,-1133 3150,-1139 3144,-1139\"/>\n<text text-anchor=\"start\" x=\"3065.5\" y=\"-1123.8\" font-family=\"Helvetica,sans-Serif\" font-size=\"14.00\" fill=\"#000000\">age ≤ &#45;0.985</text>\n<text text-anchor=\"start\" x=\"3068.5\" y=\"-1108.8\" font-family=\"Helvetica,sans-Serif\" font-size=\"14.00\" fill=\"#000000\">gini = 0.444</text>\n<text text-anchor=\"start\" x=\"3067\" y=\"-1093.8\" font-family=\"Helvetica,sans-Serif\" font-size=\"14.00\" fill=\"#000000\">samples = 3</text>\n<text text-anchor=\"start\" x=\"3065\" y=\"-1078.8\" font-family=\"Helvetica,sans-Serif\" font-size=\"14.00\" fill=\"#000000\">value = [1, 2]</text>\n<text text-anchor=\"start\" x=\"3077.5\" y=\"-1063.8\" font-family=\"Helvetica,sans-Serif\" font-size=\"14.00\" fill=\"#000000\">class = o</text>\n</g>\n<!-- 184&#45;&gt;185 -->\n<g id=\"edge185\" class=\"edge\">\n<title>184&#45;&gt;185</title>\n<path fill=\"none\" stroke=\"#000000\" d=\"M3106.5,-1174.8796C3106.5,-1166.6838 3106.5,-1157.9891 3106.5,-1149.5013\"/>\n<polygon fill=\"#000000\" stroke=\"#000000\" points=\"3110.0001,-1149.298 3106.5,-1139.2981 3103.0001,-1149.2981 3110.0001,-1149.298\"/>\n</g>\n<!-- 188 -->\n<g id=\"node189\" class=\"node\">\n<title>188</title>\n<path fill=\"#ea9a61\" stroke=\"#000000\" d=\"M3401,-1139C3401,-1139 3218,-1139 3218,-1139 3212,-1139 3206,-1133 3206,-1127 3206,-1127 3206,-1068 3206,-1068 3206,-1062 3212,-1056 3218,-1056 3218,-1056 3401,-1056 3401,-1056 3407,-1056 3413,-1062 3413,-1068 3413,-1068 3413,-1127 3413,-1127 3413,-1133 3407,-1139 3401,-1139\"/>\n<text text-anchor=\"start\" x=\"3214\" y=\"-1123.8\" font-family=\"Helvetica,sans-Serif\" font-size=\"14.00\" fill=\"#000000\">High School or Below ≤ 0.128</text>\n<text text-anchor=\"start\" x=\"3271.5\" y=\"-1108.8\" font-family=\"Helvetica,sans-Serif\" font-size=\"14.00\" fill=\"#000000\">gini = 0.278</text>\n<text text-anchor=\"start\" x=\"3270\" y=\"-1093.8\" font-family=\"Helvetica,sans-Serif\" font-size=\"14.00\" fill=\"#000000\">samples = 6</text>\n<text text-anchor=\"start\" x=\"3268\" y=\"-1078.8\" font-family=\"Helvetica,sans-Serif\" font-size=\"14.00\" fill=\"#000000\">value = [5, 1]</text>\n<text text-anchor=\"start\" x=\"3283\" y=\"-1063.8\" font-family=\"Helvetica,sans-Serif\" font-size=\"14.00\" fill=\"#000000\">class = l</text>\n</g>\n<!-- 184&#45;&gt;188 -->\n<g id=\"edge188\" class=\"edge\">\n<title>184&#45;&gt;188</title>\n<path fill=\"none\" stroke=\"#000000\" d=\"M3161.316,-1180.0345C3164.0715,-1178.3136 3166.8105,-1176.627 3169.5,-1175 3186.5032,-1164.7143 3204.9349,-1154.1258 3222.6692,-1144.2068\"/>\n<polygon fill=\"#000000\" stroke=\"#000000\" points=\"3224.8332,-1147.008 3231.8683,-1139.086 3221.4285,-1140.8918 3224.8332,-1147.008\"/>\n</g>\n<!-- 186 -->\n<g id=\"node187\" class=\"node\">\n<title>186</title>\n<path fill=\"#e58139\" stroke=\"#000000\" d=\"M3113,-1012.5C3113,-1012.5 3038,-1012.5 3038,-1012.5 3032,-1012.5 3026,-1006.5 3026,-1000.5 3026,-1000.5 3026,-956.5 3026,-956.5 3026,-950.5 3032,-944.5 3038,-944.5 3038,-944.5 3113,-944.5 3113,-944.5 3119,-944.5 3125,-950.5 3125,-956.5 3125,-956.5 3125,-1000.5 3125,-1000.5 3125,-1006.5 3119,-1012.5 3113,-1012.5\"/>\n<text text-anchor=\"start\" x=\"3046\" y=\"-997.3\" font-family=\"Helvetica,sans-Serif\" font-size=\"14.00\" fill=\"#000000\">gini = 0.0</text>\n<text text-anchor=\"start\" x=\"3036\" y=\"-982.3\" font-family=\"Helvetica,sans-Serif\" font-size=\"14.00\" fill=\"#000000\">samples = 1</text>\n<text text-anchor=\"start\" x=\"3034\" y=\"-967.3\" font-family=\"Helvetica,sans-Serif\" font-size=\"14.00\" fill=\"#000000\">value = [1, 0]</text>\n<text text-anchor=\"start\" x=\"3049\" y=\"-952.3\" font-family=\"Helvetica,sans-Serif\" font-size=\"14.00\" fill=\"#000000\">class = l</text>\n</g>\n<!-- 185&#45;&gt;186 -->\n<g id=\"edge186\" class=\"edge\">\n<title>185&#45;&gt;186</title>\n<path fill=\"none\" stroke=\"#000000\" d=\"M3095.6577,-1055.8796C3092.8505,-1045.1034 3089.8185,-1033.4647 3086.9798,-1022.5677\"/>\n<polygon fill=\"#000000\" stroke=\"#000000\" points=\"3090.3471,-1021.6096 3084.4392,-1012.8149 3083.5732,-1023.3743 3090.3471,-1021.6096\"/>\n</g>\n<!-- 187 -->\n<g id=\"node188\" class=\"node\">\n<title>187</title>\n<path fill=\"#399de5\" stroke=\"#000000\" d=\"M3230,-1012.5C3230,-1012.5 3155,-1012.5 3155,-1012.5 3149,-1012.5 3143,-1006.5 3143,-1000.5 3143,-1000.5 3143,-956.5 3143,-956.5 3143,-950.5 3149,-944.5 3155,-944.5 3155,-944.5 3230,-944.5 3230,-944.5 3236,-944.5 3242,-950.5 3242,-956.5 3242,-956.5 3242,-1000.5 3242,-1000.5 3242,-1006.5 3236,-1012.5 3230,-1012.5\"/>\n<text text-anchor=\"start\" x=\"3163\" y=\"-997.3\" font-family=\"Helvetica,sans-Serif\" font-size=\"14.00\" fill=\"#000000\">gini = 0.0</text>\n<text text-anchor=\"start\" x=\"3153\" y=\"-982.3\" font-family=\"Helvetica,sans-Serif\" font-size=\"14.00\" fill=\"#000000\">samples = 2</text>\n<text text-anchor=\"start\" x=\"3151\" y=\"-967.3\" font-family=\"Helvetica,sans-Serif\" font-size=\"14.00\" fill=\"#000000\">value = [0, 2]</text>\n<text text-anchor=\"start\" x=\"3163.5\" y=\"-952.3\" font-family=\"Helvetica,sans-Serif\" font-size=\"14.00\" fill=\"#000000\">class = o</text>\n</g>\n<!-- 185&#45;&gt;187 -->\n<g id=\"edge187\" class=\"edge\">\n<title>185&#45;&gt;187</title>\n<path fill=\"none\" stroke=\"#000000\" d=\"M3136.5786,-1055.8796C3144.6843,-1044.6636 3153.4653,-1032.5131 3161.6143,-1021.2372\"/>\n<polygon fill=\"#000000\" stroke=\"#000000\" points=\"3164.6803,-1022.9701 3167.701,-1012.8149 3159.0068,-1018.8698 3164.6803,-1022.9701\"/>\n</g>\n<!-- 189 -->\n<g id=\"node190\" class=\"node\">\n<title>189</title>\n<path fill=\"#e58139\" stroke=\"#000000\" d=\"M3347,-1012.5C3347,-1012.5 3272,-1012.5 3272,-1012.5 3266,-1012.5 3260,-1006.5 3260,-1000.5 3260,-1000.5 3260,-956.5 3260,-956.5 3260,-950.5 3266,-944.5 3272,-944.5 3272,-944.5 3347,-944.5 3347,-944.5 3353,-944.5 3359,-950.5 3359,-956.5 3359,-956.5 3359,-1000.5 3359,-1000.5 3359,-1006.5 3353,-1012.5 3347,-1012.5\"/>\n<text text-anchor=\"start\" x=\"3280\" y=\"-997.3\" font-family=\"Helvetica,sans-Serif\" font-size=\"14.00\" fill=\"#000000\">gini = 0.0</text>\n<text text-anchor=\"start\" x=\"3270\" y=\"-982.3\" font-family=\"Helvetica,sans-Serif\" font-size=\"14.00\" fill=\"#000000\">samples = 4</text>\n<text text-anchor=\"start\" x=\"3268\" y=\"-967.3\" font-family=\"Helvetica,sans-Serif\" font-size=\"14.00\" fill=\"#000000\">value = [4, 0]</text>\n<text text-anchor=\"start\" x=\"3283\" y=\"-952.3\" font-family=\"Helvetica,sans-Serif\" font-size=\"14.00\" fill=\"#000000\">class = l</text>\n</g>\n<!-- 188&#45;&gt;189 -->\n<g id=\"edge189\" class=\"edge\">\n<title>188&#45;&gt;189</title>\n<path fill=\"none\" stroke=\"#000000\" d=\"M3309.5,-1055.8796C3309.5,-1045.2134 3309.5,-1033.7021 3309.5,-1022.9015\"/>\n<polygon fill=\"#000000\" stroke=\"#000000\" points=\"3313.0001,-1022.8149 3309.5,-1012.8149 3306.0001,-1022.815 3313.0001,-1022.8149\"/>\n</g>\n<!-- 190 -->\n<g id=\"node191\" class=\"node\">\n<title>190</title>\n<path fill=\"#ffffff\" stroke=\"#000000\" d=\"M3464,-1020C3464,-1020 3389,-1020 3389,-1020 3383,-1020 3377,-1014 3377,-1008 3377,-1008 3377,-949 3377,-949 3377,-943 3383,-937 3389,-937 3389,-937 3464,-937 3464,-937 3470,-937 3476,-943 3476,-949 3476,-949 3476,-1008 3476,-1008 3476,-1014 3470,-1020 3464,-1020\"/>\n<text text-anchor=\"start\" x=\"3385.5\" y=\"-1004.8\" font-family=\"Helvetica,sans-Serif\" font-size=\"14.00\" fill=\"#000000\">age ≤ &#45;0.902</text>\n<text text-anchor=\"start\" x=\"3397\" y=\"-989.8\" font-family=\"Helvetica,sans-Serif\" font-size=\"14.00\" fill=\"#000000\">gini = 0.5</text>\n<text text-anchor=\"start\" x=\"3387\" y=\"-974.8\" font-family=\"Helvetica,sans-Serif\" font-size=\"14.00\" fill=\"#000000\">samples = 2</text>\n<text text-anchor=\"start\" x=\"3385\" y=\"-959.8\" font-family=\"Helvetica,sans-Serif\" font-size=\"14.00\" fill=\"#000000\">value = [1, 1]</text>\n<text text-anchor=\"start\" x=\"3400\" y=\"-944.8\" font-family=\"Helvetica,sans-Serif\" font-size=\"14.00\" fill=\"#000000\">class = l</text>\n</g>\n<!-- 188&#45;&gt;190 -->\n<g id=\"edge190\" class=\"edge\">\n<title>188&#45;&gt;190</title>\n<path fill=\"none\" stroke=\"#000000\" d=\"M3350.4209,-1055.8796C3359.453,-1046.6931 3369.1013,-1036.8798 3378.3888,-1027.4336\"/>\n<polygon fill=\"#000000\" stroke=\"#000000\" points=\"3380.8893,-1029.8827 3385.4044,-1020.2981 3375.8977,-1024.975 3380.8893,-1029.8827\"/>\n</g>\n<!-- 191 -->\n<g id=\"node192\" class=\"node\">\n<title>191</title>\n<path fill=\"#e58139\" stroke=\"#000000\" d=\"M3362,-893.5C3362,-893.5 3287,-893.5 3287,-893.5 3281,-893.5 3275,-887.5 3275,-881.5 3275,-881.5 3275,-837.5 3275,-837.5 3275,-831.5 3281,-825.5 3287,-825.5 3287,-825.5 3362,-825.5 3362,-825.5 3368,-825.5 3374,-831.5 3374,-837.5 3374,-837.5 3374,-881.5 3374,-881.5 3374,-887.5 3368,-893.5 3362,-893.5\"/>\n<text text-anchor=\"start\" x=\"3295\" y=\"-878.3\" font-family=\"Helvetica,sans-Serif\" font-size=\"14.00\" fill=\"#000000\">gini = 0.0</text>\n<text text-anchor=\"start\" x=\"3285\" y=\"-863.3\" font-family=\"Helvetica,sans-Serif\" font-size=\"14.00\" fill=\"#000000\">samples = 1</text>\n<text text-anchor=\"start\" x=\"3283\" y=\"-848.3\" font-family=\"Helvetica,sans-Serif\" font-size=\"14.00\" fill=\"#000000\">value = [1, 0]</text>\n<text text-anchor=\"start\" x=\"3298\" y=\"-833.3\" font-family=\"Helvetica,sans-Serif\" font-size=\"14.00\" fill=\"#000000\">class = l</text>\n</g>\n<!-- 190&#45;&gt;191 -->\n<g id=\"edge191\" class=\"edge\">\n<title>190&#45;&gt;191</title>\n<path fill=\"none\" stroke=\"#000000\" d=\"M3390.8253,-936.8796C3381.0231,-925.4436 3370.3882,-913.0363 3360.5643,-901.575\"/>\n<polygon fill=\"#000000\" stroke=\"#000000\" points=\"3363.0782,-899.1297 3353.9128,-893.8149 3357.7633,-903.6853 3363.0782,-899.1297\"/>\n</g>\n<!-- 192 -->\n<g id=\"node193\" class=\"node\">\n<title>192</title>\n<path fill=\"#399de5\" stroke=\"#000000\" d=\"M3479,-893.5C3479,-893.5 3404,-893.5 3404,-893.5 3398,-893.5 3392,-887.5 3392,-881.5 3392,-881.5 3392,-837.5 3392,-837.5 3392,-831.5 3398,-825.5 3404,-825.5 3404,-825.5 3479,-825.5 3479,-825.5 3485,-825.5 3491,-831.5 3491,-837.5 3491,-837.5 3491,-881.5 3491,-881.5 3491,-887.5 3485,-893.5 3479,-893.5\"/>\n<text text-anchor=\"start\" x=\"3412\" y=\"-878.3\" font-family=\"Helvetica,sans-Serif\" font-size=\"14.00\" fill=\"#000000\">gini = 0.0</text>\n<text text-anchor=\"start\" x=\"3402\" y=\"-863.3\" font-family=\"Helvetica,sans-Serif\" font-size=\"14.00\" fill=\"#000000\">samples = 1</text>\n<text text-anchor=\"start\" x=\"3400\" y=\"-848.3\" font-family=\"Helvetica,sans-Serif\" font-size=\"14.00\" fill=\"#000000\">value = [0, 1]</text>\n<text text-anchor=\"start\" x=\"3412.5\" y=\"-833.3\" font-family=\"Helvetica,sans-Serif\" font-size=\"14.00\" fill=\"#000000\">class = o</text>\n</g>\n<!-- 190&#45;&gt;192 -->\n<g id=\"edge192\" class=\"edge\">\n<title>190&#45;&gt;192</title>\n<path fill=\"none\" stroke=\"#000000\" d=\"M3431.7463,-936.8796C3433.0908,-926.2134 3434.5418,-914.7021 3435.9032,-903.9015\"/>\n<polygon fill=\"#000000\" stroke=\"#000000\" points=\"3439.3964,-904.1742 3437.1746,-893.8149 3432.4514,-903.2987 3439.3964,-904.1742\"/>\n</g>\n<!-- 195 -->\n<g id=\"node196\" class=\"node\">\n<title>195</title>\n<path fill=\"#e58139\" stroke=\"#000000\" d=\"M3383,-1250.5C3383,-1250.5 3308,-1250.5 3308,-1250.5 3302,-1250.5 3296,-1244.5 3296,-1238.5 3296,-1238.5 3296,-1194.5 3296,-1194.5 3296,-1188.5 3302,-1182.5 3308,-1182.5 3308,-1182.5 3383,-1182.5 3383,-1182.5 3389,-1182.5 3395,-1188.5 3395,-1194.5 3395,-1194.5 3395,-1238.5 3395,-1238.5 3395,-1244.5 3389,-1250.5 3383,-1250.5\"/>\n<text text-anchor=\"start\" x=\"3316\" y=\"-1235.3\" font-family=\"Helvetica,sans-Serif\" font-size=\"14.00\" fill=\"#000000\">gini = 0.0</text>\n<text text-anchor=\"start\" x=\"3306\" y=\"-1220.3\" font-family=\"Helvetica,sans-Serif\" font-size=\"14.00\" fill=\"#000000\">samples = 9</text>\n<text text-anchor=\"start\" x=\"3304\" y=\"-1205.3\" font-family=\"Helvetica,sans-Serif\" font-size=\"14.00\" fill=\"#000000\">value = [9, 0]</text>\n<text text-anchor=\"start\" x=\"3319\" y=\"-1190.3\" font-family=\"Helvetica,sans-Serif\" font-size=\"14.00\" fill=\"#000000\">class = l</text>\n</g>\n<!-- 194&#45;&gt;195 -->\n<g id=\"edge195\" class=\"edge\">\n<title>194&#45;&gt;195</title>\n<path fill=\"none\" stroke=\"#000000\" d=\"M3345.5,-1293.8796C3345.5,-1283.2134 3345.5,-1271.7021 3345.5,-1260.9015\"/>\n<polygon fill=\"#000000\" stroke=\"#000000\" points=\"3349.0001,-1260.8149 3345.5,-1250.8149 3342.0001,-1260.815 3349.0001,-1260.8149\"/>\n</g>\n<!-- 196 -->\n<g id=\"node197\" class=\"node\">\n<title>196</title>\n<path fill=\"#eeab7b\" stroke=\"#000000\" d=\"M3608,-1258C3608,-1258 3425,-1258 3425,-1258 3419,-1258 3413,-1252 3413,-1246 3413,-1246 3413,-1187 3413,-1187 3413,-1181 3419,-1175 3425,-1175 3425,-1175 3608,-1175 3608,-1175 3614,-1175 3620,-1181 3620,-1187 3620,-1187 3620,-1246 3620,-1246 3620,-1252 3614,-1258 3608,-1258\"/>\n<text text-anchor=\"start\" x=\"3421\" y=\"-1242.8\" font-family=\"Helvetica,sans-Serif\" font-size=\"14.00\" fill=\"#000000\">High School or Below ≤ 0.128</text>\n<text text-anchor=\"start\" x=\"3478.5\" y=\"-1227.8\" font-family=\"Helvetica,sans-Serif\" font-size=\"14.00\" fill=\"#000000\">gini = 0.375</text>\n<text text-anchor=\"start\" x=\"3477\" y=\"-1212.8\" font-family=\"Helvetica,sans-Serif\" font-size=\"14.00\" fill=\"#000000\">samples = 4</text>\n<text text-anchor=\"start\" x=\"3475\" y=\"-1197.8\" font-family=\"Helvetica,sans-Serif\" font-size=\"14.00\" fill=\"#000000\">value = [3, 1]</text>\n<text text-anchor=\"start\" x=\"3490\" y=\"-1182.8\" font-family=\"Helvetica,sans-Serif\" font-size=\"14.00\" fill=\"#000000\">class = l</text>\n</g>\n<!-- 194&#45;&gt;196 -->\n<g id=\"edge196\" class=\"edge\">\n<title>194&#45;&gt;196</title>\n<path fill=\"none\" stroke=\"#000000\" d=\"M3399.1363,-1298.1742C3414.7335,-1287.3199 3431.9817,-1275.3169 3448.345,-1263.9295\"/>\n<polygon fill=\"#000000\" stroke=\"#000000\" points=\"3450.599,-1266.6251 3456.8079,-1258.0401 3446.6005,-1260.8794 3450.599,-1266.6251\"/>\n</g>\n<!-- 197 -->\n<g id=\"node198\" class=\"node\">\n<title>197</title>\n<path fill=\"#399de5\" stroke=\"#000000\" d=\"M3520,-1131.5C3520,-1131.5 3445,-1131.5 3445,-1131.5 3439,-1131.5 3433,-1125.5 3433,-1119.5 3433,-1119.5 3433,-1075.5 3433,-1075.5 3433,-1069.5 3439,-1063.5 3445,-1063.5 3445,-1063.5 3520,-1063.5 3520,-1063.5 3526,-1063.5 3532,-1069.5 3532,-1075.5 3532,-1075.5 3532,-1119.5 3532,-1119.5 3532,-1125.5 3526,-1131.5 3520,-1131.5\"/>\n<text text-anchor=\"start\" x=\"3453\" y=\"-1116.3\" font-family=\"Helvetica,sans-Serif\" font-size=\"14.00\" fill=\"#000000\">gini = 0.0</text>\n<text text-anchor=\"start\" x=\"3443\" y=\"-1101.3\" font-family=\"Helvetica,sans-Serif\" font-size=\"14.00\" fill=\"#000000\">samples = 1</text>\n<text text-anchor=\"start\" x=\"3441\" y=\"-1086.3\" font-family=\"Helvetica,sans-Serif\" font-size=\"14.00\" fill=\"#000000\">value = [0, 1]</text>\n<text text-anchor=\"start\" x=\"3453.5\" y=\"-1071.3\" font-family=\"Helvetica,sans-Serif\" font-size=\"14.00\" fill=\"#000000\">class = o</text>\n</g>\n<!-- 196&#45;&gt;197 -->\n<g id=\"edge197\" class=\"edge\">\n<title>196&#45;&gt;197</title>\n<path fill=\"none\" stroke=\"#000000\" d=\"M3504.6084,-1174.8796C3501.5295,-1164.1034 3498.2042,-1152.4647 3495.0908,-1141.5677\"/>\n<polygon fill=\"#000000\" stroke=\"#000000\" points=\"3498.4169,-1140.4686 3492.3043,-1131.8149 3491.6862,-1142.3917 3498.4169,-1140.4686\"/>\n</g>\n<!-- 198 -->\n<g id=\"node199\" class=\"node\">\n<title>198</title>\n<path fill=\"#e58139\" stroke=\"#000000\" d=\"M3637,-1131.5C3637,-1131.5 3562,-1131.5 3562,-1131.5 3556,-1131.5 3550,-1125.5 3550,-1119.5 3550,-1119.5 3550,-1075.5 3550,-1075.5 3550,-1069.5 3556,-1063.5 3562,-1063.5 3562,-1063.5 3637,-1063.5 3637,-1063.5 3643,-1063.5 3649,-1069.5 3649,-1075.5 3649,-1075.5 3649,-1119.5 3649,-1119.5 3649,-1125.5 3643,-1131.5 3637,-1131.5\"/>\n<text text-anchor=\"start\" x=\"3570\" y=\"-1116.3\" font-family=\"Helvetica,sans-Serif\" font-size=\"14.00\" fill=\"#000000\">gini = 0.0</text>\n<text text-anchor=\"start\" x=\"3560\" y=\"-1101.3\" font-family=\"Helvetica,sans-Serif\" font-size=\"14.00\" fill=\"#000000\">samples = 3</text>\n<text text-anchor=\"start\" x=\"3558\" y=\"-1086.3\" font-family=\"Helvetica,sans-Serif\" font-size=\"14.00\" fill=\"#000000\">value = [3, 0]</text>\n<text text-anchor=\"start\" x=\"3573\" y=\"-1071.3\" font-family=\"Helvetica,sans-Serif\" font-size=\"14.00\" fill=\"#000000\">class = l</text>\n</g>\n<!-- 196&#45;&gt;198 -->\n<g id=\"edge198\" class=\"edge\">\n<title>196&#45;&gt;198</title>\n<path fill=\"none\" stroke=\"#000000\" d=\"M3545.5294,-1174.8796C3553.3523,-1163.6636 3561.827,-1151.5131 3569.6917,-1140.2372\"/>\n<polygon fill=\"#000000\" stroke=\"#000000\" points=\"3572.716,-1142.0192 3575.5661,-1131.8149 3566.9746,-1138.0147 3572.716,-1142.0192\"/>\n</g>\n</g>\n</svg>\n"
          },
          "metadata": {
            "tags": []
          },
          "execution_count": 65
        }
      ]
    },
    {
      "cell_type": "markdown",
      "metadata": {
        "id": "6YG0vtxMS0f5"
      },
      "source": [
        "# Support Vector Machine"
      ]
    },
    {
      "cell_type": "code",
      "metadata": {
        "colab": {
          "base_uri": "https://localhost:8080/"
        },
        "id": "0HhlMc0FS0f5",
        "outputId": "c1214de7-65dc-42a2-e124-3af7751d2245"
      },
      "source": [
        "from sklearn import svm\r\n",
        "svm_mod = svm.LinearSVC(random_state=7)\r\n",
        "svm_mod.fit(X_train, y_train)  \r\n",
        "\r\n",
        "y_pred=svm_mod.predict(X_train)\r\n",
        "trainscore['SVM_jaccard'] = jaccard_similarity_score(y_train,y_pred)*100\r\n",
        "trainscore['SVM_f1_score'] = f1_score(y_train,y_pred, average = 'weighted')*100\r\n",
        "trainscore"
      ],
      "execution_count": 66,
      "outputs": [
        {
          "output_type": "stream",
          "text": [
            "/usr/local/lib/python3.6/dist-packages/sklearn/metrics/_classification.py:664: FutureWarning: jaccard_similarity_score has been deprecated and replaced with jaccard_score. It will be removed in version 0.23. This implementation has surprising behavior for binary and multiclass classification tasks.\n",
            "  FutureWarning)\n"
          ],
          "name": "stderr"
        },
        {
          "output_type": "execute_result",
          "data": {
            "text/plain": [
              "{'DC_Tree_jaccard': 89.30635838150289,\n",
              " 'DC_Treef1_score': 88.7074869590869,\n",
              " 'KNN_f1_score': 79.55764876306203,\n",
              " 'KNN_jaccard': 80.92485549132948,\n",
              " 'SVM_f1_score': 64.41316913797436,\n",
              " 'SVM_jaccard': 73.98843930635837}"
            ]
          },
          "metadata": {
            "tags": []
          },
          "execution_count": 66
        }
      ]
    },
    {
      "cell_type": "markdown",
      "metadata": {
        "id": "wi1r0GNzS0f6"
      },
      "source": [
        "# Logistic Regression"
      ]
    },
    {
      "cell_type": "code",
      "metadata": {
        "id": "kWT7LyuFS0f7"
      },
      "source": [
        "from sklearn.linear_model import LogisticRegression\r\n",
        "\r\n",
        "Lr=LogisticRegression()\r\n",
        "Lr.fit(X_train,y_train)\r\n",
        "y_pred_lr=Lr.predict(X_train)\r\n",
        "y_proba = Lr.predict_proba(X_train)\r\n"
      ],
      "execution_count": 67,
      "outputs": []
    },
    {
      "cell_type": "code",
      "metadata": {
        "colab": {
          "base_uri": "https://localhost:8080/"
        },
        "id": "rmlp6N5FS0Uy",
        "outputId": "d735ccbe-7c97-4259-eda4-ae3e07a8795c"
      },
      "source": [
        "trainscore['LR_jaccard'] = jaccard_similarity_score(y_train, y_pred_lr)*100\r\n",
        "trainscore['LR_f1_score']=f1_score(y_train, y_pred_lr, average='weighted')*100  \r\n",
        "trainscore['LR_logLoss']=log_loss(y_train, y_proba)*100\r\n",
        "trainscore"
      ],
      "execution_count": 68,
      "outputs": [
        {
          "output_type": "stream",
          "text": [
            "/usr/local/lib/python3.6/dist-packages/sklearn/metrics/_classification.py:664: FutureWarning: jaccard_similarity_score has been deprecated and replaced with jaccard_score. It will be removed in version 0.23. This implementation has surprising behavior for binary and multiclass classification tasks.\n",
            "  FutureWarning)\n"
          ],
          "name": "stderr"
        },
        {
          "output_type": "execute_result",
          "data": {
            "text/plain": [
              "{'DC_Tree_jaccard': 89.30635838150289,\n",
              " 'DC_Treef1_score': 88.7074869590869,\n",
              " 'KNN_f1_score': 79.55764876306203,\n",
              " 'KNN_jaccard': 80.92485549132948,\n",
              " 'LR_f1_score': 69.33655063955966,\n",
              " 'LR_jaccard': 75.43352601156069,\n",
              " 'LR_logLoss': 43.344699042538444,\n",
              " 'SVM_f1_score': 64.41316913797436,\n",
              " 'SVM_jaccard': 73.98843930635837}"
            ]
          },
          "metadata": {
            "tags": []
          },
          "execution_count": 68
        }
      ]
    },
    {
      "cell_type": "markdown",
      "metadata": {
        "id": "kiJkXf4YS0f7"
      },
      "source": [
        "# Model Evaluation using Test set"
      ]
    },
    {
      "cell_type": "code",
      "metadata": {
        "id": "7gQa-ui7S0f8"
      },
      "source": [
        "import sklearn\n",
        "from sklearn.metrics import jaccard_similarity_score\n",
        "from sklearn.metrics import f1_score\n",
        "from sklearn.metrics import log_loss"
      ],
      "execution_count": 69,
      "outputs": []
    },
    {
      "cell_type": "code",
      "metadata": {
        "colab": {
          "base_uri": "https://localhost:8080/",
          "height": 195
        },
        "id": "Teh9W73NS0f8",
        "outputId": "51a19a41-b040-4d4e-8aae-e638273ddb74"
      },
      "source": [
        "test_df = pd.read_csv('https://s3-api.us-geo.objectstorage.softlayer.net/cf-courses-data/CognitiveClass/ML0101ENv3/labs/loan_test.csv')\n",
        "test_df.head()"
      ],
      "execution_count": 70,
      "outputs": [
        {
          "output_type": "execute_result",
          "data": {
            "text/html": [
              "<div>\n",
              "<style scoped>\n",
              "    .dataframe tbody tr th:only-of-type {\n",
              "        vertical-align: middle;\n",
              "    }\n",
              "\n",
              "    .dataframe tbody tr th {\n",
              "        vertical-align: top;\n",
              "    }\n",
              "\n",
              "    .dataframe thead th {\n",
              "        text-align: right;\n",
              "    }\n",
              "</style>\n",
              "<table border=\"1\" class=\"dataframe\">\n",
              "  <thead>\n",
              "    <tr style=\"text-align: right;\">\n",
              "      <th></th>\n",
              "      <th>Unnamed: 0</th>\n",
              "      <th>Unnamed: 0.1</th>\n",
              "      <th>loan_status</th>\n",
              "      <th>Principal</th>\n",
              "      <th>terms</th>\n",
              "      <th>effective_date</th>\n",
              "      <th>due_date</th>\n",
              "      <th>age</th>\n",
              "      <th>education</th>\n",
              "      <th>Gender</th>\n",
              "    </tr>\n",
              "  </thead>\n",
              "  <tbody>\n",
              "    <tr>\n",
              "      <th>0</th>\n",
              "      <td>1</td>\n",
              "      <td>1</td>\n",
              "      <td>PAIDOFF</td>\n",
              "      <td>1000</td>\n",
              "      <td>30</td>\n",
              "      <td>9/8/2016</td>\n",
              "      <td>10/7/2016</td>\n",
              "      <td>50</td>\n",
              "      <td>Bechalor</td>\n",
              "      <td>female</td>\n",
              "    </tr>\n",
              "    <tr>\n",
              "      <th>1</th>\n",
              "      <td>5</td>\n",
              "      <td>5</td>\n",
              "      <td>PAIDOFF</td>\n",
              "      <td>300</td>\n",
              "      <td>7</td>\n",
              "      <td>9/9/2016</td>\n",
              "      <td>9/15/2016</td>\n",
              "      <td>35</td>\n",
              "      <td>Master or Above</td>\n",
              "      <td>male</td>\n",
              "    </tr>\n",
              "    <tr>\n",
              "      <th>2</th>\n",
              "      <td>21</td>\n",
              "      <td>21</td>\n",
              "      <td>PAIDOFF</td>\n",
              "      <td>1000</td>\n",
              "      <td>30</td>\n",
              "      <td>9/10/2016</td>\n",
              "      <td>10/9/2016</td>\n",
              "      <td>43</td>\n",
              "      <td>High School or Below</td>\n",
              "      <td>female</td>\n",
              "    </tr>\n",
              "    <tr>\n",
              "      <th>3</th>\n",
              "      <td>24</td>\n",
              "      <td>24</td>\n",
              "      <td>PAIDOFF</td>\n",
              "      <td>1000</td>\n",
              "      <td>30</td>\n",
              "      <td>9/10/2016</td>\n",
              "      <td>10/9/2016</td>\n",
              "      <td>26</td>\n",
              "      <td>college</td>\n",
              "      <td>male</td>\n",
              "    </tr>\n",
              "    <tr>\n",
              "      <th>4</th>\n",
              "      <td>35</td>\n",
              "      <td>35</td>\n",
              "      <td>PAIDOFF</td>\n",
              "      <td>800</td>\n",
              "      <td>15</td>\n",
              "      <td>9/11/2016</td>\n",
              "      <td>9/25/2016</td>\n",
              "      <td>29</td>\n",
              "      <td>Bechalor</td>\n",
              "      <td>male</td>\n",
              "    </tr>\n",
              "  </tbody>\n",
              "</table>\n",
              "</div>"
            ],
            "text/plain": [
              "   Unnamed: 0  Unnamed: 0.1 loan_status  ...  age             education  Gender\n",
              "0           1             1     PAIDOFF  ...   50              Bechalor  female\n",
              "1           5             5     PAIDOFF  ...   35       Master or Above    male\n",
              "2          21            21     PAIDOFF  ...   43  High School or Below  female\n",
              "3          24            24     PAIDOFF  ...   26               college    male\n",
              "4          35            35     PAIDOFF  ...   29              Bechalor    male\n",
              "\n",
              "[5 rows x 10 columns]"
            ]
          },
          "metadata": {
            "tags": []
          },
          "execution_count": 70
        }
      ]
    },
    {
      "cell_type": "code",
      "metadata": {
        "id": "36kgZrRmS0f8"
      },
      "source": [
        "test_df['due_date'] = pd.to_datetime(test_df['due_date'])\r\n",
        "test_df['effective_date'] = pd.to_datetime(test_df['effective_date'])\r\n",
        "\r\n",
        "test_df['dayofweek'] = test_df['effective_date'].dt.dayofweek\r\n",
        "\r\n",
        "test_df['weekend'] = test_df['dayofweek'].apply(lambda x: 1 if (x>3)  else 0)\r\n",
        "\r\n",
        "test_df['Gender'].replace(to_replace=['male','female'], value=[0,1],inplace=True)\r\n",
        "\r\n",
        "Feature = test_df[['Principal','terms','age','Gender','weekend']]\r\n",
        "Feature = pd.concat([Feature,pd.get_dummies(test_df['education'])], axis=1)\r\n",
        "Feature.drop(['Master or Above'], axis = 1,inplace=True)\r\n",
        "\r\n",
        "X = Feature\r\n",
        "\r\n",
        "y = test_df['loan_status'].replace(to_replace=['PAIDOFF','COLLECTION'], value=[0,1]).values\r\n",
        "\r\n",
        "testy=y.astype(float)\r\n",
        "testX= preprocessing.StandardScaler().fit_transform(X)"
      ],
      "execution_count": 71,
      "outputs": []
    },
    {
      "cell_type": "code",
      "metadata": {
        "colab": {
          "base_uri": "https://localhost:8080/"
        },
        "id": "AfBQhYfxYgqf",
        "outputId": "fc7b63b1-edf7-4ed5-c711-97f2f01be0fb"
      },
      "source": [
        "X.info()"
      ],
      "execution_count": 72,
      "outputs": [
        {
          "output_type": "stream",
          "text": [
            "<class 'pandas.core.frame.DataFrame'>\n",
            "RangeIndex: 54 entries, 0 to 53\n",
            "Data columns (total 8 columns):\n",
            " #   Column                Non-Null Count  Dtype\n",
            "---  ------                --------------  -----\n",
            " 0   Principal             54 non-null     int64\n",
            " 1   terms                 54 non-null     int64\n",
            " 2   age                   54 non-null     int64\n",
            " 3   Gender                54 non-null     int64\n",
            " 4   weekend               54 non-null     int64\n",
            " 5   Bechalor              54 non-null     uint8\n",
            " 6   High School or Below  54 non-null     uint8\n",
            " 7   college               54 non-null     uint8\n",
            "dtypes: int64(5), uint8(3)\n",
            "memory usage: 2.4 KB\n"
          ],
          "name": "stdout"
        }
      ]
    },
    {
      "cell_type": "code",
      "metadata": {
        "id": "QkH3FXeKS0f9"
      },
      "source": [
        "testscore = {}"
      ],
      "execution_count": 73,
      "outputs": []
    },
    {
      "cell_type": "code",
      "metadata": {
        "colab": {
          "base_uri": "https://localhost:8080/"
        },
        "id": "wIOTKbFnYsLF",
        "outputId": "8fc99fc3-ff04-4b7a-c296-74e303d2df09"
      },
      "source": [
        "trainscore"
      ],
      "execution_count": 74,
      "outputs": [
        {
          "output_type": "execute_result",
          "data": {
            "text/plain": [
              "{'DC_Tree_jaccard': 89.30635838150289,\n",
              " 'DC_Treef1_score': 88.7074869590869,\n",
              " 'KNN_f1_score': 79.55764876306203,\n",
              " 'KNN_jaccard': 80.92485549132948,\n",
              " 'LR_f1_score': 69.33655063955966,\n",
              " 'LR_jaccard': 75.43352601156069,\n",
              " 'LR_logLoss': 43.344699042538444,\n",
              " 'SVM_f1_score': 64.41316913797436,\n",
              " 'SVM_jaccard': 73.98843930635837}"
            ]
          },
          "metadata": {
            "tags": []
          },
          "execution_count": 74
        }
      ]
    },
    {
      "cell_type": "markdown",
      "metadata": {
        "id": "UmZgekM6WdZJ"
      },
      "source": [
        "# KNN Test"
      ]
    },
    {
      "cell_type": "code",
      "metadata": {
        "colab": {
          "base_uri": "https://localhost:8080/"
        },
        "id": "2HpAVtzLZASE",
        "outputId": "3ad2ac6e-898a-40e4-8d18-b6085f2426dd"
      },
      "source": [
        "knn_pred=knn_mod.predict(testX)\r\n",
        "testscore['KNN_jaccard']=jaccard_similarity_score(testy, knn_pred)*100\r\n",
        "testscore['KNN_f1_score']=f1_score(testy, knn_pred, average='weighted')*100\r\n",
        "testscore"
      ],
      "execution_count": 76,
      "outputs": [
        {
          "output_type": "stream",
          "text": [
            "/usr/local/lib/python3.6/dist-packages/sklearn/metrics/_classification.py:664: FutureWarning: jaccard_similarity_score has been deprecated and replaced with jaccard_score. It will be removed in version 0.23. This implementation has surprising behavior for binary and multiclass classification tasks.\n",
            "  FutureWarning)\n"
          ],
          "name": "stderr"
        },
        {
          "output_type": "execute_result",
          "data": {
            "text/plain": [
              "{'KNN_f1_score': 70.01989201477693, 'KNN_jaccard': 72.22222222222221}"
            ]
          },
          "metadata": {
            "tags": []
          },
          "execution_count": 76
        }
      ]
    },
    {
      "cell_type": "markdown",
      "metadata": {
        "id": "bFfKwvRzWhDd"
      },
      "source": [
        "# Decision Tree Test"
      ]
    },
    {
      "cell_type": "code",
      "metadata": {
        "colab": {
          "base_uri": "https://localhost:8080/"
        },
        "id": "7-w2tBrXS0f9",
        "outputId": "e9283f2e-88b8-48e8-ccff-939037932ddc"
      },
      "source": [
        "tree_pred=dc_mod.predict(testX)\r\n",
        "testscore['DC_Tree_jaccard']=jaccard_similarity_score(testy, tree_pred)*100\r\n",
        "testscore['DC_Tree_f1_score']=f1_score(testy, tree_pred, average='weighted')*100\r\n",
        "testscore"
      ],
      "execution_count": 78,
      "outputs": [
        {
          "output_type": "stream",
          "text": [
            "/usr/local/lib/python3.6/dist-packages/sklearn/metrics/_classification.py:664: FutureWarning: jaccard_similarity_score has been deprecated and replaced with jaccard_score. It will be removed in version 0.23. This implementation has surprising behavior for binary and multiclass classification tasks.\n",
            "  FutureWarning)\n"
          ],
          "name": "stderr"
        },
        {
          "output_type": "execute_result",
          "data": {
            "text/plain": [
              "{'DC_Tree_f1_score': 71.05756358768406,\n",
              " 'DC_Tree_jaccard': 72.22222222222221,\n",
              " 'KNN_f1_score': 70.01989201477693,\n",
              " 'KNN_jaccard': 72.22222222222221}"
            ]
          },
          "metadata": {
            "tags": []
          },
          "execution_count": 78
        }
      ]
    },
    {
      "cell_type": "markdown",
      "metadata": {
        "id": "eCjBZkkmWlgV"
      },
      "source": [
        "# SVM Test"
      ]
    },
    {
      "cell_type": "code",
      "metadata": {
        "colab": {
          "base_uri": "https://localhost:8080/"
        },
        "id": "sUFnlPMlS0f9",
        "outputId": "968c41a3-c2af-453a-e39c-414944237c25"
      },
      "source": [
        "svm_pred=svm_mod.predict(testX)\r\n",
        "testscore['SVM-jaccard']=jaccard_similarity_score(testy, svm_pred)*100  \r\n",
        "testscore['SVM-f1-score']=f1_score(testy, svm_pred, average='weighted')*100\r\n",
        "testscore"
      ],
      "execution_count": 100,
      "outputs": [
        {
          "output_type": "stream",
          "text": [
            "/usr/local/lib/python3.6/dist-packages/sklearn/metrics/_classification.py:664: FutureWarning: jaccard_similarity_score has been deprecated and replaced with jaccard_score. It will be removed in version 0.23. This implementation has surprising behavior for binary and multiclass classification tasks.\n",
            "  FutureWarning)\n"
          ],
          "name": "stderr"
        },
        {
          "output_type": "execute_result",
          "data": {
            "text/plain": [
              "{'DC_Tree_f1_score': 71.05756358768406,\n",
              " 'DC_Tree_jaccard': 72.22222222222221,\n",
              " 'KNN_f1_score': 70.01989201477693,\n",
              " 'KNN_jaccard': 72.22222222222221,\n",
              " 'LogReg-f1-score': 67.17642373556352,\n",
              " 'LogReg-jaccard': 75.92592592592592,\n",
              " 'LogReg-logLoss': 48.08081643472632,\n",
              " 'SVM-f1-score': 63.04176516942475,\n",
              " 'SVM-jaccard': 74.07407407407408}"
            ]
          },
          "metadata": {
            "tags": []
          },
          "execution_count": 100
        }
      ]
    },
    {
      "cell_type": "markdown",
      "metadata": {
        "id": "E_F0kseuWogK"
      },
      "source": [
        "# Linear Regression Test"
      ]
    },
    {
      "cell_type": "code",
      "metadata": {
        "colab": {
          "base_uri": "https://localhost:8080/"
        },
        "id": "RToINsBSjZ4h",
        "outputId": "9a5aa5c7-6191-40ca-f988-585a258272a9"
      },
      "source": [
        "log_pred=Lr.predict(testX)\r\n",
        "log_pred"
      ],
      "execution_count": 274,
      "outputs": [
        {
          "output_type": "execute_result",
          "data": {
            "text/plain": [
              "array(['PAIDOFF', 'PAIDOFF', 'PAIDOFF', 'PAIDOFF', 'PAIDOFF', 'PAIDOFF',\n",
              "       'PAIDOFF', 'PAIDOFF', 'PAIDOFF', 'PAIDOFF', 'PAIDOFF', 'PAIDOFF',\n",
              "       'PAIDOFF', 'PAIDOFF', 'PAIDOFF', 'PAIDOFF', 'PAIDOFF', 'PAIDOFF',\n",
              "       'PAIDOFF', 'PAIDOFF', 'PAIDOFF', 'PAIDOFF', 'PAIDOFF', 'PAIDOFF',\n",
              "       'PAIDOFF', 'PAIDOFF', 'PAIDOFF', 'PAIDOFF', 'PAIDOFF', 'PAIDOFF',\n",
              "       'PAIDOFF', 'PAIDOFF', 'PAIDOFF', 'PAIDOFF', 'PAIDOFF', 'PAIDOFF',\n",
              "       'PAIDOFF', 'PAIDOFF', 'PAIDOFF', 'PAIDOFF', 'PAIDOFF', 'PAIDOFF',\n",
              "       'PAIDOFF', 'PAIDOFF', 'PAIDOFF', 'COLLECTION', 'PAIDOFF',\n",
              "       'PAIDOFF', 'PAIDOFF', 'PAIDOFF', 'PAIDOFF', 'PAIDOFF', 'PAIDOFF',\n",
              "       'PAIDOFF'], dtype=object)"
            ]
          },
          "metadata": {
            "tags": []
          },
          "execution_count": 274
        }
      ]
    },
    {
      "cell_type": "code",
      "metadata": {
        "colab": {
          "base_uri": "https://localhost:8080/"
        },
        "id": "zi2xwPxfWrii",
        "outputId": "8e510e67-9ab7-4630-89b9-c4c7b60545df"
      },
      "source": [
        "log_preds=Lr.predict(testX)\r\n",
        "log_probs=Lr.predict_proba(testX)\r\n",
        "\r\n",
        "testscore['LogReg-jaccard']=jaccard_similarity_score(testy, log_preds)*100\r\n",
        "testscore['LogReg-f1-score']=f1_score(testy, log_preds, average='weighted')*100  \r\n",
        "testscore['LogReg-logLoss']=log_loss(testy, log_probs)*100"
      ],
      "execution_count": 98,
      "outputs": [
        {
          "output_type": "stream",
          "text": [
            "/usr/local/lib/python3.6/dist-packages/sklearn/metrics/_classification.py:664: FutureWarning: jaccard_similarity_score has been deprecated and replaced with jaccard_score. It will be removed in version 0.23. This implementation has surprising behavior for binary and multiclass classification tasks.\n",
            "  FutureWarning)\n"
          ],
          "name": "stderr"
        }
      ]
    },
    {
      "cell_type": "code",
      "metadata": {
        "colab": {
          "base_uri": "https://localhost:8080/",
          "height": 314
        },
        "id": "1x2NTlmg2Yl1",
        "outputId": "88bcfe7d-293b-4f3c-a126-bb2b15240529"
      },
      "source": [
        "trainscore\r\n",
        "ts = pd.DataFrame.from_dict(trainscore, orient='index').reset_index()\r\n",
        "ts.columns = ['Algo_mat','score']\r\n",
        "ts"
      ],
      "execution_count": 96,
      "outputs": [
        {
          "output_type": "execute_result",
          "data": {
            "text/html": [
              "<div>\n",
              "<style scoped>\n",
              "    .dataframe tbody tr th:only-of-type {\n",
              "        vertical-align: middle;\n",
              "    }\n",
              "\n",
              "    .dataframe tbody tr th {\n",
              "        vertical-align: top;\n",
              "    }\n",
              "\n",
              "    .dataframe thead th {\n",
              "        text-align: right;\n",
              "    }\n",
              "</style>\n",
              "<table border=\"1\" class=\"dataframe\">\n",
              "  <thead>\n",
              "    <tr style=\"text-align: right;\">\n",
              "      <th></th>\n",
              "      <th>Algo_mat</th>\n",
              "      <th>score</th>\n",
              "    </tr>\n",
              "  </thead>\n",
              "  <tbody>\n",
              "    <tr>\n",
              "      <th>0</th>\n",
              "      <td>KNN_jaccard</td>\n",
              "      <td>80.924855</td>\n",
              "    </tr>\n",
              "    <tr>\n",
              "      <th>1</th>\n",
              "      <td>KNN_f1_score</td>\n",
              "      <td>79.557649</td>\n",
              "    </tr>\n",
              "    <tr>\n",
              "      <th>2</th>\n",
              "      <td>DC_Tree_jaccard</td>\n",
              "      <td>89.306358</td>\n",
              "    </tr>\n",
              "    <tr>\n",
              "      <th>3</th>\n",
              "      <td>DC_Treef1_score</td>\n",
              "      <td>88.707487</td>\n",
              "    </tr>\n",
              "    <tr>\n",
              "      <th>4</th>\n",
              "      <td>SVM_jaccard</td>\n",
              "      <td>73.988439</td>\n",
              "    </tr>\n",
              "    <tr>\n",
              "      <th>5</th>\n",
              "      <td>SVM_f1_score</td>\n",
              "      <td>64.413169</td>\n",
              "    </tr>\n",
              "    <tr>\n",
              "      <th>6</th>\n",
              "      <td>LR_jaccard</td>\n",
              "      <td>75.433526</td>\n",
              "    </tr>\n",
              "    <tr>\n",
              "      <th>7</th>\n",
              "      <td>LR_f1_score</td>\n",
              "      <td>69.336551</td>\n",
              "    </tr>\n",
              "    <tr>\n",
              "      <th>8</th>\n",
              "      <td>LR_logLoss</td>\n",
              "      <td>43.344699</td>\n",
              "    </tr>\n",
              "  </tbody>\n",
              "</table>\n",
              "</div>"
            ],
            "text/plain": [
              "          Algo_mat      score\n",
              "0      KNN_jaccard  80.924855\n",
              "1     KNN_f1_score  79.557649\n",
              "2  DC_Tree_jaccard  89.306358\n",
              "3  DC_Treef1_score  88.707487\n",
              "4      SVM_jaccard  73.988439\n",
              "5     SVM_f1_score  64.413169\n",
              "6       LR_jaccard  75.433526\n",
              "7      LR_f1_score  69.336551\n",
              "8       LR_logLoss  43.344699"
            ]
          },
          "metadata": {
            "tags": []
          },
          "execution_count": 96
        }
      ]
    },
    {
      "cell_type": "code",
      "metadata": {
        "colab": {
          "base_uri": "https://localhost:8080/",
          "height": 314
        },
        "id": "hEksM9PPWsTI",
        "outputId": "42d6b41d-54c8-49d0-f395-00e93dfce232"
      },
      "source": [
        "testscore\r\n",
        "tes = pd.DataFrame.from_dict(testscore, orient='index').reset_index()\r\n",
        "tes.columns = ['Algo_mat','score']\r\n",
        "tes"
      ],
      "execution_count": 101,
      "outputs": [
        {
          "output_type": "execute_result",
          "data": {
            "text/html": [
              "<div>\n",
              "<style scoped>\n",
              "    .dataframe tbody tr th:only-of-type {\n",
              "        vertical-align: middle;\n",
              "    }\n",
              "\n",
              "    .dataframe tbody tr th {\n",
              "        vertical-align: top;\n",
              "    }\n",
              "\n",
              "    .dataframe thead th {\n",
              "        text-align: right;\n",
              "    }\n",
              "</style>\n",
              "<table border=\"1\" class=\"dataframe\">\n",
              "  <thead>\n",
              "    <tr style=\"text-align: right;\">\n",
              "      <th></th>\n",
              "      <th>Algo_mat</th>\n",
              "      <th>score</th>\n",
              "    </tr>\n",
              "  </thead>\n",
              "  <tbody>\n",
              "    <tr>\n",
              "      <th>0</th>\n",
              "      <td>KNN_jaccard</td>\n",
              "      <td>72.222222</td>\n",
              "    </tr>\n",
              "    <tr>\n",
              "      <th>1</th>\n",
              "      <td>KNN_f1_score</td>\n",
              "      <td>70.019892</td>\n",
              "    </tr>\n",
              "    <tr>\n",
              "      <th>2</th>\n",
              "      <td>DC_Tree_jaccard</td>\n",
              "      <td>72.222222</td>\n",
              "    </tr>\n",
              "    <tr>\n",
              "      <th>3</th>\n",
              "      <td>DC_Tree_f1_score</td>\n",
              "      <td>71.057564</td>\n",
              "    </tr>\n",
              "    <tr>\n",
              "      <th>4</th>\n",
              "      <td>SVM-jaccard</td>\n",
              "      <td>74.074074</td>\n",
              "    </tr>\n",
              "    <tr>\n",
              "      <th>5</th>\n",
              "      <td>SVM-f1-score</td>\n",
              "      <td>63.041765</td>\n",
              "    </tr>\n",
              "    <tr>\n",
              "      <th>6</th>\n",
              "      <td>LogReg-jaccard</td>\n",
              "      <td>75.925926</td>\n",
              "    </tr>\n",
              "    <tr>\n",
              "      <th>7</th>\n",
              "      <td>LogReg-f1-score</td>\n",
              "      <td>67.176424</td>\n",
              "    </tr>\n",
              "    <tr>\n",
              "      <th>8</th>\n",
              "      <td>LogReg-logLoss</td>\n",
              "      <td>48.080816</td>\n",
              "    </tr>\n",
              "  </tbody>\n",
              "</table>\n",
              "</div>"
            ],
            "text/plain": [
              "           Algo_mat      score\n",
              "0       KNN_jaccard  72.222222\n",
              "1      KNN_f1_score  70.019892\n",
              "2   DC_Tree_jaccard  72.222222\n",
              "3  DC_Tree_f1_score  71.057564\n",
              "4       SVM-jaccard  74.074074\n",
              "5      SVM-f1-score  63.041765\n",
              "6    LogReg-jaccard  75.925926\n",
              "7   LogReg-f1-score  67.176424\n",
              "8    LogReg-logLoss  48.080816"
            ]
          },
          "metadata": {
            "tags": []
          },
          "execution_count": 101
        }
      ]
    },
    {
      "cell_type": "markdown",
      "metadata": {
        "id": "yCQ1itxkS0f-"
      },
      "source": [
        "# Report\n",
        "You should be able to report the accuracy of the built model using different evaluation metrics:"
      ]
    },
    {
      "cell_type": "markdown",
      "metadata": {
        "id": "b-FA8jqjS0f-"
      },
      "source": [
        "| Algorithm          | Jaccard | F1-score | LogLoss |\n",
        "|--------------------|---------|----------|---------|\n",
        "| KNN                | 72.22       | 70.02        | NA      |\n",
        "| Decision Tree      | 72.22       | 71.05        | NA      |\n",
        "| SVM                | 74.07       | 63.04        | NA      |\n",
        "| LogisticRegression | 75.92       | 67.17        | 48.08       |\n",
        "\n",
        "From those classifier algorithm we found that stable is Decision Tree. But when we compare with trainscore there is an overfitting. because secore jaccard in decision tree train is 89.30 and in test score jaccard is 72.22. Same with f1 score. So, to make better we have to make split X_train test in training. may be it can be stable prediction.  "
      ]
    },
    {
      "cell_type": "markdown",
      "metadata": {
        "id": "WcU93SuXS0f-"
      },
      "source": [
        "<h2>Want to learn more?</h2>\n",
        "\n",
        "IBM SPSS Modeler is a comprehensive analytics platform that has many machine learning algorithms. It has been designed to bring predictive intelligence to decisions made by individuals, by groups, by systems – by your enterprise as a whole. A free trial is available through this course, available here: <a href=\"http://cocl.us/ML0101EN-SPSSModeler\">SPSS Modeler</a>\n",
        "\n",
        "Also, you can use Watson Studio to run these notebooks faster with bigger datasets. Watson Studio is IBM's leading cloud solution for data scientists, built by data scientists. With Jupyter notebooks, RStudio, Apache Spark and popular libraries pre-packaged in the cloud, Watson Studio enables data scientists to collaborate on their projects without having to install anything. Join the fast-growing community of Watson Studio users today with a free account at <a href=\"https://cocl.us/ML0101EN_DSX\">Watson Studio</a>\n",
        "\n",
        "<h3>Thanks for completing this lesson!</h3>\n",
        "\n",
        "<h4>Author:  <a href=\"https://ca.linkedin.com/in/saeedaghabozorgi\">Saeed Aghabozorgi</a></h4>\n",
        "<p><a href=\"https://ca.linkedin.com/in/saeedaghabozorgi\">Saeed Aghabozorgi</a>, PhD is a Data Scientist in IBM with a track record of developing enterprise level applications that substantially increases clients’ ability to turn data into actionable knowledge. He is a researcher in data mining field and expert in developing advanced analytic methods like machine learning and statistical modelling on large datasets.</p>\n",
        "\n",
        "<hr>\n",
        "\n",
        "<p>Copyright &copy; 2018 <a href=\"https://cocl.us/DX0108EN_CC\">Cognitive Class</a>. This notebook and its source code are released under the terms of the <a href=\"https://bigdatauniversity.com/mit-license/\">MIT License</a>.</p>"
      ]
    },
    {
      "cell_type": "code",
      "metadata": {
        "id": "r3PIsI2LS0f_"
      },
      "source": [
        ""
      ],
      "execution_count": null,
      "outputs": []
    }
  ]
}